{
 "cells": [
  {
   "cell_type": "markdown",
   "id": "c8ce6db7",
   "metadata": {},
   "source": [
    "Write a function that takes in a list of numbers and returns a dictionary containing the following statistics about the numbers: the mean, median, mode, sample variance, sample standard deviation, and 95% confidence interval for the mean.\n",
    "\n",
    "Note that:\n",
    "- You can assume that the given list contains a large-enough number of samples from a population to use a z-score of 1.96.\n",
    "- If there's more than one mode, your function can return any of them.\n",
    "- You shouldn't use any libraries.\n",
    "- Your output values will automatically be rounded to the fourth decimal.\n",
    "\n",
    "Example:\n",
    "input:\n",
    "```\n",
    "input_list = [2, 1, 3, 4, 4, 5, 6, 7]\n",
    "```\n",
    "output:\n",
    "```\n",
    "{\n",
    "    \"mean\": 4.0,\n",
    "    \"median\": 4.0,\n",
    "    \"mode\": 4.0,\n",
    "    \"sample_variance\": 4.0,\n",
    "    \"sample_standard_deviation\": 2.0,\n",
    "    \"mean_confidence_interval\": [2.6141, 5.3859]\n",
    "}\n",
    "```"
   ]
  },
  {
   "cell_type": "code",
   "execution_count": 1,
   "id": "bf7b60b2",
   "metadata": {},
   "outputs": [
    {
     "data": {
      "text/plain": [
       "{'mean': 4.0,\n",
       " 'median': 4.0,\n",
       " 'mode': 4,\n",
       " 'sample_variance': 4.0,\n",
       " 'sample_standard_deviation': 2.0,\n",
       " 'mean_confidence_interval': [2.614070708874367, 5.385929291125633]}"
      ]
     },
     "execution_count": 1,
     "metadata": {},
     "output_type": "execute_result"
    }
   ],
   "source": [
    "def get_statistics(input_list):\n",
    "    mean = sum(input_list) / len(input_list)\n",
    "    sorted_input_list = sorted(input_list)\n",
    "    \n",
    "    mid_idx = (len(sorted_input_list) - 1)//2 # get mid index\n",
    "    if (len(sorted_input_list))%2 == 1: # if odd in length\n",
    "        median = sorted_input_list[mid_idx]\n",
    "    else:\n",
    "        median = (sorted_input_list[mid_idx] + sorted_input_list[mid_idx+1]) /2.0\n",
    "    \n",
    "    d = {}\n",
    "    freq = 0\n",
    "    mode = None\n",
    "    sum_diff_mean = 0\n",
    "    for i in range(len(input_list)):\n",
    "        v = input_list[i]\n",
    "\n",
    "        # mode\n",
    "        if v not in d:\n",
    "            d[v] = 0\n",
    "        d[v] += 1\n",
    "        if d[v] > freq:\n",
    "            freq = d[v]\n",
    "            mode = v\n",
    "\n",
    "        # sample variance\n",
    "        sum_diff_mean += (v - mean) ** 2\n",
    "    \n",
    "    sample_variance = sum_diff_mean / (len(input_list) - 1)\n",
    "    sample_standard_deviation = sample_variance ** 0.5\n",
    "\n",
    "    mean_confidence_interval = [mean - 1.96 * sample_standard_deviation / len(input_list)**0.5,\n",
    "                               mean + 1.96 * sample_standard_deviation / len(input_list)**0.5]\n",
    "    \n",
    "    return {\n",
    "        \"mean\": round(mean, 4),\n",
    "        \"median\": round(median, 4),\n",
    "        \"mode\": round(mode, 4),\n",
    "        \"sample_variance\": round(sample_variance, 4),\n",
    "        \"sample_standard_deviation\": round(sample_standard_deviation, 4),\n",
    "        \"mean_confidence_interval\": mean_confidence_interval,\n",
    "    }\n",
    "\n",
    "input_list = [2, 1, 3, 4, 4, 5, 6, 7]\n",
    "get_statistics(input_list)"
   ]
  }
 ],
 "metadata": {
  "kernelspec": {
   "display_name": "Python 3 (ipykernel)",
   "language": "python",
   "name": "python3"
  },
  "language_info": {
   "codemirror_mode": {
    "name": "ipython",
    "version": 3
   },
   "file_extension": ".py",
   "mimetype": "text/x-python",
   "name": "python",
   "nbconvert_exporter": "python",
   "pygments_lexer": "ipython3",
   "version": "3.8.5"
  }
 },
 "nbformat": 4,
 "nbformat_minor": 5
}
