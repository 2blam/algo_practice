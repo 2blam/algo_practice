{
 "cells": [
  {
   "cell_type": "markdown",
   "id": "d1f35d1f",
   "metadata": {},
   "source": [
    "Write a function that takes in two integer matrices and multiplies them together. Both matrices will be sparse, meaning that most of their elements will be zero. Take advantage of that to reduce the number of total computations that your function performs. If the matrices can't be multiplied together, your function should return [[]]\n",
    "\n",
    "Sample Input\n",
    "```\n",
    "matrix_a = [\n",
    "  [0,  2, 0],\n",
    "  [0, -3, 5],\n",
    "]\n",
    "```\n",
    "```matrix_b = [\n",
    "  [0, 10, 0],\n",
    "  [0,  0, 0],\n",
    "  [0,  0, 4],\n",
    "]\n",
    "```\n",
    "Sample Output\n",
    "```\n",
    "[\n",
    "  [0, 0,  0],\n",
    "  [0, 0, 20],\n",
    "]\n",
    "```\n"
   ]
  },
  {
   "cell_type": "code",
   "execution_count": 1,
   "id": "34d499b1",
   "metadata": {},
   "outputs": [
    {
     "data": {
      "text/plain": [
       "[[0, 0, 0], [0, 0, 20]]"
      ]
     },
     "execution_count": 1,
     "metadata": {},
     "output_type": "execute_result"
    }
   ],
   "source": [
    "def get_non_zero_dict(matrix):\n",
    "    d = {}\n",
    "    for r in range(len(matrix)):\n",
    "        for c in range(len(matrix[r])):\n",
    "            if matrix[r][c] != 0:\n",
    "                d[(r, c)] = matrix[r][c]\n",
    "    return d\n",
    "\n",
    "def sparse_matrix_multiplication(matrix_a, matrix_b):\n",
    "    if len(matrix_a[0]) != len(matrix_b):\n",
    "        return [[]]\n",
    "    # create an empty 2D array\n",
    "    result = [[0] * len(matrix_b[0]) for i in range(len(matrix_a))]\n",
    "\n",
    "    d_a = get_non_zero_dict(matrix_a) \n",
    "    d_b = get_non_zero_dict(matrix_b)\n",
    "\n",
    "    for k,v in d_a.items():\n",
    "        (r, c) = k\n",
    "        # check if c, r in d_b, if yes, get the result and assign\n",
    "        for j in range(len(matrix_b[0])):\n",
    "            if (c, j) in d_b:\n",
    "                result[r][j] += v * d_b[(c, j)]\n",
    "    return result\n",
    "\n",
    "matrix_a = [[0, 2, 0], [0, -3, 5]]\n",
    "matrix_b = [[0, 10, 0], [0, 0, 0], [0, 0, 4]]\n",
    "\n",
    "sparse_matrix_multiplication(matrix_a, matrix_b)"
   ]
  }
 ],
 "metadata": {
  "kernelspec": {
   "display_name": "Python 3 (ipykernel)",
   "language": "python",
   "name": "python3"
  },
  "language_info": {
   "codemirror_mode": {
    "name": "ipython",
    "version": 3
   },
   "file_extension": ".py",
   "mimetype": "text/x-python",
   "name": "python",
   "nbconvert_exporter": "python",
   "pygments_lexer": "ipython3",
   "version": "3.8.5"
  }
 },
 "nbformat": 4,
 "nbformat_minor": 5
}
