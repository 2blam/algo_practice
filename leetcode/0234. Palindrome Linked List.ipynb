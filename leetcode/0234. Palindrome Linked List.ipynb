{
 "cells": [
  {
   "cell_type": "markdown",
   "id": "7a639eea-e6b0-4178-998f-05a9c5d394db",
   "metadata": {},
   "source": [
    "The problem presents a scenario where you're given a singly linked list and asks you to determine if it is a palindrome. A palindrome is a sequence that reads the same forward and backward. For example, in the case of a linked list, [1 -> 2 -> 2 -> 1] is a palindrome, but [1 -> 2 -> 3] is not."
   ]
  },
  {
   "cell_type": "code",
   "execution_count": 1,
   "id": "f0349e02-67b0-4128-bcf9-f4119531321e",
   "metadata": {},
   "outputs": [
    {
     "name": "stdout",
     "output_type": "stream",
     "text": [
      "True\n",
      "False\n",
      "False\n"
     ]
    }
   ],
   "source": [
    "### IDEA: \n",
    "### 1) found the mid point by using fast-slow pointer\n",
    "### 2) reverse the 2nd half of the linked list\n",
    "### 3) check the element from two list and see if they match\n",
    "\n",
    "class ListNode(object):\n",
    "    def __init__(self, val=0, next=None):\n",
    "        self.val = val\n",
    "        self.next = next\n",
    "        \n",
    "class Solution(object):\n",
    "    def isPalindrome(self, head):\n",
    "        #found the mid point\n",
    "        fast, slow = head.next, head\n",
    "        while fast and fast.next:\n",
    "            fast = fast.next.next\n",
    "            slow = slow.next\n",
    "        \n",
    "        # reverse 2nd half of the list\n",
    "        prev, curr = None, slow.next\n",
    "        while curr:\n",
    "            temp = curr.next\n",
    "            curr.next = prev\n",
    "            prev, curr = curr, temp\n",
    "\n",
    "        # check if both list are the same\n",
    "        while prev:\n",
    "            if prev.val != head.val:\n",
    "                return False\n",
    "            # next\n",
    "            head, prev = head.next, prev.next\n",
    "\n",
    "        return True\n",
    "\n",
    "        \n",
    "\n",
    "# Testing 1\n",
    "head = ListNode(1)\n",
    "head.next = ListNode(2)\n",
    "head.next.next = ListNode(2)\n",
    "head.next.next.next = ListNode(1)\n",
    "print(Solution().isPalindrome(head))\n",
    "\n",
    "# Testing 2\n",
    "head = ListNode(1)\n",
    "head.next = ListNode(2)\n",
    "print(Solution().isPalindrome(head))\n",
    "\n",
    "# Testing 3\n",
    "head = ListNode(1)\n",
    "head.next = ListNode(1)\n",
    "head.next.next = ListNode(2)\n",
    "head.next.next.next = ListNode(1)\n",
    "head.next.next.next.next = ListNode(2)\n",
    "print(Solution().isPalindrome(head))\n",
    "\n",
    "# Time Complexity: O(n); n - num of nodes in the list\n",
    "# Space Complexity: O(1)"
   ]
  }
 ],
 "metadata": {
  "kernelspec": {
   "display_name": "Python 3 (ipykernel)",
   "language": "python",
   "name": "python3"
  },
  "language_info": {
   "codemirror_mode": {
    "name": "ipython",
    "version": 3
   },
   "file_extension": ".py",
   "mimetype": "text/x-python",
   "name": "python",
   "nbconvert_exporter": "python",
   "pygments_lexer": "ipython3",
   "version": "3.10.13"
  }
 },
 "nbformat": 4,
 "nbformat_minor": 5
}
