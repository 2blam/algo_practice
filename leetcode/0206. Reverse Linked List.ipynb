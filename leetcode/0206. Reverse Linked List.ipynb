{
 "cells": [
  {
   "cell_type": "markdown",
   "id": "923b05ce-9157-46b4-9b25-e83df9addd05",
   "metadata": {},
   "source": [
    "Given the ```head``` of a singly linked list, reverse the list, and return the reversed list.\n",
    "\n",
    "### Example 1:\n",
    "```\n",
    "Input: head = [1,2,3,4,5]\n",
    "Output: [5,4,3,2,1]\n",
    "```\n",
    "\n",
    "### Example 2:\n",
    "```\n",
    "Input: head = [1,2]\n",
    "Output: [2,1]\n",
    "```\n",
    "\n",
    "### Example 3:\n",
    "```\n",
    "Input: head = []\n",
    "Output: []\n",
    "```"
   ]
  },
  {
   "cell_type": "code",
   "execution_count": 1,
   "id": "2c514c2e-29f7-4b57-9038-f072fb4c0e8c",
   "metadata": {},
   "outputs": [
    {
     "name": "stdout",
     "output_type": "stream",
     "text": [
      "5>4>3>2>1>\n",
      "2>1>\n"
     ]
    }
   ],
   "source": [
    "# Definition for singly-linked list.\n",
    "class ListNode:\n",
    "    def __init__(self, val=0, next=None):\n",
    "        self.val = val\n",
    "        self.next = next\n",
    "\n",
    "class Solution:\n",
    "    def reverseList(self, head):\n",
    "        dummy = ListNode() # dummy - keep track the prev node\n",
    "        curr = head\n",
    "\n",
    "        while curr:\n",
    "            tmp = curr.next #  get the next node\n",
    "            curr.next = dummy.next \n",
    "            # move to next node\n",
    "            dummy.next = curr\n",
    "            curr = tmp\n",
    "\n",
    "        return dummy.next\n",
    "\n",
    "r1 = ListNode(1)\n",
    "r1.next = ListNode(2)\n",
    "r1.next.next = ListNode(3)\n",
    "r1.next.next.next = ListNode(4)\n",
    "r1.next.next.next.next = ListNode(5)\n",
    "\n",
    "r = Solution().reverseList(r1)\n",
    "\n",
    "n = r\n",
    "while n:\n",
    "    print(n.val, end=\">\")\n",
    "    n = n.next\n",
    "\n",
    "print()\n",
    "\n",
    "r1 = ListNode(1)\n",
    "r1.next = ListNode(2)\n",
    "\n",
    "r = Solution().reverseList(r1)\n",
    "\n",
    "n = r\n",
    "while n:\n",
    "    print(n.val, end=\">\")\n",
    "    n = n.next\n",
    "\n",
    "print()\n",
    "\n",
    "r1 = None\n",
    "r = Solution().reverseList(r1)\n",
    "\n",
    "n = r\n",
    "while n:\n",
    "    print(n.val, end=\">\")\n",
    "    n = n.next\n",
    "\n",
    "# Time Complexity: O(n)\n",
    "# Space Complexity: O(1)"
   ]
  }
 ],
 "metadata": {
  "kernelspec": {
   "display_name": "Python 3 (ipykernel)",
   "language": "python",
   "name": "python3"
  },
  "language_info": {
   "codemirror_mode": {
    "name": "ipython",
    "version": 3
   },
   "file_extension": ".py",
   "mimetype": "text/x-python",
   "name": "python",
   "nbconvert_exporter": "python",
   "pygments_lexer": "ipython3",
   "version": "3.10.13"
  }
 },
 "nbformat": 4,
 "nbformat_minor": 5
}
