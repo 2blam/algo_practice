{
 "cells": [
  {
   "cell_type": "markdown",
   "id": "a3d36952-5e19-4a16-a186-92986d16bf71",
   "metadata": {},
   "source": [
    "The problem provides us with a string ```s``` and an integer ```k```. The task is to repetitively remove k adjacent, identical characters from the string until no further such group of ```k``` identical characters exists. After each removal, the left and right parts of the string are concatenated together. This process of removal is known as a k duplicate removal. The final string obtained after performing as many k duplicate removals as possible is the output. It is assured that the outcome obtained is unique for the given input string and integer ```k```.\n",
    "\n",
    "### Example 1:\n",
    "```\n",
    "Input: s = \"abcd\", k = 2\n",
    "Output: \"abcd\"\n",
    "Explanation: There's nothing to delete.\n",
    "```\n",
    "\n",
    "### Example 2:\n",
    "```\n",
    "Input: s = \"deeedbbcccbdaa\", k = 3\n",
    "Output: \"aa\"\n",
    "Explanation: \n",
    "First delete \"eee\" and \"ccc\", get \"ddbbbdaa\"\n",
    "Then delete \"bbb\", get \"dddaa\"\n",
    "Finally delete \"ddd\", get \"aa\"\n",
    "```\n",
    "\n",
    "### Example 3:\n",
    "```\n",
    "Input: s = \"pbbcggttciiippooaais\", k = 2\n",
    "Output: \"ps\"\n",
    "```"
   ]
  },
  {
   "cell_type": "code",
   "execution_count": 11,
   "id": "41acaff7-f086-4e26-b9db-74d3b45bbe84",
   "metadata": {},
   "outputs": [
    {
     "name": "stdout",
     "output_type": "stream",
     "text": [
      "abcd\n",
      "aa\n",
      "ps\n"
     ]
    }
   ],
   "source": [
    "### IDEA\n",
    "###  - use stack\n",
    "###  - if the stack is empty, push the current character c with count 1 into the stack\n",
    "###  - otherwise, check if the c is the same as the top of the stack\n",
    "###    - if yes, increment the count by 1\n",
    "###    - otherwise, push c with count 1 \n",
    "###  - if count is equal to k, then pop \n",
    "###  regenerate the result\n",
    "class Solution:\n",
    "    def removeDuplicates(self, s: str, k: int) -> str:\n",
    "        stack = []\n",
    "        for c in s:\n",
    "            # is empty or top is not the same as c\n",
    "            if len(stack) == 0 or stack[-1][0] != c: # \n",
    "                stack.append((c, 1))\n",
    "            else: #top is the same as c\n",
    "                (_, count) = stack.pop()\n",
    "                # is same as k ? if yes, do nothing\n",
    "                if count + 1 == k: \n",
    "                    pass\n",
    "                else:\n",
    "                    stack.append((c, count+1))\n",
    "        # re-generate the result\n",
    "        return \"\".join([e[0] * e[1] for e in stack])\n",
    "\n",
    "### Checking\n",
    "s = \"abcd\"\n",
    "k = 2\n",
    "print(Solution().removeDuplicates(s, k))\n",
    "\n",
    "s = \"deeedbbcccbdaa\"\n",
    "k = 3\n",
    "print(Solution().removeDuplicates(s, k))\n",
    "\n",
    "s = \"pbbcggttciiippooaais\"\n",
    "k = 2\n",
    "print(Solution().removeDuplicates(s, k))"
   ]
  }
 ],
 "metadata": {
  "kernelspec": {
   "display_name": "Python 3 (ipykernel)",
   "language": "python",
   "name": "python3"
  },
  "language_info": {
   "codemirror_mode": {
    "name": "ipython",
    "version": 3
   },
   "file_extension": ".py",
   "mimetype": "text/x-python",
   "name": "python",
   "nbconvert_exporter": "python",
   "pygments_lexer": "ipython3",
   "version": "3.10.13"
  }
 },
 "nbformat": 4,
 "nbformat_minor": 5
}
