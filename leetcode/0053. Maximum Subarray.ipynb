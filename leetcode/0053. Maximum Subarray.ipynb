{
 "cells": [
  {
   "cell_type": "markdown",
   "id": "268d5527-1904-43d1-b675-4d78adf43c03",
   "metadata": {},
   "source": [
    "Given an integer array ```nums```, find the ```subarray``` with the largest sum, and return its sum.\n",
    "\n",
    "### Example 1\n",
    "```\n",
    "Input: nums = [-2,1,-3,4,-1,2,1,-5,4]\n",
    "Output: 6\n",
    "Explanation: The subarray [4,-1,2,1] has the largest sum 6.\n",
    "```\n",
    "\n",
    "### Example 2\n",
    "```\n",
    "Input: nums = [1]\n",
    "Output: 1\n",
    "Explanation: The subarray [1] has the largest sum 1.\n",
    "```\n",
    "\n",
    "### Example 3\n",
    "```\n",
    "Input: nums = [5,4,-1,7,8]\n",
    "Output: 23\n",
    "Explanation: The subarray [5,4,-1,7,8] has the largest sum 23.\n",
    "```"
   ]
  },
  {
   "cell_type": "code",
   "execution_count": 2,
   "id": "8d72f601-e7d4-46e0-8c68-da8115647c0b",
   "metadata": {},
   "outputs": [
    {
     "name": "stdout",
     "output_type": "stream",
     "text": [
      "6\n",
      "1\n",
      "23\n"
     ]
    }
   ],
   "source": [
    "class Solution:\n",
    "    def maxSubArray(self, nums: list[int]) -> int:\n",
    "        max_sum, curr_sum = nums[0], nums[0]\n",
    "        for i in range(1, len(nums)):\n",
    "            curr_sum = curr_sum + nums[i]\n",
    "            if curr_sum < 0:\n",
    "                curr_sum = 0\n",
    "                continue\n",
    "            max_sum = max(max_sum, curr_sum)\n",
    "            \n",
    "        return max_sum\n",
    "\n",
    "nums = [-2,1,-3,4,-1,2,1,-5,4]\n",
    "print(Solution().maxSubArray(nums))\n",
    "\n",
    "nums = [1]\n",
    "print(Solution().maxSubArray(nums))\n",
    "\n",
    "nums = [5,4,-1,7,8]\n",
    "print(Solution().maxSubArray(nums))"
   ]
  }
 ],
 "metadata": {
  "kernelspec": {
   "display_name": "Python 3 (ipykernel)",
   "language": "python",
   "name": "python3"
  },
  "language_info": {
   "codemirror_mode": {
    "name": "ipython",
    "version": 3
   },
   "file_extension": ".py",
   "mimetype": "text/x-python",
   "name": "python",
   "nbconvert_exporter": "python",
   "pygments_lexer": "ipython3",
   "version": "3.10.13"
  }
 },
 "nbformat": 4,
 "nbformat_minor": 5
}
