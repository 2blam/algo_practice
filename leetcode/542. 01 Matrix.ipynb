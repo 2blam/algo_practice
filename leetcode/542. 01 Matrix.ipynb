{
 "cells": [
  {
   "cell_type": "markdown",
   "id": "704e7858-fcff-4442-8098-c7e634277297",
   "metadata": {},
   "source": [
    "Given an ```m x n``` binary matrix ```mat```, return the distance of the nearest 0 for each cell.\n",
    "\n",
    "The distance between two adjacent cells is 1.\n",
    "\n",
    "### Example 1:\n",
    "|   |   |   |\n",
    "|---|---|---|\n",
    "| 0 | 0 | 0 |\n",
    "| 0 | 1 | 0 |\n",
    "| 0 | 0 | 0 |\n",
    "\n",
    "```\n",
    "Input: mat = [[0,0,0],[0,1,0],[0,0,0]]\n",
    "Output: [[0,0,0],[0,1,0],[0,0,0]]\n",
    "```\n",
    "\n",
    "### Example 2:\n",
    "|   |   |   |\n",
    "|---|---|---|\n",
    "| 0 | 0 | 0 |\n",
    "| 0 | 1 | 0 |\n",
    "| 1 | 1 | 1 |\n",
    "\n",
    "```\n",
    "Input: mat = [[0,0,0],[0,1,0],[1,1,1]]\n",
    "Output: [[0,0,0],[0,1,0],[1,2,1]]\n",
    "```"
   ]
  },
  {
   "cell_type": "code",
   "execution_count": 41,
   "id": "0a7f25c5-ec3b-4993-9fb4-ef9b346d9eaa",
   "metadata": {},
   "outputs": [
    {
     "name": "stdout",
     "output_type": "stream",
     "text": [
      "[[0, 0, 0], [0, 1, 0], [0, 0, 0]]\n",
      "[[0, 0, 0], [0, 1, 0], [1, 2, 1]]\n"
     ]
    }
   ],
   "source": [
    "### BFS: queue\n",
    "### create the ans matrix, with same same as mat\n",
    "### if the value in mat is 0\n",
    "###   - assign 0 in output matrix\n",
    "###   - add the coordinate into the queue\n",
    "### otherwise, assign -1\n",
    "### Repeat until queue is empty\n",
    "###   - check the up , down, left, bottom cell and see if ans[n_x][n_y] == -1?\n",
    "###   - mat[n_x][n_y] + 1 ==> output[x][y]\n",
    "###   - add coordinate (n_x, n_y) to the queue\n",
    "\n",
    "class Solution:\n",
    "    def updateMatrix(self, mat):\n",
    "        # prepare the answer matrix\n",
    "        r, c = len(mat), len(mat[0])\n",
    "        ans = [[-1] * c for _ in range(r)]\n",
    "        queue = []\n",
    "        for _r in range(r):\n",
    "            for _c in range(c):\n",
    "                if mat[_r][_c] == 0:\n",
    "                    ans[_r][_c] = 0\n",
    "                    queue.append((_r, _c)) # further exploration\n",
    "        \n",
    "        # exploration from queue\n",
    "        while queue:\n",
    "            (_r, _c) = queue.pop(0) \n",
    "            for (dx, dy) in [(0, 1), (0, -1), (-1, 0), (1, 0)]: # bottom, up, left, right\n",
    "                n_x = _r + dx\n",
    "                n_y = _c + dy\n",
    "                if 0 <= n_x < r and 0 <= n_y < c and ans[n_x][n_y] == -1:\n",
    "                    ans[n_x][n_y] = ans[_r][_c] + 1\n",
    "                    queue.append((n_x, n_y))\n",
    "\n",
    "        return ans\n",
    "\n",
    "### Test\n",
    "mat = [[0,0,0],[0,1,0],[0,0,0]]\n",
    "print(Solution().updateMatrix(mat))\n",
    "\n",
    "mat = [[0,0,0],[0,1,0],[1,1,1]]\n",
    "print(Solution().updateMatrix(mat))"
   ]
  }
 ],
 "metadata": {
  "kernelspec": {
   "display_name": "Python 3 (ipykernel)",
   "language": "python",
   "name": "python3"
  },
  "language_info": {
   "codemirror_mode": {
    "name": "ipython",
    "version": 3
   },
   "file_extension": ".py",
   "mimetype": "text/x-python",
   "name": "python",
   "nbconvert_exporter": "python",
   "pygments_lexer": "ipython3",
   "version": "3.10.13"
  }
 },
 "nbformat": 4,
 "nbformat_minor": 5
}
