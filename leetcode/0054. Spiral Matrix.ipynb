{
 "cells": [
  {
   "cell_type": "markdown",
   "id": "896921af-ebaf-4529-8b3c-f0adabb9ab44",
   "metadata": {},
   "source": [
    "Given an ```m x n``` matrix, return all elements of the matrix in spiral order.\n",
    "\n",
    "Imagine starting at the top-left corner of the matrix and going right, then down, then left, and then up, turning inward in a spiral shape, until we traverse every element in the matrix exactly once. The function should return a list of the elements of the matrix in the order they were visited during this spiral traversal.\n",
    "\n",
    "### Example 1:\n",
    "```\n",
    "Input: matrix = [[1,2,3],[4,5,6],[7,8,9]]\n",
    "Output: [1,2,3,6,9,8,7,4,5]\n",
    "```\n",
    "\n",
    "### Example 2:\n",
    "```\n",
    "Input: matrix = [[1,2,3,4],[5,6,7,8],[9,10,11,12]]\n",
    "Output: [1,2,3,4,8,12,11,10,9,5,6,7]\n",
    "```"
   ]
  },
  {
   "cell_type": "code",
   "execution_count": 1,
   "id": "b641d335-09f8-474c-acc6-5e5be94a3d21",
   "metadata": {},
   "outputs": [
    {
     "name": "stdout",
     "output_type": "stream",
     "text": [
      "[1, 2, 3, 6, 9, 8, 7, 4, 5]\n",
      "[1, 2, 3, 4, 8, 12, 11, 10, 9, 5, 6, 7]\n"
     ]
    }
   ],
   "source": [
    "class Solution(object):\n",
    "    def spiralOrder(self, matrix):\n",
    "        num_of_row, num_of_col = len(matrix), len(matrix[0])\n",
    "        directions = [(0, 1), (1, 0), (0, -1), (-1, 0)] #right, down, left, up\n",
    "        \n",
    "        curr_row, curr_col = 0, 0\n",
    "        curr_direction = 0\n",
    "\n",
    "        visited = set()\n",
    "        result = []\n",
    "        for _ in range(num_of_row*num_of_col):\n",
    "            visited.add((curr_row, curr_col))\n",
    "            result.append(matrix[curr_row][curr_col])\n",
    "            \n",
    "            # check if it reach the boundaries\n",
    "            if (0 <= (curr_row + directions[curr_direction][0])  < num_of_row) and \\0 <= (curr_col + directions[curr_direction][1]) < num_of_col and (curr_row + directions[curr_direction][0], curr_col + directions[curr_direction][1]) not in visited:\n",
    "                curr_row = curr_row + directions[curr_direction][0]\n",
    "                curr_col = curr_col + directions[curr_direction][1]\n",
    "            else: # update the direction\n",
    "                curr_direction = (curr_direction + 1) % 4\n",
    "                curr_row = curr_row + directions[curr_direction][0]\n",
    "                curr_col = curr_col + directions[curr_direction][1]\n",
    "        return result\n",
    "\n",
    "\n",
    "matrix = [[1,2,3],[4,5,6],[7,8,9]]\n",
    "print(Solution().spiralOrder(matrix))\n",
    "\n",
    "matrix = [[1,2,3,4],[5,6,7,8],[9,10,11,12]]\n",
    "print(Solution().spiralOrder(matrix))\n",
    "\n",
    "# Time Complexity: O(m*n)\n",
    "# Space Complexity: O(m*n)"
   ]
  },
  {
   "cell_type": "code",
   "execution_count": 8,
   "id": "b879495a-7e28-4a13-87f0-5bd3442e8763",
   "metadata": {},
   "outputs": [
    {
     "name": "stdout",
     "output_type": "stream",
     "text": [
      "[1, 2, 3, 6, 9, 8, 7, 4, 5]\n",
      "[1, 2, 3, 4, 8, 12, 11, 10, 9, 5, 6, 7]\n"
     ]
    }
   ],
   "source": [
    "# version 2\n",
    "# since one of the constraint is -100 <= matrix[i][j] <= 100\n",
    "# instead of creating a visited set, we can reuse the matrix and assign the value (say -1000) to represent visited cell\n",
    "\n",
    "class Solution(object):\n",
    "    def spiralOrder(self, matrix):\n",
    "        num_of_row, num_of_col = len(matrix), len(matrix[0])\n",
    "        directions = [(0, 1), (1, 0), (0, -1), (-1, 0)] #right, down, left, up\n",
    "        \n",
    "        curr_row, curr_col = 0, 0\n",
    "        curr_direction = 0\n",
    "\n",
    "        result = []\n",
    "        for _ in range(num_of_row*num_of_col):\n",
    "            result.append(matrix[curr_row][curr_col])\n",
    "            matrix[curr_row][curr_col] = -1000 # visited\n",
    "            \n",
    "            # check if it reach the boundaries\n",
    "            if (0 <= (curr_row + directions[curr_direction][0])  < num_of_row) and \\\n",
    "                (0 <= (curr_col + directions[curr_direction][1]) < num_of_col) and \\\n",
    "                (matrix[curr_row + directions[curr_direction][0]][curr_col + directions[curr_direction][1]] != -1000):\n",
    "                curr_row = curr_row + directions[curr_direction][0]\n",
    "                curr_col = curr_col + directions[curr_direction][1]\n",
    "            else: # update the direction\n",
    "                curr_direction = (curr_direction + 1) % 4\n",
    "                curr_row = curr_row + directions[curr_direction][0]\n",
    "                curr_col = curr_col + directions[curr_direction][1]\n",
    "        return result\n",
    "\n",
    "matrix = [[1,2,3],[4,5,6],[7,8,9]]\n",
    "print(Solution().spiralOrder(matrix))\n",
    "\n",
    "matrix = [[1,2,3,4],[5,6,7,8],[9,10,11,12]]\n",
    "print(Solution().spiralOrder(matrix))\n",
    "\n",
    "# Time Complexity: O(m*n)\n",
    "# Space Complexity: O(m*n) - we reused matrix; but, we still create result (list) to store the sequence, it takes m*n space"
   ]
  }
 ],
 "metadata": {
  "kernelspec": {
   "display_name": "Python 3 (ipykernel)",
   "language": "python",
   "name": "python3"
  },
  "language_info": {
   "codemirror_mode": {
    "name": "ipython",
    "version": 3
   },
   "file_extension": ".py",
   "mimetype": "text/x-python",
   "name": "python",
   "nbconvert_exporter": "python",
   "pygments_lexer": "ipython3",
   "version": "3.10.13"
  }
 },
 "nbformat": 4,
 "nbformat_minor": 5
}
