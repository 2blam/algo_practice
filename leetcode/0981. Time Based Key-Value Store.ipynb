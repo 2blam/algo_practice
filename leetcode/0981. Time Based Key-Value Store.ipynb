{
 "cells": [
  {
   "cell_type": "markdown",
   "id": "8f04a1fc-820d-4192-89b5-8bf1242c6714",
   "metadata": {},
   "source": [
    "Design a time-based key-value data structure that can store multiple values for the same key at different time stamps and retrieve the key's value at a certain timestamp.\n",
    "\n",
    "Implement the ```TimeMap``` class:\n",
    "\n",
    "- ```TimeMap()``` Initializes the object of the data structure.\n",
    "- ```void set(String key, String value, int timestamp)``` Stores the key ```key``` with the value ```value``` at the given time ```timestamp```.\n",
    "- ```String get(String key, int timestamp)``` Returns a value such that ```set``` was called previously, with ```timestamp_prev <= timestamp```. If there are multiple such values, it returns the value associated with the largest ```timestamp_prev```. If there are no values, it returns ```\"\"```.\n",
    "\n",
    "### Example 1:\n",
    "```\n",
    "Input\n",
    "[\"TimeMap\", \"set\", \"get\", \"get\", \"set\", \"get\", \"get\"]\n",
    "[[], [\"foo\", \"bar\", 1], [\"foo\", 1], [\"foo\", 3], [\"foo\", \"bar2\", 4], [\"foo\", 4], [\"foo\", 5]]\n",
    "Output\n",
    "[null, null, \"bar\", \"bar\", null, \"bar2\", \"bar2\"]\n",
    "\n",
    "Explanation\n",
    "TimeMap timeMap = new TimeMap();\n",
    "timeMap.set(\"foo\", \"bar\", 1);  // store the key \"foo\" and value \"bar\" along with timestamp = 1.\n",
    "timeMap.get(\"foo\", 1);         // return \"bar\"\n",
    "timeMap.get(\"foo\", 3);         // return \"bar\", since there is no value corresponding to foo at timestamp 3 and timestamp 2, then the only value is at timestamp 1 is \"bar\".\n",
    "timeMap.set(\"foo\", \"bar2\", 4); // store the key \"foo\" and value \"bar2\" along with timestamp = 4.\n",
    "timeMap.get(\"foo\", 4);         // return \"bar2\"\n",
    "timeMap.get(\"foo\", 5);         // return \"bar2\"\n",
    "```"
   ]
  },
  {
   "cell_type": "code",
   "execution_count": 1,
   "id": "77393089-adc6-4e8f-8b80-24bd4b1a27dc",
   "metadata": {},
   "outputs": [
    {
     "name": "stdout",
     "output_type": "stream",
     "text": [
      "None\n",
      "bar\n",
      "bar\n",
      "None\n",
      "bar2\n",
      "bar2\n"
     ]
    }
   ],
   "source": [
    "class TimeMap:\n",
    "    def __init__(self):\n",
    "        self.d = {} # hashmap / dictionary\n",
    "    \n",
    "    def set(self, key: str, value: str, timestamp: int) -> None:\n",
    "        # check if key exists, if yes, assign, else append\n",
    "        if key in self.d:\n",
    "            self.d[key].append((value, timestamp))\n",
    "        else:\n",
    "            self.d[key] = [(value, timestamp)]\n",
    "    \n",
    "    def get(self, key: str, timestamp: int) -> str:\n",
    "        # perform binary search\n",
    "        result = \"\"\n",
    "        if key in self.d:\n",
    "            lst_values = self.d[key] \n",
    "        else: \n",
    "            return \"\"\n",
    "\n",
    "        l, r = 0, len(lst_values) - 1\n",
    "        while l <= r:\n",
    "            m = (l + r) // 2\n",
    "            if lst_values[m][1] <= timestamp:\n",
    "                res = lst_values[m][0]\n",
    "                l = m + 1\n",
    "            else:\n",
    "                r = m - 1\n",
    "        return res\n",
    "        \n",
    "\n",
    "\n",
    "timeMap = TimeMap()\n",
    "print(timeMap.set(\"foo\", \"bar\", 1))   # store the key \"foo\" and value \"bar\" along with timestamp = 1.\n",
    "print(timeMap.get(\"foo\", 1))          # return \"bar\"\n",
    "print(timeMap.get(\"foo\", 3))          # return \"bar\", since there is no value corresponding to foo at timestamp 3 and timestamp 2, then the only value is at timestamp 1 is \"bar\".\n",
    "print(timeMap.set(\"foo\", \"bar2\", 4))  # store the key \"foo\" and value \"bar2\" along with timestamp = 4.\n",
    "print(timeMap.get(\"foo\", 4))          # return \"bar2\"\n",
    "print(timeMap.get(\"foo\", 5))          # return \"bar2\"\n",
    "\n",
    "# Set Func:\n",
    "# Time Complexity: O(1)\n",
    "# Get Func:\n",
    "# Time Complexity: O(log n)\n",
    "\n",
    "# Space Complexity: O(K + T): K - unique key; T - total number of set call"
   ]
  }
 ],
 "metadata": {
  "kernelspec": {
   "display_name": "Python 3 (ipykernel)",
   "language": "python",
   "name": "python3"
  },
  "language_info": {
   "codemirror_mode": {
    "name": "ipython",
    "version": 3
   },
   "file_extension": ".py",
   "mimetype": "text/x-python",
   "name": "python",
   "nbconvert_exporter": "python",
   "pygments_lexer": "ipython3",
   "version": "3.10.13"
  }
 },
 "nbformat": 4,
 "nbformat_minor": 5
}
