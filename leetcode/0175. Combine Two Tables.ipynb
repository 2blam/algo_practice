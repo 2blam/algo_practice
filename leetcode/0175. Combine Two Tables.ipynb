{
 "cells": [
  {
   "cell_type": "markdown",
   "id": "80198a2d-1428-4b0d-932b-ad9686977011",
   "metadata": {},
   "source": [
    "Table: ```Person```\n",
    "\n",
    "| **Column Name** | **Type** |\n",
    "|-----------------|----------|\n",
    "| personId        | int      |\n",
    "| lastName        | varchar  |\n",
    "| firstName       | varchar  |\n",
    "\n",
    "```personId``` is the primary key (column with unique values) for this table.\n",
    "\n",
    "This table contains information about the ID of some persons and their first and last names.\n",
    "\n",
    "Table: ```Address```\n",
    "\n",
    "\n",
    "| **Column Name** | **Type**    |\n",
    "|-------------|---------|\n",
    "| addressId   | int     |\n",
    "| personId    | int     |\n",
    "| city        | varchar |\n",
    "| state       | varchar |\n",
    "\n",
    "```addressId``` is the primary key (column with unique values) for this table.\n",
    "\n",
    "Each row of this table contains information about the city and state of one person with ID = PersonId.\n",
    "\n",
    "Write a solution to report the first name, last name, city, and state of each person in the Person table. If the address of a personId is not present in the Address table, report null instead.\n",
    "\n",
    "Return the result table in any order.\n",
    "\n",
    "The result format is in the following example.\n",
    "\n",
    "### Example 1\n",
    "Input: \n",
    "Person table:\n",
    "\n",
    "| personId | lastName | firstName |\n",
    "|----------|----------|-----------|\n",
    "| 1        | Wang     | Allen     |\n",
    "| 2        | Alice    | Bob       |\n",
    "\n",
    "\n",
    "Address table:\n",
    "| addressId | personId | city          | state      |\n",
    "|-----------|----------|---------------|------------|\n",
    "| 1         | 2        | New York City | New York   |\n",
    "| 2         | 3        | Leetcode      | California |\n",
    "\n",
    "Output: \n",
    "| firstName | lastName | city          | state    |\n",
    "|-----------|----------|---------------|----------|\n",
    "| Allen     | Wang     | Null          | Null     |\n",
    "| Bob       | Alice    | New York City | New York |\n",
    "\n",
    "Explanation: \n",
    "There is no address in the address table for the personId = 1 so we return null in their city and state.\n",
    "addressId = 1 contains information about the address of personId = 2."
   ]
  },
  {
   "cell_type": "code",
   "execution_count": null,
   "id": "351885a2-65ed-49f1-87e8-5eac6b0c3827",
   "metadata": {},
   "outputs": [],
   "source": []
  }
 ],
 "metadata": {
  "kernelspec": {
   "display_name": "Python 3 (ipykernel)",
   "language": "python",
   "name": "python3"
  },
  "language_info": {
   "codemirror_mode": {
    "name": "ipython",
    "version": 3
   },
   "file_extension": ".py",
   "mimetype": "text/x-python",
   "name": "python",
   "nbconvert_exporter": "python",
   "pygments_lexer": "ipython3",
   "version": "3.10.13"
  }
 },
 "nbformat": 4,
 "nbformat_minor": 5
}
