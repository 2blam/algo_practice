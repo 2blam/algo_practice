{
 "cells": [
  {
   "cell_type": "markdown",
   "id": "fc9ec472-4fcd-4bac-a9ea-9dbe91c13176",
   "metadata": {},
   "source": [
    "Given an array of integers ```nums```, sort the array in ascending order and return it.\n",
    "\n",
    "You must solve the problem without using any built-in functions in ```O(nlog(n))``` time complexity and with the smallest space complexity possible.\n",
    "\n",
    "### Example 1\n",
    "```\n",
    "Input: nums = [5,2,3,1]\n",
    "Output: [1,2,3,5]\n",
    "Explanation: After sorting the array, the positions of some numbers are not changed (for example, 2 and 3), while the positions of other numbers are changed (for example, 1 and 5).\n",
    "```\n",
    "\n",
    "### Example 2\n",
    "```\n",
    "Input: nums = [5,1,1,2,0,0]\n",
    "Output: [0,0,1,1,2,5]\n",
    "Explanation: Note that the values of nums are not necessairly unique.\n",
    "```"
   ]
  },
  {
   "cell_type": "code",
   "execution_count": 1,
   "id": "ec330eed-040a-4c8c-aad8-69bc83805eaa",
   "metadata": {},
   "outputs": [
    {
     "name": "stdout",
     "output_type": "stream",
     "text": [
      "[1, 2, 3, 5]\n",
      "[0, 0, 1, 1, 2, 5]\n"
     ]
    }
   ],
   "source": [
    "# merge sort\n",
    "class Solution:\n",
    "    def mergeSortHelper(self, nums, left, mid, right):\n",
    "        left_half, right_half = nums[left:mid+1], nums[mid+1:right+1]\n",
    "        idx, left_idx, right_idx = left, 0, 0\n",
    "        while left_idx < len(left_half) and right_idx < len(right_half):\n",
    "            if left_half[left_idx] <= right_half[right_idx]:\n",
    "                nums[idx] = left_half[left_idx]\n",
    "                left_idx += 1\n",
    "            else:\n",
    "                nums[idx] = right_half[right_idx]\n",
    "                right_idx +=1\n",
    "            # move to next element\n",
    "            idx+=1\n",
    "\n",
    "        # handle remaing elements, if any\n",
    "        while left_idx < len(left_half):\n",
    "            nums[idx] = left_half[left_idx]\n",
    "            left_idx +=1\n",
    "            idx += 1\n",
    "        while right_idx < len(right_half):\n",
    "            nums[idx] = right_half[right_idx]\n",
    "            right_idx +=1\n",
    "            idx += 1\n",
    "        \n",
    "                \n",
    "    \n",
    "    def mergeSort(self, nums, left, right):\n",
    "        if left == right: # base case: do nothing\n",
    "            return nums\n",
    "        mid = (left + right)//2\n",
    "        # recursive call\n",
    "        self.mergeSort(nums, left, mid)\n",
    "        self.mergeSort(nums, mid+1, right)\n",
    "        # merge back\n",
    "        self.mergeSortHelper(nums, left, mid, right)\n",
    "        return nums\n",
    "    \n",
    "    def sortArray(self, nums: list[int]) -> list[int]:\n",
    "        return self.mergeSort(nums, 0, len(nums))\n",
    "\n",
    "nums = [5,2,3,1]\n",
    "print(Solution().sortArray(nums))\n",
    "\n",
    "nums = [5,1,1,2,0,0]\n",
    "print(Solution().sortArray(nums))\n",
    "\n",
    "# Time Complexity: O(nlogn)\n",
    "# Space Complexity: O(nlogn)\n",
    "# Reference: https://www.youtube.com/watch?v=MsYZSinhuFo"
   ]
  }
 ],
 "metadata": {
  "kernelspec": {
   "display_name": "Python 3 (ipykernel)",
   "language": "python",
   "name": "python3"
  },
  "language_info": {
   "codemirror_mode": {
    "name": "ipython",
    "version": 3
   },
   "file_extension": ".py",
   "mimetype": "text/x-python",
   "name": "python",
   "nbconvert_exporter": "python",
   "pygments_lexer": "ipython3",
   "version": "3.10.13"
  }
 },
 "nbformat": 4,
 "nbformat_minor": 5
}
