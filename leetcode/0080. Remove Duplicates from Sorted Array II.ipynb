{
 "cells": [
  {
   "cell_type": "markdown",
   "id": "07a1e0e5-6100-42d4-a0b5-f8b3def55fe0",
   "metadata": {},
   "source": [
    "Given an integer array ```nums``` sorted in non-decreasing order, remove some duplicates *in-place* such that each unique element appears *at most twice*. The relative order of the elements should be kept the *same*.\n",
    "\n",
    "Since it is impossible to change the length of the array in some languages, you must instead have the result be placed in the first part of the array ```nums```. More formally, if there are ```k``` elements after removing the duplicates, then the first ```k``` elements of ```nums``` should hold the final result. It does not matter what you leave beyond the first ```k``` elements.\n",
    "\n",
    "Return ```k``` after placing the final result in the first ```k``` slots of ```nums```.\n",
    "\n",
    "Do not allocate extra space for another array. You must do this by modifying the input array in-place with O(1) extra memory.\n",
    "\n",
    "### Example 1:\n",
    "```\n",
    "Input: nums = [1,1,1,2,2,3]\n",
    "Output: 5, nums = [1,1,2,2,3,_]\n",
    "Explanation: Your function should return k = 5, with the first five elements of nums being 1, 1, 2, 2 and 3 respectively.\n",
    "It does not matter what you leave beyond the returned k (hence they are underscores).\n",
    "```\n",
    "\n",
    "### Example 2:\n",
    "```\n",
    "Input: nums = [0,0,1,1,1,1,2,3,3]\n",
    "Output: 7, nums = [0,0,1,1,2,3,3,_,_]\n",
    "Explanation: Your function should return k = 7, with the first seven elements of nums being 0, 0, 1, 1, 2, 3 and 3 respectively.\n",
    "It does not matter what you leave beyond the returned k (hence they are underscores).\n",
    "```"
   ]
  },
  {
   "cell_type": "code",
   "execution_count": 1,
   "id": "8f3da648-b473-44d4-ba24-f7a12b55ca18",
   "metadata": {},
   "outputs": [
    {
     "name": "stdout",
     "output_type": "stream",
     "text": [
      "5\n",
      "7\n"
     ]
    }
   ],
   "source": [
    "# IDEA: two-pointers\n",
    "# i - scan from 1st elements till the end\n",
    "# cnt - start from 1\n",
    "# dup_idx - position that we can overwrite the element\n",
    "#\n",
    "# Scan elements from 1st position till the end\n",
    "#   if nums[i] == nums[i-] >>> increment cnt by 1\n",
    "#   otherwise >>> reset cnt by 1\n",
    "#   if cnt > 2 ==> unwanted duplicate elements, just continue and move to next element\n",
    "#   otherwise ==> move the element i to the dup_idx, and increment dup_idx + 1\n",
    "\n",
    "class Solution:\n",
    "    def removeDuplicates(self, nums: list[int]) -> int:\n",
    "        dup_idx, cnt = 1, 1\n",
    "        for i in range(1, len(nums)):\n",
    "            if nums[i] == nums[i-1]:\n",
    "                cnt += 1\n",
    "            else:\n",
    "                cnt = 1\n",
    "            if cnt <= 2: \n",
    "                nums[dup_idx] = nums[i]\n",
    "                dup_idx += 1 \n",
    "            # else: # do nothing\n",
    "            #     pass \n",
    "        return dup_idx\n",
    "            \n",
    "                \n",
    "nums = [1,1,1,2,2,3]\n",
    "print(Solution().removeDuplicates(nums))\n",
    "\n",
    "nums = [0,0,1,1,1,1,2,3,3]\n",
    "print(Solution().removeDuplicates(nums))\n",
    "\n",
    "# Time Complexity: O(n)\n",
    "# Space Complexity: O(1)"
   ]
  }
 ],
 "metadata": {
  "kernelspec": {
   "display_name": "Python 3 (ipykernel)",
   "language": "python",
   "name": "python3"
  },
  "language_info": {
   "codemirror_mode": {
    "name": "ipython",
    "version": 3
   },
   "file_extension": ".py",
   "mimetype": "text/x-python",
   "name": "python",
   "nbconvert_exporter": "python",
   "pygments_lexer": "ipython3",
   "version": "3.10.13"
  }
 },
 "nbformat": 4,
 "nbformat_minor": 5
}
