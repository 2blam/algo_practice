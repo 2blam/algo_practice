{
 "cells": [
  {
   "cell_type": "markdown",
   "id": "74408229-0dc8-4683-91dd-9ffb1a944429",
   "metadata": {},
   "source": [
    "Given two strings ```s and ```t, return True if ```t``` is an anagram of ```s```, and False otherwise.\n",
    "\n",
    "An Anagram is a word or phrase formed by rearranging the letters of a different word or phrase, typically using all the original letters exactly once.\n",
    "\n",
    "\n",
    "### Example 1:\n",
    "```\n",
    "Input: s = \"anagram\", t = \"nagaram\"\n",
    "Output: true\n",
    "```\n",
    "\n",
    "### Example 2:\n",
    "```\n",
    "Input: s = \"rat\", t = \"car\"\n",
    "Output: false\n",
    "```"
   ]
  },
  {
   "cell_type": "code",
   "execution_count": 1,
   "id": "85380479-cacc-435c-ac2c-da9476ed9145",
   "metadata": {},
   "outputs": [
    {
     "name": "stdout",
     "output_type": "stream",
     "text": [
      "True\n",
      "False\n"
     ]
    }
   ],
   "source": [
    "class Solution:\n",
    "    def isAnagram(self, s: str, t: str) -> bool:\n",
    "        d = {}\n",
    "        for c in s:\n",
    "            cnt = d.get(c, 0) + 1\n",
    "            d[c] = cnt\n",
    "        for c in t:\n",
    "            if c not in d: return False\n",
    "            cnt = d[c] - 1\n",
    "            if cnt < 0 : return False\n",
    "            elif cnt == 0:\n",
    "                del d[c]\n",
    "            else:\n",
    "                d[c] = cnt\n",
    "        # final check\n",
    "        if len(d.keys()) > 0: return False\n",
    "        return True\n",
    "            \n",
    "\n",
    "s = \"anagram\"\n",
    "t = \"nagaram\"\n",
    "print(Solution().isAnagram(s, t))\n",
    "\n",
    "s = \"rat\"\n",
    "t = \"car\"\n",
    "print(Solution().isAnagram(s, t))\n",
    "\n",
    "# Time Complexity: O(n): n - len of s ( t with the same len as s)\n",
    "# Space Compexlity: O(d): different character of s "
   ]
  }
 ],
 "metadata": {
  "kernelspec": {
   "display_name": "Python 3 (ipykernel)",
   "language": "python",
   "name": "python3"
  },
  "language_info": {
   "codemirror_mode": {
    "name": "ipython",
    "version": 3
   },
   "file_extension": ".py",
   "mimetype": "text/x-python",
   "name": "python",
   "nbconvert_exporter": "python",
   "pygments_lexer": "ipython3",
   "version": "3.10.13"
  }
 },
 "nbformat": 4,
 "nbformat_minor": 5
}
