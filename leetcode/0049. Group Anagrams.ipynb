{
 "cells": [
  {
   "cell_type": "markdown",
   "id": "1783c898-cb18-4940-ae16-d98261830c3d",
   "metadata": {},
   "source": [
    "Given an array of strings ```strs```, group the __anagrams__ together. You can return the answer in __any order__.\n",
    "\n",
    "An Anagram is a word or phrase formed by rearranging the letters of a different word or phrase, typically using all the original letters exactly once.\n",
    "\n",
    "### Example 1\n",
    "```\n",
    "Input: strs = [\"eat\",\"tea\",\"tan\",\"ate\",\"nat\",\"bat\"]\n",
    "Output: [[\"bat\"],[\"nat\",\"tan\"],[\"ate\",\"eat\",\"tea\"]]\n",
    "```\n",
    "\n",
    "### Example 2:\n",
    "```\n",
    "Input: strs = [\"\"]\n",
    "Output: [[\"\"]]\n",
    "```\n",
    "\n",
    "### Example 3:\n",
    "```\n",
    "Input: strs = [\"a\"]\n",
    "Output: [[\"a\"]]\n",
    "```"
   ]
  },
  {
   "cell_type": "code",
   "execution_count": null,
   "id": "807dd53f-b753-4e48-afaa-85b6c57491b0",
   "metadata": {},
   "outputs": [],
   "source": [
    "class Solution(object):\n",
    "    def groupAnagrams(self, strs):\n",
    "        d = {}\n",
    "        for s in strs:\n",
    "            # get the sorted s\n",
    "            org_s, sorted_s = s, \"\".join(sorted(s))\n",
    "            # check if the k exists\n",
    "            if sorted_s in d.keys():\n",
    "                d[sorted_s].append(org_s)\n",
    "            else: # new\n",
    "                d[sorted_s] = [org_s]\n",
    "        \n",
    "        return list(d.values())\n",
    "            \n",
    "\n",
    "strs = [\"eat\",\"tea\",\"tan\",\"ate\",\"nat\",\"bat\"]\n",
    "print(Solution().groupAnagrams(strs))\n",
    "\n",
    "strs = [\"\"]\n",
    "print(Solution().groupAnagrams(strs))\n",
    "\n",
    "strs = [\"a\"]\n",
    "print(Solution().groupAnagrams(strs))\n",
    "\n",
    "# Time Complexity: O(n * c log c ) : n - num of elements in strs; c - average number of characters of each string; sorting algo: c log c\n",
    "# Space Complexity: O(n * c)"
   ]
  }
 ],
 "metadata": {
  "kernelspec": {
   "display_name": "Python 3 (ipykernel)",
   "language": "python",
   "name": "python3"
  },
  "language_info": {
   "codemirror_mode": {
    "name": "ipython",
    "version": 3
   },
   "file_extension": ".py",
   "mimetype": "text/x-python",
   "name": "python",
   "nbconvert_exporter": "python",
   "pygments_lexer": "ipython3",
   "version": "3.10.13"
  }
 },
 "nbformat": 4,
 "nbformat_minor": 5
}
