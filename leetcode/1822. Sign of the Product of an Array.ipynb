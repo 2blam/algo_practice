{
 "cells": [
  {
   "cell_type": "markdown",
   "id": "b337ce95-0463-4d11-9800-12fc561a5624",
   "metadata": {},
   "source": [
    "There is a function ```signFunc(x)``` that returns:\n",
    "\n",
    "- ```1``` if ```x``` is positive.\n",
    "- ```-1``` if ```x``` is negative.\n",
    "- ```0``` if ```x``` is equal to ```0```.\n",
    "You are given an integer array ```nums```. Let ```product``` be the product of all values in the array ```nums```.\n",
    "\n",
    "Return ```signFunc(product)```.\n",
    "\n",
    "### Example 1:\n",
    "```\n",
    "Input: nums = [-1,-2,-3,-4,3,2,1]\n",
    "Output: 1\n",
    "Explanation: The product of all values in the array is 144, and signFunc(144) = 1\n",
    "```\n",
    "### Example 2:\n",
    "```\n",
    "Input: nums = [1,5,0,2,-3]\n",
    "Output: 0\n",
    "Explanation: The product of all values in the array is 0, and signFunc(0) = 0\n",
    "```\n",
    "### Example 3:\n",
    "```\n",
    "Input: nums = [-1,1,-1,1,-1]\n",
    "Output: -1\n",
    "Explanation: The product of all values in the array is -1, and signFunc(-1) = -1\n",
    "```"
   ]
  },
  {
   "cell_type": "code",
   "execution_count": 5,
   "id": "bc938caf-78e8-49cc-8a9a-890b4253fa3d",
   "metadata": {},
   "outputs": [
    {
     "name": "stdout",
     "output_type": "stream",
     "text": [
      "1\n",
      "0\n",
      "-1\n"
     ]
    }
   ],
   "source": [
    "class Solution(object):\n",
    "    def arraySign(self, nums):\n",
    "        count = 0\n",
    "        for e in nums:\n",
    "            if e == 0:\n",
    "                return 0 \n",
    "            if e < 0:\n",
    "                count += 1\n",
    "        if count % 2 == 1:\n",
    "            return -1\n",
    "        else:\n",
    "            return 1\n",
    "\n",
    "nums = [-1,-2,-3,-4,3,2,1]\n",
    "print(Solution().arraySign(nums))\n",
    "\n",
    "nums = [1,5,0,2,-3]\n",
    "print(Solution().arraySign(nums))\n",
    "\n",
    "nums = [-1,1,-1,1,-1]\n",
    "print(Solution().arraySign(nums))"
   ]
  }
 ],
 "metadata": {
  "kernelspec": {
   "display_name": "Python 3 (ipykernel)",
   "language": "python",
   "name": "python3"
  },
  "language_info": {
   "codemirror_mode": {
    "name": "ipython",
    "version": 3
   },
   "file_extension": ".py",
   "mimetype": "text/x-python",
   "name": "python",
   "nbconvert_exporter": "python",
   "pygments_lexer": "ipython3",
   "version": "3.10.13"
  }
 },
 "nbformat": 4,
 "nbformat_minor": 5
}
