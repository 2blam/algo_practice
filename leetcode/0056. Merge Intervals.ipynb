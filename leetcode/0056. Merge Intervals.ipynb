{
 "cells": [
  {
   "cell_type": "markdown",
   "id": "dd11783b",
   "metadata": {},
   "source": [
    "Given an array of intervals where intervals[i] = [starti, endi], merge all overlapping intervals, and return an array of the non-overlapping intervals that cover all the intervals in the input.\n",
    "\n",
    "Example 1\n",
    "\n",
    "- Input: intervals = [[1,3],[2,6],[8,10],[15,18]]\n",
    "- Output: [[1,6],[8,10],[15,18]]\n",
    "- Explanation: Since intervals [1,3] and [2,6] overlaps, merge them into [1,6].\n",
    "\n",
    "Example 2\n",
    "- Input: intervals = [[1,4],[4,5]]\n",
    "- Output: [[1,5]]\n",
    "- Explanation: Intervals [1,4] and [4,5] are considered overlapping.\n",
    "\n",
    "Constraints:\n",
    "\n",
    "- 1 <= intervals.length <= 10^4\n",
    "- intervals[i].length == 2\n",
    "- 0 <= start_i <= end_i <= 10^4"
   ]
  },
  {
   "cell_type": "code",
   "execution_count": 1,
   "id": "037ef521",
   "metadata": {},
   "outputs": [
    {
     "name": "stdout",
     "output_type": "stream",
     "text": [
      "[[1, 6], [8, 10], [15, 18]]\n",
      "[[1, 5]]\n",
      "[[0, 4]]\n"
     ]
    }
   ],
   "source": [
    "\"\"\"\n",
    "    IDEA:\n",
    "        0) Suppose interval = [x1, x2], sort the intervals w.r.t to the x1 value\n",
    "        1) get the 1st interval \n",
    "            [x1_curr, x2_curr] = intervals[0]\n",
    "        2) scan thru the intervals from position 1 till the end of the elements\n",
    "            2.1) get the interval as position\n",
    "                 [x1, x2] = interval[i]\n",
    "            2.2) check if there is any overlap (2 cases)\n",
    "                ---        -   \n",
    "                  ---      --- \n",
    "                if x1_curr<= x1 <= x2_curr <= x2 or \n",
    "                   x1_curr <= x1 <= x2 <= x2_curr\n",
    "                    # merge\n",
    "                    x1_curr = min(x1_curr, x1)\n",
    "                    x2_curr = max(x2_curr, x2)\n",
    "                else:\n",
    "                    # no overlap, add the curr to result and assign the current interval to curr\n",
    "                    result.append([x1_curr, x2_curr])\n",
    "                    x1_curr, x2_curr = x1, x2\n",
    "        3) return result\n",
    "        \n",
    "Time complexity: O(n log n) - sorting ==> O(n log n); scan thru the list O(n); O(n log n) > O(n)\n",
    "Space compexity: O (n) - linear space to store the intervals\n",
    "\"\"\"\n",
    "\n",
    "class Solution:\n",
    "    def merge(self, intervals):\n",
    "        intervals.sort(key=lambda x: x[0])\n",
    "        result = []\n",
    "        [x1_curr, x2_curr] = intervals[0]\n",
    "        for i in range(1, len(intervals)):\n",
    "            [x1, x2] = intervals[i]\n",
    "\n",
    "            if x1_curr<= x1 <=x2_curr <= x2 or x1_curr <= x1 <= x2 <= x2_curr:\n",
    "                [x1_curr, x2_curr] = [min(x1_curr, x1), max(x2_curr, x2)]\n",
    "            else:\n",
    "                result.append([x1_curr, x2_curr])\n",
    "                [x1_curr, x2_curr] = [x1, x2]\n",
    "\n",
    "        # last checking\n",
    "        result.append([x1_curr, x2_curr])\n",
    "        \n",
    "        return result\n",
    "\n",
    "print(Solution().merge([[1,3],[2,6],[8,10],[15,18]]))\n",
    "print(Solution().merge([[1,4],[4,5]]))\n",
    "print(Solution().merge([[1,4],[0,4]]))"
   ]
  }
 ],
 "metadata": {
  "kernelspec": {
   "display_name": "Python 3 (ipykernel)",
   "language": "python",
   "name": "python3"
  },
  "language_info": {
   "codemirror_mode": {
    "name": "ipython",
    "version": 3
   },
   "file_extension": ".py",
   "mimetype": "text/x-python",
   "name": "python",
   "nbconvert_exporter": "python",
   "pygments_lexer": "ipython3",
   "version": "3.8.5"
  }
 },
 "nbformat": 4,
 "nbformat_minor": 5
}
