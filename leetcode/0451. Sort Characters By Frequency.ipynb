{
 "cells": [
  {
   "cell_type": "markdown",
   "id": "c8a843e2-b3d2-475f-bab4-64b993a5c5be",
   "metadata": {},
   "source": [
    "Given a string ```s```, sort it in __decreasing order__ based on the __frequency__ of the characters. The __frequency__ of a character is the number of times it appears in the string.\n",
    "\n",
    "Return the **sorted string**. If there are multiple answers, return any of them.\n",
    "\n",
    "### Example 1:\n",
    "```\n",
    "Input: s = \"tree\"\n",
    "Output: \"eert\"\n",
    "Explanation: 'e' appears twice while 'r' and 't' both appear once.\n",
    "So 'e' must appear before both 'r' and 't'. Therefore \"eetr\" is also a valid answer.\n",
    "```\n",
    "\n",
    "### Example 2:\n",
    "```\n",
    "Input: s = \"cccaaa\"\n",
    "Output: \"aaaccc\"\n",
    "Explanation: Both 'c' and 'a' appear three times, so both \"cccaaa\" and \"aaaccc\" are valid answers.\n",
    "Note that \"cacaca\" is incorrect, as the same characters must be together.\n",
    "```\n",
    "\n",
    "### Example 3:\n",
    "```\n",
    "Input: s = \"Aabb\"\n",
    "Output: \"bbAa\"\n",
    "Explanation: \"bbaA\" is also a valid answer, but \"Aabb\" is incorrect.\n",
    "Note that 'A' and 'a' are treated as two different characters.\n",
    "```"
   ]
  },
  {
   "cell_type": "code",
   "execution_count": 1,
   "id": "1916c384-2b73-46b5-a586-edb4b1b9f7e3",
   "metadata": {},
   "outputs": [
    {
     "name": "stdout",
     "output_type": "stream",
     "text": [
      "eetr\n",
      "cccaaa\n",
      "bbAa\n"
     ]
    }
   ],
   "source": [
    "class Solution(object):\n",
    "    def frequencySort(self, s):\n",
    "        d = {}\n",
    "        for c in s:\n",
    "            if c in d:\n",
    "                d[c] = d[c] + 1\n",
    "            else:\n",
    "                d[c] = 1\n",
    "        # sorting\n",
    "        sorted_keys = sorted(d, key=d.get, reverse=True)\n",
    "        ans = \"\"\n",
    "        for k in sorted_keys:\n",
    "            ans += str(k) * int(d[k])\n",
    "        return ans\n",
    "\n",
    "s = \"tree\"\n",
    "print(Solution().frequencySort(s))\n",
    "\n",
    "s = \"cccaaa\"\n",
    "print(Solution().frequencySort(s))\n",
    "\n",
    "s = \"Aabb\"\n",
    "print(Solution().frequencySort(s))\n",
    "\n",
    "# Time Complexity: O(n + n log n) => O(n) - n: num of characters in s\n",
    "# Space Complexity: O(n)"
   ]
  }
 ],
 "metadata": {
  "kernelspec": {
   "display_name": "Python 3 (ipykernel)",
   "language": "python",
   "name": "python3"
  },
  "language_info": {
   "codemirror_mode": {
    "name": "ipython",
    "version": 3
   },
   "file_extension": ".py",
   "mimetype": "text/x-python",
   "name": "python",
   "nbconvert_exporter": "python",
   "pygments_lexer": "ipython3",
   "version": "3.10.13"
  }
 },
 "nbformat": 4,
 "nbformat_minor": 5
}
