{
 "cells": [
  {
   "cell_type": "markdown",
   "id": "ab9baf85-4250-42b6-beba-de7d7b6c418d",
   "metadata": {},
   "source": [
    "Given a string ```s```, find the length of the longest substring without repeating characters.\n",
    "\n",
    "### Example 1:\n",
    "```\n",
    "Input: s = \"abcabcbb\"\n",
    "Output: 3\n",
    "Explanation: The answer is \"abc\", with the length of 3.\n",
    "```\n",
    "\n",
    "### Example 2:\n",
    "```\n",
    "Input: s = \"bbbbb\"\n",
    "Output: 1\n",
    "Explanation: The answer is \"b\", with the length of 1.\n",
    "```\n",
    "\n",
    "### Example 3:\n",
    "```\n",
    "Input: s = \"pwwkew\"\n",
    "Output: 3\n",
    "Explanation: The answer is \"wke\", with the length of 3.\n",
    "Notice that the answer must be a substring, \"pwke\" is a subsequence and not a substring.\n",
    "```"
   ]
  },
  {
   "cell_type": "code",
   "execution_count": 9,
   "id": "9fa2e58a-8ab4-4167-83c9-fd2272148a01",
   "metadata": {},
   "outputs": [
    {
     "name": "stdout",
     "output_type": "stream",
     "text": [
      "3\n",
      "1\n",
      "3\n"
     ]
    }
   ],
   "source": [
    "# IDEA: Sliding windows\n",
    "class Solution:\n",
    "    def lengthOfLongestSubstring(self, s: str) -> int:\n",
    "        s1 = set()\n",
    "        l = 0\n",
    "        m = 0\n",
    "        # scan character one by one\n",
    "        for r in range(len(s)):\n",
    "            while s[r] in s1:\n",
    "                s1.remove(s[l])\n",
    "                l = l + 1\n",
    "            s1.add(s[r])\n",
    "            m = max(m, r - l + 1)\n",
    "        return m\n",
    "            \n",
    "\n",
    "s = \"abcabcbb\"\n",
    "print(Solution().lengthOfLongestSubstring(s))\n",
    "\n",
    "s = \"bbbbb\"\n",
    "print(Solution().lengthOfLongestSubstring(s))\n",
    "\n",
    "s = \"pwwkew\"\n",
    "print(Solution().lengthOfLongestSubstring(s))\n",
    "\n",
    "# Time Complexity: O(n)\n",
    "# Space Complexity: O(n)"
   ]
  }
 ],
 "metadata": {
  "kernelspec": {
   "display_name": "Python 3 (ipykernel)",
   "language": "python",
   "name": "python3"
  },
  "language_info": {
   "codemirror_mode": {
    "name": "ipython",
    "version": 3
   },
   "file_extension": ".py",
   "mimetype": "text/x-python",
   "name": "python",
   "nbconvert_exporter": "python",
   "pygments_lexer": "ipython3",
   "version": "3.10.13"
  }
 },
 "nbformat": 4,
 "nbformat_minor": 5
}
