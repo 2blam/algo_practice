{
 "cells": [
  {
   "cell_type": "markdown",
   "id": "afb22635-35ee-4a0e-a19b-4e3f542e5e9f",
   "metadata": {},
   "source": [
    "Given the ```root``` of a binary tree, flatten the tree into a \"linked list\":\n",
    "\n",
    "- The \"linked list\" should use the same ```TreeNode``` class where the ```right``` child pointer points to the next node in the list and the ```left``` child pointer is always ```null```.\n",
    "- The \"linked list\" should be in the same order as a pre-order traversal of the binary tree.\n",
    "\n",
    "### Example 1\n",
    "```\n",
    "Input: root = [1,2,5,3,4,null,6]\n",
    "Output: [1,null,2,null,3,null,4,null,5,null,6]\n",
    "```\n",
    "\n",
    "### Example 2\n",
    "```\n",
    "Input: root = []\n",
    "Output: []\n",
    "```\n",
    "\n",
    "### Example 3\n",
    "```\n",
    "Input: root = [0]\n",
    "Output: [0]\n",
    "```"
   ]
  },
  {
   "cell_type": "code",
   "execution_count": 1,
   "id": "0440b99c-53eb-4f6e-8566-814bf3953921",
   "metadata": {},
   "outputs": [
    {
     "name": "stdout",
     "output_type": "stream",
     "text": [
      "1 2 3 4 5 6\n"
     ]
    }
   ],
   "source": [
    "from typing import Optional\n",
    "\n",
    "class TreeNode:\n",
    "    def __init__(self, val=0, left=None, right=None):\n",
    "        self.val = val\n",
    "        self.left = left\n",
    "        self.right = right\n",
    "        \n",
    "class Solution:\n",
    "    def flatten(self, root: Optional[TreeNode]) -> None:\n",
    "        while root:\n",
    "            # check if left exist, if not (already flatten), move to right subtree and check again\n",
    "            if root.left is None:\n",
    "                root = root.right\n",
    "                continue\n",
    "            # search for the right most node in left sub tree\n",
    "            rightmost_node = root.left\n",
    "            while rightmost_node.right:\n",
    "                rightmost_node = rightmost_node.right\n",
    "            # re-wire, connect rightmost node to right subtree\n",
    "            rightmost_node.right = root.right\n",
    "            # move the root left to right\n",
    "            root.right = root.left\n",
    "            # update the left subtree to None\n",
    "            root.left = None\n",
    "            # move to next right node, and check again\n",
    "            root = root.right \n",
    "\n",
    "r = TreeNode(1)\n",
    "r.left = TreeNode(2)\n",
    "r.left.left = TreeNode(3)\n",
    "r.left.right = TreeNode(4)\n",
    "r.right = TreeNode(5)\n",
    "r.right.right = TreeNode(6)\n",
    "\n",
    "Solution().flatten(r)\n",
    "print(r.val, \n",
    "      r.right.val, \n",
    "      r.right.right.val, \n",
    "      r.right.right.right.val, \n",
    "      r.right.right.right.right.val, \n",
    "      r.right.right.right.right.right.val\n",
    ")\n",
    "\n",
    "# Time Complexity: O(n) - n number of nodes\n",
    "# Space Complexity: O(1)"
   ]
  }
 ],
 "metadata": {
  "kernelspec": {
   "display_name": "Python 3 (ipykernel)",
   "language": "python",
   "name": "python3"
  },
  "language_info": {
   "codemirror_mode": {
    "name": "ipython",
    "version": 3
   },
   "file_extension": ".py",
   "mimetype": "text/x-python",
   "name": "python",
   "nbconvert_exporter": "python",
   "pygments_lexer": "ipython3",
   "version": "3.10.13"
  }
 },
 "nbformat": 4,
 "nbformat_minor": 5
}
