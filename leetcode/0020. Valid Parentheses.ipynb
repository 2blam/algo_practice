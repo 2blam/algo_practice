{
 "cells": [
  {
   "cell_type": "markdown",
   "id": "ebc65f12-4e5f-41c1-8d4f-ad808d5b9582",
   "metadata": {},
   "source": [
    "Given a string s containing just the characters ```'('```, ```')'```, ```'{'```, ```'}'```, ```'['``` and ```']'```, determine if the input string is valid.\n",
    "\n",
    "An input string is valid if:\n",
    "\n",
    "1. Open brackets must be closed by the same type of brackets.\n",
    "2. Open brackets must be closed in the correct order.\n",
    "3. Every close bracket has a corresponding open bracket of the same type.\n",
    "\n",
    "### Example 1:\n",
    "```\n",
    "Input: s = \"()\"\n",
    "Output: true\n",
    "```\n",
    "\n",
    "### Example 2:\n",
    "```\n",
    "Input: s = \"()[]{}\"\n",
    "Output: true\n",
    "```\n",
    "### Example 3:\n",
    "```\n",
    "Input: s = \"(]\"\n",
    "Output: false\n",
    "```"
   ]
  },
  {
   "cell_type": "code",
   "execution_count": 1,
   "id": "09078583-dc50-4b1b-9e12-52b44b8c165c",
   "metadata": {},
   "outputs": [
    {
     "name": "stdout",
     "output_type": "stream",
     "text": [
      "True\n",
      "True\n",
      "False\n"
     ]
    }
   ],
   "source": [
    "class Solution:\n",
    "    def isValid(self, s: str) -> bool:\n",
    "        d = {}\n",
    "        mapping = {}\n",
    "        mapping[')'] = '('\n",
    "        mapping[']'] = '['\n",
    "        mapping['}'] = '{'\n",
    "        \n",
    "        for e in s:\n",
    "            if e == '(' or e == '[' or e == '{':\n",
    "                d[e] = d.get(e, 0) + 1\n",
    "            elif e == ')' or e ==']' or e == '}':\n",
    "                if mapping[e] not in d:\n",
    "                    return False\n",
    "                d[mapping[e]] = d[mapping[e]] - 1\n",
    "                if d[mapping[e]] < 0:\n",
    "                    return False\n",
    "                if d[mapping[e]] == 0:\n",
    "                    del d[mapping[e]]\n",
    "        # any item left?\n",
    "        if len(d.keys()) != 0:\n",
    "            return False\n",
    "        return True\n",
    "                    \n",
    "\n",
    "s = \"()\"\n",
    "print(Solution().isValid(s))\n",
    "\n",
    "s = \"()[]{}\"\n",
    "print(Solution().isValid(s))\n",
    "\n",
    "s = \"(]\"\n",
    "print(Solution().isValid(s))\n",
    "\n",
    "# Time Complexity: O(n)\n",
    "# Space Complexity: O(c) - different number of opening braces in string s"
   ]
  },
  {
   "cell_type": "code",
   "execution_count": 2,
   "id": "c53f01e5-291e-4ead-bfc8-9ddffabe99a3",
   "metadata": {},
   "outputs": [
    {
     "name": "stdout",
     "output_type": "stream",
     "text": [
      "True\n",
      "True\n",
      "False\n"
     ]
    }
   ],
   "source": [
    "class Solution:\n",
    "    def isValid(self, s: str) -> bool:\n",
    "        stack = []\n",
    "        mapping = {}\n",
    "        mapping[')'] = '('\n",
    "        mapping[']'] = '['\n",
    "        mapping['}'] = '{'\n",
    "        \n",
    "        for e in s:\n",
    "            if e == '(' or e == '[' or e == '{':\n",
    "                stack.append(e)\n",
    "            else:\n",
    "                if len(stack) > 0:\n",
    "                    o = stack.pop()\n",
    "                    if mapping[e] != o: return False\n",
    "                else:\n",
    "                    return False\n",
    "        return not stack\n",
    "                    \n",
    "\n",
    "s = \"()\"\n",
    "print(Solution().isValid(s))\n",
    "\n",
    "s = \"()[]{}\"\n",
    "print(Solution().isValid(s))\n",
    "\n",
    "s = \"(]\"\n",
    "print(Solution().isValid(s))\n",
    "\n",
    "# Time Complexity: O(n)\n",
    "# Space Complexity: O(c) - different number of opening braces in string s"
   ]
  }
 ],
 "metadata": {
  "kernelspec": {
   "display_name": "Python 3 (ipykernel)",
   "language": "python",
   "name": "python3"
  },
  "language_info": {
   "codemirror_mode": {
    "name": "ipython",
    "version": 3
   },
   "file_extension": ".py",
   "mimetype": "text/x-python",
   "name": "python",
   "nbconvert_exporter": "python",
   "pygments_lexer": "ipython3",
   "version": "3.10.13"
  }
 },
 "nbformat": 4,
 "nbformat_minor": 5
}
