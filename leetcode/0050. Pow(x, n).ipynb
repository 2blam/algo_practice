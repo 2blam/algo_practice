{
 "cells": [
  {
   "cell_type": "markdown",
   "id": "3db01816",
   "metadata": {},
   "source": [
    "Implement pow(x, n), which calculates x raised to the power n (i.e., x^n).\n",
    "\n",
    "Example 1:\n",
    "\n",
    "Input: x = 2.00000, n = 10\n",
    "    \n",
    "Output: 1024.00000\n",
    "    \n",
    "Example 2:\n",
    "\n",
    "Input: x = 2.10000, n = 3\n",
    "    \n",
    "Output: 9.26100\n",
    "    \n",
    "Example 3:\n",
    "\n",
    "Input: x = 2.00000, n = -2\n",
    "    \n",
    "Output: 0.25000\n",
    "    \n",
    "Explanation: 2^-2 = 1/2^2 = 1/4 = 0.25\n",
    "    \n",
    "Constraints:\n",
    "\n",
    "-100.0 < x < 100.0\n",
    "\n",
    "-231 <= n <= 231-1\n",
    "\n",
    "-104 <= xn <= 104"
   ]
  },
  {
   "cell_type": "code",
   "execution_count": 1,
   "id": "81576526",
   "metadata": {},
   "outputs": [
    {
     "name": "stdout",
     "output_type": "stream",
     "text": [
      "1024\n",
      "9.261000000000001\n",
      "0.25\n",
      "100000000.0\n"
     ]
    }
   ],
   "source": [
    "\"\"\"\n",
    "    IDEA: divide and conquer approach\n",
    "    Example:\n",
    "        2 ^ 10 => 2 ^ 5 * 2 ^ 5\n",
    "                  2 ^ 5 => 2 * (2 ^ 2 * 2 ^ 2)\n",
    "                                2 ^ 2 => 2 * 2\n",
    "                                             2 => 2 * 2^0 => 2 * 1 \n",
    "        base case:\n",
    "            x = 0 ==> return 0\n",
    "            n = 0 ==> return 1\n",
    "        special case:\n",
    "            if n is odd, have to multply 2 with the result\n",
    "            if n is negative, calculate the result first and then return 1 / result\n",
    "            \n",
    "    Note:\n",
    "        I used while loop to handle this question for the 1st trial and cannot pass then last test case\n",
    "        due to long running time\n",
    "        \n",
    "Time Complexity: O(log_2 n) - Every time we call the helper function, n is reduced by half. At most O(log_2 n) computations.\n",
    "\n",
    "Space complexity: O(log_2 n) - In each computation, we need to store the result X^(n/2), as we need to perforn O(log_2 n) computation, \n",
    "thus, the space complexity is the same as O(log_2 n)\n",
    "\"\"\"\n",
    "class Solution:\n",
    "    def myPow(self, x: float, n: int) -> float:\n",
    "        # recursive helper function\n",
    "        def helper(x, n):\n",
    "            if x == 0: #base case 1\n",
    "                return 0\n",
    "            if n == 0: #base case 2\n",
    "                return 1\n",
    "\n",
    "            r = helper(x, n//2) \n",
    "            r = r * r\n",
    "            return r if n % 2 == 0 else x * r\n",
    "\n",
    "        r = helper(x, abs(n))\n",
    "        \n",
    "        return r if n > 0 else 1 / r\n",
    "    \n",
    "print(Solution().myPow(2, 10))\n",
    "\n",
    "print(Solution().myPow(2.1, 3))\n",
    "\n",
    "print(Solution().myPow(2, -2))\n",
    "\n",
    "print(Solution().myPow(0.0001, -2))"
   ]
  }
 ],
 "metadata": {
  "kernelspec": {
   "display_name": "Python 3 (ipykernel)",
   "language": "python",
   "name": "python3"
  },
  "language_info": {
   "codemirror_mode": {
    "name": "ipython",
    "version": 3
   },
   "file_extension": ".py",
   "mimetype": "text/x-python",
   "name": "python",
   "nbconvert_exporter": "python",
   "pygments_lexer": "ipython3",
   "version": "3.8.5"
  }
 },
 "nbformat": 4,
 "nbformat_minor": 5
}
