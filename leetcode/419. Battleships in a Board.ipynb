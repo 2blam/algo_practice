{
 "cells": [
  {
   "cell_type": "markdown",
   "id": "03c0cabf-7e40-4787-a31e-27aa0a192cec",
   "metadata": {},
   "source": [
    "Given an 2D board, count how many battleships are in it. The battleships are represented with 'X's, empty slots are represented with '.'s. You may assume the following rules:\n",
    "- You receive a valid board, made of only battleships or empty slots.\n",
    "- Battleships can only be placed horizontally or vertically. In other words, they can only be made of the shape 1xN (1 row, N columns) or Nx1 (N rows, 1 column), where N can be of any size.\n",
    "- At least one horizontal or vertical cell separates between two battleships - there are no adjacent battleships.\n",
    "\n",
    "### Example:\n",
    "```\n",
    "X..X\n",
    "...X\n",
    "...X\n",
    "```\n",
    "\n",
    "In the above board there are 2 battleships.\n",
    "\n",
    "### Invalid Example:\n",
    "```\n",
    "...X\n",
    "XXXX\n",
    "...X\n",
    "```\n",
    "This is an invalid board that you will not receive - as battleships will always have a cell separating between them.\n",
    "\n",
    "### Follow up:\n",
    "Could you do it in one-pass, using only O(1) extra memory and without modifying the value of the board?\n"
   ]
  },
  {
   "cell_type": "code",
   "execution_count": 1,
   "id": "24c48083-cf76-4911-9812-90bffb3bffd3",
   "metadata": {},
   "outputs": [
    {
     "data": {
      "text/plain": [
       "2"
      ]
     },
     "execution_count": 1,
     "metadata": {},
     "output_type": "execute_result"
    }
   ],
   "source": [
    "### Use DFS - Flood Fill\n",
    "\n",
    "class Solution(object):\n",
    "    def dfs(self, board, x, y, w, h):\n",
    "            board[x][y] = '.' ## update \n",
    "            # check the direction\n",
    "            #for d in [(-1, 0), (1, 0), (0, -1), (0, 1)]:\n",
    "            for d in [(1, 0), (0, 1)]: # only need to visit right / down \n",
    "                new_x = x + d[0]\n",
    "                new_y = y + d[1]\n",
    "                # checking\n",
    "                if 0 <= new_x < w and 0 <= new_y < h and board[new_x][new_y] == 'X':\n",
    "                    self.dfs(board, new_x, new_y, w, h) # flood\n",
    "        \n",
    "    def countBattleships(self, board):\n",
    "        w, h = len(board), len(board[0])\n",
    "        \n",
    "        ans = 0\n",
    "        for x in range(w):\n",
    "            for y in range(h):\n",
    "                if board[x][y] == 'X':\n",
    "                    ans += 1\n",
    "                    self.dfs(board, x, y, w, h)\n",
    "        return ans\n",
    "\n",
    "### Test\n",
    "board = [['X', '.', '.', 'X'],\n",
    "        ['.', '.', '.', 'X'],\n",
    "        ['.', '.', '.', 'X']]\n",
    "\n",
    "Solution().countBattleships(board)\n",
    "\n",
    "### Time Complexity: O(h * w)\n",
    "### Space Complexity: O(1) # reusing the board memory"
   ]
  },
  {
   "cell_type": "code",
   "execution_count": 2,
   "id": "d73ba8dd-c843-4e9f-91de-6fe84cc693b2",
   "metadata": {},
   "outputs": [
    {
     "data": {
      "text/plain": [
       "2"
      ]
     },
     "execution_count": 2,
     "metadata": {},
     "output_type": "execute_result"
    }
   ],
   "source": [
    "### Approach 2: O(1), without modifiying the board memory\n",
    "### IDEA\n",
    "###   - Visiting from top left to right, and then move to next row\n",
    "###   - if it is a \"head\" of the ship, then there is a chance that 'X' on the right OR at the bottom\n",
    "###   - In other words, during visiting\n",
    "###     - if it is 'X'\n",
    "###       - there is 'X' on its left or at the top, then that mean we visited / tracked ==> do nothing\n",
    "###       - there is '.'  on its left or at the top, then that mean we found the 'head' ==> increment count by 1\n",
    "###     - if it is '.', then do nothing\n",
    "###\n",
    "### NOTE: 1) pay attention about the first row\n",
    "###       2) we can focus on \"head\" situation and remove all the rest of the checking\n",
    "### \n",
    "\n",
    "class Solution(object):\n",
    "    def countBattleships(self, board):\n",
    "        w, h = len(board), len(board[0])\n",
    "        ans = 0\n",
    "        for x in range(w):\n",
    "            for y in range(h):\n",
    "                if board[x][y] == 'X':\n",
    "                    # if 0 <= x -1 < w and board[x-1][y] == 'X': # visited\n",
    "                    #     continue\n",
    "                    # if 0 <= y -1 < h and board[x][y-1] == 'X': # visited\n",
    "                    #     continue\n",
    "                    if (x == 0 or board[x-1][y] == '.') and (y == 0 or board[x][y-1] == '.'): # head\n",
    "                        ans +=1\n",
    "                # else:\n",
    "                #     continue\n",
    "        return ans\n",
    "\n",
    "### Test\n",
    "board = [['X', '.', '.', 'X'],\n",
    "        ['.', '.', '.', 'X'],\n",
    "        ['.', '.', '.', 'X']]\n",
    "\n",
    "Solution().countBattleships(board)\n",
    "\n",
    "### Time Complexity: O(h * w)\n",
    "### Space Complexity: O(1) # without modifying the value of the board"
   ]
  }
 ],
 "metadata": {
  "kernelspec": {
   "display_name": "Python 3 (ipykernel)",
   "language": "python",
   "name": "python3"
  },
  "language_info": {
   "codemirror_mode": {
    "name": "ipython",
    "version": 3
   },
   "file_extension": ".py",
   "mimetype": "text/x-python",
   "name": "python",
   "nbconvert_exporter": "python",
   "pygments_lexer": "ipython3",
   "version": "3.10.13"
  }
 },
 "nbformat": 4,
 "nbformat_minor": 5
}
