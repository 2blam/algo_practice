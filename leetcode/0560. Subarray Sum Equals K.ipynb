{
 "cells": [
  {
   "cell_type": "markdown",
   "id": "e73fed7f-e043-4196-a551-dcab1e61485d",
   "metadata": {},
   "source": [
    "Given an array of integers ```nums``` and an integer ```k```, return the total number of subarrays whose sum equals to ```k```.\n",
    "\n",
    "A subarray is a contiguous non-empty sequence of elements within an array.\n",
    "\n",
    "### Example 1:\n",
    "```\n",
    "Input: nums = [1,1,1], k = 2\n",
    "Output: 2\n",
    "```\n",
    "\n",
    "### Example 2:\n",
    "```\n",
    "Input: nums = [1,2,3], k = 3\n",
    "Output: 2\n",
    "```"
   ]
  },
  {
   "cell_type": "code",
   "execution_count": 11,
   "id": "1779304a-55b5-462b-923b-f171ab8baab6",
   "metadata": {},
   "outputs": [
    {
     "name": "stdout",
     "output_type": "stream",
     "text": [
      "2\n",
      "2\n",
      "1\n"
     ]
    }
   ],
   "source": [
    "# IDEA:\n",
    "# - scan from the 1st element till the end\n",
    "# - for each element\n",
    "#      increment the total sum by element value\n",
    "#      if sum - k found in dict, increment the counter\n",
    "#      add the sum into dict\n",
    "# - return counter\n",
    "class Solution:\n",
    "    def subarraySum(self, nums: list[int], k: int) -> int:\n",
    "        counter = 0\n",
    "        sum = 0\n",
    "        d = {0: 1} # difference == 0, increment counter by 1\n",
    "        for e in nums:\n",
    "            sum = sum + e\n",
    "            if (sum - k) in d:\n",
    "                counter = counter + 1\n",
    "            d[sum] = 1\n",
    "        return counter\n",
    "                \n",
    "\n",
    "\n",
    "\n",
    "nums = [1,1,1]\n",
    "k = 2\n",
    "print(Solution().subarraySum(nums, k))\n",
    "\n",
    "nums = [1,2,3]\n",
    "k = 3\n",
    "print(Solution().subarraySum(nums, k))\n",
    "\n",
    "nums = [3, 4, -1, 2, 1]\n",
    "k = 5\n",
    "print(Solution().subarraySum(nums, k))"
   ]
  },
  {
   "cell_type": "code",
   "execution_count": null,
   "id": "75f0d40a-c8bb-4535-a4ad-a0d163d9851e",
   "metadata": {},
   "outputs": [],
   "source": []
  }
 ],
 "metadata": {
  "kernelspec": {
   "display_name": "Python 3 (ipykernel)",
   "language": "python",
   "name": "python3"
  },
  "language_info": {
   "codemirror_mode": {
    "name": "ipython",
    "version": 3
   },
   "file_extension": ".py",
   "mimetype": "text/x-python",
   "name": "python",
   "nbconvert_exporter": "python",
   "pygments_lexer": "ipython3",
   "version": "3.10.13"
  }
 },
 "nbformat": 4,
 "nbformat_minor": 5
}
