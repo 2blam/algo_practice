{
 "cells": [
  {
   "cell_type": "markdown",
   "id": "7ed4b65a-6a8e-43bf-a1d4-35579dd2a5f2",
   "metadata": {},
   "source": [
    "Given two strings ```s``` and ```t```, determine if they are isomorphic.\n",
    "\n",
    "Two strings ```s``` and ```t``` are isomorphic if the characters in ```s``` can be replaced to get ```t```.\n",
    "\n",
    "All occurrences of a character must be replaced with another character while preserving the order of characters. No two characters may map to the same character, but a character may map to itself.\n",
    "\n",
    "### Example 1:\n",
    "```\n",
    "Input: s = \"egg\", t = \"add\"\n",
    "Output: true\n",
    "```\n",
    "\n",
    "### Example 2:\n",
    "```\n",
    "Input: s = \"foo\", t = \"bar\"\n",
    "Output: false\n",
    "```\n",
    "\n",
    "### Example 3:\n",
    "```\n",
    "Input: s = \"paper\", t = \"title\"\n",
    "Output: true\n",
    "```"
   ]
  },
  {
   "cell_type": "code",
   "execution_count": 1,
   "id": "6a402866-8a75-42f2-999f-44b692512757",
   "metadata": {},
   "outputs": [
    {
     "name": "stdout",
     "output_type": "stream",
     "text": [
      "True\n",
      "False\n",
      "True\n"
     ]
    }
   ],
   "source": [
    "# IDEA:\n",
    "#  - using 2 hashmap (dictionary)\n",
    "#    - one tracking S > T mapping and one for T > S mapping\n",
    "#    - for each character c in s and t, \n",
    "#       - check if the key exist, if yes, check if the value is equal to c \n",
    "#       - if not, return False\n",
    "#       - otherwise, assign to hashmap, continue\n",
    "\n",
    "class Solution:\n",
    "    def isIsomorphic(self, s: str, t: str) -> bool:\n",
    "        d_st, d_ts = {}, {}\n",
    "        for i in range(len(s)):\n",
    "            c1, c2 = s[i], t[i]\n",
    "            # checking\n",
    "            if (c1 in d_st and d_st[c1] != c2) or (c2 in d_ts and d_ts[c2] != c1):\n",
    "                return False\n",
    "            else:\n",
    "                d_st[c1] = c2\n",
    "                d_ts[c2] = c1\n",
    "                \n",
    "        return True\n",
    "    \n",
    "\n",
    "s = \"egg\"\n",
    "t = \"add\"\n",
    "print(Solution().isIsomorphic(s, t))\n",
    "\n",
    "s = \"foo\"\n",
    "t = \"bar\"\n",
    "print(Solution().isIsomorphic(s, t))\n",
    "\n",
    "s = \"paper\"\n",
    "t = \"title\"\n",
    "print(Solution().isIsomorphic(s, t))"
   ]
  }
 ],
 "metadata": {
  "kernelspec": {
   "display_name": "Python 3 (ipykernel)",
   "language": "python",
   "name": "python3"
  },
  "language_info": {
   "codemirror_mode": {
    "name": "ipython",
    "version": 3
   },
   "file_extension": ".py",
   "mimetype": "text/x-python",
   "name": "python",
   "nbconvert_exporter": "python",
   "pygments_lexer": "ipython3",
   "version": "3.10.13"
  }
 },
 "nbformat": 4,
 "nbformat_minor": 5
}
