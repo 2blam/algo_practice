{
 "cells": [
  {
   "cell_type": "markdown",
   "id": "93b622f1-ea46-4523-8c1d-12a14846bd18",
   "metadata": {},
   "source": [
    "Given n pairs of parentheses, write a function to generate all combinations of well-formed parentheses.\n",
    "\n",
    "### Example 1:\n",
    "```\n",
    "Input: n = 3\n",
    "Output: [\"((()))\",\"(()())\",\"(())()\",\"()(())\",\"()()()\"]\n",
    "```\n",
    "\n",
    "### Example 2:\n",
    "```\n",
    "Input: n = 1\n",
    "Output: [\"()\"]\n",
    "```"
   ]
  },
  {
   "cell_type": "code",
   "execution_count": 1,
   "id": "0171518f-a338-4529-9aa9-96d8807ea8a6",
   "metadata": {},
   "outputs": [
    {
     "name": "stdout",
     "output_type": "stream",
     "text": [
      "['((()))', '(()())', '(())()', '()(())', '()()()']\n",
      "['()']\n"
     ]
    }
   ],
   "source": [
    "# DFS: Recursive\n",
    "# left, right, n, ans\n",
    "class Solution:\n",
    "    def helper(self, left, right, n, ans, lst_result):\n",
    "        if left > n or right > n or left < right:\n",
    "            return\n",
    "        if left == n and right == n:\n",
    "            lst_result.append(ans)\n",
    "        self.helper(left+1, right, n, ans + \"(\", lst_result)\n",
    "        self.helper(left, right+1, n, ans + \")\", lst_result)\n",
    "        \n",
    "\n",
    "    def generateParenthesis(self, n: int) -> list[str]:\n",
    "        lst_result = []\n",
    "        self.helper(0, 0, n, \"\", lst_result)\n",
    "\n",
    "        return lst_result\n",
    "\n",
    "n = 3\n",
    "print(Solution().generateParenthesis(n))\n",
    "\n",
    "n = 1\n",
    "print(Solution().generateParenthesis(n))\n",
    "\n",
    "# Time Complexity: O(4^n / sqrt(n))\n",
    "# Space Complexity: O(n)"
   ]
  }
 ],
 "metadata": {
  "kernelspec": {
   "display_name": "Python 3 (ipykernel)",
   "language": "python",
   "name": "python3"
  },
  "language_info": {
   "codemirror_mode": {
    "name": "ipython",
    "version": 3
   },
   "file_extension": ".py",
   "mimetype": "text/x-python",
   "name": "python",
   "nbconvert_exporter": "python",
   "pygments_lexer": "ipython3",
   "version": "3.10.13"
  }
 },
 "nbformat": 4,
 "nbformat_minor": 5
}
