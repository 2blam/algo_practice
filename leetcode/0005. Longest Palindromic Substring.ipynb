{
 "cells": [
  {
   "cell_type": "markdown",
   "id": "1f89c2c7-17e2-4211-bda1-cacb51ebe998",
   "metadata": {},
   "source": [
    "Given a string ```s```, return the longest palindromic substring in ```s```.\n",
    "\n",
    "### Example 1\n",
    "```\n",
    "Input: s = \"babad\"\n",
    "Output: \"bab\"\n",
    "Explanation: \"aba\" is also a valid answer.\n",
    "```\n",
    "\n",
    "### Example 2\n",
    "```\n",
    "Input: s = \"cbbd\"\n",
    "Output: \"bb\"\n",
    "```"
   ]
  },
  {
   "cell_type": "code",
   "execution_count": 5,
   "id": "e0ffba7b-32e0-46d0-8c91-f74326584a3b",
   "metadata": {},
   "outputs": [
    {
     "name": "stdout",
     "output_type": "stream",
     "text": [
      "bab\n",
      "bb\n"
     ]
    }
   ],
   "source": [
    "# Good reference: https://www.youtube.com/watch?v=E-tmN1OM9aA&t=8s\n",
    "\n",
    "class Solution(object):\n",
    "    def expand(self, l, r, s):\n",
    "        while l >= 0 and r < len(s) and s[l] == s[r]: # within boundary, char values are the same\n",
    "            l, r = l-1, r+1 # update the position\n",
    "        return s[(l+1):r]\n",
    "        \n",
    "        \n",
    "    def longestPalindrome(self, s):\n",
    "        result = \"\"\n",
    "        for i in range(len(s)):\n",
    "            # assume odd num of chars in palindromic\n",
    "            sub1 = self.expand(i, i, s)\n",
    "            if len(sub1) > len(result):\n",
    "                result = sub1\n",
    "            # assume even num of chars in palindromic\n",
    "            sub2 = self.expand(i, i+1, s)\n",
    "            if len(sub2) > len(result):\n",
    "                result = sub2\n",
    "        return result\n",
    "\n",
    "s=\"babad\"\n",
    "print(Solution().longestPalindrome(s))\n",
    "\n",
    "s=\"cbbd\"\n",
    "print(Solution().longestPalindrome(s))\n",
    "\n",
    "# Time Complexity: O(n^2)\n",
    "# Space Complexity: O(1)"
   ]
  }
 ],
 "metadata": {
  "kernelspec": {
   "display_name": "Python 3 (ipykernel)",
   "language": "python",
   "name": "python3"
  },
  "language_info": {
   "codemirror_mode": {
    "name": "ipython",
    "version": 3
   },
   "file_extension": ".py",
   "mimetype": "text/x-python",
   "name": "python",
   "nbconvert_exporter": "python",
   "pygments_lexer": "ipython3",
   "version": "3.10.13"
  }
 },
 "nbformat": 4,
 "nbformat_minor": 5
}
