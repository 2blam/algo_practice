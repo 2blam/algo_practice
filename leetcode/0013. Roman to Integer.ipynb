{
 "cells": [
  {
   "cell_type": "markdown",
   "id": "c04008c9-ac68-40a1-beb2-e5f201f4d811",
   "metadata": {},
   "source": [
    "Roman numerals are represented by seven different symbols: I, V, X, L, C, D and M.\n",
    "\n",
    "| Symbol | Value |\n",
    "|--------|-------|\n",
    "| I      | 1     |\n",
    "| V      | 5     |\n",
    "| X      | 10    |\n",
    "| L      | 50    |\n",
    "| C      | 100   |\n",
    "| D      | 500   |\n",
    "| M      | 1000  |\n",
    "\n",
    "For example,```2``` is written as ```II``` in Roman numeral, just two ones added together. ```12``` is written as ```XII```, which is simply ```X + II```. The number ```27``` is written as ```XXVII```, which is ```XX + V + II```.\n",
    "\n",
    "Roman numerals are usually written largest to smallest from left to right. However, the numeral for four is not ```IIII```. Instead, the number four is written as ```IV```. Because the one is before the five we subtract it making four. The same principle applies to the number nine, which is written as ```IX```. There are six instances where subtraction is used:\n",
    "\n",
    "- ```I```can be placed before ```V``` (5) and ```X``` (10) to make 4 and 9. \n",
    "- ```X``` can be placed before ```L``` (50) and ```C``` (100) to make 40 and 90. \n",
    "- ```C``` can be placed before ```D``` (500) and ```M``` (1000) to make 400 and 900.\n",
    "Given a roman numeral, convert it to an integer."
   ]
  },
  {
   "cell_type": "code",
   "execution_count": 1,
   "id": "78c841ef-195d-45e9-ba6c-29ea7961255d",
   "metadata": {},
   "outputs": [
    {
     "name": "stdout",
     "output_type": "stream",
     "text": [
      "3\n",
      "58\n",
      "1994\n"
     ]
    }
   ],
   "source": [
    "class Solution(object):\n",
    "    def romanToInt(self, s):\n",
    "        mapping = {\n",
    "            'I': 1,\n",
    "            'V': 5,\n",
    "            'X': 10,\n",
    "            'L': 50,\n",
    "            'C': 100,\n",
    "            'D': 500,\n",
    "            'M': 1000\n",
    "        }\n",
    "\n",
    "        ans = mapping[s[-1]] # get the leftmost character first\n",
    "        for i in range(len(s)-2, -1, -1):\n",
    "            # check if the current is less than the next one\n",
    "            curr = mapping[s[i]]\n",
    "            next = mapping[s[i+1]]\n",
    "            if curr < next: # if current positive value is smaller than next position, subtraction\n",
    "                ans -= curr \n",
    "            else:\n",
    "                ans += curr\n",
    "            \n",
    "        return ans\n",
    "\n",
    "print(Solution().romanToInt(\"III\"))\n",
    "print(Solution().romanToInt(\"LVIII\"))\n",
    "print(Solution().romanToInt(\"MCMXCIV\"))\n",
    "\n",
    "# Time Complexity: O(len(s))\n",
    "# Space Complexity: O(1) "
   ]
  }
 ],
 "metadata": {
  "kernelspec": {
   "display_name": "Python 3 (ipykernel)",
   "language": "python",
   "name": "python3"
  },
  "language_info": {
   "codemirror_mode": {
    "name": "ipython",
    "version": 3
   },
   "file_extension": ".py",
   "mimetype": "text/x-python",
   "name": "python",
   "nbconvert_exporter": "python",
   "pygments_lexer": "ipython3",
   "version": "3.10.13"
  }
 },
 "nbformat": 4,
 "nbformat_minor": 5
}
