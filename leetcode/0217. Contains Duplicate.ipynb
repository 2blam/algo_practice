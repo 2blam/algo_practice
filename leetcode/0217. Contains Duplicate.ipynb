{
 "cells": [
  {
   "cell_type": "markdown",
   "id": "3ba14c12-3066-4e87-a19b-0240cf6a7709",
   "metadata": {},
   "source": [
    "Given an integer array ```nums```, return ```true``` if any value appears at least twice in the array, and return ```false``` if every element is distinct.\n",
    "\n",
    "### Example 1:\n",
    "```\n",
    "Input: nums = [1,2,3,1]\n",
    "Output: true\n",
    "```\n",
    "\n",
    "### Example 2:\n",
    "```\n",
    "Input: nums = [1,2,3,4]\n",
    "Output: false\n",
    "```\n",
    "\n",
    "### Example 3:\n",
    "```\n",
    "Input: nums = [1,1,1,3,3,4,3,2,4,2]\n",
    "Output: true\n",
    "```"
   ]
  },
  {
   "cell_type": "code",
   "execution_count": 5,
   "id": "44e9b1e5-f99e-4124-af44-24ff695c4782",
   "metadata": {},
   "outputs": [
    {
     "name": "stdout",
     "output_type": "stream",
     "text": [
      "True\n",
      "False\n",
      "True\n"
     ]
    }
   ],
   "source": [
    "class Solution:\n",
    "    def containsDuplicate(self, nums: list[int]) -> bool:\n",
    "        s = set()\n",
    "        for e in nums:\n",
    "            if e in s:\n",
    "                return True\n",
    "            s.add(e)\n",
    "        return False\n",
    "\n",
    "nums = [1,2,3,1]\n",
    "print(Solution().containsDuplicate(nums))\n",
    "\n",
    "nums = [1,2,3,4]\n",
    "print(Solution().containsDuplicate(nums))\n",
    "\n",
    "nums = [1,1,1,3,3,4,3,2,4,2]\n",
    "print(Solution().containsDuplicate(nums))\n",
    "\n",
    "# Time Complexity: O(n)\n",
    "# Space Complexity: O(n)"
   ]
  }
 ],
 "metadata": {
  "kernelspec": {
   "display_name": "Python 3 (ipykernel)",
   "language": "python",
   "name": "python3"
  },
  "language_info": {
   "codemirror_mode": {
    "name": "ipython",
    "version": 3
   },
   "file_extension": ".py",
   "mimetype": "text/x-python",
   "name": "python",
   "nbconvert_exporter": "python",
   "pygments_lexer": "ipython3",
   "version": "3.10.13"
  }
 },
 "nbformat": 4,
 "nbformat_minor": 5
}
