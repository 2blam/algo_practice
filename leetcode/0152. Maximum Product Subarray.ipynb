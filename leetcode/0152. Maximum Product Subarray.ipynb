{
 "cells": [
  {
   "cell_type": "markdown",
   "id": "0df8eec5-f1ef-4e23-b8d2-a3d1e9fa846c",
   "metadata": {},
   "source": [
    "Given an integer array ```nums```, find a subarray that has the largest product, and return the product.\n",
    "\n",
    "The test cases are generated so that the answer will fit in a 32-bit integer.\n",
    "\n",
    "### Example 1:\n",
    "```\n",
    "Input: nums = [2,3,-2,4]\n",
    "Output: 6\n",
    "Explanation: [2,3] has the largest product 6.\n",
    "```\n",
    "\n",
    "### Example 2:\n",
    "```\n",
    "Input: nums = [-2,0,-1]\n",
    "Output: 0\n",
    "Explanation: The result cannot be 2, because [-2,-1] is not a subarray.\n",
    "```"
   ]
  },
  {
   "cell_type": "code",
   "execution_count": 1,
   "id": "948a7237-d609-4854-9942-481514cf62bc",
   "metadata": {},
   "outputs": [
    {
     "name": "stdout",
     "output_type": "stream",
     "text": [
      "4\n",
      "0\n"
     ]
    }
   ],
   "source": [
    "### IDEA\n",
    "### as multiplication: +ve * +ve = +ve; +ve * -ve = -ve ; -ve * -ve = +ve\n",
    "### 3 approaches to get the min and max \n",
    "### - curr number\n",
    "### - curr number * prev maximum\n",
    "### - curr number * prev minimum\n",
    "\n",
    "class Solution:\n",
    "    def maxProduct(self, nums: list[int]) -> int:\n",
    "        max_product, prev_max, prev_min = nums[0], nums[0], nums[0]\n",
    "    \n",
    "        for curr_num in nums[1:]:\n",
    "            tmp_max = curr_num * prev_max\n",
    "            tmp_min = curr_num * prev_min\n",
    "\n",
    "            prev_max = max(curr_num, tmp_max, tmp_min)\n",
    "            prev_min = min(curr_num, tmp_max, tmp_min)\n",
    "\n",
    "            max_product = max(max_product, prev_max)\n",
    "            \n",
    "            \n",
    "\n",
    "        return prev_max\n",
    "            \n",
    "\n",
    "nums = [2,3,-2,4]\n",
    "print(Solution().maxProduct(nums))\n",
    "\n",
    "nums = [-2,0,-1]\n",
    "print(Solution().maxProduct(nums))\n",
    "\n",
    "### Time Complexity: O(n)\n",
    "### Space Complexity: O(1)"
   ]
  }
 ],
 "metadata": {
  "kernelspec": {
   "display_name": "Python 3 (ipykernel)",
   "language": "python",
   "name": "python3"
  },
  "language_info": {
   "codemirror_mode": {
    "name": "ipython",
    "version": 3
   },
   "file_extension": ".py",
   "mimetype": "text/x-python",
   "name": "python",
   "nbconvert_exporter": "python",
   "pygments_lexer": "ipython3",
   "version": "3.10.13"
  }
 },
 "nbformat": 4,
 "nbformat_minor": 5
}
