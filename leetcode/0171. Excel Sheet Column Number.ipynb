{
 "cells": [
  {
   "cell_type": "markdown",
   "id": "9f725dc6-813f-48e4-877d-febc8094057b",
   "metadata": {},
   "source": [
    "Given a string ```columnTitle``` that represents the column title as appears in an Excel sheet, return its corresponding column number.\n",
    "\n",
    "For example:\n",
    "```\n",
    "A -> 1\n",
    "B -> 2\n",
    "C -> 3\n",
    "...\n",
    "Z -> 26\n",
    "AA -> 27\n",
    "AB -> 28 \n",
    "...\n",
    "```\n",
    "\n",
    "### Example 1:\n",
    "```\n",
    "Input: columnTitle = \"A\"\n",
    "Output: 1\n",
    "```\n",
    "\n",
    "### Example 2:\n",
    "```\n",
    "Input: columnTitle = \"AB\"\n",
    "Output: 28\n",
    "```\n",
    "### Example 3:\n",
    "```\n",
    "Input: columnTitle = \"ZY\"\n",
    "Output: 701\n",
    "```"
   ]
  },
  {
   "cell_type": "code",
   "execution_count": 17,
   "id": "de89429e-ebe8-4f9b-a02d-ae8c65672ae4",
   "metadata": {},
   "outputs": [
    {
     "name": "stdout",
     "output_type": "stream",
     "text": [
      "1\n",
      "28\n",
      "701\n"
     ]
    }
   ],
   "source": [
    "class Solution(object):\n",
    "    def getInt(self, c):\n",
    "        return ord(c) - ord('A') + 1\n",
    "        \n",
    "    def titleToNumber(self, columnTitle):\n",
    "        # get the first leftmost char\n",
    "        ans = self.getInt(columnTitle[0])\n",
    "        for i in range(1, len(columnTitle)):\n",
    "            c = columnTitle[i]\n",
    "            ans = ans * 26 + self.getInt(c)\n",
    "        return ans\n",
    "\n",
    "columnTitle = \"A\"\n",
    "print(Solution().titleToNumber(columnTitle))\n",
    "\n",
    "columnTitle = \"AB\"\n",
    "print(Solution().titleToNumber(columnTitle))\n",
    "\n",
    "columnTitle = \"ZY\"\n",
    "print(Solution().titleToNumber(columnTitle))\n",
    "\n",
    "# Time Complexity: O(c) - c"
   ]
  }
 ],
 "metadata": {
  "kernelspec": {
   "display_name": "Python 3 (ipykernel)",
   "language": "python",
   "name": "python3"
  },
  "language_info": {
   "codemirror_mode": {
    "name": "ipython",
    "version": 3
   },
   "file_extension": ".py",
   "mimetype": "text/x-python",
   "name": "python",
   "nbconvert_exporter": "python",
   "pygments_lexer": "ipython3",
   "version": "3.10.13"
  }
 },
 "nbformat": 4,
 "nbformat_minor": 5
}
