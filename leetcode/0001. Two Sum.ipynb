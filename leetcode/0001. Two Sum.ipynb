{
 "cells": [
  {
   "cell_type": "markdown",
   "id": "c0f5ab86-c497-4148-893e-33ccc12eddb7",
   "metadata": {},
   "source": [
    "Given an array of integers ```nums``` and an integer ```target```, return indices of the two numbers such that they add up to ```target```.\n",
    "\n",
    "You may assume that each input would have exactly one solution, and you may not use the same element twice.\n",
    "\n",
    "You can return the answer in any order.\n",
    "\n",
    "### Example 1\n",
    "```\n",
    "Input: nums = [2,7,11,15], target = 9\n",
    "Output: [0,1]\n",
    "Explanation: Because nums[0] + nums[1] == 9, we return [0, 1].\n",
    "```\n",
    "### Example 2\n",
    "```\n",
    "Input: nums = [3,2,4], target = 6\n",
    "Output: [1,2]\n",
    "```\n",
    "\n",
    "### Example 3:\n",
    "```\n",
    "Input: nums = [3,3], target = 6\n",
    "Output: [0,1]\n",
    "```"
   ]
  },
  {
   "cell_type": "code",
   "execution_count": 1,
   "id": "f38a4224-4248-4749-9b1e-8d8495cfd420",
   "metadata": {},
   "outputs": [
    {
     "name": "stdout",
     "output_type": "stream",
     "text": [
      "[1, 0]\n",
      "[2, 1]\n",
      "[1, 0]\n"
     ]
    }
   ],
   "source": [
    "# IDEA: using dictionary, to keep track the difference from the target\n",
    "\n",
    "class Solution:\n",
    "    def twoSum(self, nums: list[int], target: int) -> list[int]:\n",
    "        d = {}\n",
    "        for i in range(len(nums)):\n",
    "            if nums[i] in d.keys():\n",
    "                return [i, d[diff]]\n",
    "            diff = target - nums[i]\n",
    "            d[diff] = i\n",
    "\n",
    "\n",
    "\n",
    "nums = [2,7,11,15]\n",
    "target = 9      \n",
    "print(Solution().twoSum(nums, target))\n",
    "\n",
    "nums = [3,2,4]\n",
    "target = 6     \n",
    "print(Solution().twoSum(nums, target))\n",
    "\n",
    "nums = [3,3]\n",
    "target = 6     \n",
    "print(Solution().twoSum(nums, target))\n",
    "\n",
    "# Time Complexity: O(n)\n",
    "# Space Complexity: O(n)"
   ]
  }
 ],
 "metadata": {
  "kernelspec": {
   "display_name": "Python 3 (ipykernel)",
   "language": "python",
   "name": "python3"
  },
  "language_info": {
   "codemirror_mode": {
    "name": "ipython",
    "version": 3
   },
   "file_extension": ".py",
   "mimetype": "text/x-python",
   "name": "python",
   "nbconvert_exporter": "python",
   "pygments_lexer": "ipython3",
   "version": "3.10.13"
  }
 },
 "nbformat": 4,
 "nbformat_minor": 5
}
