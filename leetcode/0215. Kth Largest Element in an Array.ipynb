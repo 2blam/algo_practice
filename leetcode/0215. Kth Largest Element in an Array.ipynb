{
 "cells": [
  {
   "cell_type": "markdown",
   "id": "c592a541-d3c8-4799-baf6-f41b4c86a5fd",
   "metadata": {},
   "source": [
    "Given an integer array ```nums``` and an integer ```k```, return the ```kth``` largest element in the array.\n",
    "\n",
    "Note that it is the ```kth``` largest element in the sorted order, not the ```kth``` distinct element.\n",
    "\n",
    "Can you solve it without sorting?\n",
    "\n",
    "# Example 1\n",
    "```\n",
    "Input: nums = [3,2,1,5,6,4], k = 2\n",
    "Output: 5\n",
    "```\n",
    "\n",
    "# Example 2\n",
    "```\n",
    "Input: nums = [3,2,3,1,2,4,5,5,6], k = 4\n",
    "Output: 4\n",
    "```"
   ]
  },
  {
   "cell_type": "code",
   "execution_count": 1,
   "id": "68e64d24-d204-42c4-98dd-dc175a4aebcd",
   "metadata": {},
   "outputs": [
    {
     "name": "stdout",
     "output_type": "stream",
     "text": [
      "5\n",
      "4\n"
     ]
    }
   ],
   "source": [
    "# IDEA: Quick Select\n",
    "#\n",
    "class Solution:\n",
    "    def findKthLargest(self, nums: list[int], k: int) -> int:\n",
    "        target_idx = len(nums) - k\n",
    "        \n",
    "        def quickSelect(left_idx, right_idx):\n",
    "            p_idx = left_idx\n",
    "            for i in range(left_idx, right_idx):\n",
    "                if nums[i] <= nums[right_idx]: # swap with p index\n",
    "                    nums[p_idx], nums[i] = nums[i], nums[p_idx]\n",
    "                    p_idx += 1\n",
    "            # tidy\n",
    "            nums[p_idx], nums[right_idx] = nums[right_idx], nums[p_idx]\n",
    "\n",
    "            if p_idx > target_idx: return quickSelect(left_idx, p_idx-1) # left portion\n",
    "            elif p_idx < target_idx: return quickSelect(p_idx+1, right_idx) # right portion\n",
    "            else: # p_idx == target_idx; hit\n",
    "                return nums[target_idx]\n",
    "            \n",
    "        return quickSelect(0, len(nums)-1)           \n",
    "\n",
    "nums = [3,2,1,5,6,4]\n",
    "k = 2\n",
    "print(Solution().findKthLargest(nums, 2))\n",
    "\n",
    "nums = [3,2,3,1,2,4,5,5,6]\n",
    "k = 4\n",
    "print(Solution().findKthLargest(nums, 4))\n",
    "\n",
    "# Time Complexity: O(n) - Best; O(n) - Average; O(n^2) - Worst\n",
    "# Space Complexity: O(1)\n",
    "# Reference: https://www.youtube.com/watch?v=XEmy13g1Qxc"
   ]
  }
 ],
 "metadata": {
  "kernelspec": {
   "display_name": "Python 3 (ipykernel)",
   "language": "python",
   "name": "python3"
  },
  "language_info": {
   "codemirror_mode": {
    "name": "ipython",
    "version": 3
   },
   "file_extension": ".py",
   "mimetype": "text/x-python",
   "name": "python",
   "nbconvert_exporter": "python",
   "pygments_lexer": "ipython3",
   "version": "3.10.13"
  }
 },
 "nbformat": 4,
 "nbformat_minor": 5
}
