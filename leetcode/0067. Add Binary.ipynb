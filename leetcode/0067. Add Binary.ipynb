{
 "cells": [
  {
   "cell_type": "markdown",
   "id": "bf6e3ee2-a6a0-473a-8d25-f0f99fab3f87",
   "metadata": {},
   "source": [
    "Given two binary strings ```a``` and ```b```, return their sum as a binary string.\n",
    "\n",
    "### Example 1:\n",
    "```\n",
    "Input: a = \"11\", b = \"1\"\n",
    "Output: \"100\"\n",
    "```\n",
    "\n",
    "### Example 2:\n",
    "```\n",
    "Input: a = \"1010\", b = \"1011\"\n",
    "Output: \"10101\"\n",
    "```"
   ]
  },
  {
   "cell_type": "code",
   "execution_count": 1,
   "id": "c0ac2331-c648-4dca-928e-e2ecd4781c7d",
   "metadata": {},
   "outputs": [
    {
     "name": "stdout",
     "output_type": "stream",
     "text": [
      "100\n",
      "10101\n"
     ]
    }
   ],
   "source": [
    "class Solution:\n",
    "    def addBinary(self, a: str, b: str) -> str:\n",
    "        carry = 0\n",
    "        a_pt = len(a) - 1\n",
    "        b_pt = len(b) - 1\n",
    "        result = \"\"\n",
    "        while a_pt >= 0 or b_pt >= 0 or carry:\n",
    "            # get the element\n",
    "            a_val = int(a[a_pt]) if a_pt >= 0 else 0\n",
    "            b_val = int(b[b_pt]) if b_pt >= 0 else 0\n",
    "            carry = a_val + b_val + carry\n",
    "            if (carry) == 2:\n",
    "                result = \"0\" + result\n",
    "                carry = 1\n",
    "            else:\n",
    "                result = \"1\" + result\n",
    "                carry = 0\n",
    "             # move pointer\n",
    "            a_pt -= 1\n",
    "            b_pt -= 1\n",
    "\n",
    "        return result\n",
    "\n",
    "a = \"11\"\n",
    "b = \"1\"\n",
    "print(Solution().addBinary(a, b))\n",
    "\n",
    "a = \"1010\"\n",
    "b = \"1011\"\n",
    "print(Solution().addBinary(a, b))\n",
    "\n",
    "# Time Complexity: O(n)\n",
    "# Space Complexity: O(n)"
   ]
  }
 ],
 "metadata": {
  "kernelspec": {
   "display_name": "Python 3 (ipykernel)",
   "language": "python",
   "name": "python3"
  },
  "language_info": {
   "codemirror_mode": {
    "name": "ipython",
    "version": 3
   },
   "file_extension": ".py",
   "mimetype": "text/x-python",
   "name": "python",
   "nbconvert_exporter": "python",
   "pygments_lexer": "ipython3",
   "version": "3.10.13"
  }
 },
 "nbformat": 4,
 "nbformat_minor": 5
}
