{
 "cells": [
  {
   "cell_type": "markdown",
   "id": "bbacecb0-3e67-4d86-9fb4-663f4752dc1c",
   "metadata": {},
   "source": [
    "Given an integer array ```nums``` and an integer ```k```, return the ```k``` most frequent elements. You may return the answer in any order.\n",
    "\n",
    "### Example 1:\n",
    "```\n",
    "Input: nums = [1,1,1,2,2,3], k = 2\n",
    "Output: [1,2]\n",
    "```\n",
    "\n",
    "### Example 2:\n",
    "```\n",
    "Input: nums = [1], k = 1\n",
    "Output: [1]\n",
    "```"
   ]
  },
  {
   "cell_type": "code",
   "execution_count": null,
   "id": "4575f7e0-3460-4fbf-b4fa-9f3a987c86fd",
   "metadata": {},
   "outputs": [],
   "source": [
    "# IDEA - Bucket Sort\n",
    "# use hashmap to keep track the element value: count\n",
    "# use a list, each element also a list (size: # of elements as nums + 1)\n",
    "# scan thru the count value and use the count value as index and append the element there\n",
    "# scan thru the last elements till the beginning, for each non null elements, append to the result list\n",
    "#   if the result list == k, return it\n",
    "class Solution:\n",
    "    def topKFrequent(self, nums: list[int], k: int) -> list[int]:\n",
    "        d = {} #hashmap\n",
    "        for n in nums:\n",
    "            d[n] = 1 + d.get(n, 0)\n",
    "\n",
    "        bucket = [[] for i in range(len(nums)+1)]\n",
    "        for v, c in d.items():\n",
    "            bucket[c].append(v)\n",
    "        # print(bucket)\n",
    "        # scan from last to beginning\n",
    "        result = []\n",
    "        for i in range(len(bucket)-1, 0, -1):\n",
    "            for e in bucket[i]:\n",
    "                result.append(e)\n",
    "                if len(result) == k: return result\n",
    "                    \n",
    "nums = [1,1,1,2,2,3]\n",
    "k = 2\n",
    "print(Solution().topKFrequent(nums, k))\n",
    "\n",
    "nums = [1]\n",
    "k = 1\n",
    "print(Solution().topKFrequent(nums, k))\n",
    "\n",
    "nums = [1,1,1,2,2,2,3]\n",
    "k = 2\n",
    "print(Solution().topKFrequent(nums, k))\n",
    "\n",
    "# Time Complexity: O(n) - since we don't need to perform any sort, just scan from last element of bucket list till the beginning\n",
    "# Space Complexity: O(n)"
   ]
  }
 ],
 "metadata": {
  "kernelspec": {
   "display_name": "Python 3 (ipykernel)",
   "language": "python",
   "name": "python3"
  },
  "language_info": {
   "codemirror_mode": {
    "name": "ipython",
    "version": 3
   },
   "file_extension": ".py",
   "mimetype": "text/x-python",
   "name": "python",
   "nbconvert_exporter": "python",
   "pygments_lexer": "ipython3",
   "version": "3.10.13"
  }
 },
 "nbformat": 4,
 "nbformat_minor": 5
}
