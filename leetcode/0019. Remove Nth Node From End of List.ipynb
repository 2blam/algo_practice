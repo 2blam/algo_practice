{
 "cells": [
  {
   "cell_type": "markdown",
   "id": "19ac607d-36e3-4bb8-8261-6eba93ee194b",
   "metadata": {},
   "source": [
    "Given the ```head``` of a linked list, remove the ```nth``` node from the end of the list and return its head.\n",
    "\n",
    "### Example 1:\n",
    "```\n",
    "Input: head = [1,2,3,4,5], n = 2\n",
    "Output: [1,2,3,5]\n",
    "```\n",
    "\n",
    "### Example 2:\n",
    "```\n",
    "Input: head = [1], n = 1\n",
    "Output: []\n",
    "```\n",
    "\n",
    "### Example 3:\n",
    "```\n",
    "Input: head = [1,2], n = 1\n",
    "Output: [1]\n",
    "```"
   ]
  },
  {
   "cell_type": "code",
   "execution_count": 1,
   "id": "cce333f0-1f7b-4792-bcf5-065f97c40a78",
   "metadata": {},
   "outputs": [
    {
     "name": "stdout",
     "output_type": "stream",
     "text": [
      "1>2>3>5>\n",
      "\n",
      "1>"
     ]
    }
   ],
   "source": [
    "\n",
    "# Definition for singly-linked list.\n",
    "class ListNode:\n",
    "    def __init__(self, val=0, next=None):\n",
    "        self.val = val\n",
    "        self.next = next\n",
    "\n",
    "class Solution:\n",
    "    def removeNthFromEnd(self, head, n):\n",
    "        # first pointer - move forward n step first\n",
    "        # move first and second pointer until the first pointer.next reach the end\n",
    "        #   at this moment, second pointer next is the node that we need to remove\n",
    "        # Important - make use of the dummy_root; otherwise, cannot handle the 2nd test case\n",
    "        \n",
    "        dummy_root = ListNode()\n",
    "        dummy_root.next = head\n",
    "        first_pt, second_pt = dummy_root, dummy_root\n",
    "        \n",
    "        counter = 0 \n",
    "        for _ in range(n):\n",
    "            first_pt = first_pt.next\n",
    "            counter = counter + 1\n",
    "\n",
    "        # move both pointer        \n",
    "        while first_pt.next:\n",
    "            first_pt = first_pt.next\n",
    "            second_pt = second_pt.next\n",
    "\n",
    "        # remove node\n",
    "        second_pt.next = second_pt.next.next\n",
    "\n",
    "        return dummy_root.next\n",
    "\n",
    "r1 = ListNode(1)\n",
    "r1.next = ListNode(2)\n",
    "r1.next.next = ListNode(3)\n",
    "r1.next.next.next = ListNode(4)\n",
    "r1.next.next.next.next = ListNode(5)\n",
    "\n",
    "r_new = Solution().removeNthFromEnd(r1, 2)\n",
    "\n",
    "n = r_new\n",
    "while n:\n",
    "    print(n.val, end=\">\")\n",
    "    n = n.next\n",
    "print()\n",
    "\n",
    "r1 = ListNode(1)\n",
    "r_new = Solution().removeNthFromEnd(r1, 1)\n",
    "\n",
    "n = r_new\n",
    "while n:\n",
    "    print(n.val, end=\">\")\n",
    "    n = n.next\n",
    "print()\n",
    "\n",
    "r1 = ListNode(1)\n",
    "r1.next = ListNode(2)\n",
    "r_new = Solution().removeNthFromEnd(r1, 1)\n",
    "\n",
    "n = r_new\n",
    "while n:\n",
    "    print(n.val, end=\">\")\n",
    "    n = n.next"
   ]
  }
 ],
 "metadata": {
  "kernelspec": {
   "display_name": "Python 3 (ipykernel)",
   "language": "python",
   "name": "python3"
  },
  "language_info": {
   "codemirror_mode": {
    "name": "ipython",
    "version": 3
   },
   "file_extension": ".py",
   "mimetype": "text/x-python",
   "name": "python",
   "nbconvert_exporter": "python",
   "pygments_lexer": "ipython3",
   "version": "3.10.13"
  }
 },
 "nbformat": 4,
 "nbformat_minor": 5
}
