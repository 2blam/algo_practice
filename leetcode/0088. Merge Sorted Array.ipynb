{
 "cells": [
  {
   "cell_type": "markdown",
   "id": "5495bb5c-7cdf-43dd-8eca-73f384348e7c",
   "metadata": {},
   "source": [
    "You are given two integer arrays ```nums1``` and ```nums2```, sorted in non-decreasing order, and two integers ```m``` and ```n```, representing the number of elements in ```nums1``` and ```nums2``` respectively.\n",
    "\n",
    "Merge ```nums1``` and ```nums2``` into a single array sorted in non-decreasing order.\n",
    "\n",
    "The final sorted array should not be returned by the function, but instead be stored inside the array ```nums1```. To accommodate this, ```nums1``` has a length of ```m + n```, where the first ```m``` elements denote the elements that should be merged, and the last ```n``` elements are set to 0 and should be ignored. ```nums2``` has a length of ```n```.\n",
    "\n",
    "### Example 1:\n",
    "```\n",
    "Input: nums1 = [1,2,3,0,0,0], m = 3, nums2 = [2,5,6], n = 3\n",
    "Output: [1,2,2,3,5,6]\n",
    "Explanation: The arrays we are merging are [1,2,3] and [2,5,6].\n",
    "The result of the merge is [1,2,2,3,5,6] with the underlined elements coming from nums1.\n",
    "```\n",
    "\n",
    "### Example 2:\n",
    "```\n",
    "Input: nums1 = [1], m = 1, nums2 = [], n = 0\n",
    "Output: [1]\n",
    "Explanation: The arrays we are merging are [1] and [].\n",
    "The result of the merge is [1].\n",
    "```\n",
    "\n",
    "### Example 3:\n",
    "```\n",
    "Input: nums1 = [0], m = 0, nums2 = [1], n = 1\n",
    "Output: [1]\n",
    "Explanation: The arrays we are merging are [] and [1].\n",
    "The result of the merge is [1].\n",
    "Note that because m = 0, there are no elements in nums1. The 0 is only there to ensure the merge result can fit in nums1.\n",
    "```"
   ]
  },
  {
   "cell_type": "code",
   "execution_count": 1,
   "id": "d211d0ad-5302-452f-ad45-d22c37184eb8",
   "metadata": {},
   "outputs": [
    {
     "name": "stdout",
     "output_type": "stream",
     "text": [
      "1,2,2,3,5,6,\n",
      "1,\n",
      "1,"
     ]
    }
   ],
   "source": [
    "class Solution:\n",
    "    def merge(self, nums1: list[int], m: int, nums2: list[int], n: int) -> None:\n",
    "        # start from last position till the 0 position\n",
    "        r_idx = m + n - 1\n",
    "        n1_idx, n2_idx = m -1, n-1\n",
    "        while n2_idx>=0:\n",
    "            # which one is larger ? put to the end\n",
    "            if n1_idx >= 0 and nums1[n1_idx] > nums2[n2_idx]: \n",
    "                nums1[r_idx] = nums1[n1_idx]\n",
    "                n1_idx = n1_idx - 1\n",
    "            else:\n",
    "                nums1[r_idx] = nums2[n2_idx]\n",
    "                n2_idx = n2_idx - 1\n",
    "            r_idx = r_idx - 1\n",
    "        \n",
    "            \n",
    "            \n",
    "\n",
    "nums1 = [1,2,3,0,0,0]\n",
    "m = 3\n",
    "nums2 = [2,5,6]\n",
    "n = 3\n",
    "Solution().merge(nums1, m, nums2, n)\n",
    "for e in nums1:\n",
    "    print(e, end =\",\")\n",
    "\n",
    "print()\n",
    "nums1 = [1]\n",
    "m = 1\n",
    "nums2 = []\n",
    "n = 0\n",
    "Solution().merge(nums1, m, nums2, n)\n",
    "for e in nums1:\n",
    "    print(e, end =\",\")\n",
    "print()\n",
    "nums1 = [0]\n",
    "m = 0\n",
    "nums2 = [1]\n",
    "n = 1\n",
    "Solution().merge(nums1, m, nums2, n)\n",
    "for e in nums1:\n",
    "    print(e, end =\",\")\n",
    "\n",
    "# Time Complexity: O(m+n)\n",
    "# Space Complexity: O(1) - no extra space needed"
   ]
  }
 ],
 "metadata": {
  "kernelspec": {
   "display_name": "Python 3 (ipykernel)",
   "language": "python",
   "name": "python3"
  },
  "language_info": {
   "codemirror_mode": {
    "name": "ipython",
    "version": 3
   },
   "file_extension": ".py",
   "mimetype": "text/x-python",
   "name": "python",
   "nbconvert_exporter": "python",
   "pygments_lexer": "ipython3",
   "version": "3.10.13"
  }
 },
 "nbformat": 4,
 "nbformat_minor": 5
}
