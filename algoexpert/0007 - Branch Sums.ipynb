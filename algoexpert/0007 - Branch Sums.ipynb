{
 "cells": [
  {
   "cell_type": "markdown",
   "id": "7af0e57e",
   "metadata": {},
   "source": [
    "Given a Binary Tree, we are asked to compute all of the branch sums of the tree and return them in an array, ordered from leftmost branch sum to rightmost branch sum. In a tree, a branch is a path that starts at the root node and ends at one of the leaf nodes. A branch sum means the sum of all values in a branch.\n",
    "\n",
    "Sample Input:\n",
    "\n",
    "```tree =   1\n",
    "        /  \\\n",
    "       2    3\n",
    "      / \\  / \\\n",
    "     4   5 6  7\n",
    "    / \\  /\n",
    "   8   9 10```\n",
    "        \n",
    "The output should be:\n",
    "\n",
    "[15, 16, 18, 10, 11]"
   ]
  },
  {
   "cell_type": "code",
   "execution_count": 1,
   "id": "93bdeac6",
   "metadata": {},
   "outputs": [
    {
     "data": {
      "text/plain": [
       "[15, 16, 18, 10, 11]"
      ]
     },
     "execution_count": 1,
     "metadata": {},
     "output_type": "execute_result"
    }
   ],
   "source": [
    "\"\"\"\n",
    "IDEA: recursive\n",
    "    current node value: 1\n",
    "    helper function:\n",
    "        sum = sum + node.value\n",
    "        result = []\n",
    "        have left ? Yes => helper(node.left, sum, result)\n",
    "        have right? Yes => helper(node.right, sum, result)\n",
    "        if no left AND no right? result.append(sum)\n",
    "    \n",
    "Time Complexity: O (n) - n number of nodes\n",
    "Space Compexity: O(n) - the max number of leaf nodes roughly n / 2 ~> O(n/2) bounded by O(n)\n",
    "\"\"\"\n",
    "\n",
    "class Node:\n",
    "    def __init__(self, value):\n",
    "        self.value = value\n",
    "        self.left = None\n",
    "        self.right = None\n",
    "        \n",
    "root = Node(1)\n",
    "root.left = Node(2)\n",
    "root.right = Node(3)\n",
    "root.left.left = Node(4)\n",
    "root.left.right = Node(5)\n",
    "root.left.right.left = Node(10) \n",
    "root.left.left.left = Node(8)\n",
    "root.left.left.right = Node(9)\n",
    "root.right.left = Node(6)\n",
    "root.right.right = Node(7)\n",
    "\n",
    "def branch_sums_helper(node, total_sum, result):\n",
    "    if node is None:\n",
    "        return\n",
    "\n",
    "    total_sum = total_sum + node.value\n",
    "    \n",
    "    if node.left is None and node.right is None:\n",
    "        result.append(total_sum)\n",
    "        return\n",
    "\n",
    "    # move to left\n",
    "    branch_sums_helper(node.left, total_sum, result)\n",
    "    # move to right\n",
    "    branch_sums_helper(node.right, total_sum, result)\n",
    "\n",
    "    \n",
    "        \n",
    "def branch_sums(node):\n",
    "    result = []\n",
    "    branch_sums_helper(node, 0, result)\n",
    "    return result\n",
    "    \n",
    "branch_sums(root)"
   ]
  },
  {
   "cell_type": "code",
   "execution_count": 2,
   "id": "b451585e",
   "metadata": {},
   "outputs": [
    {
     "name": "stdout",
     "output_type": "stream",
     "text": [
      "[15, 16, 18, 10, 11]\n"
     ]
    }
   ],
   "source": [
    "\"\"\"\n",
    "    Approach: iterative approach\n",
    "\n",
    "Time Complexity: O(n)\n",
    "Space Complexity: O(n)\n",
    "\"\"\"\n",
    "\n",
    "root = Node(1)\n",
    "root.left = Node(2)\n",
    "root.right = Node(3)\n",
    "root.left.left = Node(4)\n",
    "root.left.right = Node(5)\n",
    "root.left.right.left = Node(10) \n",
    "root.left.left.left = Node(8)\n",
    "root.left.left.right = Node(9)\n",
    "root.right.left = Node(6)\n",
    "root.right.right = Node(7)\n",
    "\n",
    "def branch_sums_iterative(root):\n",
    "    stack = [(root, 0)] #tuple: node, total_sum\n",
    "    results = []\n",
    "    counter = 0\n",
    "    while (len(stack) > 0):\n",
    "        (node, total_sum) = stack.pop() \n",
    "        total_sum = total_sum + node.value\n",
    "        \n",
    "        # Why push right first? because have to place left branch at the top of stack\n",
    "        if node.right is not None:\n",
    "            stack.append((node.right, total_sum))\n",
    "        if node.left is not None:\n",
    "            stack.append((node.left, total_sum))\n",
    "        if node.left is None and node.right is None: # leaf node\n",
    "            results.append(total_sum)\n",
    "            \n",
    "    return results\n",
    "\n",
    "\n",
    "\n",
    "print(branch_sums_iterative(root))"
   ]
  },
  {
   "cell_type": "code",
   "execution_count": 3,
   "id": "2f2c8904",
   "metadata": {},
   "outputs": [
    {
     "data": {
      "text/plain": [
       "[1, 2]"
      ]
     },
     "execution_count": 3,
     "metadata": {},
     "output_type": "execute_result"
    }
   ],
   "source": [
    "# stack example:\n",
    "l = [1, 2, 3]\n",
    "l.pop() # pop the last one\n",
    "l"
   ]
  }
 ],
 "metadata": {
  "kernelspec": {
   "display_name": "Python 3 (ipykernel)",
   "language": "python",
   "name": "python3"
  },
  "language_info": {
   "codemirror_mode": {
    "name": "ipython",
    "version": 3
   },
   "file_extension": ".py",
   "mimetype": "text/x-python",
   "name": "python",
   "nbconvert_exporter": "python",
   "pygments_lexer": "ipython3",
   "version": "3.8.5"
  }
 },
 "nbformat": 4,
 "nbformat_minor": 5
}
