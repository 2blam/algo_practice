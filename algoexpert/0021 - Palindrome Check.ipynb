{
 "cells": [
  {
   "cell_type": "markdown",
   "id": "843f8057",
   "metadata": {},
   "source": [
    "Write a function that takes in an non-empty string and returns a boolean representing whether the string is palindrome.\n",
    "\n",
    "Palindrome - a string that's written the same forward and backward\n",
    "\n",
    "Example:\n",
    "\n",
    "input: ```string = \"abcdcba\"```\n",
    "\n",
    "output: ```True```"
   ]
  },
  {
   "cell_type": "code",
   "execution_count": 1,
   "id": "eee5f504",
   "metadata": {},
   "outputs": [
    {
     "name": "stdout",
     "output_type": "stream",
     "text": [
      "True\n",
      "False\n",
      "True\n"
     ]
    }
   ],
   "source": [
    "\"\"\"\n",
    "    IDEA: 2 pointers approach (BEST)\n",
    "\n",
    "Time Complexity: O(n) - n: number of characters in string\n",
    "Space Complexity: O(1)\n",
    "\"\"\"\n",
    "\n",
    "def is_palindrome(s):\n",
    "    start, end = 0, len(s)-1\n",
    "\n",
    "    while start < end:\n",
    "        if s[start] != s[end]:\n",
    "            return False\n",
    "        start += 1\n",
    "        end -= 1\n",
    "    return True\n",
    "\n",
    "s = \"abcdcba\"\n",
    "print(is_palindrome(s))\n",
    "\n",
    "s = \"abc\"\n",
    "print(is_palindrome(s))\n",
    "\n",
    "s = \"abba\"\n",
    "print(is_palindrome(s))"
   ]
  },
  {
   "cell_type": "code",
   "execution_count": 2,
   "id": "9644b699",
   "metadata": {},
   "outputs": [
    {
     "name": "stdout",
     "output_type": "stream",
     "text": [
      "True\n",
      "False\n",
      "True\n",
      "False\n",
      "True\n",
      "False\n",
      "True\n"
     ]
    }
   ],
   "source": [
    "# Other approaches\n",
    "\"\"\"\n",
    "Array: string concat\n",
    "Time Complexity: O(n^2); concat string, have to use another loop internally to copy each element to the new array\n",
    "Space Complexity: O(n)\n",
    "\"\"\"\n",
    "def is_palindrome_1(s):\n",
    "    new = \"\"\n",
    "    #for i in range(len(s)-1, -1, -1):\n",
    "    for i in reversed(range(len(s))):\n",
    "        new = new + s[i]\n",
    "    return new == s\n",
    "\n",
    "s = \"abcdcba\"\n",
    "print(is_palindrome_1(s))\n",
    "\n",
    "s = \"abc\"\n",
    "print(is_palindrome_1(s))\n",
    "\n",
    "\"\"\"\n",
    "Approach: Array\n",
    "Time Complexity: O(n)\n",
    "Space Complexity: O(n)\n",
    "\"\"\"\n",
    "def is_palindrome_2(s):\n",
    "    new = []\n",
    "    for i in range(len(s)-1, -1, -1):\n",
    "        new.append(s[i])\n",
    "    return \"\".join(new) == s\n",
    "\n",
    "s = \"abcdcba\"\n",
    "print(is_palindrome_2(s))\n",
    "\n",
    "s = \"abc\"\n",
    "print(is_palindrome_2(s))\n",
    "\n",
    "\n",
    "\"\"\"\n",
    "Approach: Recursive \n",
    "    Base Case:\n",
    "        X X X\n",
    "        0 1 2\n",
    "          ^ pos\n",
    "          ^ end_pos STOP\n",
    "\n",
    "        Y Y Y Y\n",
    "          ^ pos\n",
    "            ^ end_pos\n",
    "        [next loop]\n",
    "        Y Y Y Y\n",
    "          ^ end_pos\n",
    "            ^ pos  \n",
    "Time Complexity: O(n)\n",
    "Space Complexity: O(n^2)\n",
    "\"\"\"\n",
    "def is_palindrome_helper(s, pos):\n",
    "    end_pos = len(s) - 1 - pos\n",
    "    if pos >= end_pos:\n",
    "        return True\n",
    "    return (s[pos] == s[end_pos]) and is_palindrome_helper(s, pos+1)\n",
    "\n",
    "def is_palindrome_3(s):\n",
    "    return is_palindrome_helper(s, 0)\n",
    "\n",
    "s = \"abcdcba\"\n",
    "print(is_palindrome_3(s))\n",
    "\n",
    "s = \"abc\"\n",
    "print(is_palindrome_3(s))\n",
    "\n",
    "s = \"abba\"\n",
    "print(is_palindrome_3(s))\n"
   ]
  },
  {
   "cell_type": "code",
   "execution_count": 3,
   "id": "699f88fe",
   "metadata": {},
   "outputs": [
    {
     "name": "stdout",
     "output_type": "stream",
     "text": [
      "0,1,2,3,\n",
      "3,2,1,0,"
     ]
    }
   ],
   "source": [
    "for i in range(len(s)):\n",
    "    print(i, end =\",\")\n",
    "print()\n",
    "for i in reversed(range(len(s))):\n",
    "    print(i, end =\",\")"
   ]
  }
 ],
 "metadata": {
  "kernelspec": {
   "display_name": "Python 3 (ipykernel)",
   "language": "python",
   "name": "python3"
  },
  "language_info": {
   "codemirror_mode": {
    "name": "ipython",
    "version": 3
   },
   "file_extension": ".py",
   "mimetype": "text/x-python",
   "name": "python",
   "nbconvert_exporter": "python",
   "pygments_lexer": "ipython3",
   "version": "3.8.5"
  }
 },
 "nbformat": 4,
 "nbformat_minor": 5
}
