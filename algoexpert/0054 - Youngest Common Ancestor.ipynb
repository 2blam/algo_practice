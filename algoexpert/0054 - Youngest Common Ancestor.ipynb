{
 "cells": [
  {
   "cell_type": "markdown",
   "id": "410c2b20",
   "metadata": {},
   "source": [
    "You're given three inputs, all of which are instances of a class that have an \"ancestor\" property pointing to their youngest ancestor. The first input is the top ancestor in an ancestral tree (i.e., the only instance that has no ancestor), and the other two inputs are descendants in the ancestral tree. Write a function that returns the youngest common ancestor to the two descendants.\n",
    "\n",
    "Example:\n",
    "input: Node A, Node E, Node I (from the ancestral tree below) \n",
    "\n",
    "```\n",
    "         A\n",
    "       /   \\\n",
    "      B     C\n",
    "     / \\   / \\\n",
    "    D  E  F   G\n",
    "   / \\\n",
    "  H   I\n",
    "```\n",
    "\n",
    "\n",
    "output: \n",
    "```\n",
    "B\n",
    "```"
   ]
  },
  {
   "cell_type": "code",
   "execution_count": 1,
   "id": "d3e8658a",
   "metadata": {},
   "outputs": [
    {
     "name": "stdout",
     "output_type": "stream",
     "text": [
      "B\n"
     ]
    }
   ],
   "source": [
    "\"\"\"\n",
    "    IDEA:\n",
    "        1) get the depth of the decendands to the top ancestor\n",
    "        2) check the diff between 2 depths\n",
    "            2.1) move the deepest one to the same level with the other\n",
    "            2.2) if their ancestors are not the same, move 1 level up\n",
    "                until they are with the same ancestors\n",
    "\n",
    "Time Complexity: O(d) - d is the longest distance between the ancestor and decendands (parameter)\n",
    "Space Complexity: O(1)\n",
    "\"\"\"\n",
    "\n",
    "class Node:\n",
    "    def __init__(self, value):\n",
    "        self.value = value\n",
    "        self.ancestor = None\n",
    "        \n",
    "node_h = Node(\"H\")\n",
    "node_i = Node(\"I\")\n",
    "node_d = Node(\"D\")\n",
    "node_h.ancestor = node_d\n",
    "node_i.ancestor = node_d\n",
    "node_e = Node(\"E\")\n",
    "node_b = Node(\"B\")\n",
    "node_d.ancestor = node_b\n",
    "node_e.ancestor = node_b\n",
    "node_a = Node(\"A\")\n",
    "node_b.ancestor = node_a\n",
    "node_f = Node(\"F\")\n",
    "node_g = Node(\"G\")\n",
    "node_c = Node(\"C\")\n",
    "node_f.ancestor = node_c\n",
    "node_g.ancestor = node_c\n",
    "node_c.ancestor = node_a\n",
    "\n",
    "def get_depth(top_ancestor, descendant):\n",
    "    depth = 0\n",
    "    while descendant.ancestor is not None:\n",
    "        depth = depth + 1\n",
    "        if top_ancestor == descendant.ancestor:\n",
    "            break\n",
    "        descendant = descendant.ancestor\n",
    "            \n",
    "    return depth\n",
    "    \n",
    "def youngest_common_anestor(top_ancestor, descendant_1, descendant_2):\n",
    "    depth_1 = get_depth(top_ancestor, descendant_1)\n",
    "    depth_2 = get_depth(top_ancestor, descendant_2)\n",
    "    \n",
    "    # if depth 2 > depth 1, swap - ensure descendant_1 is the deepest one\n",
    "    if depth_2 > depth_1:\n",
    "        descendant_1, descendant_2 = descendant_2, descendant_1\n",
    "        depth_1, depth_2 = depth_2, depth_1  # important\n",
    "    \n",
    "    # move to common depth and check common ancestor\n",
    "    while depth_1 != depth_2:\n",
    "        descendant_1 = descendant_1.ancestor\n",
    "        depth_1 = depth_1 - 1\n",
    "    \n",
    "    # get common ancestor\n",
    "    while descendant_1.ancestor != descendant_2.ancestor:\n",
    "        # move up 1 level\n",
    "        descendant_1 = descendant_1.ancestor\n",
    "        descendant_2 = descendant_2.ancestor\n",
    "    \n",
    "    return descendant_1.ancestor.value\n",
    "\n",
    "print(youngest_common_anestor(node_a, node_e, node_i))\n",
    "    "
   ]
  }
 ],
 "metadata": {
  "kernelspec": {
   "display_name": "Python 3 (ipykernel)",
   "language": "python",
   "name": "python3"
  },
  "language_info": {
   "codemirror_mode": {
    "name": "ipython",
    "version": 3
   },
   "file_extension": ".py",
   "mimetype": "text/x-python",
   "name": "python",
   "nbconvert_exporter": "python",
   "pygments_lexer": "ipython3",
   "version": "3.8.5"
  }
 },
 "nbformat": 4,
 "nbformat_minor": 5
}
