{
 "cells": [
  {
   "cell_type": "markdown",
   "id": "b8d1fea5",
   "metadata": {},
   "source": [
    "Write a function accepts an array, with more than 3 integer elements, and without sorting the input array, returns a sorted array of the three largest integers.\n",
    "\n",
    "Example 1:\n",
    "\n",
    "input: ```[10, 5, 9, 10, 12]```\n",
    "\n",
    "output: ```[10, 10, 12]```\n",
    "\n",
    "Example 2:\n",
    "\n",
    "input: ```[141, 1, 17, -7, -17, -27, 18, 541, 8, 7, 7]```\n",
    "\n",
    "output: ```[18 ,141, 541]```"
   ]
  },
  {
   "cell_type": "code",
   "execution_count": 1,
   "id": "e9930694",
   "metadata": {},
   "outputs": [
    {
     "name": "stdout",
     "output_type": "stream",
     "text": [
      "[10, 10, 12]\n",
      "[18, 141, 541]\n"
     ]
    }
   ],
   "source": [
    "\"\"\"\n",
    "Time Complexity: O(n); n - number of elements in the array\n",
    "Space Complexity: O(1) - constant space\n",
    "\"\"\"\n",
    "def shift_and_update(arr, num, value):\n",
    "    #shift num elements\n",
    "    for i in range(num):\n",
    "        arr[i] = arr[i+1]\n",
    "    # update\n",
    "    arr[num] = value\n",
    "\n",
    "def find_three_largest_numbers(array):\n",
    "    largest_3 = [float('-inf'), float('-inf'), float('-inf')]\n",
    "    \n",
    "    for e in array:\n",
    "        if e > largest_3[2]:\n",
    "            # shift element 1, 2 -> 0, 1\n",
    "            #largest_3[0], largest_3[1] = largest_3[1], largest_3[2]\n",
    "            #largest_3[2] = e # insert in last pos\n",
    "            shift_and_update(largest_3, 2, e)\n",
    "        elif e > largest_3[1]:\n",
    "            # shift element 1 -> 0\n",
    "            #largest_3[0] = largest_3[1]\n",
    "            #largest_3[1] = e # insert in middle pos\n",
    "            shift_and_update(largest_3, 1, e)\n",
    "        elif e > largest_3[0]:\n",
    "            #largest_3[0] = e # insert in the 1st pos\n",
    "            shift_and_update(largest_3, 0, e)\n",
    "    \n",
    "    return largest_3\n",
    "\n",
    "array = [10, 5, 9, 10, 12]\n",
    "print(find_three_largest_numbers(array))\n",
    "\n",
    "array = [141, 1, 17, -7, -17, -27, 18, 541, 8, 7, 7]\n",
    "print(find_three_largest_numbers(array))"
   ]
  }
 ],
 "metadata": {
  "kernelspec": {
   "display_name": "Python 3 (ipykernel)",
   "language": "python",
   "name": "python3"
  },
  "language_info": {
   "codemirror_mode": {
    "name": "ipython",
    "version": 3
   },
   "file_extension": ".py",
   "mimetype": "text/x-python",
   "name": "python",
   "nbconvert_exporter": "python",
   "pygments_lexer": "ipython3",
   "version": "3.8.5"
  }
 },
 "nbformat": 4,
 "nbformat_minor": 5
}
