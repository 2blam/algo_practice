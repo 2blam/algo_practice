{
 "cells": [
  {
   "cell_type": "markdown",
   "id": "d3ddc391",
   "metadata": {},
   "source": [
    "Given a string of available characters and a string representing that you need to generate. \n",
    "\n",
    "Write a function that determines if you can generate the document, the function should return ```True```; otherwise, it returns ```False```\n",
    "\n",
    "Note: if you're given ```characters = \"abcabc\"``` and ```document = \"aabbccc\"```, you cannot generate the document since we miss one `c`.\n",
    "\n",
    "Example:\n",
    "input:\n",
    "```\n",
    "characters = \"Bste!hetsi ogEAxpelrt x \"\n",
    "document - \"AlgoExpert is the Best!\"\n",
    "```\n",
    "\n",
    "output:\n",
    "```\n",
    "True\n",
    "```"
   ]
  },
  {
   "cell_type": "code",
   "execution_count": 1,
   "id": "ad99ee48",
   "metadata": {},
   "outputs": [
    {
     "name": "stdout",
     "output_type": "stream",
     "text": [
      "True\n",
      "False\n",
      "False\n"
     ]
    }
   ],
   "source": [
    "\"\"\"\n",
    "    IDEA - Hash Table (Dict)\n",
    "Time Complexity: O(M + n) - M number of characters in characters, n number of characters in document; \n",
    "Space Complexity: O(N) - N number of \"unique\" characters in characters\n",
    "\"\"\"\n",
    "\n",
    "def generate_document(characters, document):\n",
    "    d = {}\n",
    "\n",
    "    for c in characters:\n",
    "        if c in d:\n",
    "            d[c] = d[c] + 1\n",
    "        else:\n",
    "            d[c] = 1\n",
    "    for c in document:\n",
    "        if c not in d:\n",
    "            return False\n",
    "        d[c] = d[c] - 1\n",
    "        if d[c] < 0:\n",
    "            return False\n",
    "    return True\n",
    "\n",
    "characters = \"Bste!hetsi ogEAxpelrt x \"\n",
    "document = \"AlgoExpert is the Best!\"\n",
    "print(generate_document(document, document))\n",
    "\n",
    "characters = \"helloworld \"\n",
    "document = \"hello wOrld\"\n",
    "print(generate_document(characters, document))\n",
    "\n",
    "characters = \"helloworldO\"\n",
    "document = \"hello wOrld\"\n",
    "print(generate_document(characters, document))"
   ]
  }
 ],
 "metadata": {
  "kernelspec": {
   "display_name": "Python 3 (ipykernel)",
   "language": "python",
   "name": "python3"
  },
  "language_info": {
   "codemirror_mode": {
    "name": "ipython",
    "version": 3
   },
   "file_extension": ".py",
   "mimetype": "text/x-python",
   "name": "python",
   "nbconvert_exporter": "python",
   "pygments_lexer": "ipython3",
   "version": "3.8.5"
  }
 },
 "nbformat": 4,
 "nbformat_minor": 5
}
