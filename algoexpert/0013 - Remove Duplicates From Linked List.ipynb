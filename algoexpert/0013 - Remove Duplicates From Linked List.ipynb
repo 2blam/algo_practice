{
 "cells": [
  {
   "cell_type": "markdown",
   "id": "458c7b9d",
   "metadata": {},
   "source": [
    "Given the singly linked list, nodes are in sorted order. Write a function that returns a modified version of the linked list that does not contain any duplicate values.\n",
    "\n",
    "Each ```LinkedList``` node has an integer ```value``` and a ```next``` pointer pointing to the next node in the list / ```None / null``` if it is the tail of the list.\n",
    "\n",
    "Example:\n",
    "\n",
    "```1 -> 1 -> 3 -> 4 -> 4 -> 4 -> 5 -> 6 -> 6```\n",
    "\n",
    "Output:\n",
    "\n",
    "```1 -> 3 -> 4 -> 5 -> 6```"
   ]
  },
  {
   "cell_type": "code",
   "execution_count": 1,
   "id": "90092bdf",
   "metadata": {},
   "outputs": [
    {
     "name": "stdout",
     "output_type": "stream",
     "text": [
      "1->3->4->5->6->"
     ]
    }
   ],
   "source": [
    "\"\"\"\n",
    "1 -> 1 -> 3 -> 6 -> 6\n",
    "^    ^\n",
    "c    n\n",
    "          ^\n",
    "          n\n",
    "1 ------->3 -> 6 -> 6 [c.next = n]\n",
    "          ^    ^\n",
    "          c    n\n",
    "1 ------->3 -> 6 -> 6 \n",
    "               ^    ^\n",
    "               c   n\n",
    "               \n",
    "1 ------->3 -> 6 -> 6 \n",
    "               ^         ^\n",
    "               c         n [n is None => c.next = None; STOP]\n",
    "               \n",
    "Time Complexity: O(n)\n",
    "Space Complexity: O(1)\n",
    "\"\"\"\n",
    "\n",
    "class Node:\n",
    "    def __init__(self, value):\n",
    "        self.value = value\n",
    "        self.next = None\n",
    "        \n",
    "        \n",
    "root = Node(1)\n",
    "root.next = Node(1)\n",
    "root.next.next = Node(3)\n",
    "root.next.next.next = Node(4)\n",
    "root.next.next.next.next = Node(4)\n",
    "root.next.next.next.next.next = Node(4)\n",
    "root.next.next.next.next.next.next = Node(5)\n",
    "root.next.next.next.next.next.next.next = Node(6)\n",
    "root.next.next.next.next.next.next.next.next = Node(6)\n",
    "\n",
    "def remove_duplicates(node):\n",
    "    curr_node = node\n",
    "    next_node = node.next\n",
    "    \n",
    "    while curr_node is not None:\n",
    "        if next_node is None: # *** IMPORTANT ***\n",
    "            curr_node.next = None\n",
    "            break\n",
    "        if next_node is not None and curr_node.value == next_node.value:\n",
    "            next_node = next_node.next\n",
    "        else:\n",
    "            curr_node.next = next_node\n",
    "            curr_node = next_node\n",
    "            next_node = next_node.next\n",
    "\n",
    "    return node\n",
    "\n",
    "def print_linked_list(node):\n",
    "    while node is not None:\n",
    "        print(node.value, end=\"->\")\n",
    "        node = node.next\n",
    "\n",
    "new_root = remove_duplicates(root)\n",
    "print_linked_list(new_root)\n"
   ]
  }
 ],
 "metadata": {
  "kernelspec": {
   "display_name": "Python 3 (ipykernel)",
   "language": "python",
   "name": "python3"
  },
  "language_info": {
   "codemirror_mode": {
    "name": "ipython",
    "version": 3
   },
   "file_extension": ".py",
   "mimetype": "text/x-python",
   "name": "python",
   "nbconvert_exporter": "python",
   "pygments_lexer": "ipython3",
   "version": "3.8.5"
  }
 },
 "nbformat": 4,
 "nbformat_minor": 5
}
