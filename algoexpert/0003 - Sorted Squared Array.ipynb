{
 "cells": [
  {
   "cell_type": "markdown",
   "id": "c11b8ffd",
   "metadata": {},
   "source": [
    "Write a function that takes in a non-empty array of integers that are sorted in ascending order and returns a new array of the same length with the squares of the original integers also sorted in ascending order.\n",
    "\n",
    "Example 1\n",
    "\n",
    "- Input:\n",
    "    - array =[1,2,3,5,6,8,9]\n",
    "- Output:\n",
    "    - [1,4,9,25,36, 64,81]\n",
    "\n",
    "Example 2\n",
    "- Input:\n",
    "    - array = [-3, -2, -1]\n",
    "- Output:\n",
    "    - [1,4,9]\n"
   ]
  },
  {
   "cell_type": "code",
   "execution_count": 1,
   "id": "9a416ee5",
   "metadata": {},
   "outputs": [
    {
     "name": "stdout",
     "output_type": "stream",
     "text": [
      "[1, 4, 9, 25, 36, 64, 81]\n",
      "[1, 4, 9]\n",
      "[0, 1, 4, 9, 16]\n"
     ]
    }
   ],
   "source": [
    "\"\"\"\n",
    "IDEA: Brute-Force Approach\n",
    "Time Complexity: O(n log n) - sorting algo\n",
    "Space Compleity: O(1) - inplace replacement\n",
    "\"\"\"\n",
    "def sorted_sqaured_array(array):\n",
    "    for i in range(len(array)):        \n",
    "        array[i] = array[i] * array[i]\n",
    "    \n",
    "    array = sorted(array)\n",
    "    \n",
    "    return array\n",
    "\n",
    "array = [1,2,3,5,6,8,9]\n",
    "print(sorted_sqaured_array(array))\n",
    "\n",
    "array = [-3, -2, -1]\n",
    "print(sorted_sqaured_array(array))\n",
    "\n",
    "array = [-4, -2, 0, 1, 3]\n",
    "print(sorted_sqaured_array(array))\n"
   ]
  },
  {
   "cell_type": "code",
   "execution_count": 2,
   "id": "91d17960",
   "metadata": {},
   "outputs": [
    {
     "name": "stdout",
     "output_type": "stream",
     "text": [
      "[1, 4, 9, 25, 36, 64, 81]\n",
      "[1, 4, 9]\n",
      "[0, 1, 4, 9, 16]\n"
     ]
    }
   ],
   "source": [
    "\"\"\"\n",
    "IDEA:\n",
    "    Value Line -5 -2 -1 0 1 2 3\n",
    "    After squared the values, the largest value would be either 25 and 9, ==> put the largest one to the right most location\n",
    "\n",
    "Time Complexity: O(n) ; n = number of elements in array\n",
    "Space Complexity: O(n) ; space for retaining the result array; same size as n\n",
    "\n",
    "\"\"\"\n",
    "\n",
    "def sorted_squared_array(array):\n",
    "    result =[None] * len(array)    \n",
    "    left_pt, right_pt, pt = 0, len(array)-1, len(array) -1\n",
    "    while left_pt <= right_pt:\n",
    "        left, right = array[left_pt] * array[left_pt], array[right_pt] * array[right_pt]\n",
    "        if left > right:\n",
    "            result[pt] = left\n",
    "            pt = pt - 1\n",
    "            left = left + 1\n",
    "        else:\n",
    "            result[pt] = right\n",
    "            pt = pt - 1\n",
    "            right = right - 1\n",
    "    \n",
    "    return result\n",
    "\n",
    "array = [1,2,3,5,6,8,9]\n",
    "print(sorted_sqaured_array(array))\n",
    "\n",
    "array = [-3, -2, -1]\n",
    "print(sorted_sqaured_array(array))\n",
    "\n",
    "array = [-4, -2, 0, 1, 3]\n",
    "print(sorted_sqaured_array(array))\n"
   ]
  },
  {
   "cell_type": "code",
   "execution_count": 3,
   "id": "a617e054",
   "metadata": {},
   "outputs": [
    {
     "name": "stdout",
     "output_type": "stream",
     "text": [
      "[1, 4, 9, 25, 36, 64, 81]\n",
      "[1, 4, 9]\n",
      "[0, 1, 4, 9, 16]\n"
     ]
    }
   ],
   "source": [
    "# for loop approach\n",
    "\n",
    "def sorted_squared_array(array):\n",
    "    result =[None] * len(array)    \n",
    "    left_pt, right_pt = 0, len(array)-1\n",
    "    for idx in reversed(range(len(array))):\n",
    "        if abs(array[left_pt]) > abs(array[right_pt]):\n",
    "            result[idx] = array[left_pt] * array[left_pt]\n",
    "            left_pt += 1\n",
    "        else:\n",
    "            result[idx] = array[right_pt] * array[right_pt]\n",
    "            right_pt -=1\n",
    "    return result\n",
    "\n",
    "array = [1,2,3,5,6,8,9]\n",
    "print(sorted_sqaured_array(array))\n",
    "\n",
    "array = [-3, -2, -1]\n",
    "print(sorted_sqaured_array(array))\n",
    "\n",
    "array = [-4, -2, 0, 1, 3]\n",
    "print(sorted_sqaured_array(array))\n"
   ]
  }
 ],
 "metadata": {
  "kernelspec": {
   "display_name": "Python 3 (ipykernel)",
   "language": "python",
   "name": "python3"
  },
  "language_info": {
   "codemirror_mode": {
    "name": "ipython",
    "version": 3
   },
   "file_extension": ".py",
   "mimetype": "text/x-python",
   "name": "python",
   "nbconvert_exporter": "python",
   "pygments_lexer": "ipython3",
   "version": "3.8.5"
  }
 },
 "nbformat": 4,
 "nbformat_minor": 5
}
