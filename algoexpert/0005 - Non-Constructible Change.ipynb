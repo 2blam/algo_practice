{
 "cells": [
  {
   "cell_type": "markdown",
   "id": "76038c2f",
   "metadata": {},
   "source": [
    "Given an array of positive integers representing the values of coins in your possession, write a function that returns the minimum amount of change (the minimum sum of money) that you cannot create. The given coins can have any positive integer value and aren't necessarily unique (i.e., you can have multiple coins of the same value).\n",
    "\n",
    "For example, if you're given coins = [1, 2, 5], the minimum amount of change that you can't create is 4. If you're given no coins, the minimum amount of change that you can't create is 1.\n",
    "\n",
    "Example 1\n",
    "\n",
    "- input: ```coins = [1, 2, 5]```\n",
    "- output: ```4```\n",
    "\n",
    "Example 2\n",
    "\n",
    "- input: ```coins = [5, 7, 1, 1, 2, 3, 22]```\n",
    "- output: ```20```\n"
   ]
  },
  {
   "cell_type": "code",
   "execution_count": 11,
   "id": "024e73dc",
   "metadata": {},
   "outputs": [
    {
     "name": "stdout",
     "output_type": "stream",
     "text": [
      "20\n",
      "4\n",
      "6\n"
     ]
    }
   ],
   "source": [
    "\"\"\"\n",
    "IDEA:\n",
    "    - sorted the array: 1, 1, 2, 3, 5, 7, 22\n",
    "    - loop thru the coins:\n",
    "        - change + 1 < curr_coin ==> if Yes, then return change + 1\n",
    "Time Complexity: O(n log n) - sort the array\n",
    "Space Complexity: O(1) - if sorted inplace; O(n) if sorted not inplace\n",
    "\"\"\"\n",
    "            \n",
    "def non_constructible_change(coins):\n",
    "    coins = sorted(coins)\n",
    "    change = 0\n",
    "    for curr_coin in coins:\n",
    "        if change + 1 < curr_coin:\n",
    "            return change + 1\n",
    "        change += curr_coin        \n",
    "    return change + 1\n",
    "            \n",
    "coins = [5, 7, 1, 1, 2, 3, 22]\n",
    "print(non_constructible_change(coins))\n",
    "\n",
    "coins = [1, 2, 5]\n",
    "print(non_constructible_change(coins))\n",
    "\n",
    "coins = [1, 1, 3]\n",
    "print(non_constructible_change(coins))"
   ]
  }
 ],
 "metadata": {
  "kernelspec": {
   "display_name": "Python 3 (ipykernel)",
   "language": "python",
   "name": "python3"
  },
  "language_info": {
   "codemirror_mode": {
    "name": "ipython",
    "version": 3
   },
   "file_extension": ".py",
   "mimetype": "text/x-python",
   "name": "python",
   "nbconvert_exporter": "python",
   "pygments_lexer": "ipython3",
   "version": "3.8.5"
  }
 },
 "nbformat": 4,
 "nbformat_minor": 5
}
