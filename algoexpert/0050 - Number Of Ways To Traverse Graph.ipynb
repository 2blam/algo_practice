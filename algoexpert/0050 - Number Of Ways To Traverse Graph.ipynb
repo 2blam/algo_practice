{
 "cells": [
  {
   "cell_type": "markdown",
   "id": "bb02cd01",
   "metadata": {},
   "source": [
    "You’re given two positive integers representing the width and height of a grid-shaped, rectangular graph. Write a function that returns the number of ways to reach the bottom right corner of the graph when starting at the top left corner. Each move you take must either go down or right. In other words, you can never move up or left in the graph.\n",
    "\n",
    "Example:\n",
    "\n",
    "input:\n",
    "```\n",
    "width = 4\n",
    "height = 3\n",
    "```\n",
    "\n",
    "output:\n",
    "```\n",
    "10\n",
    "```"
   ]
  },
  {
   "cell_type": "code",
   "execution_count": 1,
   "id": "9cc256a3",
   "metadata": {},
   "outputs": [
    {
     "name": "stdout",
     "output_type": "stream",
     "text": [
      "10\n",
      "3\n"
     ]
    }
   ],
   "source": [
    "\"\"\"\n",
    "    IDEA: Dynamic Programming\n",
    "    \n",
    "    step = 2D array\n",
    "    By default:\n",
    "        the top row, can be reached by moving to right\n",
    "        the 1st column, can be reach by moving downward\n",
    "    other cell, can be reached from top and the left cell, \n",
    "    i.e. we can calculate the step by summing top and left cell value\n",
    "\n",
    "Time Complexity: O(n * m): n - width; m - height\n",
    "Space Complexity: O(n * m)\n",
    "\"\"\"\n",
    "\n",
    "def number_of_ways_to_traverse_graph(width, height):\n",
    "    step = [[0 if r !=0 else 1 for c in range(width)] for r in range(height)]\n",
    "    # init\n",
    "    for r in range(height):\n",
    "        step[r][0] = 1\n",
    "    # process\n",
    "    for r in range(1, height):\n",
    "        for c in range(1, width):\n",
    "            top = step[r-1][c]\n",
    "            left = step[r][c-1]\n",
    "            step[r][c] = top + left\n",
    "\n",
    "    return step[-1][-1]\n",
    "\n",
    "width = 4\n",
    "height = 3\n",
    "\n",
    "print(number_of_ways_to_traverse_graph(width, height))\n",
    "\n",
    "width = 2\n",
    "height = 3\n",
    "\n",
    "print(number_of_ways_to_traverse_graph(width, height))"
   ]
  }
 ],
 "metadata": {
  "kernelspec": {
   "display_name": "Python 3 (ipykernel)",
   "language": "python",
   "name": "python3"
  },
  "language_info": {
   "codemirror_mode": {
    "name": "ipython",
    "version": 3
   },
   "file_extension": ".py",
   "mimetype": "text/x-python",
   "name": "python",
   "nbconvert_exporter": "python",
   "pygments_lexer": "ipython3",
   "version": "3.8.5"
  }
 },
 "nbformat": 4,
 "nbformat_minor": 5
}
