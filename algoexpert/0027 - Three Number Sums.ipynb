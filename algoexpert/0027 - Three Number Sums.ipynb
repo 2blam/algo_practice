{
 "cells": [
  {
   "cell_type": "markdown",
   "id": "7b22dadf",
   "metadata": {},
   "source": [
    "Write a function that takes in a non-empty array of distinct integers and an integer representing a target sum. The function should find all triplets in the array that sum up to the target sum and return a two-dimensional array of all these triplets. The numbers in each triplet should be ordered in ascending order, and the triplets themselves should be ordered in ascending order with respect to the numbers they hold. If no three numbers sum up to the target sum, the function should return an empty array.\n",
    "\n",
    "Sample input: [12, 3, 1, 2, -6, 5, -8, 6], 0\n",
    "\n",
    "Sample output: [[-8, 2, 6], [-8, 3, 5], [-6, 1, 5]]"
   ]
  },
  {
   "cell_type": "code",
   "execution_count": 1,
   "id": "474b3771",
   "metadata": {},
   "outputs": [
    {
     "name": "stdout",
     "output_type": "stream",
     "text": [
      "[[-8, 2, 6], [-8, 3, 5], [-6, 1, 5]]\n"
     ]
    }
   ],
   "source": [
    "\"\"\"\n",
    "    IDEA: sorted array + left right pointer\n",
    "\n",
    "Time Complexity: O(n^2); n - number of elements in array; \n",
    "                 for each element, have to scan thru the rest of array => n^2\n",
    "Space Complexity: O(n); the result max will be stored n (number of element in array) triplets\n",
    "\"\"\"\n",
    "\n",
    "def three_numbers_sum(array, target):\n",
    "    array.sort()\n",
    "    result=[]\n",
    "    for i in range(len(array)):\n",
    "        e = array[i] #selected element\n",
    "        left, right = i+1, len(array)-1\n",
    "        while left < right: # checking\n",
    "            if e + array[left] + array[right] < target: # smaller, move left pointer\n",
    "                left = left + 1\n",
    "            elif e + array[left] + array[right] > target: # larger, move right pointer\n",
    "                right = right - 1\n",
    "            else: # hit\n",
    "                result.append([e, array[left], array[right]])\n",
    "                left = left + 1\n",
    "                right = right - 1\n",
    "    return result\n",
    "            \n",
    "array = [12, 3, 1, 2, -6, 5, -8, 6]\n",
    "target = 0\n",
    "print(three_numbers_sum(array, target))"
   ]
  }
 ],
 "metadata": {
  "kernelspec": {
   "display_name": "Python 3 (ipykernel)",
   "language": "python",
   "name": "python3"
  },
  "language_info": {
   "codemirror_mode": {
    "name": "ipython",
    "version": 3
   },
   "file_extension": ".py",
   "mimetype": "text/x-python",
   "name": "python",
   "nbconvert_exporter": "python",
   "pygments_lexer": "ipython3",
   "version": "3.8.5"
  }
 },
 "nbformat": 4,
 "nbformat_minor": 5
}
