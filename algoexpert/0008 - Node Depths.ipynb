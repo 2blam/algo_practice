{
 "cells": [
  {
   "cell_type": "markdown",
   "id": "a839a6aa",
   "metadata": {},
   "source": [
    "Calculate the sum of depths of all the nodes in a given binary tree. \n",
    "\n",
    "Example\n",
    "\n",
    "```\n",
    "          1\n",
    "       /     \\\n",
    "      2       3\n",
    "    /   \\   /   \\\n",
    "   4     5 6     7\n",
    " /   \\\n",
    "8     9\n",
    "```\n",
    "\n",
    "Answer: 16\n",
    "\n",
    "Note: root node with depth 0 (ZERO); node 9 with depth: 3\n"
   ]
  },
  {
   "cell_type": "code",
   "execution_count": 1,
   "id": "4c5d550f",
   "metadata": {},
   "outputs": [
    {
     "name": "stdout",
     "output_type": "stream",
     "text": [
      "16\n"
     ]
    }
   ],
   "source": [
    "\"\"\"\n",
    "    approach: recursive\n",
    "        helper function\n",
    "            default current_depth = 0,\n",
    "            if node is none => return 0\n",
    "            return current_depth + helper(left node, current_depth + 1) + helper(right node, current_depth + 1)\n",
    "\n",
    "Time Complexity: O(n) - n is the total number of nodes\n",
    "Space Compexity: O(h) - h is the height of the binary tree; \n",
    "                 Reason: Refer to the example, the leftmost branch\n",
    "                 For every recursive function call, it will generate a variable d\n",
    "                 d + f(left node - 2) + f(right node - 3) \n",
    "                 [Consider the leftmost branch first]\n",
    "                 => d + (d + (d + f(left node - 4)) + f(right node -3))\n",
    "                 => d + (d + (d + (d + f(left node - 8))) + f(right node -3))\n",
    "                 it will generate 4 number of variable d \n",
    "                 \n",
    "\"\"\"\n",
    "class Node:\n",
    "    def __init__(self, value):\n",
    "        self.value = value\n",
    "        self.left = None\n",
    "        self.right = None\n",
    "        \n",
    "def node_depths_helper(node, curr_depth):\n",
    "    if node == None:\n",
    "        return 0\n",
    "    return curr_depth + node_depths_helper(node.left, curr_depth + 1) + node_depths_helper(node.right, curr_depth + 1)\n",
    "    \n",
    "def node_depths(node):\n",
    "    return node_depths_helper(node, 0)\n",
    "\n",
    "root = Node(1)\n",
    "root.left = Node(2)\n",
    "root.right = Node(3)\n",
    "root.left.left = Node(4)\n",
    "root.left.right = Node(5)\n",
    "root.left.left.left = Node(8)\n",
    "root.left.left.right = Node(9)\n",
    "root.right.left = Node(6)\n",
    "root.right.right = Node(7)\n",
    "\n",
    "print(node_depths(root))"
   ]
  },
  {
   "cell_type": "code",
   "execution_count": 2,
   "id": "38ca9b87",
   "metadata": {},
   "outputs": [
    {
     "name": "stdout",
     "output_type": "stream",
     "text": [
      "16\n"
     ]
    }
   ],
   "source": [
    "\"\"\"\n",
    "    Iterative approach\n",
    "    \n",
    "Time Complexity: O(n) - n is the total number of nodes\n",
    "Space Complexity: O(h) - h is the height of the binary tree\n",
    "\"\"\"\n",
    "\n",
    "class Node:\n",
    "    def __init__(self, value):\n",
    "        self.value = value\n",
    "        self.left = None\n",
    "        self.right = None\n",
    "        \n",
    "root = Node(1)\n",
    "root.left = Node(2)\n",
    "root.right = Node(3)\n",
    "root.left.left = Node(4)\n",
    "root.left.right = Node(5)\n",
    "root.left.left.left = Node(8)\n",
    "root.left.left.right = Node(9)\n",
    "root.right.left = Node(6)\n",
    "root.right.right = Node(7)\n",
    "\n",
    "def node_depths_iterative(node):\n",
    "    total_depth = 0\n",
    "    stack = [(node, 0)]\n",
    "    \n",
    "    while len(stack) > 0:\n",
    "        curr_node, curr_depth = stack.pop()\n",
    "        total_depth = total_depth + curr_depth\n",
    "        \n",
    "        if curr_node.right is not None:\n",
    "            stack.append((curr_node.right, curr_depth+1))\n",
    "        if curr_node.left is not None:\n",
    "            stack.append((curr_node.left, curr_depth+1))\n",
    "        \n",
    "    return total_depth\n",
    "\n",
    "print(node_depths_iterative(root))"
   ]
  }
 ],
 "metadata": {
  "kernelspec": {
   "display_name": "Python 3 (ipykernel)",
   "language": "python",
   "name": "python3"
  },
  "language_info": {
   "codemirror_mode": {
    "name": "ipython",
    "version": 3
   },
   "file_extension": ".py",
   "mimetype": "text/x-python",
   "name": "python",
   "nbconvert_exporter": "python",
   "pygments_lexer": "ipython3",
   "version": "3.8.5"
  }
 },
 "nbformat": 4,
 "nbformat_minor": 5
}
