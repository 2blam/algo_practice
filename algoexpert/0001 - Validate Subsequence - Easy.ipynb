{
 "cells": [
  {
   "cell_type": "markdown",
   "id": "da6b9861",
   "metadata": {},
   "source": [
    "Given two non-empty arrays of integers, write a function that determines whether the second array is a subsequence of the first one.\n",
    "\n",
    "\n",
    "For example:\n",
    "\n",
    "```Python\n",
    "array = [5, 1, 22, 25, 6, -1, 8, 10]\n",
    "sequence = [1, 6, -1, 10]\n",
    "```\n",
    "\n",
    "The output should be `True`.\n"
   ]
  },
  {
   "cell_type": "code",
   "execution_count": 1,
   "id": "fe9993d9",
   "metadata": {},
   "outputs": [
    {
     "name": "stdout",
     "output_type": "stream",
     "text": [
      "True\n"
     ]
    }
   ],
   "source": [
    "\"\"\"\n",
    "Time Complexity: O(n); n - number of elements in array\n",
    "Space Complexity: O(1); st_idx variable to store the index postition\n",
    "\"\"\"\n",
    "def validate_subsequence(array, sequence):\n",
    "    st_idx = 0\n",
    "    for i in range(len(array)):\n",
    "        if sequence[st_idx] == array[i]:\n",
    "            st_idx += 1\n",
    "            if st_idx == len(sequence):\n",
    "                return True\n",
    "    return False\n",
    "        \n",
    "# Testing\n",
    "array = [5, 1, 22, 25, 6, -1, 8, 10]\n",
    "sequence = [1, 6, -1, 10]\n",
    "print(validate_subsequence(array, sequence))"
   ]
  }
 ],
 "metadata": {
  "kernelspec": {
   "display_name": "Python 3 (ipykernel)",
   "language": "python",
   "name": "python3"
  },
  "language_info": {
   "codemirror_mode": {
    "name": "ipython",
    "version": 3
   },
   "file_extension": ".py",
   "mimetype": "text/x-python",
   "name": "python",
   "nbconvert_exporter": "python",
   "pygments_lexer": "ipython3",
   "version": "3.8.5"
  }
 },
 "nbformat": 4,
 "nbformat_minor": 5
}
