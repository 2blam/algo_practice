{
 "cells": [
  {
   "cell_type": "markdown",
   "id": "a80636c5",
   "metadata": {},
   "source": [
    "Write a function that takes in a non-empty array of integers and returns the maximum sum that can be obtained by summing up all the numbers in a non-empty subarray of the input array. A subarray must only contain adjacent numbers. \n",
    "\n",
    "Example:\n",
    "\n",
    "input: \n",
    "```[3, 5, -9, 1, 3, -2, 3, 4, 7, 2, -9, 6, 3, 1, -5, 4]```\n",
    "\n",
    "output: \n",
    "```19```\n",
    "\n",
    "Reason: ```[1, 3, -2, 3, 4, 7, 2, -9, 6, 3, 1]```"
   ]
  },
  {
   "cell_type": "code",
   "execution_count": 1,
   "id": "d196ea51",
   "metadata": {},
   "outputs": [
    {
     "name": "stdout",
     "output_type": "stream",
     "text": [
      "19\n"
     ]
    }
   ],
   "source": [
    "\"\"\"\n",
    "    Approach: Dynamic Programming [BETTER - save space]\n",
    "    Example: \n",
    "    array = [3, 5, -9, 1, 3, -2, 3, 4, 7, 2, -9, 6, 3, 1, -5, 4]\n",
    "    for end_idx from 0 to end of array\n",
    "        1) get the previous subarray sum\n",
    "        2) get the current value\n",
    "        assign the prev_subarray_sum = max between (1) and (2)\n",
    "\n",
    "Time Complexity: O(n) - number of elements in input array\n",
    "Space Complexiy: O(1) - constant\n",
    "\"\"\"\n",
    "\n",
    "def max_sum(array):\n",
    "    max_sum = float(\"-inf\")\n",
    "    prev_subarray_sum = array[0]\n",
    "    for current in array[1:]:\n",
    "        subarray_sum = prev_subarray_sum + current\n",
    "        prev_subarray_sum = max(current, subarray_sum)\n",
    "        max_sum = max(prev_subarray_sum, max_sum)\n",
    "\n",
    "    return max_sum\n",
    "\n",
    "array = [3, 5, -9, 1, 3, -2, 3, 4, 7, 2, -9, 6, 3, 1, -5, 4]\n",
    "\n",
    "print(max_sum(array))"
   ]
  },
  {
   "cell_type": "code",
   "execution_count": 2,
   "id": "a8a0691a",
   "metadata": {},
   "outputs": [
    {
     "name": "stdout",
     "output_type": "stream",
     "text": [
      "19\n"
     ]
    }
   ],
   "source": [
    "\"\"\"\n",
    "    Approach: Dynamic Programming\n",
    "    Example: \n",
    "    array = [3, 5, -9, 1, 3, -2, 3, 4, 7, 2, -9, 6, 3, 1, -5, 4]\n",
    "    for end_idx from 0 to end of array\n",
    "        1) get the subarray sum\n",
    "        2) get the current value\n",
    "        assign the result[end_idx] = max between (1) and (2)\n",
    "\n",
    "Time Complexity: O(n) - number of elements in input array\n",
    "Space Complexiy: O(n)\n",
    "\"\"\"\n",
    "\n",
    "def max_sum(array):\n",
    "    max_sum = float(\"-inf\")\n",
    "    result = [0] * len(array)\n",
    "    for end_idx in range(len(array)):\n",
    "        if end_idx == 0:\n",
    "            result[end_idx] = array[end_idx]\n",
    "            continue\n",
    "            \n",
    "        current = array[end_idx]\n",
    "        subarray_sum = result[end_idx-1] + current\n",
    "        assign_value = max(current, subarray_sum)\n",
    "        result[end_idx] = assign_value\n",
    "        if assign_value > max_sum: \n",
    "            max_sum = assign_value\n",
    "\n",
    "    return max_sum\n",
    "\n",
    "array = [3, 5, -9, 1, 3, -2, 3, 4, 7, 2, -9, 6, 3, 1, -5, 4]\n",
    "\n",
    "print(max_sum(array))"
   ]
  }
 ],
 "metadata": {
  "kernelspec": {
   "display_name": "Python 3 (ipykernel)",
   "language": "python",
   "name": "python3"
  },
  "language_info": {
   "codemirror_mode": {
    "name": "ipython",
    "version": 3
   },
   "file_extension": ".py",
   "mimetype": "text/x-python",
   "name": "python",
   "nbconvert_exporter": "python",
   "pygments_lexer": "ipython3",
   "version": "3.8.5"
  }
 },
 "nbformat": 4,
 "nbformat_minor": 5
}
