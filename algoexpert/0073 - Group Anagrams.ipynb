{
 "cells": [
  {
   "cell_type": "markdown",
   "id": "53170d85",
   "metadata": {},
   "source": [
    "Given an array of strings strs, group the anagrams together. You can return the answer in any order.\n",
    "\n",
    "An Anagram is a word or phrase formed by rearranging the letters of a different word or phrase, typically using all the original letters exactly once.\n",
    "\n",
    "Example:\n",
    "input:\n",
    "```\n",
    "strs = [\"yo\", \"act\", \"flop\", \"tac\", \"cat\", \"oy\", \"olfp\"]\n",
    "```\n",
    "\n",
    "output:\n",
    "```\n",
    "[[\"yo\", \"oy\"], [\"flop\", \"olfp\"], [\"act\", \"tac\", \"cat\"]]\n",
    "```"
   ]
  },
  {
   "cell_type": "code",
   "execution_count": 1,
   "id": "706b2d14",
   "metadata": {},
   "outputs": [
    {
     "name": "stdout",
     "output_type": "stream",
     "text": [
      "[['yo', 'oy'], ['act', 'tac', 'cat'], ['flop', 'olfp']]\n"
     ]
    }
   ],
   "source": [
    "\"\"\"\n",
    "    IDEA:\n",
    "        - create a hashmap - d\n",
    "        - get each element in the input array\n",
    "        - sort the element and use it as key in hashmap\n",
    "            - if key exists => append the element in values\n",
    "            - if not exists => d[sorted_element] = [element]\n",
    "        - return all values in hashmap\n",
    "        \n",
    "Time Complexity: O(n * (c log c)) - n - number of elements; c - the max number of characters; \n",
    "                                each element in n, sort the word - c log c\n",
    "Space Complexity: O(n c) - hashtable with all the groups\n",
    "\"\"\"\n",
    "\n",
    "def group_anagrams(strs):\n",
    "    d = {}\n",
    "    for e in strs:\n",
    "        sorted_e = \"\".join(sorted(e))\n",
    "        if sorted_e in d:\n",
    "            d[sorted_e].append(e)\n",
    "        else:\n",
    "            d[sorted_e] = [e]\n",
    "            \n",
    "    return list(d.values())\n",
    "\n",
    "strs = [\"yo\", \"act\", \"flop\", \"tac\", \"cat\", \"oy\", \"olfp\"]\n",
    "print(group_anagrams(strs))"
   ]
  }
 ],
 "metadata": {
  "kernelspec": {
   "display_name": "Python 3 (ipykernel)",
   "language": "python",
   "name": "python3"
  },
  "language_info": {
   "codemirror_mode": {
    "name": "ipython",
    "version": 3
   },
   "file_extension": ".py",
   "mimetype": "text/x-python",
   "name": "python",
   "nbconvert_exporter": "python",
   "pygments_lexer": "ipython3",
   "version": "3.8.5"
  }
 },
 "nbformat": 4,
 "nbformat_minor": 5
}
