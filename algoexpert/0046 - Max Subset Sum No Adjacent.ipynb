{
 "cells": [
  {
   "cell_type": "markdown",
   "id": "2891ff14",
   "metadata": {},
   "source": [
    "Write a function that takes in an array of positive intergers and returns the maximum sum of non-adjacent elements in the array.\n",
    "\n",
    "If a sum can't be generated, the function should return ```0```.\n",
    "\n",
    "Example 1:\n",
    "\n",
    "input:\n",
    "```\n",
    "array = [75, 105, 120, 75, 90, 135]\n",
    "```\n",
    "\n",
    "sample output:\n",
    "```\n",
    "330\n",
    "```\n",
    "\n",
    "Example 2:\n",
    "input:\n",
    "```\n",
    "array = [7, 10, 12, 7, 9, 14]\n",
    "```\n",
    "\n",
    "sample ouptut:\n",
    "```\n",
    "33\n",
    "```\n",
    "Reason: 7 + 12 + 14 = 33"
   ]
  },
  {
   "cell_type": "code",
   "execution_count": 1,
   "id": "6fb2d72a",
   "metadata": {},
   "outputs": [
    {
     "name": "stdout",
     "output_type": "stream",
     "text": [
      "330\n",
      "33\n"
     ]
    }
   ],
   "source": [
    "\"\"\"\n",
    "    Approach: Dynamic Programming (DP) \n",
    "    Example:\n",
    "        array:    [7, 10, 12,  7,  9, 14]\n",
    "        max_sums: [7, 10, 19, 19, 28, 33]\n",
    "        \n",
    "        max_sums[i] = max betwen (1) max_sums[i-1] and (2) max_sums[i-2] + array[i]\n",
    "        \n",
    "    Base case:\n",
    "        max_sums[0] = array[0] = 7\n",
    "        max_sums[1] = array[1] = 10\n",
    "        max_sums[2] = max(max_sums[2-1], max_sums[2-2]+array[2])\n",
    "                    => max(10, 7 + 12) => max(10, 19) = 19\n",
    "        => can further improve the space complexity\n",
    "            => we only need to keep track i-2 and i-1 elements\n",
    "            => let's use first and second as variables\n",
    "\n",
    "Time Complexity: O(n) - array with n elements\n",
    "Space Complexity: O(1) - constant space [Better]\n",
    "\"\"\"\n",
    "\n",
    "def max_subset_sum_no_adj(array):\n",
    "    if not len(array):\n",
    "        return None\n",
    "    elif len(array)==1:\n",
    "        return array[0]\n",
    "    else:\n",
    "        first = array[0]\n",
    "        second = max(array[0], array[1])\n",
    "        for i in range(2, len(array)):\n",
    "            #max_sums[i] = max(max_sums[i-1], max_sums[i-2]+array[i])\n",
    "            curr_max_sum = max(second, first+array[i])\n",
    "            first = second\n",
    "            second = curr_max_sum\n",
    "        return curr_max_sum\n",
    "\n",
    "array = [75, 105, 120, 75, 90, 135]\n",
    "print(max_subset_sum_no_adj(array))\n",
    "\n",
    "array = [7, 10, 12, 7, 9, 14]\n",
    "print(max_subset_sum_no_adj(array))"
   ]
  },
  {
   "cell_type": "code",
   "execution_count": 2,
   "id": "d2571609",
   "metadata": {},
   "outputs": [
    {
     "name": "stdout",
     "output_type": "stream",
     "text": [
      "330\n",
      "33\n"
     ]
    }
   ],
   "source": [
    "\"\"\"\n",
    "    Approach: Dynamic Programming (DP)\n",
    "    Example:\n",
    "        array:    [7, 10, 12,  7,  9, 14]\n",
    "        max_sums: [7, 10, 19, 19, 28, 33]\n",
    "        \n",
    "        max_sums[i] = max betwen (1) max_sums[i-1] and (2) max_sums[i-2] + array[i]\n",
    "        \n",
    "    Base case:\n",
    "        max_sums[0] = array[0] = 7\n",
    "        max_sums[1] = array[1] = 10\n",
    "        max_sums[2] = max(max_sums[2-1], max_sums[2-2]+array[2])\n",
    "                    => max(10, 7 + 12) => max(10, 19) = 19\n",
    "\n",
    "Time Complexity: O(n) - array with n elements\n",
    "Space Complexity: O(n) - built a max_sums array with n elements\n",
    "\"\"\"\n",
    "\n",
    "def max_subset_sum_no_adj(array):\n",
    "    if not len(array):\n",
    "        return None\n",
    "    elif len(array)==1:\n",
    "        return array[0]\n",
    "    else:\n",
    "        max_sums=[None]*len(array)\n",
    "        max_sums[0] = array[0]\n",
    "        max_sums[1] = array[1]\n",
    "        for i in range(2, len(array)):\n",
    "            max_sums[i] = max(max_sums[i-1], max_sums[i-2]+array[i])\n",
    "        return max_sums[-1]\n",
    "\n",
    "array = [75, 105, 120, 75, 90, 135]\n",
    "print(max_subset_sum_no_adj(array))\n",
    "\n",
    "array = [7, 10, 12, 7, 9, 14]\n",
    "print(max_subset_sum_no_adj(array))"
   ]
  }
 ],
 "metadata": {
  "kernelspec": {
   "display_name": "Python 3 (ipykernel)",
   "language": "python",
   "name": "python3"
  },
  "language_info": {
   "codemirror_mode": {
    "name": "ipython",
    "version": 3
   },
   "file_extension": ".py",
   "mimetype": "text/x-python",
   "name": "python",
   "nbconvert_exporter": "python",
   "pygments_lexer": "ipython3",
   "version": "3.8.5"
  }
 },
 "nbformat": 4,
 "nbformat_minor": 5
}
