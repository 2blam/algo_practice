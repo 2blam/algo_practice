{
 "cells": [
  {
   "cell_type": "markdown",
   "id": "cc1b1f05",
   "metadata": {},
   "source": [
    "Write a function accepts elements generate the powerset - the set of the subset.\n",
    "\n",
    "Example:\n",
    "\n",
    "input:\n",
    "```\n",
    "array = [1, 2, 3]\n",
    "```\n",
    "\n",
    "output:\n",
    "```\n",
    "[[], [1], [2], [3], [1, 2], [1, 3], [2, 3], [1, 2, 3]]\n",
    "```"
   ]
  },
  {
   "cell_type": "code",
   "execution_count": 1,
   "id": "448db20b",
   "metadata": {},
   "outputs": [
    {
     "name": "stdout",
     "output_type": "stream",
     "text": [
      "[[], [1], [2], [1, 2], [3], [1, 3], [2, 3], [1, 2, 3]]\n"
     ]
    }
   ],
   "source": [
    "\"\"\"\n",
    "    IDEA: Iterative (easier)\n",
    "    init subset with [[]]\n",
    "    loop each element e in array:\n",
    "        based on elements in current subset\n",
    "            append the e with the elements in subset \n",
    "            add the resultant item back\n",
    "\n",
    "Time Complexity: O(2^n * n / 2) => O(2^n * n)\n",
    "               lst iter => 1\n",
    "               2nd iter => 2\n",
    "               3rd iter => 4\n",
    "               4th iter => 8\n",
    "               [doubling the subset; 2^n]\n",
    "               total subset: 2^n - each subset with n / 2 elements (avg)\n",
    "Space Complexity: O(2^n * n / 2) => O(2^n * n)      \n",
    "\"\"\"\n",
    "\n",
    "def get_powerset(array):\n",
    "    subsets = [[]]\n",
    "    for e in array:\n",
    "        for i in range(len(subsets)):\n",
    "            current_subset = subsets[i]\n",
    "            subsets.append(current_subset + [e])\n",
    "            \n",
    "    return subsets\n",
    "\n",
    "result = get_powerset([1, 2, 3])\n",
    "print(result)"
   ]
  },
  {
   "cell_type": "code",
   "execution_count": 2,
   "id": "fa45c5ac",
   "metadata": {},
   "outputs": [
    {
     "name": "stdout",
     "output_type": "stream",
     "text": [
      "[[], [1], [2], [1, 2], [3], [1, 3], [2, 3], [1, 2, 3]]\n"
     ]
    }
   ],
   "source": [
    "\"\"\"\n",
    "    IDEA: recrusive\n",
    "    Powerset([1, 2, 3]) = Powerset([1, 2]) + [3]\n",
    "Time Complexity: O(2^n * n / 2) => O(2^n * n)\n",
    "Space Complexity: O(2^n * n / 2) => O(2^n * n)          \n",
    "\"\"\"\n",
    "\n",
    "def get_powerset(array, idx = None):\n",
    "    if idx is None:\n",
    "        idx = len(array) - 1\n",
    "    elif idx < 0:\n",
    "        return [[]]\n",
    "\n",
    "    ele = array[idx]\n",
    "    subsets = get_powerset(array, idx - 1)\n",
    "    for i in range(len(subsets)):\n",
    "        current_subset = subsets[i]\n",
    "        subsets.append(current_subset + [ele])\n",
    "    return subsets\n",
    "\n",
    "result = get_powerset([1, 2, 3])\n",
    "print(result)"
   ]
  }
 ],
 "metadata": {
  "kernelspec": {
   "display_name": "Python 3 (ipykernel)",
   "language": "python",
   "name": "python3"
  },
  "language_info": {
   "codemirror_mode": {
    "name": "ipython",
    "version": 3
   },
   "file_extension": ".py",
   "mimetype": "text/x-python",
   "name": "python",
   "nbconvert_exporter": "python",
   "pygments_lexer": "ipython3",
   "version": "3.8.5"
  }
 },
 "nbformat": 4,
 "nbformat_minor": 5
}
