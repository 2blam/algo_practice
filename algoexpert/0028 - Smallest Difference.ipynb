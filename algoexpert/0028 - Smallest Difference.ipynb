{
 "cells": [
  {
   "cell_type": "markdown",
   "id": "26569c94",
   "metadata": {},
   "source": [
    "Write a function that takes in two non-empty arrays of integers, finds the pair of numbers (one from each array) whose absolute difference is closest to zero, and returns an array containing these two numbers, with the number from the first array in the first position.\n",
    "\n",
    "Note that the absolute difference of two integers is the distance between them on the real number line. For example, the absolute difference of -5 and 5 is 10, and the absolute difference of -5 and -4 is 1.\n",
    "\n",
    "You can assume that there will only be one pair of numbers with the smallest difference.\n",
    "\n",
    "Example:\n",
    "\n",
    "input:\n",
    "```\n",
    "array_one = [-1, 5, 10, 20, 28, 3]\n",
    "array_two= [26, 134, 135, 15, 17]\n",
    "```\n",
    "\n",
    "output:\n",
    "```\n",
    "[28, 26]\n",
    "```"
   ]
  },
  {
   "cell_type": "code",
   "execution_count": 1,
   "id": "c5a73487",
   "metadata": {},
   "outputs": [
    {
     "name": "stdout",
     "output_type": "stream",
     "text": [
      "[28, 26]\n"
     ]
    }
   ],
   "source": [
    "\"\"\"\n",
    "    IDEA: pointers\n",
    "        - array_one sorted (asc order)\n",
    "        - array_two sorted (asc order)\n",
    "        - each array with pointer start from idx 0\n",
    "        - while the pointer is not out of boundary\n",
    "            - check if the array_one[idx1] is smaller than array_two[idx2] ?\n",
    "                => Yes, move idx1 to next element\n",
    "                => No, move idx2 to next element\n",
    "            - \n",
    "\n",
    "Time Complexity: O(n log n + m log m) - n - number of elements in n; m - number of elements in m\n",
    "Space Complexity: O(1) - constant space\n",
    "\"\"\"\n",
    "\n",
    "def smallest_difference(array_one, array_two):\n",
    "    array_one.sort()\n",
    "    array_two.sort()\n",
    "    \n",
    "    a1_pt, a2_pt = 0, 0\n",
    "    curr_min = float(\"inf\")\n",
    "    curr_pair = None\n",
    "    \n",
    "    while (a1_pt < len(array_one) and a2_pt < len(array_two)):\n",
    "        a1_num = array_one[a1_pt]\n",
    "        a2_num = array_two[a2_pt]\n",
    "        \n",
    "        # abs diff\n",
    "        abs_diff = abs(array_one[a1_pt] - array_two[a2_pt])\n",
    "        \n",
    "        # checking\n",
    "        if a1_num < a2_num:\n",
    "            a1_pt = a1_pt + 1\n",
    "        elif a1_num > a2_num:\n",
    "            a2_pt = a2_pt + 1\n",
    "        else: # exact the same\n",
    "            return [a1_num, a2_num]\n",
    "        \n",
    "        if curr_min > abs_diff:\n",
    "            curr_min = abs_diff\n",
    "            curr_pair = [a1_num, a2_num]\n",
    "                \n",
    "    return curr_pair        \n",
    "\n",
    "\n",
    "\n",
    "array_one = [-1, 5, 10, 20, 28, 3]\n",
    "array_two= [26, 134, 135, 15, 17]\n",
    "\n",
    "print(smallest_difference(array_one, array_two))"
   ]
  }
 ],
 "metadata": {
  "kernelspec": {
   "display_name": "Python 3 (ipykernel)",
   "language": "python",
   "name": "python3"
  },
  "language_info": {
   "codemirror_mode": {
    "name": "ipython",
    "version": 3
   },
   "file_extension": ".py",
   "mimetype": "text/x-python",
   "name": "python",
   "nbconvert_exporter": "python",
   "pygments_lexer": "ipython3",
   "version": "3.8.5"
  }
 },
 "nbformat": 4,
 "nbformat_minor": 5
}
