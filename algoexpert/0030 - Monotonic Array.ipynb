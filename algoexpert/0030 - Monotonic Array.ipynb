{
 "cells": [
  {
   "cell_type": "markdown",
   "id": "44c7095f",
   "metadata": {},
   "source": [
    "Write a function that takes in an array of integers and returns a boolean representing whether the array is monotonic.\n",
    "\n",
    "An array is said to be monotonic if its elements, from left to right, are entirely non-increasing or entirely non-decreasing.\n",
    "\n",
    "Non-increasing elements aren't necessarily exclusively decreasing they simply don't increase. Similarly, non-decreasing elements aren't necessarily exclusively increaseing they simply don't decrease.\n",
    "\n",
    "Note that empty array and arrays of one elements are monotonic.\n",
    "\n",
    "Example:\n",
    "\n",
    "input:\n",
    "```\n",
    "array = [-1, -5, -10, -1100, -1100, -1101, -1102, -9001]\n",
    "```\n",
    "\n",
    "output:\n",
    "```\n",
    "True\n",
    "```"
   ]
  },
  {
   "cell_type": "code",
   "execution_count": 1,
   "id": "b3e81c40",
   "metadata": {},
   "outputs": [
    {
     "name": "stdout",
     "output_type": "stream",
     "text": [
      "True\n",
      "True\n",
      "False\n",
      "False\n"
     ]
    }
   ],
   "source": [
    "\"\"\"\n",
    "    IDEA: two pointers [BETTER]\n",
    "    - keep tracking both cases about increasing or decreasing\n",
    "    - if everything fine, either one of them will be True\n",
    "    - However, if there is something invalid, both of them will be False\n",
    "\n",
    "\"\"\"\n",
    "\n",
    "def monotonic_array(array):\n",
    "    is_increasing = True\n",
    "    is_descreasing = True\n",
    "    for i in range(1, len(array)):\n",
    "        if array[i] == array[i-1]:\n",
    "            continue\n",
    "        if array[i] > array[i-1]:\n",
    "            is_increasing = False\n",
    "        if array[i] < array[i-1]:\n",
    "            is_descreasing = False \n",
    "\n",
    "    return (is_increasing or is_descreasing)\n",
    "            \n",
    "                \n",
    "array = [0, -5, -10, -1100, -1100, -1101, -1102, -9001]\n",
    "print(monotonic_array(array))\n",
    "\n",
    "array = [1, 1, 1]\n",
    "print(monotonic_array(array))\n",
    "\n",
    "array = [1, 1, 1, 2, 2, -3, -3, -3]\n",
    "print(monotonic_array(array))\n",
    "\n",
    "array = [1, 2, -1, 2, 1]\n",
    "print(monotonic_array(array))"
   ]
  },
  {
   "cell_type": "code",
   "execution_count": 2,
   "id": "d8e58b22",
   "metadata": {},
   "outputs": [
    {
     "name": "stdout",
     "output_type": "stream",
     "text": [
      "True\n",
      "True\n",
      "False\n",
      "False\n"
     ]
    }
   ],
   "source": [
    "\"\"\"\n",
    "    IDEA: two pointer\n",
    "    first, second = 0, 1\n",
    "    direction = second - first\n",
    "    for idx from 2nd till the end\n",
    "        curr = array[idx]\n",
    "        prev = array[idx]\n",
    "        if direction == 0: # direction is 0, update it\n",
    "            direction = curr - prev\n",
    "            continue\n",
    "        else:\n",
    "            if two number are difference, then check if they are in the same direction\n",
    "            if two numbes are equal, then do nothing, move to the next pair\n",
    "\n",
    "Time Complexity: O(n)\n",
    "Space Complexity: O(1)\n",
    "\"\"\"\n",
    "\n",
    "def monotonic_array(array):\n",
    "    if len(array) <= 2:\n",
    "        return True\n",
    "    \n",
    "    direction = array[1] - array[0] \n",
    "\n",
    "    for i in range(2, len(array)):\n",
    "        if direction == 0: # if the beginning elements are the same\n",
    "            direction = array[i] - array[i-1]\n",
    "            continue\n",
    "        # checking \n",
    "        if (direction > 0 and array[i] < array[i-1]) or \\\n",
    "            (direction < 0 and array[i] > array[i-1]):\n",
    "                return False\n",
    "#         if array[i] == array[i-1]: \n",
    "#             continue\n",
    "    return True\n",
    "            \n",
    "\n",
    "\n",
    "array = [-1, -5, -10, -1100, -1100, -1101, -1102, -9001]\n",
    "print(monotonic_array(array))\n",
    "\n",
    "array = [1, 1, 1]\n",
    "print(monotonic_array(array))\n",
    "\n",
    "array = [1, 1, 1, 2, 2, -3, -3, -3]\n",
    "print(monotonic_array(array))\n",
    "\n",
    "array = [1, 2, 1, 2, 1]\n",
    "print(monotonic_array(array))"
   ]
  }
 ],
 "metadata": {
  "kernelspec": {
   "display_name": "Python 3 (ipykernel)",
   "language": "python",
   "name": "python3"
  },
  "language_info": {
   "codemirror_mode": {
    "name": "ipython",
    "version": 3
   },
   "file_extension": ".py",
   "mimetype": "text/x-python",
   "name": "python",
   "nbconvert_exporter": "python",
   "pygments_lexer": "ipython3",
   "version": "3.8.5"
  }
 },
 "nbformat": 4,
 "nbformat_minor": 5
}
