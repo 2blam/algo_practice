{
 "cells": [
  {
   "cell_type": "markdown",
   "id": "846a3efd",
   "metadata": {},
   "source": [
    "Using a phone dial pad , we can see that there are letters associated to each number, except 1 and 0.\n",
    "\n",
    "|    |   |    |\n",
    "|----|---|----|\n",
    "| 1  | 2 | 3  |\n",
    "|    |abc|def |\n",
    "| 4  | 5 | 6  |\n",
    "|ghi |jkl|mno |\n",
    "| 7  | 8 | 9  |\n",
    "|pqrs|tuv|wxyz|\n",
    "|    | 0 |    |\n",
    "|    |   |    |\n",
    "\n",
    "Example:\n",
    "input:\n",
    "```\n",
    "1905\n",
    "```\n",
    "\n",
    "output:\n",
    "```\n",
    "[\n",
    "\"1w0j\",\n",
    "\"1w0k\",\n",
    "\"1w0l\",\n",
    "\"1x0j\",\n",
    "\"1x0k\",\n",
    "\"1x0l\",\n",
    "\"1y0j\",\n",
    "\"1y0k\",\n",
    "\"1y0l\",\n",
    "\"1z0j\",\n",
    "\"1z0k\",\n",
    "\"1z0l\"]\n",
    "```"
   ]
  },
  {
   "cell_type": "code",
   "execution_count": 1,
   "id": "0511120e",
   "metadata": {},
   "outputs": [
    {
     "data": {
      "text/plain": [
       "['1w0j',\n",
       " '1w0k',\n",
       " '1w0l',\n",
       " '1x0j',\n",
       " '1x0k',\n",
       " '1x0l',\n",
       " '1y0j',\n",
       " '1y0k',\n",
       " '1y0l',\n",
       " '1z0j',\n",
       " '1z0k',\n",
       " '1z0l']"
      ]
     },
     "execution_count": 1,
     "metadata": {},
     "output_type": "execute_result"
    }
   ],
   "source": [
    "\"\"\"\n",
    "    IDEA: recrusive\n",
    "        1) prepare the template first e.g. [0, 0, 0, 0]\n",
    "        2) for each digit from range 0 -> len(digit)\n",
    "            get the letters from that digit\n",
    "                change the template position with letter\n",
    "                call helper function, pass with the template, idx + 1 value\n",
    "    \n",
    "Time Complexity: O(4 ^ n * n): \n",
    "                    1) worst case, 1 number represents 4 characters\n",
    "                       we have n digits => call stack 4 ^ n\n",
    "                    2) every time we reach the base case, we have to combine the n elements to string\n",
    "Space Complexity: O(4 ^ n * n)\n",
    "\"\"\"\n",
    "\n",
    "mapping = {\n",
    "        '0': ['0'],\n",
    "        '1': ['1'],\n",
    "        '2': ['a', 'b', 'c'],\n",
    "        '3': ['d', 'e', 'f'],\n",
    "        '4': ['g', 'h', 'i'],\n",
    "        '5': ['j', 'k', 'l'],\n",
    "        '6': ['m', 'n', 'o'],\n",
    "        '7': ['p', 'q', 'r', 's'],\n",
    "        '8': ['t', 'u', 'v'],\n",
    "        '9': ['w', 'x', 'y','z']\n",
    "    }\n",
    "\n",
    "def get_mnemonics_helper(idx, phone_nums, curr_mnemonics, result):\n",
    "    if idx == len(phone_nums): \n",
    "        s = ''.join(curr_mnemonics) # O(n) time\n",
    "        result.append(s)\n",
    "    else:\n",
    "        digit = phone_nums[idx] # extract the digit\n",
    "        letters = mapping[digit]\n",
    "        for letter in letters:\n",
    "            curr_mnemonics[idx] = letter\n",
    "            get_mnemonics_helper(idx+1, phone_nums, curr_mnemonics, result)\n",
    "    \n",
    "\n",
    "def get_mnemonics(phone_nums):\n",
    "    phone_nums = str(phone_nums)\n",
    "    curr_mnemonics = ['0'] * len(phone_nums)\n",
    "    \n",
    "    result = []\n",
    "    get_mnemonics_helper(0, phone_nums, curr_mnemonics, result)\n",
    "    \n",
    "    return result\n",
    "    \n",
    "get_mnemonics(1905)"
   ]
  },
  {
   "cell_type": "code",
   "execution_count": 2,
   "id": "4386fc87",
   "metadata": {},
   "outputs": [
    {
     "data": {
      "text/plain": [
       "['1w0j',\n",
       " '1w0k',\n",
       " '1w0l',\n",
       " '1x0j',\n",
       " '1x0k',\n",
       " '1x0l',\n",
       " '1y0j',\n",
       " '1y0k',\n",
       " '1y0l',\n",
       " '1z0j',\n",
       " '1z0k',\n",
       " '1z0l']"
      ]
     },
     "execution_count": 2,
     "metadata": {},
     "output_type": "execute_result"
    }
   ],
   "source": [
    "mapping = {\n",
    "    '0': ['0'],\n",
    "    '1': ['1'],\n",
    "    '2': ['a', 'b', 'c'],\n",
    "    '3': ['d', 'e', 'f'],\n",
    "    '4': ['g', 'h', 'i'],\n",
    "    '5': ['j', 'k', 'l'],\n",
    "    '6': ['m', 'n', 'o'],\n",
    "    '7': ['p', 'q', 'r', 's'],\n",
    "    '8': ['t', 'u', 'v'],\n",
    "    '9': ['w', 'x', 'y','z']\n",
    "}\n",
    "\n",
    "def get_menomonics(nums):\n",
    "    result = [\"\"]\n",
    "    for d in str(nums):\n",
    "        tmp = []\n",
    "        for i in range(len(result)):\n",
    "            r = result[i]\n",
    "            for e in mapping[d]:\n",
    "                tmp.append(r + \"\" + e)\n",
    "        result = tmp\n",
    "    return result\n",
    "\n",
    "get_menomonics(1905)\n"
   ]
  }
 ],
 "metadata": {
  "kernelspec": {
   "display_name": "Python 3 (ipykernel)",
   "language": "python",
   "name": "python3"
  },
  "language_info": {
   "codemirror_mode": {
    "name": "ipython",
    "version": 3
   },
   "file_extension": ".py",
   "mimetype": "text/x-python",
   "name": "python",
   "nbconvert_exporter": "python",
   "pygments_lexer": "ipython3",
   "version": "3.8.5"
  }
 },
 "nbformat": 4,
 "nbformat_minor": 5
}
