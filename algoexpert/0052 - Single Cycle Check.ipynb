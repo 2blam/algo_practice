{
 "cells": [
  {
   "cell_type": "markdown",
   "id": "419f212c",
   "metadata": {},
   "source": [
    "You’re given an array of integers where each integer represents a jump of its value in an array. For instance, the integer 2 represents a jump of two indices forward in the array; the integer -3 represents a jump of three indices backward in the array.\n",
    "\n",
    "If a jump spills past the array’s bounds, it wraps over to the other side. For instance, a jump of -1 at index 0 brings us to the last index in the array. Similarly, a jump of 1 at the past index in the array brings us to index 0.\n",
    "\n",
    "Write a function that returns a boolean representing whether the jumps in the array form a single cycle. A single cycle occurs if, starting at any index in the array and following the jumps, every element is visited exactly once before landing back on the starting index.\n",
    "\n",
    "Example:\n",
    "\n",
    "input:\n",
    "```\n",
    "array = [2, 2, -1]\n",
    "```\n",
    "\n",
    "output:\n",
    "```\n",
    "True\n",
    "```\n",
    "\n",
    "Example 2:\n",
    "\n",
    "input:\n",
    "```\n",
    "array = [1, -1, 1]\n",
    "```\n",
    "\n",
    "output:\n",
    "```\n",
    "False\n",
    "```"
   ]
  },
  {
   "cell_type": "code",
   "execution_count": 1,
   "id": "c01b000f",
   "metadata": {},
   "outputs": [
    {
     "name": "stdout",
     "output_type": "stream",
     "text": [
      "True\n",
      "False\n",
      "True\n",
      "False\n"
     ]
    }
   ],
   "source": [
    "\"\"\"\n",
    "    Approach: [Better Approach, don't need to change the array element]\n",
    "   \n",
    "Time Complexity: O(n)\n",
    "Space Complexity: O(1)\n",
    "\"\"\"\n",
    "\n",
    "def single_cycle_check(array):\n",
    "    curr_idx = 0\n",
    "    visited = 0\n",
    "    while visited < len(array):\n",
    "        if curr_idx == 0 and visited > 0: # reach init point, but did not visit all elements \n",
    "            return False\n",
    "\n",
    "        next_idx = (curr_idx + array[curr_idx]) % len(array)\n",
    "        curr_idx = next_idx if next_idx >= 0 else len(array) + next_idx\n",
    "        visited = visited + 1\n",
    "    return curr_idx == 0 # IMPORTANT, check if it really go back to init point\n",
    "\n",
    "array = [2, 2, -1]\n",
    "print(single_cycle_check(array))\n",
    "\n",
    "array = [1, -1, 1]\n",
    "print(single_cycle_check(array))\n",
    "\n",
    "array = [2, 3, 1, -4, -4, 2]\n",
    "print(single_cycle_check(array))\n",
    "\n",
    "array = [2, 3, 1, -4, 1, 2]\n",
    "print(single_cycle_check(array))"
   ]
  },
  {
   "cell_type": "code",
   "execution_count": 2,
   "id": "d4c55f13",
   "metadata": {},
   "outputs": [
    {
     "name": "stdout",
     "output_type": "stream",
     "text": [
      "True\n",
      "False\n",
      "True\n",
      "False\n"
     ]
    }
   ],
   "source": [
    "\"\"\"\n",
    "    Approach: [Have to change the existing array]\n",
    "    array = [2, 2, -1]\n",
    "    curr_idx = 0\n",
    "    visited = 0\n",
    "    while True:\n",
    "        if array[curr_idx] != None:\n",
    "            next_idx = (curr_idx + array[curr_idx]) % len(array)\n",
    "            array[curr_idx] = None #visited\n",
    "            curr_idx = next_idx\n",
    "            visited = visit + 1\n",
    "        else:\n",
    "            break\n",
    "    return True if visited == len(array) AND curr_idx == 0 else False\n",
    "\n",
    "Time Complexity: O(n)\n",
    "Space Complexity: O(1)\n",
    "\"\"\"\n",
    "\n",
    "def single_cycle_check(array):\n",
    "    curr_idx = 0\n",
    "    visited = 0\n",
    "    while True:\n",
    "        if array[curr_idx] is not None:\n",
    "            next_idx = (curr_idx + array[curr_idx]) % len(array)\n",
    "            array[curr_idx] = None # visited\n",
    "            curr_idx = next_idx if next_idx >= 0 else len(array) + next_idx\n",
    "            visited = visited + 1\n",
    "        else:\n",
    "            break\n",
    "    return True if visited == len(array) and curr_idx == 0 else False\n",
    "\n",
    "array = [2, 2, -1]\n",
    "print(single_cycle_check(array))\n",
    "\n",
    "array = [1, -1, 1]\n",
    "print(single_cycle_check(array))\n",
    "\n",
    "array = [2, 3, 1, -4, -4, 2]\n",
    "print(single_cycle_check(array))\n",
    "\n",
    "array = [2, 3, 1, -4, 1, 2]\n",
    "print(single_cycle_check(array))"
   ]
  }
 ],
 "metadata": {
  "kernelspec": {
   "display_name": "Python 3 (ipykernel)",
   "language": "python",
   "name": "python3"
  },
  "language_info": {
   "codemirror_mode": {
    "name": "ipython",
    "version": 3
   },
   "file_extension": ".py",
   "mimetype": "text/x-python",
   "name": "python",
   "nbconvert_exporter": "python",
   "pygments_lexer": "ipython3",
   "version": "3.8.5"
  }
 },
 "nbformat": 4,
 "nbformat_minor": 5
}
