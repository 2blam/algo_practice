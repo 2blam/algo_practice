{
 "cells": [
  {
   "cell_type": "markdown",
   "id": "a90839bd",
   "metadata": {},
   "source": [
    "Write a function to group k pairs of tasks, i.e. they can complete the task as fast as possible. The number of the input array is the time needed to complete a task. The output array is the paired indexes of the input array.\n",
    "\n",
    "\n",
    "Example:\n",
    "\n",
    "input: \n",
    "```\n",
    "k = 3\n",
    "tasks = [1, 3, 5, 3, 1, 4]\n",
    "```\n",
    "\n",
    "output:\n",
    "```\n",
    "pairs = [[4, 2], [0, 5], [3, 1]]\n",
    "```\n",
    "Note: the order of the pair does not matter, i.e., [2, 4] or [4, 2] are the same"
   ]
  },
  {
   "cell_type": "code",
   "execution_count": 1,
   "id": "51f29441",
   "metadata": {},
   "outputs": [
    {
     "name": "stdout",
     "output_type": "stream",
     "text": [
      "[[4, 2], [0, 5], [3, 1]]\n"
     ]
    }
   ],
   "source": [
    "\"\"\"\n",
    "    IDEA:\n",
    "        1) sort the input array\n",
    "        2) get the related index\n",
    "        3) repeat k\n",
    "            pair left and right elements\n",
    "            left = left + 1\n",
    "            right = right - 1\n",
    "\n",
    "Time Complexity: O(n log n) - sort the array\n",
    "Space Complexity: O(n) - resultant array\n",
    "\"\"\"\n",
    "\n",
    "def task_assignment(k, tasks):\n",
    "    # value to index dictionary \n",
    "    d = {}\n",
    "    for i in range(len(tasks)):\n",
    "        t = tasks[i]\n",
    "        if t not in d:\n",
    "            d[t] = [i]\n",
    "        else:\n",
    "            d[t].append(i)\n",
    "    \n",
    "    paired_tasks = []\n",
    "    sorted_tasks = sorted(tasks)\n",
    "\n",
    "    # for each pair\n",
    "    for i in range(k):\n",
    "        # get the left and right element value\n",
    "        pair_left_value = sorted_tasks[i] \n",
    "        pair_right_value = sorted_tasks[len(tasks)-i-1]\n",
    "        \n",
    "        # get the original index from dictionary\n",
    "        pair = [d[pair_left_value].pop(), d[pair_right_value].pop()]\n",
    "        paired_tasks.append(pair)\n",
    "\n",
    "        \n",
    "    return paired_tasks\n",
    "\n",
    "k = 3\n",
    "tasks = [1, 3, 5, 3, 1, 4]\n",
    "\n",
    "print(task_assignment(k, tasks))"
   ]
  }
 ],
 "metadata": {
  "kernelspec": {
   "display_name": "Python 3 (ipykernel)",
   "language": "python",
   "name": "python3"
  },
  "language_info": {
   "codemirror_mode": {
    "name": "ipython",
    "version": 3
   },
   "file_extension": ".py",
   "mimetype": "text/x-python",
   "name": "python",
   "nbconvert_exporter": "python",
   "pygments_lexer": "ipython3",
   "version": "3.8.5"
  }
 },
 "nbformat": 4,
 "nbformat_minor": 5
}
