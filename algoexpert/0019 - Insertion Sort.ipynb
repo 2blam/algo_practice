{
 "cells": [
  {
   "cell_type": "markdown",
   "id": "a3846de2",
   "metadata": {},
   "source": [
    "Write a function accepts an integer array and returns a sorted version of that array. Use the Insertion Sort to sort the array.\n",
    "\n",
    "Example:\n",
    "\n",
    "input: ```array = [8, 5, 2, 9, 5, 6, 3]```\n",
    "\n",
    "output: ```[2, 3, 5, 5, 6, 8, 9]```"
   ]
  },
  {
   "cell_type": "code",
   "execution_count": 1,
   "id": "4bc3d787",
   "metadata": {},
   "outputs": [
    {
     "name": "stdout",
     "output_type": "stream",
     "text": [
      "[2, 3, 5, 5, 6, 8, 9]\n",
      "[2, 3, 5, 5, 6, 8, 9]\n"
     ]
    }
   ],
   "source": [
    "\"\"\"\n",
    "IDEA - Insert Sort\n",
    "        => Insert the element to the sorted subarray at the left hand side\n",
    "        - for the 2nd element till the end of the array\n",
    "            - check which previous element is greater than current one (consider sorted subarray at left hand side)\n",
    "            - if yes, move the current element to previous position\n",
    "            - Repeat: until it no longer find the greater value\n",
    "\n",
    "Time Complexity: O(n^2); Best - O(n) if the array is sorted already\n",
    "Space Complexity: O(1)\n",
    "\"\"\"\n",
    "def insertion_sort(array):\n",
    "    for pos in range(1, len(array)):\n",
    "        current, prev = pos, pos - 1\n",
    "        while (prev >= 0 and array[current] < array[prev]):\n",
    "            array[current], array[prev] = array[prev], array[current] # swap\n",
    "            current = current - 1\n",
    "            prev = prev - 1\n",
    "\n",
    "# using only current variable\n",
    "def insertion_sort_v2(array):\n",
    "    for pos in range(1, len(array)):\n",
    "        current = pos \n",
    "        while (current >= 1 and array[current] < array[current-1]):\n",
    "            array[current], array[current-1] = array[current-1], array[current] # swap\n",
    "            current = current - 1\n",
    "            \n",
    "\n",
    "array = [8, 5, 2, 9, 5, 6, 3]\n",
    "insertion_sort(array)\n",
    "print(array)\n",
    "\n",
    "array = [8, 5, 2, 9, 5, 6, 3]\n",
    "insertion_sort_v2(array)\n",
    "print(array)"
   ]
  }
 ],
 "metadata": {
  "kernelspec": {
   "display_name": "Python 3 (ipykernel)",
   "language": "python",
   "name": "python3"
  },
  "language_info": {
   "codemirror_mode": {
    "name": "ipython",
    "version": 3
   },
   "file_extension": ".py",
   "mimetype": "text/x-python",
   "name": "python",
   "nbconvert_exporter": "python",
   "pygments_lexer": "ipython3",
   "version": "3.8.5"
  }
 },
 "nbformat": 4,
 "nbformat_minor": 5
}
