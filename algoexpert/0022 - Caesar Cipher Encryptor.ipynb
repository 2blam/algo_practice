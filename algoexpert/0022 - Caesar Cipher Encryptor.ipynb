{
 "cells": [
  {
   "cell_type": "markdown",
   "id": "26e42e2e",
   "metadata": {},
   "source": [
    "Given a non-empty string of lowercase letters and a non-negative integer representing a key, write a function that returns a new string obtained by shifting every letter in the input string by k position in the alphabet, where k is the key.\n",
    "\n",
    "Note that letters should wrap around the alphabet; in other words, the letter ```z``` shifted by on returns the letter ```a```\n",
    "\n",
    "Example:\n",
    "\n",
    "input:\n",
    "```\n",
    "string = \"xyz\"\n",
    "key = 2\n",
    "```\n",
    "\n",
    "output:\n",
    "```\n",
    "zab\n",
    "```"
   ]
  },
  {
   "cell_type": "code",
   "execution_count": 1,
   "id": "fbc0af7b",
   "metadata": {},
   "outputs": [
    {
     "data": {
      "text/plain": [
       "'zab'"
      ]
     },
     "execution_count": 1,
     "metadata": {},
     "output_type": "execute_result"
    }
   ],
   "source": [
    "\"\"\"\n",
    "Time Complexity: O(n)\n",
    "Space Complexity: O(n)\n",
    "\"\"\"\n",
    "def caesar_cipher_encryptor(s, key):\n",
    "    r = []\n",
    "    for i in range(len(s)):\n",
    "        curr_char = s[i]\n",
    "        new_char = chr(ord('a') + (ord(curr_char) - ord('a') + key) % 26)\n",
    "        r.append(new_char)\n",
    "    return \"\".join(r)\n",
    "        \n",
    "caesar_cipher_encryptor(\"xyz\", 2)"
   ]
  },
  {
   "cell_type": "code",
   "execution_count": 2,
   "id": "09272348",
   "metadata": {},
   "outputs": [
    {
     "data": {
      "text/plain": [
       "'zab'"
      ]
     },
     "execution_count": 2,
     "metadata": {},
     "output_type": "execute_result"
    }
   ],
   "source": [
    "\"\"\"\n",
    "Time Complexity: O(n)\n",
    "Space Complexity: O(n)\n",
    "\"\"\"\n",
    "def caesar_cipher_encryptor(s, key):\n",
    "    r = []\n",
    "    alpha = \"abcdefghijklmnopqrstuvwxyz\"\n",
    "    for i in range(len(s)):\n",
    "        curr_char = s[i]\n",
    "        new_char = alpha[(alpha.index(curr_char) + key) % 26]\n",
    "        r.append(new_char)\n",
    "    return \"\".join(r)\n",
    "        \n",
    "caesar_cipher_encryptor(\"xyz\", 2)"
   ]
  }
 ],
 "metadata": {
  "kernelspec": {
   "display_name": "Python 3 (ipykernel)",
   "language": "python",
   "name": "python3"
  },
  "language_info": {
   "codemirror_mode": {
    "name": "ipython",
    "version": 3
   },
   "file_extension": ".py",
   "mimetype": "text/x-python",
   "name": "python",
   "nbconvert_exporter": "python",
   "pygments_lexer": "ipython3",
   "version": "3.8.5"
  }
 },
 "nbformat": 4,
 "nbformat_minor": 5
}
