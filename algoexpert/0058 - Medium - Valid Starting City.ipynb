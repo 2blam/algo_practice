{
 "cells": [
  {
   "cell_type": "markdown",
   "id": "efc7042c",
   "metadata": {},
   "source": [
    "Write a function, which accepts three information: ```mpg (miles per gailon), fuel and distances```, to find a valid starting city.\n",
    "\n",
    "Example:\n",
    "\n",
    "input:\n",
    "```\n",
    "mpg = 10\n",
    "fuel = [1, 2, 1, 0, 3]\n",
    "distances = [5, 25, 15, 10, 15]\n",
    "```\n",
    "\n",
    "output:\n",
    "```\n",
    "4\n",
    "```"
   ]
  },
  {
   "cell_type": "code",
   "execution_count": 1,
   "id": "eb5a25c1",
   "metadata": {},
   "outputs": [
    {
     "name": "stdout",
     "output_type": "stream",
     "text": [
      "4\n"
     ]
    }
   ],
   "source": [
    "\"\"\"\n",
    "    IDEA: Greedy Algorithm \n",
    "        start with city 0, with 0 fuel\n",
    "        calculate the distance left status after 1st round\n",
    "        then, return the city with the min value\n",
    "        \n",
    "Time Complexity: O(n)\n",
    "Space Complexity: O(1)\n",
    "\"\"\"\n",
    "\n",
    "def valid_starting_city(mpg, fuel, distances):\n",
    "    min_distance = 0\n",
    "    min_city = 0\n",
    "    curr_distance_left = 0\n",
    "    \n",
    "    for i in range(1, len(fuel)):\n",
    "        curr_distance_left += (fuel[i-1]*mpg - distances[i-1])\n",
    "        if curr_distance_left < min_distance:\n",
    "            min_distance = curr_distance_left\n",
    "            min_city = i\n",
    "    return min_city\n",
    "    \n",
    "mpg = 10\n",
    "fuel = [1, 2, 1, 0, 3]\n",
    "distances = [5, 25, 15, 10, 15]\n",
    "print(valid_starting_city(mpg, fuel, distances))\n",
    "\n"
   ]
  },
  {
   "cell_type": "code",
   "execution_count": 2,
   "id": "a7150ea8",
   "metadata": {},
   "outputs": [
    {
     "name": "stdout",
     "output_type": "stream",
     "text": [
      "4\n"
     ]
    }
   ],
   "source": [
    "\"\"\"\n",
    "Time Complexity: O(n^2)\n",
    "Space Complexity: O(1)\n",
    "\"\"\"\n",
    "def valid_starting_city(mpg, fuel, distances):\n",
    "    \n",
    "    for i in range(len(fuel)):\n",
    "        distance_left = 0\n",
    "        for j in range(i, i+len(fuel)):\n",
    "            if distance_left < 0:\n",
    "                continue\n",
    "            j = j % len(fuel)\n",
    "            \n",
    "            distance_left += fuel[j] * mpg - distances[j]\n",
    "        if distance_left >= 0:\n",
    "            return i\n",
    "            \n",
    "    return -1\n",
    "mpg = 10\n",
    "fuel = [1, 2, 1, 0, 3]\n",
    "distances = [5, 25, 15, 10, 15]\n",
    "print(valid_starting_city(mpg, fuel, distances))"
   ]
  },
  {
   "cell_type": "code",
   "execution_count": 3,
   "id": "132d97ea",
   "metadata": {},
   "outputs": [
    {
     "name": "stdout",
     "output_type": "stream",
     "text": [
      "4\n"
     ]
    }
   ],
   "source": [
    "\"\"\"\n",
    "    IDEA:\n",
    "        1st pass: get the difference between the fuel * mpg - distance\n",
    "        2nd pass:\n",
    "            start_pt, curr_pt = 0, 0\n",
    "            total = 0\n",
    "            while True:\n",
    "                total = total + curr_pt\n",
    "                if total > 0:\n",
    "                    curr_pt += 1\n",
    "                    curr_pt %= len(array)\n",
    "                elif total == 0:\n",
    "                    break\n",
    "                else:\n",
    "                    start_pt +=1\n",
    "                    start_pt %= len(array)\n",
    "                    curr_pt = start_pt\n",
    "                    total = 0\n",
    "            if (curr_pt + 1) %= len(array) == start_pt:\n",
    "                return start_pt\n",
    "            else:\n",
    "                return -1\n",
    "                \n",
    "Time Complexity: O(n^2)\n",
    "Space Complexity: O(n)\n",
    "\"\"\"\n",
    "\n",
    "def valid_starting_city(mpg, fuel, distances):\n",
    "    diff = []\n",
    "    \n",
    "    for i in range(len(fuel)):\n",
    "        diff.append(fuel[i]*mpg - distances[i])\n",
    "\n",
    "    start_pt, curr_pt, total = 0, 0, 0\n",
    "    while True:\n",
    "        total = total + diff[curr_pt]\n",
    "        if total < 0: # not ok, move to next \n",
    "            start_pt += 1\n",
    "            start_pt = start_pt % len(fuel)\n",
    "            curr_pt = start_pt\n",
    "            total = 0\n",
    "        elif total == 0: # can stop?\n",
    "            if (curr_pt + 1) % len(fuel) == start_pt:\n",
    "                return start_pt\n",
    "            else: # reset\n",
    "                start_pt += 1\n",
    "                start_pt = start_pt % len(fuel)\n",
    "                curr_pt = start_pt\n",
    "                total = 0\n",
    "        else: #with fuel left, move on\n",
    "            curr_pt = curr_pt + 1\n",
    "            curr_pt = curr_pt % len(fuel)\n",
    "    return -1\n",
    "mpg = 10\n",
    "fuel = [1, 2, 1, 0, 3]\n",
    "distances = [5, 25, 15, 10, 15]\n",
    "print(valid_starting_city(mpg, fuel, distances))"
   ]
  }
 ],
 "metadata": {
  "kernelspec": {
   "display_name": "Python 3 (ipykernel)",
   "language": "python",
   "name": "python3"
  },
  "language_info": {
   "codemirror_mode": {
    "name": "ipython",
    "version": 3
   },
   "file_extension": ".py",
   "mimetype": "text/x-python",
   "name": "python",
   "nbconvert_exporter": "python",
   "pygments_lexer": "ipython3",
   "version": "3.8.5"
  }
 },
 "nbformat": 4,
 "nbformat_minor": 5
}
