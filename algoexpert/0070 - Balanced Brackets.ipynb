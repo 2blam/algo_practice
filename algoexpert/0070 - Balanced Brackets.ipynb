{
 "cells": [
  {
   "cell_type": "markdown",
   "id": "2ab3879d",
   "metadata": {},
   "source": [
    "Write function which accepts a string of brackets and determine if it is balanced (return True or False).\n",
    "\n",
    "Exampe:\n",
    "```\n",
    "input = \"(([]()()){})\"\n",
    "```\n",
    "\n",
    "output:\n",
    "```\n",
    "True\n",
    "```\n"
   ]
  },
  {
   "cell_type": "code",
   "execution_count": 1,
   "id": "fef5421c",
   "metadata": {},
   "outputs": [
    {
     "data": {
      "text/plain": [
       "True"
      ]
     },
     "execution_count": 1,
     "metadata": {},
     "output_type": "execute_result"
    }
   ],
   "source": [
    "\"\"\"\n",
    "    IDEA: stack\n",
    "\n",
    "Time Complexity: O(n)\n",
    "Space Complexity: O(n)\n",
    "\"\"\"\n",
    "\n",
    "d_match_closing = {'}': '{', ']':'[', ')':'('}\n",
    "\n",
    "def balanced_brackets(input):\n",
    "    stack = []\n",
    "    for e in input:\n",
    "        if e in [')', ']', '}']:\n",
    "            if len(stack) == 0:\n",
    "                return False\n",
    "            prev = stack.pop()\n",
    "            \n",
    "            #if (prev == '(' and e == ')') or (prev == '[' and e == ']') or (prev == '{' and e == '}'):\n",
    "            if (prev == d_match_closing[e]):\n",
    "                continue\n",
    "            else:\n",
    "                return False\n",
    "        else:\n",
    "            stack.append(e)\n",
    "    return len(stack) == 0\n",
    "\n",
    "input = \"(([]()()){})\"\n",
    "balanced_brackets(input)\n",
    "    "
   ]
  }
 ],
 "metadata": {
  "kernelspec": {
   "display_name": "Python 3 (ipykernel)",
   "language": "python",
   "name": "python3"
  },
  "language_info": {
   "codemirror_mode": {
    "name": "ipython",
    "version": 3
   },
   "file_extension": ".py",
   "mimetype": "text/x-python",
   "name": "python",
   "nbconvert_exporter": "python",
   "pygments_lexer": "ipython3",
   "version": "3.8.5"
  }
 },
 "nbformat": 4,
 "nbformat_minor": 5
}
