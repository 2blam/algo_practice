{
 "cells": [
  {
   "cell_type": "markdown",
   "id": "00293dcc",
   "metadata": {},
   "source": [
    "Write a function that accepts a non-empty array of integers and returns an array of the same length, where each element in the output array is equal to the product of every other number in the input array.\n",
    "\n",
    "In other words, the value at ```output[i]``` is equal to the product of every number in the input array other than ```input[i]```.\n",
    "\n",
    "Note that you're expected to solve this problem without using division.\n",
    "\n",
    "Example:\n",
    "\n",
    "input:\n",
    "```\n",
    "array = [5, 1, 4, 2]\n",
    "```\n",
    "\n",
    "output:\n",
    "```\n",
    "[8, 40, 10, 20]\n",
    "```\n",
    "Reason: \n",
    "8 == 1 * 4 * 2; \n",
    "40 == 5 * 4 * 2;\n",
    "10 == 5 * 1 * 2;\n",
    "20 == 5 * 1 * 4;\n"
   ]
  },
  {
   "cell_type": "code",
   "execution_count": 1,
   "id": "6666eae8",
   "metadata": {},
   "outputs": [
    {
     "name": "stdout",
     "output_type": "stream",
     "text": [
      "[8, 40, 10, 20]\n"
     ]
    }
   ],
   "source": [
    "\"\"\"\n",
    "    naive approach: 2 for loops => O(n^2), Space: O(n)\n",
    "    better approach?\n",
    "        => forward pass first\n",
    "        => then backward pass\n",
    "        idx | array | result (forward pass) | backward pass\n",
    "        0   | 5     | 1 (default)           | array[3] * array[2] * array[1] * result[1]\n",
    "        1   | 1     | 1 * 5 = 5             | array[3] * array[2] * result[1]\n",
    "        2   | 4     | 5 * 4 = 20            | array[3] * result[2]\n",
    "        3   | 2     | 20 * 2 = 40           | result[3]\n",
    "        \n",
    "        \n",
    "    Time Complexity: O(n) - 2 passes => O(2n) => O(n)\n",
    "    Space Complexity: O(n)\n",
    "        \n",
    "\"\"\"\n",
    "\n",
    "def array_of_products(array):\n",
    "    result = [1] * len(array)  \n",
    "    \n",
    "    # forward pass\n",
    "    for i in range(0, len(array)-1):\n",
    "        result[i+1] = result[i] * array[i]\n",
    "    \n",
    "    # backward pass\n",
    "    running_product = array[-1]\n",
    "    for i in range(len(array)-2, -1, -1):\n",
    "        result[i] = running_product * result[i]\n",
    "        running_product = running_product * array[i]\n",
    "        \n",
    "    return result\n",
    "\n",
    "\n",
    "# def array_of_products(array):\n",
    "#     reversed_product = [None] * len(array)\n",
    "#     product = [None] * len(array)  \n",
    "#     result = [None] * len(array)  \n",
    "    \n",
    "#     # reverse pass\n",
    "#     reversed_product[len(array)-1] = array[-1]\n",
    "#     for i in range(len(array)-2, -1, -1):\n",
    "#         reversed_product[i] = reversed_product[i+1] * array[i]\n",
    "    \n",
    "#     # forward pass\n",
    "#     product[0] = array[0]\n",
    "#     for i in range(1, len(array)):\n",
    "#         product[i] = product[i-1] * array[i]\n",
    "        \n",
    "#     # result\n",
    "#     for i in range(1, len(array)-1):\n",
    "#         result[i] = reversed_product[i+1] * product [i-1]\n",
    "#     result[0] = reversed_product[1]\n",
    "#     result[-1] = product[len(array)-2]\n",
    "        \n",
    "#     return result\n",
    "\n",
    "array = [5, 1, 4, 2]\n",
    "print(array_of_products(array))"
   ]
  }
 ],
 "metadata": {
  "kernelspec": {
   "display_name": "Python 3 (ipykernel)",
   "language": "python",
   "name": "python3"
  },
  "language_info": {
   "codemirror_mode": {
    "name": "ipython",
    "version": 3
   },
   "file_extension": ".py",
   "mimetype": "text/x-python",
   "name": "python",
   "nbconvert_exporter": "python",
   "pygments_lexer": "ipython3",
   "version": "3.8.5"
  }
 },
 "nbformat": 4,
 "nbformat_minor": 5
}
