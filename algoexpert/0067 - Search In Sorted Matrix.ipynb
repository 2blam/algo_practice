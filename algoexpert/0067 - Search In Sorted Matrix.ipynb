{
 "cells": [
  {
   "cell_type": "markdown",
   "id": "5997ab4f",
   "metadata": {},
   "source": [
    "You are given a two-dimensional array (matrix) of distinct integers where each row is sorted and each column is also sorted. The matrix does not necessarily have the same height and width. You are also given a target number, and you must write a function that returns an array of the row and column indices of the target number if it is contained in the matrix and [-1, -1] if it is not contained in the matrix.\n",
    "\n",
    "Sample input: \n",
    "```\n",
    "[ [1, 4, 7, 12, 15, 1000], \n",
    "  [2, 5, 19, 31, 32, 1001], \n",
    "  [3, 8, 24, 33, 35, 1002], \n",
    "  [40, 41, 42, 44, 45, 1003], \n",
    "  [99, 100, 103, 106, 128, 1004], \n",
    "], 44\n",
    "```\n",
    "Sample output: [3, 3]"
   ]
  },
  {
   "cell_type": "code",
   "execution_count": 61,
   "id": "4fa933ee",
   "metadata": {},
   "outputs": [
    {
     "name": "stdout",
     "output_type": "stream",
     "text": [
      "[3, 3]\n",
      "[-1, -1]\n"
     ]
    }
   ],
   "source": [
    "\"\"\"\n",
    "    IDEA:\n",
    "        1)  start from top right corner\n",
    "        2)  if out of boundary ==> return [-1, -1]\n",
    "            if the cell value == target ==> return position\n",
    "            if the cell value is larger than target => we can ignore that column, move cell to left\n",
    "            if the cell value is smaller than target => we can ignore the row (to its left), move cell downward\n",
    "\n",
    "Time Complexity: O(N + M) - N - row length; M - column length\n",
    "Space Complexity: O(1)\n",
    "\"\"\"\n",
    "\n",
    "def search_in_sorted_matrix(matrix, target):\n",
    "    curr_r, curr_c = 0, len(matrix[0]) - 1\n",
    "    while curr_r < len(matrix) and curr_c >= 0:\n",
    "        if matrix[curr_r][curr_c] == target: \n",
    "            return [curr_r, curr_c]\n",
    "        elif matrix[curr_r][curr_c] > target: #larger, move to left\n",
    "            curr_c -= 1\n",
    "        else: # smaller, move downward\n",
    "            curr_r += 1\n",
    "    return [-1, -1]\n",
    "\n",
    "matrix = [ [1, 4, 7, 12, 15, 1000], \n",
    "  [2, 5, 19, 31, 32, 1001], \n",
    "  [3, 8, 24, 33, 35, 1002], \n",
    "  [40, 41, 42, 44, 45, 1003], \n",
    "  [99, 100, 103, 106, 128, 1004], \n",
    "]\n",
    "\n",
    "target = 44\n",
    "print(search_in_sorted_matrix(matrix, target))\n",
    "\n",
    "target = 98\n",
    "print(search_in_sorted_matrix(matrix, target))"
   ]
  }
 ],
 "metadata": {
  "kernelspec": {
   "display_name": "Python 3 (ipykernel)",
   "language": "python",
   "name": "python3"
  },
  "language_info": {
   "codemirror_mode": {
    "name": "ipython",
    "version": 3
   },
   "file_extension": ".py",
   "mimetype": "text/x-python",
   "name": "python",
   "nbconvert_exporter": "python",
   "pygments_lexer": "ipython3",
   "version": "3.8.5"
  }
 },
 "nbformat": 4,
 "nbformat_minor": 5
}
