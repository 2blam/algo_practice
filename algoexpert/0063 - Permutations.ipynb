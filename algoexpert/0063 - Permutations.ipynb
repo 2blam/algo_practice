{
 "cells": [
  {
   "cell_type": "markdown",
   "id": "97140682",
   "metadata": {},
   "source": [
    "Write a function to return all of the permutations of the array of integers.\n",
    "\n",
    "Example:\n",
    "\n",
    "Input\n",
    "```\n",
    "[1, 2, 3]\n",
    "```\n",
    "\n",
    "Output\n",
    "```\n",
    "[1, 2, 3]\n",
    "[1, 3, 2]\n",
    "[2, 1, 3]\n",
    "[2, 3, 1]\n",
    "[3, 2, 1]\n",
    "[3, 1, 2]\n",
    "```"
   ]
  },
  {
   "cell_type": "code",
   "execution_count": 1,
   "id": "af1d5cba",
   "metadata": {},
   "outputs": [
    {
     "name": "stdout",
     "output_type": "stream",
     "text": [
      "[[1, 2, 3], [1, 3, 2], [2, 1, 3], [2, 3, 1], [3, 1, 2], [3, 2, 1]]\n"
     ]
    }
   ],
   "source": [
    "\"\"\"\n",
    "    IDEA: approach 1\n",
    "Time Complexity: Upper Bound: O(n^2*n!)\n",
    "Space Complexity: O(n*n!)\n",
    "\"\"\"\n",
    "\n",
    "def permutation_helper(array, current_permutation, permutations):\n",
    "    if not len(array) and len(current_permutation):\n",
    "        permutations.append(current_permutation)\n",
    "    else:\n",
    "        for i in range(len(array)):\n",
    "            # remove the number from the array\n",
    "            new_array = array[:i] + array[(i+1):]\n",
    "            new_permutation = current_permutation + [array[i]]\n",
    "            permutation_helper(new_array, new_permutation, permutations)\n",
    "            \n",
    "\n",
    "def get_permutations(array):\n",
    "    permutations = [] # capture the results\n",
    "    \n",
    "    permutation_helper(array, [], permutations)\n",
    "    \n",
    "    return permutations\n",
    "\n",
    "print(get_permutations([1, 2, 3]))"
   ]
  },
  {
   "cell_type": "code",
   "execution_count": 2,
   "id": "da0fcf71",
   "metadata": {},
   "outputs": [
    {
     "name": "stdout",
     "output_type": "stream",
     "text": [
      "[[1, 2, 3], [1, 3, 2], [2, 1, 3], [2, 3, 1], [3, 2, 1], [3, 1, 2]]\n"
     ]
    }
   ],
   "source": [
    "\"\"\"\n",
    "    IDEA: approach 2 - using swap\n",
    "Time Complexity: Upper Bound: O(n*n!)\n",
    "Space Complexity: O(n*n!)\n",
    "\"\"\"\n",
    "\n",
    "def swap(array, i, j):\n",
    "    array[i], array[j] = array[j], array[i]\n",
    "\n",
    "def permutation_helper(i, array, permutations):\n",
    "    # are we at the end of the array ?\n",
    "    if i == len(array) - 1:\n",
    "        permutations.append(array[:]) # take snap of the current array\n",
    "    else:\n",
    "        for j in range(i, len(array)):\n",
    "            swap(array, i, j)\n",
    "            permutation_helper(i + 1, array, permutations)\n",
    "            swap(array, i, j)\n",
    "\n",
    "def get_permutations(array):\n",
    "    permutations = [] # capture the results\n",
    "    \n",
    "    permutation_helper(0, array, permutations)\n",
    "    \n",
    "    return permutations\n",
    "\n",
    "print(get_permutations([1, 2, 3]))"
   ]
  },
  {
   "cell_type": "code",
   "execution_count": null,
   "id": "bcd52e5d",
   "metadata": {},
   "outputs": [],
   "source": []
  }
 ],
 "metadata": {
  "kernelspec": {
   "display_name": "Python 3 (ipykernel)",
   "language": "python",
   "name": "python3"
  },
  "language_info": {
   "codemirror_mode": {
    "name": "ipython",
    "version": 3
   },
   "file_extension": ".py",
   "mimetype": "text/x-python",
   "name": "python",
   "nbconvert_exporter": "python",
   "pygments_lexer": "ipython3",
   "version": "3.8.5"
  }
 },
 "nbformat": 4,
 "nbformat_minor": 5
}
