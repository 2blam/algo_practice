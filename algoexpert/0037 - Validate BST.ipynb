{
 "cells": [
  {
   "cell_type": "markdown",
   "id": "bafb4262",
   "metadata": {},
   "source": [
    "Given the root of a binary tree, determine if it is a valid binary search tree (BST).\n",
    "\n",
    "A valid BST is defined as follows:\n",
    "\n",
    "The left subtree of a node contains only nodes with keys less than the node's key.\n",
    "The right subtree of a node contains only nodes with keys greater than or equal to the node's key.\n",
    "Both the left and right subtrees must also be binary search trees.\n",
    "\n",
    "Example:\n",
    "```\n",
    "          10\n",
    "        /    \\\n",
    "       5     15\n",
    "      / \\    / \\\n",
    "     2   5  13  22\n",
    "    /        \\\n",
    "   1         14\n",
    "```"
   ]
  },
  {
   "cell_type": "code",
   "execution_count": 1,
   "id": "eeb59ac9",
   "metadata": {},
   "outputs": [
    {
     "name": "stdout",
     "output_type": "stream",
     "text": [
      "True\n"
     ]
    }
   ],
   "source": [
    "\"\"\"\n",
    "    IDEA: recrusive \n",
    "        -> root, min_bound, max_bound\n",
    "            -> check left => left node, min_bound, max_bound = root.value\n",
    "            -> check right => right node, min_bound = root.value, max_bound\n",
    "            -> return left and right\n",
    "\n",
    "Time Complexity: O(n) - n: number of nodes \n",
    "Space Complexity: O(d) - depth of the tree\n",
    "\"\"\"\n",
    "class Node:\n",
    "    def __init__(self, value):\n",
    "        self.value = value\n",
    "        self.left = None\n",
    "        self.right = None    \n",
    "\n",
    "root = Node(10)\n",
    "root.left = Node(5)\n",
    "root.right = Node(15)\n",
    "root.left.left = Node(2)\n",
    "root.left.right = Node(5)\n",
    "root.left.left.left = Node(1)\n",
    "root.right.left = Node(13)\n",
    "root.right.right = Node(22)\n",
    "root.right.left.right = Node(14)\n",
    "\n",
    "def valid_bst_helper(node, min_bound, max_bound):\n",
    "    if node is None:\n",
    "        return True\n",
    "    # checking\n",
    "    if node.value >= min_bound and node.value < max_bound:\n",
    "        # continue subtrees         \n",
    "        f_left = valid_bst_helper(node.left,  min_bound, node.value)\n",
    "        f_right = valid_bst_helper(node.right, node.value, max_bound)\n",
    "        return f_left and f_right\n",
    "    else:\n",
    "        return False\n",
    "\n",
    "def valid_bst(node):\n",
    "    return valid_bst_helper(node, float(\"-inf\"), float(\"inf\"))\n",
    "    \n",
    "print(valid_bst(root))"
   ]
  }
 ],
 "metadata": {
  "kernelspec": {
   "display_name": "Python 3 (ipykernel)",
   "language": "python",
   "name": "python3"
  },
  "language_info": {
   "codemirror_mode": {
    "name": "ipython",
    "version": 3
   },
   "file_extension": ".py",
   "mimetype": "text/x-python",
   "name": "python",
   "nbconvert_exporter": "python",
   "pygments_lexer": "ipython3",
   "version": "3.7.12"
  }
 },
 "nbformat": 4,
 "nbformat_minor": 5
}
