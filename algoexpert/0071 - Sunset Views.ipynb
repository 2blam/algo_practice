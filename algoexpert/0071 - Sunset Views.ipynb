{
 "cells": [
  {
   "cell_type": "markdown",
   "id": "fe6faae2",
   "metadata": {},
   "source": [
    "Array of builidng height (non negative, non zero integers), they all facing EAST or WEST.\n",
    "\n",
    "Example:\n",
    "```\n",
    "input:\n",
    "[3, 5, 4, 4, 3, 1, 3, 2]\n",
    "EAST\n",
    "````\n",
    "\n",
    "```\n",
    "output:\n",
    "[1, 3, 6, 7]\n",
    "```\n",
    "\n",
    "Example 2:\n",
    "```\n",
    "input:\n",
    "[3, 5, 4, 4, 3, 1, 3, 2]\n",
    "WEST\n",
    "````\n",
    "\n",
    "```\n",
    "output:\n",
    "[0, 5]\n",
    "```\n"
   ]
  },
  {
   "cell_type": "code",
   "execution_count": 1,
   "id": "9004ec5c",
   "metadata": {},
   "outputs": [
    {
     "name": "stdout",
     "output_type": "stream",
     "text": [
      "[1, 3, 6, 7]\n",
      "[0, 1]\n"
     ]
    }
   ],
   "source": [
    "\"\"\"\n",
    "    EAST -> scan from last item to first item; keep track the max value\n",
    "        3 5 4 4 3 1 3 2\n",
    "        reverse scan, max so far\n",
    "        max = float(\"-inf\")\n",
    "        2 > max ==> 7 (idx) => max = 2; next\n",
    "        3 > max ==> 6 (idx) => max = 3; next\n",
    "        1 > max FALSE; next\n",
    "        3 > max FALSE; next\n",
    "        4 > max ==> 3 (idx) => max = 4; next\n",
    "        4 > max FALSE; next\n",
    "        5 > max ==> 1 (idx) => max = 5;next\n",
    "        3 > max FALSE; STOP\n",
    "    WEST -> scan from first item to last item; keep track the max value\n",
    "\n",
    "Time Complexity: O(n)\n",
    "Space Complexity: O(n)\n",
    "\"\"\"\n",
    "\n",
    "def sunset_views(input, direction):\n",
    "    curr_max_height = float(\"-inf\")\n",
    "    result = []\n",
    "    (start_idx, end_idx, step) = (len(input)-1, 0, -1) if direction == \"EAST\" else (0, len(input) - 1, 1)\n",
    "    while True:\n",
    "        curr_height = input[start_idx]\n",
    "        if curr_height > curr_max_height:\n",
    "            result.append(start_idx)\n",
    "            curr_max_height = curr_height\n",
    "        start_idx = start_idx + step\n",
    "        if direction == \"EAST\" and start_idx < end_idx:\n",
    "            break\n",
    "        elif direction == \"WEST\" and start_idx > end_idx:\n",
    "            break\n",
    "    # sort\n",
    "    if direction == \"EAST\": # reversed\n",
    "        result = result[::-1]\n",
    "    return result\n",
    "\n",
    "input = [3, 5, 4, 4, 3, 1, 3, 2]\n",
    "\n",
    "print(sunset_views(input, \"EAST\"))\n",
    "print(sunset_views(input, \"WEST\"))"
   ]
  },
  {
   "cell_type": "code",
   "execution_count": 2,
   "id": "afd0a9b4",
   "metadata": {},
   "outputs": [
    {
     "name": "stdout",
     "output_type": "stream",
     "text": [
      "[1, 3, 6, 7]\n",
      "[0, 1]\n"
     ]
    }
   ],
   "source": [
    "\"\"\"\n",
    "    IDEA: stack\n",
    "    EAST => CASE 1: \n",
    "                while the curr_idx item > the top of the stack\n",
    "                    remove the top item\n",
    "                put its curr_idx to stack\n",
    "            CASE 2:\n",
    "                if the curr_idx item < the top of the stack; add its curr_idx to stack\n",
    "            \n",
    "Time Complexity: O(n)\n",
    "Spac Complexity: O(n)\n",
    "\"\"\"\n",
    "\n",
    "def sunset_views(input, direction):\n",
    "    stack = []\n",
    "    (start_idx, end_idx, step) = (0, len(input) - 1, 1) if direction == \"EAST\" else (len(input)-1, 0, -1)\n",
    "    \n",
    "    while True:\n",
    "        curr_height = input[start_idx]\n",
    "        while len(stack) > 0 and input[stack[-1]] <= curr_height:\n",
    "            stack.pop()\n",
    "        \n",
    "        stack.append(start_idx)\n",
    "        \n",
    "    \n",
    "        start_idx += step\n",
    "        if direction == \"EAST\" and start_idx > end_idx:\n",
    "            break\n",
    "        elif direction == \"WEST\" and start_idx < end_idx:\n",
    "            break\n",
    "    #sort\n",
    "    if direction == \"WEST\":\n",
    "        stack = stack[::-1]\n",
    "            \n",
    "    return stack\n",
    "\n",
    "print(sunset_views(input, \"EAST\"))\n",
    "print(sunset_views(input, \"WEST\"))"
   ]
  },
  {
   "cell_type": "code",
   "execution_count": null,
   "id": "e87215cf",
   "metadata": {},
   "outputs": [],
   "source": []
  }
 ],
 "metadata": {
  "kernelspec": {
   "display_name": "Python 3 (ipykernel)",
   "language": "python",
   "name": "python3"
  },
  "language_info": {
   "codemirror_mode": {
    "name": "ipython",
    "version": 3
   },
   "file_extension": ".py",
   "mimetype": "text/x-python",
   "name": "python",
   "nbconvert_exporter": "python",
   "pygments_lexer": "ipython3",
   "version": "3.8.5"
  }
 },
 "nbformat": 4,
 "nbformat_minor": 5
}
