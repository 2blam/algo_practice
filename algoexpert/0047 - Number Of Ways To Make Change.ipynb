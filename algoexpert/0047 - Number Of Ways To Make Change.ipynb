{
 "cells": [
  {
   "cell_type": "markdown",
   "id": "043c5b7b",
   "metadata": {},
   "source": [
    "Write a function to accept two inputs; the 1st input is an integer, which is our target amount; the 2nd input is the array of integer values representing the coin nominations. The function finds the number of ways to make a change.\n",
    "\n",
    "Example:\n",
    "input:\n",
    "```\n",
    "   amount = 10\n",
    "   coins = [1, 5, 10, 25]\n",
    "```\n",
    "\n",
    "output:\n",
    "```\n",
    "4\n",
    "```\n",
    "\n",
    "Reasons: \n",
    "```$1 x 10; $5 x 2; $1 x 5 + $5 x 1; $10 x 1```"
   ]
  },
  {
   "cell_type": "code",
   "execution_count": 1,
   "id": "152bfa7f",
   "metadata": {},
   "outputs": [
    {
     "name": "stdout",
     "output_type": "stream",
     "text": [
      "4\n"
     ]
    }
   ],
   "source": [
    "\"\"\"\n",
    "    Idea: Dynamic Programming\n",
    "    ways = [1, 0, 0, 0, 0, 0, 0, 0, 0 ,0, 0 ]\n",
    "    amt  >  0  1  2  3  4  5  6  7  8  9  10\n",
    "    \n",
    "    consider $1 coin first\n",
    "        $1 <= 1 amount\n",
    "        => ways[1] = ways[1] + ways[1-1]\n",
    "        ways = [1, 1, 0, 0, 0, 0, 0, 0, 0 ,0, 0 ]\n",
    "        amt  >  0  1  2  3  4  5  6  7  8  9  10\n",
    "\n",
    "        $1 coin<= $2 amount\n",
    "        => ways[2] = ways[1] + ways[2-1] => 1\n",
    "        ways = [1, 1, 1, 0, 0, 0, 0, 0, 0 ,0, 0 ]\n",
    "        amt  >  0  1  2  3  4  5  6  7  8  9  10\n",
    "        ...\n",
    "\n",
    "        ways = [1, 1, 1, 1, 1, 1, 1, 1, 1 ,1, 1 ]\n",
    "        amt  >  0  1  2  3  4  5  6  7  8  9  10\n",
    "\n",
    "    consider $5 coin\n",
    "        $5 <= $5 amount\n",
    "        [before]\n",
    "        ways = [1, 1, 1, 1, 1, 1, 1, 1, 1 ,1, 1 ]\n",
    "        amt  >  0  1  2  3  4  5  6  7  8  9  10\n",
    "        [after]\n",
    "        ways[5] = ways[5] + ways[5-5]\n",
    "                = 1 + 1 = 2\n",
    "        ways = [1, 1, 1, 1, 1, 2, 1, 1, 1 ,1, 1 ]\n",
    "        amt  >  0  1  2  3  4  5  6  7  8  9  10\n",
    "        $10 amount\n",
    "        ways[10] = ways[10] + ways[10-5]\n",
    "        ways = [1, 1, 1, 1, 1, 2, 2, 2, 2 ,2, 3 ]\n",
    "        amt  >  0  1  2  3  4  5  6  7  8  9  10\n",
    "    consider $10 coin\n",
    "        $10 <= $10 amount\n",
    "        [before]\n",
    "        ways = [1, 1, 1, 1, 1, 2, 2, 2, 2 ,2, 3 ]\n",
    "        amt  >  0  1  2  3  4  5  6  7  8  9  10\n",
    "        [after]\n",
    "        ways[10 = ways[10] + ways[10-10]\n",
    "                = 3 + 1 = 4\n",
    "        ways = [1, 1, 1, 1, 1, 2, 2, 2, 2 ,2, 4 ]\n",
    "        amt  >  0  1  2  3  4  5  6  7  8  9  10\n",
    "    \n",
    "    formula:\n",
    "        if coin <= amount\n",
    "            ways[amount] = ways[amount] + ways[amount-coin]\n",
    "\n",
    "Time Complexity: O(n * m): n - number of coin denom; m - the amount\n",
    "Space Complexity: O(m): m - the amount\n",
    "\"\"\"         \n",
    "\n",
    "def number_of_ways_to_make_change(amount, coins):\n",
    "    ways = [0 for i in range(amount+1)]\n",
    "    ways[0] = 1\n",
    "\n",
    "    for c in coins:\n",
    "        for amt in range(1, amount+1):\n",
    "            if c <= amt:\n",
    "                ways[amt] = ways[amt] + ways[amt-c]\n",
    "    \n",
    "    return ways[-1]\n",
    "        \n",
    "\n",
    "amount = 10\n",
    "coins = [1, 5, 10, 25]\n",
    "\n",
    "print(number_of_ways_to_make_change(amount, coins))"
   ]
  }
 ],
 "metadata": {
  "kernelspec": {
   "display_name": "Python 3 (ipykernel)",
   "language": "python",
   "name": "python3"
  },
  "language_info": {
   "codemirror_mode": {
    "name": "ipython",
    "version": 3
   },
   "file_extension": ".py",
   "mimetype": "text/x-python",
   "name": "python",
   "nbconvert_exporter": "python",
   "pygments_lexer": "ipython3",
   "version": "3.8.5"
  }
 },
 "nbformat": 4,
 "nbformat_minor": 5
}
