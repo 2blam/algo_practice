{
 "cells": [
  {
   "cell_type": "markdown",
   "id": "02c71b40",
   "metadata": {},
   "source": [
    "You're given an array of integers and an integer. Write a function that moves all instances of that integer in the array to the end of the array and returns the array. The function should perform this IN-PLACE and doesn't need to maintain the order of the other integers.\n",
    "\n",
    "Example:\n",
    "\n",
    "input:\n",
    "```\n",
    "array = [2,1,2,2,2,3,4,2]\n",
    "to_move = 2\n",
    "```\n",
    "\n",
    "output:\n",
    "```\n",
    "[1,3,4,2,2,2,2,2] \n",
    "```\n",
    "Note: the numbers 1,3,4 could be ordered differently"
   ]
  },
  {
   "cell_type": "code",
   "execution_count": 1,
   "id": "b825b5c5",
   "metadata": {},
   "outputs": [
    {
     "name": "stdout",
     "output_type": "stream",
     "text": [
      "[4, 1, 3, 2, 2, 2, 2, 2]\n"
     ]
    }
   ],
   "source": [
    "\"\"\"\n",
    "    IDEA: two pointers\n",
    "        left, right = 0, len(array) -1\n",
    "        e1 = element[left]\n",
    "        e2 = element[right]\n",
    "        \n",
    "        if e2 is target => right decrement by 1\n",
    "        if e1 is target => swap with right => left increment by 1 => left decrement by 1; right increment by 1\n",
    "        else: left increment by 1\n",
    "        repeat until left > right\n",
    "\n",
    "Time Complexity: O(n)\n",
    "Space Complexity: O(1)\n",
    "\"\"\"\n",
    "\n",
    "def move_element_to_end(array, to_move):\n",
    "    left, right = 0, len(array)-1\n",
    "    \n",
    "    while left < right:\n",
    "        if array[right] == to_move:\n",
    "            right = right - 1\n",
    "            continue\n",
    "        if array[left] != to_move: \n",
    "            left = left + 1\n",
    "            continue\n",
    "        # swap\n",
    "        array[left], array[right] = array[right], array[left]\n",
    "        left = left + 1\n",
    "        right = right - 1\n",
    "    \n",
    "    return array\n",
    "\n",
    "array = [2,1,2,2,2,3,4,2]\n",
    "to_move = 2\n",
    "print(move_element_to_end(array, to_move))"
   ]
  },
  {
   "cell_type": "code",
   "execution_count": 2,
   "id": "6e9e1ef3",
   "metadata": {},
   "outputs": [
    {
     "name": "stdout",
     "output_type": "stream",
     "text": [
      "[1, 3, 4, 2, 2, 2, 2, 2]\n"
     ]
    }
   ],
   "source": [
    "\"\"\"\n",
    "    IDEA: two pointers, another approach\n",
    "    pt_first, pt_next = 0, 1\n",
    "    while pt_first < len(array) and pt_next < len(array)\n",
    "        array[pt_first] != to_move => move pt_first to next\n",
    "        array[pt_first] == to_move => do nothing\n",
    "        array[pt_next] == to_move => move pt_next to next\n",
    "        array[pt_next] != to_move => swap, pt_first + 1, pt_next + 1\n",
    "\n",
    "Time Complexity: O(n)\n",
    "Space Complexity: O(1)\n",
    "\"\"\"\n",
    "\n",
    "def move_element_to_end(array, to_move):\n",
    "    pt_first, pt_next = 0, 1\n",
    "    while (pt_first < len(array) and pt_next < len(array)):\n",
    "        if array[pt_first] != to_move:\n",
    "            pt_first = pt_first + 1\n",
    "\n",
    "        # checking\n",
    "        if array[pt_next] == to_move:\n",
    "            pt_next = pt_next + 1\n",
    "        else:\n",
    "            array[pt_first], array[pt_next] = array[pt_next], array[pt_first]\n",
    "            pt_first = pt_first + 1\n",
    "            pt_next = pt_next + 1\n",
    "    return array\n",
    "\n",
    "\n",
    "array = [2,1,2,2,2,3,4,2]\n",
    "to_move = 2\n",
    "print(move_element_to_end(array, to_move))       "
   ]
  }
 ],
 "metadata": {
  "kernelspec": {
   "display_name": "Python 3 (ipykernel)",
   "language": "python",
   "name": "python3"
  },
  "language_info": {
   "codemirror_mode": {
    "name": "ipython",
    "version": 3
   },
   "file_extension": ".py",
   "mimetype": "text/x-python",
   "name": "python",
   "nbconvert_exporter": "python",
   "pygments_lexer": "ipython3",
   "version": "3.8.5"
  }
 },
 "nbformat": 4,
 "nbformat_minor": 5
}
