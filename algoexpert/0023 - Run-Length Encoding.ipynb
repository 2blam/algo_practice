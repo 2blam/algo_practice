{
 "cells": [
  {
   "cell_type": "markdown",
   "id": "93c9c197",
   "metadata": {},
   "source": [
    "Write a function that takes a non-empty string and returns its run-length encoding.\n",
    "\n",
    "Note, the run ```\"AAAAAAAAAAAA\"``` (12 ```A```s), can't be encoded as ```\"12A\"```, long runs (runs of 10 or more characters) should be encoded in split fashion; thus, it should be encouded as ```\"9A3A\"```\n",
    "\n",
    "Example:\n",
    "\n",
    "input:\n",
    "```\n",
    "string = \"AAAAAAAAAAAAABBCCCCDD\"\n",
    "```\n",
    "\n",
    "output:\n",
    "```\n",
    "\"9A4A2B4C2D\"\n",
    "```"
   ]
  },
  {
   "cell_type": "code",
   "execution_count": 1,
   "id": "24ca3164",
   "metadata": {},
   "outputs": [
    {
     "name": "stdout",
     "output_type": "stream",
     "text": [
      "9A4A2B4C2D\n",
      "1A1B1C\n",
      "9A1C\n"
     ]
    }
   ],
   "source": [
    "\"\"\"\n",
    "    IDEA:\n",
    "        - prev_char, count = [1st char], 1\n",
    "        - result = []\n",
    "        - scan thru each character from pos 1\n",
    "            if prev_char == curr_char:\n",
    "                count = count + 1\n",
    "                if count == 10:\n",
    "                    append result\n",
    "                    count = 1\n",
    "            else:\n",
    "                append counter + pre_char\n",
    "                prev_char = curr_char\n",
    "\n",
    "Time Complexity: O(n); n - number of characters\n",
    "Space Complexity: O(n)\n",
    "\"\"\"\n",
    "\n",
    "def run_length_encoding(s):\n",
    "    prev_char = s[0]\n",
    "    count = 1\n",
    "    result = [] # we don't use string, because string concat needs loop thru the chars (string - immuatable)\n",
    "    for i in range(1,len(s)):\n",
    "        curr_char = s[i]\n",
    "        # checking\n",
    "        if prev_char == curr_char:\n",
    "            count = count+1\n",
    "            if count == 10:\n",
    "                result.append(\"9\" + prev_char)\n",
    "                count = 1\n",
    "        else:\n",
    "            result.append(str(count) + prev_char)\n",
    "            prev_char = curr_char\n",
    "            count = 1\n",
    "    # important - last checking\n",
    "    result.append(str(count) + prev_char)\n",
    "    return \"\".join(result)\n",
    "            \n",
    "        \n",
    "print(run_length_encoding(\"AAAAAAAAAAAAABBCCCCDD\"))\n",
    "print(run_length_encoding(\"ABC\"))\n",
    "print(run_length_encoding(\"AAAAAAAAAC\"))\n"
   ]
  }
 ],
 "metadata": {
  "kernelspec": {
   "display_name": "Python 3 (ipykernel)",
   "language": "python",
   "name": "python3"
  },
  "language_info": {
   "codemirror_mode": {
    "name": "ipython",
    "version": 3
   },
   "file_extension": ".py",
   "mimetype": "text/x-python",
   "name": "python",
   "nbconvert_exporter": "python",
   "pygments_lexer": "ipython3",
   "version": "3.8.5"
  }
 },
 "nbformat": 4,
 "nbformat_minor": 5
}
