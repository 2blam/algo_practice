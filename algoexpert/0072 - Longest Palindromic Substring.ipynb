{
 "cells": [
  {
   "cell_type": "markdown",
   "id": "f67d1985",
   "metadata": {},
   "source": [
    "Write a function to return a longest palindromic substring.\n",
    "\n",
    "Example:\n",
    "```\n",
    "input = \"abaxyzzyxf\"\n",
    "```\n",
    "\n",
    "```\n",
    "output = \"xyzzyx\"\n",
    "```"
   ]
  },
  {
   "cell_type": "code",
   "execution_count": 58,
   "id": "54cfe556",
   "metadata": {},
   "outputs": [
    {
     "name": "stdout",
     "output_type": "stream",
     "text": [
      "xyzzyx\n",
      "aba\n"
     ]
    }
   ],
   "source": [
    "\"\"\"\n",
    "    IDEA: checking the middle of palindaromic\n",
    "        odd length -> center with a letter\n",
    "        even length -> center is in between 2 letters\n",
    "        then, expand to the next and prev value if they are equals\n",
    "        => continue \n",
    "\n",
    "Time Complexity: O(n^2)\n",
    "Space Complexity: O(1)\n",
    "    \n",
    "\"\"\"\n",
    "\n",
    "def get_longest_palindromic(input, prev, next):\n",
    "    while prev >= 0 and next <= len(input) - 1 and input[prev] == input[next]:\n",
    "            prev -= 1\n",
    "            next += 1\n",
    "    return [prev+1, next-1] \n",
    "\n",
    "\n",
    "def longest_palindromic_substring(input):\n",
    "    curr_longest = [0, 1]\n",
    "    for i in range(2, len(input)):\n",
    "        prev, next = i - 1, i + 1\n",
    "        # odd length checking\n",
    "        odd = get_longest_palindromic(input, i-1, i+1)\n",
    "        # even length checking\n",
    "        even = get_longest_palindromic(input, i-1, i)\n",
    "        longest = max(odd, even, key = lambda x: (x[1]-x[0] + 1))\n",
    "        curr_longest = max(longest, curr_longest, key = lambda x: (x[1]-x[0]+1))\n",
    "        \n",
    "    return input[curr_longest[0]:(curr_longest[1]+1)]\n",
    "\n",
    "print(longest_palindromic_substring(\"xyzzyx\"))\n",
    "print(longest_palindromic_substring(\"xaba\"))"
   ]
  }
 ],
 "metadata": {
  "kernelspec": {
   "display_name": "Python 3 (ipykernel)",
   "language": "python",
   "name": "python3"
  },
  "language_info": {
   "codemirror_mode": {
    "name": "ipython",
    "version": 3
   },
   "file_extension": ".py",
   "mimetype": "text/x-python",
   "name": "python",
   "nbconvert_exporter": "python",
   "pygments_lexer": "ipython3",
   "version": "3.8.5"
  }
 },
 "nbformat": 4,
 "nbformat_minor": 5
}
