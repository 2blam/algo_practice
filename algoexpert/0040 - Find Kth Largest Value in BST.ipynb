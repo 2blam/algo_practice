{
 "cells": [
  {
   "cell_type": "markdown",
   "id": "adc91229",
   "metadata": {},
   "source": [
    "Write a function to find the kth largest value in BST.\n",
    "\n",
    "Note: k is always smaller than the number of nodes in BST.\n",
    "\n",
    "\n",
    "Example:\n",
    "input:\n",
    "```\n",
    "tree =          15\n",
    "              /    \\\n",
    "             5     20\n",
    "            / \\    / \\\n",
    "           2   5  17  22\n",
    "          / \\\n",
    "         1  3\n",
    "\n",
    "k = 3                \n",
    "```\n",
    "\n",
    "output:\n",
    "```\n",
    "17\n",
    "```\n"
   ]
  },
  {
   "cell_type": "code",
   "execution_count": 1,
   "id": "6bac30f2",
   "metadata": {},
   "outputs": [
    {
     "name": "stdout",
     "output_type": "stream",
     "text": [
      "17\n"
     ]
    }
   ],
   "source": [
    "\"\"\"\n",
    "    IDEA: [BETTER]\n",
    "        - > travseral right > node > left\n",
    "        - > last visit value =0, visit =0\n",
    "        - > when reach the node, \n",
    "                last visit value = node.value\n",
    "                visit = visit + 1\n",
    "Time Complexity: O(h + k) - h - the height of the rightmost branch; \n",
    "Space Complexity: O(h) - call stack\n",
    "\"\"\"\n",
    "\n",
    "class Node:\n",
    "    def __init__(self, value):\n",
    "        self.value = value\n",
    "        self.left = None\n",
    "        self.right = None\n",
    "\n",
    "tree = Node(15)\n",
    "tree.left = Node(5)\n",
    "tree.right = Node(20)\n",
    "tree.left.left = Node(2)\n",
    "tree.left.right = Node(5)\n",
    "tree.left.left.left = Node(1)\n",
    "tree.left.left.right = Node(3)\n",
    "tree.right.left = Node(17)\n",
    "tree.right.right = Node(22)\n",
    "\n",
    "def traversal(node, k, result):    \n",
    "    if result[0] >= k or node is None:\n",
    "        return \n",
    "    else:\n",
    "        traversal(node.right, k, result)\n",
    "        if result[0] < k:                    \n",
    "            result[0] = result[0] +1  #num_of_visit + 1\n",
    "            result[1] = node.value    #last_visit_value <= current node value\n",
    "            traversal(node.left, k, result)\n",
    "        \n",
    "\n",
    "def find_kth_largest_value_in_bst(tree, k):      \n",
    "    result = [0, -1] #num_of_visit, last_visit_value\n",
    "    traversal(tree, k, result)\n",
    "    return result[1]\n",
    "    \n",
    "\n",
    "print(find_kth_largest_value_in_bst(tree, 3))"
   ]
  },
  {
   "cell_type": "code",
   "execution_count": 2,
   "id": "8a4d3f71",
   "metadata": {},
   "outputs": [
    {
     "name": "stdout",
     "output_type": "stream",
     "text": [
      "17\n"
     ]
    }
   ],
   "source": [
    "\"\"\"\n",
    "    IDEA:\n",
    "        - > travseral right > node > left\n",
    "        - > put the element to the array\n",
    "        - > if the number of element > k => stop and return array[k-1]\n",
    "Time Complexity: O(h + k) -  h - the height of the rightmost branch; k number of nodes\n",
    "Space Complexity: O(k)\n",
    "\"\"\"\n",
    "\n",
    "class Node:\n",
    "    def __init__(self, value):\n",
    "        self.value = value\n",
    "        self.left = None\n",
    "        self.right = None\n",
    "\n",
    "tree = Node(15)\n",
    "tree.left = Node(5)\n",
    "tree.right = Node(20)\n",
    "tree.left.left = Node(2)\n",
    "tree.left.right = Node(5)\n",
    "tree.left.left.left = Node(1)\n",
    "tree.left.left.right = Node(3)\n",
    "tree.right.left = Node(17)\n",
    "tree.right.right = Node(22)\n",
    "\n",
    "def traversal(node, array, k):\n",
    "    if node is None:\n",
    "        return\n",
    "    else:\n",
    "        if len(array) < k: #no need to further check\n",
    "            traversal(node.right, array, k)\n",
    "            array.append(node.value)   \n",
    "            traversal(node.left, array, k)\n",
    "    return \n",
    "        \n",
    "\n",
    "def find_kth_largest_value_in_bst(tree, k):\n",
    "    result = []\n",
    "    traversal(tree, result, k)    \n",
    "    return (result[k-1])\n",
    "\n",
    "print(find_kth_largest_value_in_bst(tree, 3))"
   ]
  }
 ],
 "metadata": {
  "kernelspec": {
   "display_name": "Python 3 (ipykernel)",
   "language": "python",
   "name": "python3"
  },
  "language_info": {
   "codemirror_mode": {
    "name": "ipython",
    "version": 3
   },
   "file_extension": ".py",
   "mimetype": "text/x-python",
   "name": "python",
   "nbconvert_exporter": "python",
   "pygments_lexer": "ipython3",
   "version": "3.7.12"
  }
 },
 "nbformat": 4,
 "nbformat_minor": 5
}
