{
 "cells": [
  {
   "cell_type": "markdown",
   "id": "7cebd8eb",
   "metadata": {},
   "source": [
    "Write a function that takes in a string of lowercase English alphabet letters and returns the index of the string's first non-repeating character.\n",
    "\n",
    "The first non-repeating character is the first character in a string that occurs only once.\n",
    "\n",
    "If the string does not have any non-repeating characters, your function should return ```-1```\n",
    "\n",
    "Example\n",
    "\n",
    "input:\n",
    "```\n",
    "string = \"abcdcaf\"\n",
    "```\n",
    "\n",
    "output:\n",
    "```\n",
    "1\n",
    "``` (Reason: The first non-repeating character is b and is found at index 1"
   ]
  },
  {
   "cell_type": "code",
   "execution_count": 1,
   "id": "b92d20b9",
   "metadata": {},
   "outputs": [
    {
     "name": "stdout",
     "output_type": "stream",
     "text": [
      "1\n",
      "-1\n"
     ]
    }
   ],
   "source": [
    "\"\"\"\n",
    "    IDEA: Hash Table (Dict)\n",
    "    - put the char and frequency in d\n",
    "    - scan thru the string again\n",
    "        - check if d[c] == 1, if yes, return pos\n",
    "\n",
    "Time Complexity: O(n): n - number of characters in string\n",
    "Space Complexity: O(1): we only have 26 lowercase alphabet, i.e. max 26 entries in hashmap => constant space\n",
    "\"\"\"\n",
    "\n",
    "def first_non_repeating_character(string):\n",
    "    d = {}\n",
    "    for c in string:\n",
    "        if c not in d:\n",
    "            d[c] = 1\n",
    "        else:\n",
    "            d[c] += 1\n",
    "    # checking\n",
    "    for i in range(len(string)):\n",
    "        if d[string[i]] == 1:\n",
    "            return i\n",
    "    return -1\n",
    "\n",
    "string = \"abcdcaf\"\n",
    "print(first_non_repeating_character(string))\n",
    "\n",
    "string = \"aaabbccc\"\n",
    "print(first_non_repeating_character(string))"
   ]
  }
 ],
 "metadata": {
  "kernelspec": {
   "display_name": "Python 3 (ipykernel)",
   "language": "python",
   "name": "python3"
  },
  "language_info": {
   "codemirror_mode": {
    "name": "ipython",
    "version": 3
   },
   "file_extension": ".py",
   "mimetype": "text/x-python",
   "name": "python",
   "nbconvert_exporter": "python",
   "pygments_lexer": "ipython3",
   "version": "3.8.5"
  }
 },
 "nbformat": 4,
 "nbformat_minor": 5
}
