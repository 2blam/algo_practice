{
 "cells": [
  {
   "cell_type": "markdown",
   "id": "3cbc068f",
   "metadata": {},
   "source": [
    " Given 2 inputs, ```height``` and ```max_steps``` (positive, non-zero integers). \n",
    "- ```height``` - always greater than or equal to 1\n",
    "- ```max_steps``` - always greater than or equal to 1 and less than```height```\n",
    "\n",
    "Return the number ways to claim the staircase.\n",
    "\n",
    "Example:\n",
    "```\n",
    "height = 4\n",
    "max_steps = 2\n",
    "```\n",
    "\n",
    "Output:\n",
    "```\n",
    "5 ways\n",
    "=> \n",
    "1, 1, 1, 1\n",
    "1, 1, 2\n",
    "1, 2, 1\n",
    "2, 1, 1\n",
    "2, 2\n",
    "```"
   ]
  },
  {
   "cell_type": "code",
   "execution_count": 1,
   "id": "ab0e9e22",
   "metadata": {},
   "outputs": [
    {
     "name": "stdout",
     "output_type": "stream",
     "text": [
      "5\n",
      "7\n"
     ]
    }
   ],
   "source": [
    "# sliding windows - BEST\n",
    "# O(n) time | O(n) space\n",
    "def staircase_traversal(height, max_steps):\n",
    "    current_number_of_ways = 0\n",
    "    ways_to_top = [1]\n",
    "    \n",
    "    for current_height in range(1, height+1):\n",
    "        start_of_window = current_height - max_steps - 1\n",
    "        end_of_window = current_height - 1\n",
    "        if start_of_window >= 0:\n",
    "            current_number_of_ways -= ways_to_top[start_of_window]\n",
    "        current_number_of_ways += ways_to_top[end_of_window]\n",
    "        ways_to_top.append(current_number_of_ways)\n",
    "    return ways_to_top[height]\n",
    "\n",
    "print(staircase_traversal(4, 2))\n",
    "print(staircase_traversal(4, 3))"
   ]
  },
  {
   "cell_type": "code",
   "execution_count": 2,
   "id": "8b9b4952",
   "metadata": {},
   "outputs": [
    {
     "name": "stdout",
     "output_type": "stream",
     "text": [
      "5\n",
      "7\n"
     ]
    }
   ],
   "source": [
    "#DP \n",
    "# O(n * k) time | O(n) space\n",
    "def staircase_traversal(height, max_steps):\n",
    "    ways_to_top = [0 for _ in range(height+1)]\n",
    "    ways_to_top[0] = 1\n",
    "    ways_to_top[1] = 1\n",
    "    \n",
    "    for current_height in range(2, height+1):\n",
    "        step = 1\n",
    "        while step <= max_steps and step <= current_height:\n",
    "            ways_to_top[current_height] = ways_to_top[current_height] + ways_to_top[current_height - step]\n",
    "            step += 1\n",
    "    return ways_to_top[-1]\n",
    "\n",
    "print(staircase_traversal(4, 2))\n",
    "print(staircase_traversal(4, 3))"
   ]
  },
  {
   "cell_type": "code",
   "execution_count": 3,
   "id": "82b97544",
   "metadata": {},
   "outputs": [
    {
     "name": "stdout",
     "output_type": "stream",
     "text": [
      "5\n",
      "7\n"
     ]
    }
   ],
   "source": [
    "# O(k*n) time | O(n) space\n",
    "def number_of_ways_to_top(height, max_steps, memoize):\n",
    "    if height in memoize:\n",
    "        return memoize[height]\n",
    "    number_of_ways = 0\n",
    "    for step in range(1, min(max_steps, height)+1):\n",
    "        number_of_ways += number_of_ways_to_top(height-step, max_steps, memoize)\n",
    "    memoize[height] = number_of_ways\n",
    "    \n",
    "    return number_of_ways\n",
    "        \n",
    "def staircase_traversal(height, max_steps):\n",
    "    return number_of_ways_to_top(height, max_steps, {0:1, 1:1})\n",
    "\n",
    "print(staircase_traversal(4, 2))\n",
    "print(staircase_traversal(4, 3))"
   ]
  },
  {
   "cell_type": "code",
   "execution_count": 4,
   "id": "882941bf",
   "metadata": {},
   "outputs": [
    {
     "name": "stdout",
     "output_type": "stream",
     "text": [
      "5\n",
      "7\n"
     ]
    }
   ],
   "source": [
    "# O(k^n) time | O(n) time\n",
    "# k - max step; n - height\n",
    "def number_of_ways_to_top(height, max_steps):\n",
    "    if height <= 1:\n",
    "        return 1\n",
    "    number_of_ways = 0\n",
    "    for step in range(1, min(max_steps, height)+1):\n",
    "        number_of_ways += number_of_ways_to_top(height-step, max_steps)\n",
    "        \n",
    "    return number_of_ways\n",
    "        \n",
    "def staircase_traversal(height, max_steps):\n",
    "    return number_of_ways_to_top(height, max_steps)\n",
    "\n",
    "print(staircase_traversal(4, 2))\n",
    "print(staircase_traversal(4, 3))"
   ]
  },
  {
   "cell_type": "code",
   "execution_count": 5,
   "id": "10dc7899",
   "metadata": {},
   "outputs": [
    {
     "name": "stdout",
     "output_type": "stream",
     "text": [
      "5\n",
      "7\n"
     ]
    }
   ],
   "source": [
    "\"\"\"\n",
    "    IDEA: recursive\n",
    "        init: steps = [1, 2], value = 4\n",
    "        result = [0]\n",
    "        call helper\n",
    "            helper(steps, value, result)\n",
    "                check if value == 0:\n",
    "                    result[0] += 1\n",
    "                else:\n",
    "                    for s in steps:\n",
    "                        diff = value - s\n",
    "                        if diff > 0:\n",
    "                            helper(steps, diff, result)\n",
    "                            \n",
    "                return result[0]\n",
    "Time Complexity: O(s^h)       \n",
    "Space Complexity: O(h)\n",
    "\"\"\"\n",
    "\n",
    "def helper(steps, value, result):\n",
    "    if value == 0:\n",
    "        result[0] += 1\n",
    "    else:\n",
    "        for s in steps:\n",
    "            diff = value - s\n",
    "            if diff >= 0:\n",
    "                helper(steps, diff, result)\n",
    "\n",
    "def staircase_traversal(height, max_steps):\n",
    "    steps = [i for i in range(1, max_steps+1)]\n",
    "    result = [0]\n",
    "    helper(steps, height, result)\n",
    "    return result[0]\n",
    "\n",
    "print(staircase_traversal(4, 2))\n",
    "print(staircase_traversal(4, 3))\n"
   ]
  }
 ],
 "metadata": {
  "kernelspec": {
   "display_name": "Python 3 (ipykernel)",
   "language": "python",
   "name": "python3"
  },
  "language_info": {
   "codemirror_mode": {
    "name": "ipython",
    "version": 3
   },
   "file_extension": ".py",
   "mimetype": "text/x-python",
   "name": "python",
   "nbconvert_exporter": "python",
   "pygments_lexer": "ipython3",
   "version": "3.8.5"
  }
 },
 "nbformat": 4,
 "nbformat_minor": 5
}
