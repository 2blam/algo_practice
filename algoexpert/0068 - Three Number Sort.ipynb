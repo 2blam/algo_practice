{
 "cells": [
  {
   "cell_type": "markdown",
   "id": "e52a935c",
   "metadata": {},
   "source": [
    "Give two arrays, the first array with n number of elements which we need to sort it based on the order of the second array. The second array only with 3 elements.\n",
    "\n",
    "Note that the first array can contain less than 3 elements.\n",
    "\n",
    "Example:\n",
    "input:\n",
    "```\n",
    "input = [1, 0, 0, -1, -1, 0, 1, 1]\n",
    "order = [0, 1, -1]\n",
    "```\n",
    "\n",
    "output:\n",
    "```\n",
    "[0, 0, 0, 1, 1, 1, -1, -1]\n",
    "```"
   ]
  },
  {
   "cell_type": "code",
   "execution_count": 1,
   "id": "33a64057",
   "metadata": {},
   "outputs": [
    {
     "name": "stdout",
     "output_type": "stream",
     "text": [
      "[0, 0, 1, 1, 1, -1, -1, -1]\n"
     ]
    }
   ],
   "source": [
    "\"\"\"\n",
    "    Bucket Sort\n",
    "    - create 3 variables: first, second, third\n",
    "        init with ZERO\n",
    "    - every time we encounter first / second / third\n",
    "        increment the value by 1\n",
    "    - then loop these 3 variables, changing the input array\n",
    "    \n",
    "Time Complexity: O(n) - have to pass thru the array 2 times\n",
    "Space Complexity: O(1)\n",
    "\"\"\"\n",
    "\n",
    "def three_number_sort(input, order):\n",
    "    first, second, third = 0, 0, 0\n",
    "    for e in input:\n",
    "        if e == order[0]:\n",
    "            first += 1\n",
    "        elif e == order[1]:\n",
    "            second += 1\n",
    "        else:\n",
    "            third += 1\n",
    "    # update\n",
    "    for idx in range(len(input)):\n",
    "        if idx < first -1:\n",
    "            input[idx] = order[0]\n",
    "        elif idx < first+second - 1:\n",
    "            input[idx] = order[1]\n",
    "        else:\n",
    "            input[idx] = order[2]\n",
    "    return input\n",
    "\n",
    "input = [1, 0, 0, -1, -1, 0, 1, 1]\n",
    "order = [0, 1, -1]\n",
    "print(three_number_sort(input, order))"
   ]
  },
  {
   "cell_type": "code",
   "execution_count": 2,
   "id": "3241be72",
   "metadata": {},
   "outputs": [
    {
     "name": "stdout",
     "output_type": "stream",
     "text": [
      "[0, 0, 0, 1, 1, 1, -1, -1]\n"
     ]
    }
   ],
   "source": [
    "\"\"\"\n",
    "    - split the array with 3 parts:\n",
    "    - begin | middle | last\n",
    "    - first pass\n",
    "        move first to the begin of the array\n",
    "    - second pass (from last position to the first position)\n",
    "        move thrid to the end of the array\n",
    "        \n",
    "Time Complexity: O(n)\n",
    "Space Complexity: O(1)\n",
    "\"\"\"\n",
    "\n",
    "def three_number_sort(input, order):\n",
    "    first = order[0]\n",
    "    third = order[2]\n",
    "    \n",
    "    first_idx = 0\n",
    "    # first pass \n",
    "    for idx in range(len(input)):\n",
    "        if input[idx] == first: # swap\n",
    "            input[first_idx], input[idx] = input[idx], input[first_idx]\n",
    "            first_idx += 1\n",
    "    # second pass, reverse\n",
    "    third_idx = len(input) - 1\n",
    "    for idx in reversed(range(len(input))):\n",
    "        if input[idx] == third: #swap\n",
    "            input[third_idx], input[idx] = input[idx], input[third_idx]\n",
    "            third_idx -=1\n",
    "    return input\n",
    "\n",
    "\n",
    "input = [1, 0, 0, -1, -1, 0, 1, 1]\n",
    "order = [0, 1, -1]\n",
    "print(three_number_sort(input, order))"
   ]
  },
  {
   "cell_type": "code",
   "execution_count": 3,
   "id": "8a3fbf23",
   "metadata": {},
   "outputs": [
    {
     "name": "stdout",
     "output_type": "stream",
     "text": [
      "[0, 0, 0, 1, 1, 1, -1, -1]\n"
     ]
    }
   ],
   "source": [
    "\"\"\"\n",
    "     - split the array with 3 parts:\n",
    "    - begin | middle | last\n",
    "    - first_pt = 0; second_pt = 0; third_pt = len(array) - 1\n",
    "    - check value at second\n",
    "        ==> if it is equal 2nd order, move second_pt forward\n",
    "        ==> if it is equal 3rd order\n",
    "            swap with third_pt\n",
    "            decrement third_pt by 1\n",
    "        ==> otherwise, swap with first_pt\n",
    "            move first_pt and second_pt forward by 1\n",
    "        ==> if second_pt is greater than third_pt\n",
    "                no longer need to continue\n",
    "\n",
    "Time Complexity: O(n) - need 1 pass only\n",
    "Space Complexity: O(1)\n",
    "\"\"\"\n",
    "\n",
    "\n",
    "\n",
    "def three_number_sort(input, order):\n",
    "    first_pt, second_pt, third_pt = 0, 0, len(input) - 1\n",
    "    [first, second, third] = order\n",
    "    while second_pt <= third_pt:\n",
    "        if input[second_pt] == second:\n",
    "            second_pt += 1\n",
    "        elif input[second_pt] == third: # move to end\n",
    "            input[second_pt], input[third_pt] = input[third_pt], input[second_pt]\n",
    "            third_pt -= 1\n",
    "        else: # equal to first\n",
    "            input[first_pt], input[second_pt] = input[second_pt], input[first_pt]\n",
    "            first_pt += 1\n",
    "            second_pt += 1\n",
    "    return input\n",
    "\n",
    "\n",
    "input = [1, 0, 0, -1, -1, 0, 1, 1]\n",
    "order = [0, 1, -1]\n",
    "print(three_number_sort(input, order))"
   ]
  }
 ],
 "metadata": {
  "kernelspec": {
   "display_name": "Python 3 (ipykernel)",
   "language": "python",
   "name": "python3"
  },
  "language_info": {
   "codemirror_mode": {
    "name": "ipython",
    "version": 3
   },
   "file_extension": ".py",
   "mimetype": "text/x-python",
   "name": "python",
   "nbconvert_exporter": "python",
   "pygments_lexer": "ipython3",
   "version": "3.8.5"
  }
 },
 "nbformat": 4,
 "nbformat_minor": 5
}
