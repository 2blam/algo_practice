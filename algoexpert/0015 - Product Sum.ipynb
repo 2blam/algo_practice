{
 "cells": [
  {
   "cell_type": "markdown",
   "id": "d4a115cc",
   "metadata": {},
   "source": [
    "Suppose there is an array that contains integers or other \"special\" arrays.\n",
    "\n",
    "The product sum of a \"special\" array is the sum of its elements.\n",
    "\n",
    "The depth of a special array is how far nested it is. Example:\n",
    "```[]``` the depth is 1; ```[[]]``` the depth is 2; ```[[[]]]``` the depth is 3\n",
    "\n",
    "The product sum of ```[a, b]``` is ```a + b```;\n",
    "the product sum of ```[a, [b, c]]``` is ```a + 2 * (b + c)```\n",
    "\n",
    "Write a function that accepts the array and returns its product sum.\n",
    "\n",
    "Example:\n",
    "\n",
    "input: ```[5, 2, [7, -1], 3, [6, [-13, 8], 4]]```\n",
    "\n",
    "output: ```12```"
   ]
  },
  {
   "cell_type": "code",
   "execution_count": 1,
   "id": "1cbb24d9",
   "metadata": {},
   "outputs": [
    {
     "name": "stdout",
     "output_type": "stream",
     "text": [
      "12\n"
     ]
    }
   ],
   "source": [
    "\"\"\"\n",
    "    IDEA: Recursive \n",
    "        - scan thru each element\n",
    "        - check if it is a subarray\n",
    "            - if yes => call helper with depth + 1\n",
    "            - else:\n",
    "                total = total + element value\n",
    "        - return depth * total\n",
    "\n",
    "Time Complexity: O(n); IMPORTANT - n is the total number of elements in the array, including the sub-arrays\n",
    "Space Complexity: O(d); d - the max depth of the array; \n",
    "                 reason: call stack; the max depth ==> have to maintain all the state (total) => i.e. d\n",
    "    \n",
    "\"\"\"\n",
    "array = [5, 2, [7, -1], 3, [6, [-13, 8], 4]]\n",
    "\n",
    "def product_sum(array, depth = 1):\n",
    "    total = 0\n",
    "    for e in array:\n",
    "        if type(e) is int:\n",
    "            total = total + e\n",
    "        else:\n",
    "            total = total + product_sum(e, depth+1)\n",
    "    return depth * total\n",
    "\n",
    "\n",
    "print(product_sum(array))"
   ]
  }
 ],
 "metadata": {
  "kernelspec": {
   "display_name": "Python 3 (ipykernel)",
   "language": "python",
   "name": "python3"
  },
  "language_info": {
   "codemirror_mode": {
    "name": "ipython",
    "version": 3
   },
   "file_extension": ".py",
   "mimetype": "text/x-python",
   "name": "python",
   "nbconvert_exporter": "python",
   "pygments_lexer": "ipython3",
   "version": "3.8.5"
  }
 },
 "nbformat": 4,
 "nbformat_minor": 5
}
