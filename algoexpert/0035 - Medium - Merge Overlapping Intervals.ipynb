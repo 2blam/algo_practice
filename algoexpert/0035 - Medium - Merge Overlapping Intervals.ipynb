{
 "cells": [
  {
   "cell_type": "markdown",
   "id": "1df119c0",
   "metadata": {},
   "source": [
    "Write a function that takes in a non-empty array of arbitrary intervals, merges any overlapping intervals, and returns the new intervals in no particular order.\n",
    "\n",
    "Each interval ```interval``` is an array of two integers, with ```interal[0]``` as the start of the interval and ```interval[1]``` as the end of the interval.\n",
    "\n",
    "Note that back-to-back intervals are not considered to be overlapping. For example, ```[1, 5]``` and ```[6, 7]``` are not overlapping; however, ```[1, 6]``` and ```[6, 7]``` are indeed overlapping.\n",
    "\n",
    "Also, note that the start of any particular interval will always be less than or equal to interval.\n",
    "\n",
    "Example:\n",
    "\n",
    "input:\n",
    "```\n",
    "intervals = [[1, 2], [3, 5], [4, 7], [6, 8], [9, 10]]\n",
    "```\n",
    "\n",
    "output:\n",
    "```\n",
    "[[1, 2], [3, 8], [9, 10]]\n",
    "```\n",
    "Reason: merged the intervals [3, 5], [4, 7], [6, 8]\n"
   ]
  },
  {
   "cell_type": "code",
   "execution_count": 1,
   "id": "6afa04ef",
   "metadata": {},
   "outputs": [
    {
     "name": "stdout",
     "output_type": "stream",
     "text": [
      "[[1, 2], [3, 8], [9, 10]]\n"
     ]
    }
   ],
   "source": [
    "\"\"\"\n",
    "    IDEA:\n",
    "        Q: When should we merge?\n",
    "            interval 1,  interval 2\n",
    "            [i1_x1, i1_x2] , [i2_x1, i2_x2]\n",
    "            if il_x2 <= i2_x1 ==> overlapp # IMPORTANT - work only the intervals sorted\n",
    "        \n",
    "Time Complexity - O(n log n)\n",
    "Space Complexity - O(n)\n",
    "\"\"\"\n",
    "\n",
    "def merge_overlapping_intervals(intervals):\n",
    "    # sort the intervals w.r.t the 1st element\n",
    "    intervals.sort(key = lambda x:x[0]) # sorting n log n\n",
    "\n",
    "    current = intervals[0]\n",
    "    merged = [current]\n",
    "    \n",
    "    for interval in intervals:\n",
    "        [i1_x1, i1_x2] = current\n",
    "        [i2_x1, i2_x2] = interval\n",
    "        \n",
    "        if i1_x2 >= i2_x1:\n",
    "            # important, update 2nd element only, keep reference\n",
    "            current[1] = max(i1_x2, i2_x2) \n",
    "        else:\n",
    "            current = interval\n",
    "            merged.append(current)\n",
    "    return merged\n",
    "\n",
    "\n",
    "\n",
    "intervals = [[1, 2], [3, 5], [4, 7], [6, 8], [9, 10]]\n",
    "print(merge_overlapping_intervals(intervals))\n"
   ]
  }
 ],
 "metadata": {
  "kernelspec": {
   "display_name": "Python 3 (ipykernel)",
   "language": "python",
   "name": "python3"
  },
  "language_info": {
   "codemirror_mode": {
    "name": "ipython",
    "version": 3
   },
   "file_extension": ".py",
   "mimetype": "text/x-python",
   "name": "python",
   "nbconvert_exporter": "python",
   "pygments_lexer": "ipython3",
   "version": "3.8.5"
  }
 },
 "nbformat": 4,
 "nbformat_minor": 5
}
