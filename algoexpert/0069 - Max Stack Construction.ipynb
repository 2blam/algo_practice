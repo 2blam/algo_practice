{
 "cells": [
  {
   "cell_type": "markdown",
   "id": "4abb3ec9",
   "metadata": {},
   "source": [
    "Write a Min Max Stack class. The class should support pushing and popping values on and off the stack, peeking at values at the top of the stack, and getting both the minimum and the maximum values in the stack. All class methods, when considered independently, should run in constant time and with constant space.\n",
    "\n",
    "Sample input: -> push(5) -> getMin() -> getMax() -> peek() -> push(7) -> getMin() -> getMax() -> peek() -> push(2) -> getMin() -> getMax() -> peek() -> pop() -> pop() -> getMin() -> getMax() -> peek()\n",
    "\n",
    "Sample output: -> (push 5) -> 5 (min) -> 5 (max) -> 5 (peek) -> (push 7) -> 5 (min) -> 7 (max) -> 7 (peek) -> (push 2) -> 2 (min) -> 7 (max) -> 2 (peek) -> 2 (pop) -> 7 (pop) -> 5 (min) -> 5 (max) -> 5 (peek)\n",
    "\n"
   ]
  },
  {
   "cell_type": "code",
   "execution_count": 1,
   "id": "eef4725e",
   "metadata": {},
   "outputs": [
    {
     "name": "stdout",
     "output_type": "stream",
     "text": [
      "5\n",
      "5\n",
      "5\n",
      "5\n",
      "7\n",
      "7\n",
      "2\n",
      "7\n",
      "2\n",
      "2\n",
      "7\n",
      "5\n",
      "5\n",
      "5\n"
     ]
    }
   ],
   "source": [
    "class MinMaxStack:\n",
    "    def __init__(self):\n",
    "        self.stack = []\n",
    "        self.__min = []\n",
    "        self.__max = []\n",
    "        \n",
    "    def push(self, num):\n",
    "        self.stack.append(num)\n",
    "        if len(self.__min) == 0:\n",
    "            self.__min.append(num)\n",
    "            self.__max.append(num)\n",
    "        else:\n",
    "#             if num < self.__min[-1]:\n",
    "#                 self.__min.append(num)\n",
    "#             else:\n",
    "#                 self.__min.append(self.__min[-1])\n",
    "            self.__min.append(min(num, self.__min[-1]))\n",
    "\n",
    "#             if num > self.__max[-1]:\n",
    "#                 self.__max.append(num)\n",
    "#             else:\n",
    "#                 self.__max.append(self.__max[-1])\n",
    "            self.__max.append(max(num, self.__max[-1]))\n",
    "            \n",
    "    def getMin(self):\n",
    "        return None if len(self.stack) == 0 else self.__min[-1]\n",
    "    \n",
    "    def getMax(self):\n",
    "        return None if len(self.stack) == 0 else self.__max[-1]\n",
    "    \n",
    "    def peek(self):\n",
    "        return self.stack[-1] if len(self.stack) > 0 else None\n",
    "    \n",
    "    def pop(self):\n",
    "        if len(self.stack) > 0:\n",
    "            num = self.stack.pop()\n",
    "            self.__min.pop()\n",
    "            self.__max.pop()\n",
    "            return num\n",
    "        else:\n",
    "            return None\n",
    "            \n",
    "\n",
    "min_max_stack = MinMaxStack()\n",
    "min_max_stack.push(5)\n",
    "print(min_max_stack.getMin())\n",
    "print(min_max_stack.getMax())\n",
    "print(min_max_stack.peek())\n",
    "min_max_stack.push(7)\n",
    "print(min_max_stack.getMin())\n",
    "print(min_max_stack.getMax())\n",
    "print(min_max_stack.peek())\n",
    "min_max_stack.push(2)\n",
    "print(min_max_stack.getMin())\n",
    "print(min_max_stack.getMax())\n",
    "print(min_max_stack.peek())\n",
    "print(min_max_stack.pop())\n",
    "print(min_max_stack.pop())\n",
    "print(min_max_stack.getMin())\n",
    "print(min_max_stack.getMax())\n",
    "print(min_max_stack.peek())"
   ]
  }
 ],
 "metadata": {
  "kernelspec": {
   "display_name": "Python 3 (ipykernel)",
   "language": "python",
   "name": "python3"
  },
  "language_info": {
   "codemirror_mode": {
    "name": "ipython",
    "version": 3
   },
   "file_extension": ".py",
   "mimetype": "text/x-python",
   "name": "python",
   "nbconvert_exporter": "python",
   "pygments_lexer": "ipython3",
   "version": "3.8.5"
  }
 },
 "nbformat": 4,
 "nbformat_minor": 5
}
