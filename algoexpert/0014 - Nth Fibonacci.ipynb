{
 "cells": [
  {
   "cell_type": "markdown",
   "id": "505f2644",
   "metadata": {},
   "source": [
    "Fibonacci Sequence - the first number of the sequence is ```0```, the second number is ```1```, and the nth number is the sum of (n-1)th number and (n-2)th numbers. \n",
    "\n",
    "Write a function that takes `n` integer value and returns the nth Fibonacci number\n",
    "\n",
    "Example 1:\n",
    "\n",
    "- Input: ```n = 2```\n",
    "- Output: ```1``` [Reason: (0, 1)]\n",
    "\n",
    "Example 2:\n",
    "- Input: ```n = 6```\n",
    "- Output: ```5``` [Reason: (0, 1, 1, 2, 3, 5)]"
   ]
  },
  {
   "cell_type": "code",
   "execution_count": 1,
   "id": "3daf69ff",
   "metadata": {},
   "outputs": [
    {
     "name": "stdout",
     "output_type": "stream",
     "text": [
      "5\n"
     ]
    }
   ],
   "source": [
    "\"\"\"\n",
    "Approach: Recursive Approach (Worst)\n",
    "\n",
    "Time Complexity: O(2^n); each fib call, will have 2 subsequence fib call, repeat until fib(1), so, roughly 2^n\n",
    "Space Complexity: O(n); call stack: fib(6) > fib(5) > ... fib(1) until fib(1), \n",
    "                  then pop and release memory in call stack ~ O(n)\n",
    "\"\"\"\n",
    "def fib(n):\n",
    "    if n == 1 or n == 2:\n",
    "        return n - 1 # return 1 --> 0; 2 --> 1\n",
    "    return fib(n-1) + fib(n-2)\n",
    "\n",
    "print(fib(6))"
   ]
  },
  {
   "cell_type": "code",
   "execution_count": 2,
   "id": "75fcbbcd",
   "metadata": {},
   "outputs": [
    {
     "name": "stdout",
     "output_type": "stream",
     "text": [
      "5\n"
     ]
    }
   ],
   "source": [
    "\"\"\"\n",
    "Approach: Caching / Memorization Approach (Better)\n",
    "\n",
    "Time Complexity: O(n); calculate the fib number once, the subsequence call, with same number, can be accessed\n",
    "                 from the cache table which is constant time\n",
    "Space Complexity: O(n); space for caching the fib result\n",
    "\"\"\"\n",
    "def fib(n, cache={1:0, 2:1}):\n",
    "    if n in cache:\n",
    "        return cache[n]\n",
    "    else:\n",
    "        cache[n] = fib(n-1, cache) + fib(n-2, cache)\n",
    "        \n",
    "    return cache[n]\n",
    "\n",
    "print(fib(6))"
   ]
  },
  {
   "cell_type": "code",
   "execution_count": 3,
   "id": "862fe70a",
   "metadata": {},
   "outputs": [
    {
     "name": "stdout",
     "output_type": "stream",
     "text": [
      "5\n"
     ]
    }
   ],
   "source": [
    "\"\"\"\n",
    "Approach: 2 variables (BEST)\n",
    "\n",
    "Time Complexity: O(n)\n",
    "Space Complexity: O(1) - constant space\n",
    "\"\"\"\n",
    "\n",
    "def fib(n):\n",
    "    if n == 1 or n == 2:\n",
    "        return n - 1\n",
    "    c = 3\n",
    "    first, second = 0, 1\n",
    "    while c <= n:\n",
    "        tmp_fib = first + second\n",
    "        first = second\n",
    "        second = tmp_fib\n",
    "        c = c + 1\n",
    "    return tmp_fib\n",
    "\n",
    "print(fib(6))"
   ]
  }
 ],
 "metadata": {
  "kernelspec": {
   "display_name": "Python 3 (ipykernel)",
   "language": "python",
   "name": "python3"
  },
  "language_info": {
   "codemirror_mode": {
    "name": "ipython",
    "version": 3
   },
   "file_extension": ".py",
   "mimetype": "text/x-python",
   "name": "python",
   "nbconvert_exporter": "python",
   "pygments_lexer": "ipython3",
   "version": "3.8.5"
  }
 },
 "nbformat": 4,
 "nbformat_minor": 5
}
