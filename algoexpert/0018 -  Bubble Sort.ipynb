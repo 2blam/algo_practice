{
 "cells": [
  {
   "cell_type": "markdown",
   "id": "0d8b06a4",
   "metadata": {},
   "source": [
    "Write a function accepts an array of integers and returns a sorted version of that array. Use the Bubble Sort algorithm to sort the array.\n",
    "\n",
    "Example:\n",
    "\n",
    "input: \n",
    "```array = [8, 5, 2, 9, 5, 6, 3]```\n",
    "\n",
    "output:\n",
    "```[2, 3, 5, 5, 6, 8, 9]```"
   ]
  },
  {
   "cell_type": "code",
   "execution_count": 1,
   "id": "373e5939",
   "metadata": {},
   "outputs": [
    {
     "name": "stdout",
     "output_type": "stream",
     "text": [
      "[2, 3, 5, 5, 6, 8, 9]\n"
     ]
    }
   ],
   "source": [
    "\"\"\"\n",
    "IDEA: Bubble Sort\n",
    "    - For every run (scan the array)\n",
    "    -    put the larger element to the end of the array (like bubble, flow upward)\n",
    "    -    How? by swapping\n",
    "    -    after 1st run, the largest one should be at the end of the array\n",
    "    -    => then next run, we can skip checking the last element\n",
    "    -    [Idea apply to the rest of the runs]\n",
    "    \n",
    "Time Complexity: O(n^2)\n",
    "Space Complexity: O(1)\n",
    "\"\"\"\n",
    "def bubble_sort(array):\n",
    "    for i in range(len(array)-1):\n",
    "        for j in range(len(array)-1-i):\n",
    "            # check if the current one is greater than the next one\n",
    "            # if yes, swap position\n",
    "            if array[j] > array[j+1]: \n",
    "                array[j], array[j+1] = array[j+1], array[j]\n",
    "\n",
    "                \n",
    "array = [8, 5, 2, 9, 5, 6, 3]\n",
    "bubble_sort(array)\n",
    "print(array)"
   ]
  }
 ],
 "metadata": {
  "kernelspec": {
   "display_name": "Python 3 (ipykernel)",
   "language": "python",
   "name": "python3"
  },
  "language_info": {
   "codemirror_mode": {
    "name": "ipython",
    "version": 3
   },
   "file_extension": ".py",
   "mimetype": "text/x-python",
   "name": "python",
   "nbconvert_exporter": "python",
   "pygments_lexer": "ipython3",
   "version": "3.8.5"
  }
 },
 "nbformat": 4,
 "nbformat_minor": 5
}
