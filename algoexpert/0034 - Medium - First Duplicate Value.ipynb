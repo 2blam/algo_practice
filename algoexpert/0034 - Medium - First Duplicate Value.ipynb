{
 "cells": [
  {
   "cell_type": "markdown",
   "id": "9f0a5a30",
   "metadata": {},
   "source": [
    "Given an array of integers between ```1``` and ```n``` (inclusive), where ```n``` is the length of the array, write a function that returns the first integer that appears more than once (when the array is read from left to right).\n",
    "\n",
    "In other words, out of all the integers that might occur more than once in the input array, your function should return the one whose first duplicate value has the minimum index.\n",
    "\n",
    "If no integer appears more than once, your function should return ```-1```.\n",
    "\n",
    "Note that you're allowed to mutate the input array.\n",
    "\n",
    "Example:\n",
    "\n",
    "input:\n",
    "```\n",
    "array = [2, 1, 5, 2, 3, 3, 4]\n",
    "```\n",
    "\n",
    "output:\n",
    "```\n",
    "2\n",
    "```\n",
    "Reason: \n",
    "- 2 is the 1st integer that appears more than once.\n",
    "- 3 also appears more than once, but the second 3 appears after the second 2\n",
    "\n",
    "Example 2:\n",
    "\n",
    "input:\n",
    "```\n",
    "array = [2, 1, 5, 3, 3, 2, 4]\n",
    "```\n",
    "\n",
    "output:\n",
    "```\n",
    "3\n",
    "```\n",
    "Reason:\n",
    "- 3 is the 1st integer that appears more than once.\n",
    "- 2 also appears more than once, but the second 2 appears after the second 3"
   ]
  },
  {
   "cell_type": "code",
   "execution_count": 1,
   "id": "7b1f67d8",
   "metadata": {},
   "outputs": [
    {
     "name": "stdout",
     "output_type": "stream",
     "text": [
      "2\n",
      "3\n"
     ]
    }
   ],
   "source": [
    "\"\"\"\n",
    "    IDEA: make use of the -ve values to represent the visited element\n",
    "        get the element value minus 1, save it value as v\n",
    "        check if the array[v] is negative\n",
    "            => visited before (duplicate value), and return v + 1\n",
    "        else:\n",
    "            => change the array[v] as negative value\n",
    "            \n",
    "Time Complexity: O(n) - n: number of elements in array \n",
    "Space Compleixty: O(1)\n",
    "\"\"\"\n",
    "\n",
    "def first_duplicate_value(array):\n",
    "    for idx in range(0, len(array)):\n",
    "        # checking\n",
    "        if array[abs(array[idx]) - 1] < 0:\n",
    "            return abs(array[idx])\n",
    "        else:\n",
    "            array[idx-1] = -1 * array[idx-1]\n",
    "    \n",
    "    return -1\n",
    "\n",
    "array = [2, 1, 5, 2, 3, 3, 4]\n",
    "print(first_duplicate_value(array))\n",
    "\n",
    "array = [2, 1, 5, 3, 3, 2, 4]\n",
    "print(first_duplicate_value(array))\n"
   ]
  },
  {
   "cell_type": "code",
   "execution_count": 2,
   "id": "501409d1",
   "metadata": {},
   "outputs": [
    {
     "name": "stdout",
     "output_type": "stream",
     "text": [
      "2\n",
      "3\n"
     ]
    }
   ],
   "source": [
    "\"\"\"\n",
    "    IDEA: hash table\n",
    "    for idx in range(0, len(array)):\n",
    "        element = array[idx]\n",
    "        if element in d: #found duplicate\n",
    "            return element\n",
    "        else:\n",
    "            put idx to d\n",
    "    \n",
    "    return -1\n",
    "\n",
    "Time Complexity: O(n) - n: the number of elements in array\n",
    "Space Complexity: O(n)\n",
    "\"\"\"\n",
    "\n",
    "def first_duplicate_value(array):\n",
    "    d = {}\n",
    "    for idx in range(0, len(array)):\n",
    "        if array[idx] in d:\n",
    "            return array[idx]\n",
    "        else:\n",
    "            d[array[idx]] = idx\n",
    "    \n",
    "    return -1\n",
    "\n",
    "array = [2, 1, 5, 2, 3, 3, 4]\n",
    "print(first_duplicate_value(array))\n",
    "\n",
    "array = [2, 1, 5, 3, 3, 2, 4]\n",
    "print(first_duplicate_value(array))"
   ]
  }
 ],
 "metadata": {
  "kernelspec": {
   "display_name": "Python 3 (ipykernel)",
   "language": "python",
   "name": "python3"
  },
  "language_info": {
   "codemirror_mode": {
    "name": "ipython",
    "version": 3
   },
   "file_extension": ".py",
   "mimetype": "text/x-python",
   "name": "python",
   "nbconvert_exporter": "python",
   "pygments_lexer": "ipython3",
   "version": "3.8.5"
  }
 },
 "nbformat": 4,
 "nbformat_minor": 5
}
