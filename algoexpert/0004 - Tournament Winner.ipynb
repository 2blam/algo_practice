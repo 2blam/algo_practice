{
 "cells": [
  {
   "cell_type": "markdown",
   "id": "fabe9c76",
   "metadata": {},
   "source": [
    "We're asked to imagine there is an algorithms tournament taking place in which multiple teams compete against each other. In each competition there will be two teams that compete and there will be one winner and one loser out of all of these competitions; there are no ties. Each team will compete against all other teams exactly once. Every time a team wins a competition, it gets 3 points; when it loses, it gets 0 points. It's guaranteed that the tournament always has at least two teams and there will be only one tournament winner.\n",
    "\n",
    "We are given two inputs, the competitions array and the results array, and we need to write a function that returns the winner of the tournament, or more specifically, the name of the team that has the most number of points. The competitions array is an array of pairs, representing all of the competitions in the tournament. Inside of these pairs, we have two strings. The first string is the name of the home team, the second string is the name of the away team. The results array represents the winner of each of these competitions. Inside the results array, a 1 means that the home team won and a 0 means the away team won. The results array is the same length as the competitions array, and the indices in the results array correspond with the indices in the competitions array."
   ]
  },
  {
   "cell_type": "code",
   "execution_count": 1,
   "id": "e40e3b26",
   "metadata": {},
   "outputs": [
    {
     "data": {
      "text/plain": [
       "'Python'"
      ]
     },
     "execution_count": 1,
     "metadata": {},
     "output_type": "execute_result"
    }
   ],
   "source": [
    "\"\"\"\n",
    "    IDEA: using hashmap\n",
    "    \n",
    "Time Complexity: O(n) + O(m) - n - number of games; m - number of teams\n",
    "Space Complexity: O(m) -  m - number of teams\n",
    "\"\"\"\n",
    "\n",
    "competitions = [[\"HTML\", \"C#\"], [\"C#\", \"Python\"], [\"Python\", \"HTML\"]]\n",
    "results = [0, 0, 1] # 0 - away won; 1 - home won\n",
    "\n",
    "def tournament_winner(competitions, results):\n",
    "    d = {}\n",
    "    for i in range(len(results)):\n",
    "        winner = competitions[i][1-results[i]]\n",
    "        if winner in d:\n",
    "            d[winner] = d[winner] + 3\n",
    "        else:\n",
    "            d[winner] = 3\n",
    "\n",
    "    return max(d, key=d.get) # scan thru the d get determine the max score team - O(m)\n",
    "\n",
    "tournament_winner(competitions, results)"
   ]
  },
  {
   "cell_type": "code",
   "execution_count": 2,
   "id": "9d7f2a75",
   "metadata": {},
   "outputs": [
    {
     "data": {
      "text/plain": [
       "'Python'"
      ]
     },
     "execution_count": 2,
     "metadata": {},
     "output_type": "execute_result"
    }
   ],
   "source": [
    "\"\"\"\n",
    "    IDEA: using hashmap + using a variable to keep track the best team\n",
    "    \n",
    "Time Complexity: O(n) - n - number of games\n",
    "Space Complexity: O(m) -  m - number of teams\n",
    "\"\"\"\n",
    "\n",
    "competitions = [[\"HTML\", \"C#\"], [\"C#\", \"Python\"], [\"Python\", \"HTML\"]]\n",
    "results = [0, 0, 1]\n",
    "\n",
    "def tournament_winner(competitions, results):\n",
    "    d = {\"\": 0} #IMPORTANT\n",
    "    best_team = \"\"\n",
    "    for i in range(len(results)):\n",
    "        winner = competitions[i][1-results[i]]\n",
    "        if winner in d:\n",
    "            d[winner] = d[winner] + 3\n",
    "        else:\n",
    "            d[winner] = 3\n",
    "        if d[winner] > d[best_team]:\n",
    "            best_team = winner\n",
    "    return best_team\n",
    "\n",
    "\n",
    "\n",
    "tournament_winner(competitions, results)"
   ]
  }
 ],
 "metadata": {
  "kernelspec": {
   "display_name": "Python 3 (ipykernel)",
   "language": "python",
   "name": "python3"
  },
  "language_info": {
   "codemirror_mode": {
    "name": "ipython",
    "version": 3
   },
   "file_extension": ".py",
   "mimetype": "text/x-python",
   "name": "python",
   "nbconvert_exporter": "python",
   "pygments_lexer": "ipython3",
   "version": "3.8.5"
  }
 },
 "nbformat": 4,
 "nbformat_minor": 5
}
