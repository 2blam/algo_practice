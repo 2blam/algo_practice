{
 "cells": [
  {
   "cell_type": "markdown",
   "id": "c8abe0d3",
   "metadata": {},
   "source": [
    "Given 2 input array, one with the heights of students with red shirts, another one with heights of students with blue shirts. These arrays with same length, each height is a positive integer. (Assume each class has at least 2 students)\n",
    "\n",
    "Rules:\n",
    "- All students wearing red shirts must be in the same row\n",
    "- All students wearing blue shirts must be in the same row\n",
    "- Each student in the back row must be strictly taller than the student directly in from of them in the front row\n",
    "\n",
    "Write a function that returns whether a class photo that follows the above rules.\n",
    "\n",
    "Example:\n",
    "\n",
    "Input:\n",
    "```\n",
    "red_shirt_heights = [5, 8, 1, 3, 4]\n",
    "blue_shirt_heights = [6, 9, 2, 4, 5]\n",
    "```\n",
    "\n",
    "Output:\n",
    "```True``` (Place students with blue shirts in the backrow)\n",
    "\n"
   ]
  },
  {
   "cell_type": "code",
   "execution_count": 1,
   "id": "cb0b504e",
   "metadata": {},
   "outputs": [
    {
     "data": {
      "text/plain": [
       "True"
      ]
     },
     "execution_count": 1,
     "metadata": {},
     "output_type": "execute_result"
    }
   ],
   "source": [
    "\"\"\"\n",
    "Time Complexity: O(n log n) - n - number of student in the same color\n",
    "Space Compexlity: O(1) - Assume sort inplace\n",
    "\"\"\"\n",
    "\n",
    "red_shirt_heights = [5, 8, 1, 3, 4]\n",
    "blue_shirt_heights = [6, 9, 2, 4, 5]\n",
    "\n",
    "def class_photos(red, blue):\n",
    "    red.sort(reverse=True) #ascending order\n",
    "    blue.sort(reverse=True) \n",
    "    \n",
    "    front_row_color = 'R' if red[0] < blue[0] else 'B'\n",
    "    \n",
    "    for i in range(0, len(red)):\n",
    "        if front_row_color == 'R':\n",
    "            if red[i] >= blue[i]: # IMPORTANT: greater than and equal to\n",
    "                return False\n",
    "        else:\n",
    "            if blue[i] >= red[i]:\n",
    "                return False\n",
    "                \n",
    "    return True\n",
    "\n",
    "class_photos(red_shirt_heights, blue_shirt_heights)"
   ]
  }
 ],
 "metadata": {
  "kernelspec": {
   "display_name": "Python 3 (ipykernel)",
   "language": "python",
   "name": "python3"
  },
  "language_info": {
   "codemirror_mode": {
    "name": "ipython",
    "version": 3
   },
   "file_extension": ".py",
   "mimetype": "text/x-python",
   "name": "python",
   "nbconvert_exporter": "python",
   "pygments_lexer": "ipython3",
   "version": "3.8.5"
  }
 },
 "nbformat": 4,
 "nbformat_minor": 5
}
