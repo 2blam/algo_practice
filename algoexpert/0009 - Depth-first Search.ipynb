{
 "cells": [
  {
   "cell_type": "markdown",
   "id": "4082e57c",
   "metadata": {},
   "source": [
    "Given a ```Node``` class that has a ```name``` and an array of optional ```children``` nodes. When put together, nodes form an ayclic- tree like structure. Implement depth first search method on the ```Node``` class, traverses the tree using DFS approach, stores all the nodes' names in the input array and returns it.\n",
    "\n",
    "Example:\n",
    "\n",
    "```\n",
    "     A\n",
    "   / | \\\n",
    "  B  C  D\n",
    " / \\   / \\\n",
    " E F   G  H\n",
    "  / \\  \\\n",
    "  I  J  K\n",
    "```\n",
    "\n",
    "Output: [\"A\", \"B\", \"E\", \"F\", \"I\", \"J\", \"C\", \"D\", \"G\", \"K\", \"H\"]"
   ]
  },
  {
   "cell_type": "code",
   "execution_count": 1,
   "id": "e5f9c0e8",
   "metadata": {},
   "outputs": [
    {
     "name": "stdout",
     "output_type": "stream",
     "text": [
      "['A', 'B', 'E', 'F', 'I', 'J', 'C', 'D', 'G', 'K', 'H']\n"
     ]
    }
   ],
   "source": [
    "\"\"\"\n",
    "Approach: Recursive\n",
    "\n",
    "Time Complexity: O(n+e) - n: number of nodes; e: number of edges connecting those nodes (each function call; \n",
    "        have a for-loop to scan thru the children nodes)\n",
    "Space Complexity: O(n) - n: number of nodes\n",
    "\"\"\"\n",
    "class Node:\n",
    "    def __init__(self, name):\n",
    "        self.name = name\n",
    "        self.children = []\n",
    "        \n",
    "    def depth_first_search(self, array):\n",
    "        # DFS, left -> right\n",
    "        array.append(self.name) # update the array\n",
    "        for sub_node in self.children:\n",
    "            sub_node.depth_first_search(array)        \n",
    "\n",
    "root = Node(\"A\")\n",
    "root.children = [Node(\"B\"), Node(\"C\"), Node(\"D\")]\n",
    "root.children[0].children = [Node(\"E\"), Node(\"F\")]\n",
    "root.children[0].children[1].children = [Node(\"I\"), Node(\"J\")]\n",
    "root.children[2].children = [Node(\"G\"), Node(\"H\")]\n",
    "root.children[2].children[0].children = [Node(\"K\")]\n",
    "\n",
    "\n",
    "result = []\n",
    "root.depth_first_search(result)\n",
    "print(result)"
   ]
  }
 ],
 "metadata": {
  "kernelspec": {
   "display_name": "Python 3 (ipykernel)",
   "language": "python",
   "name": "python3"
  },
  "language_info": {
   "codemirror_mode": {
    "name": "ipython",
    "version": 3
   },
   "file_extension": ".py",
   "mimetype": "text/x-python",
   "name": "python",
   "nbconvert_exporter": "python",
   "pygments_lexer": "ipython3",
   "version": "3.8.5"
  }
 },
 "nbformat": 4,
 "nbformat_minor": 5
}
