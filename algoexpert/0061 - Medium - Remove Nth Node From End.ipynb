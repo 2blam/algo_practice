{
 "cells": [
  {
   "cell_type": "markdown",
   "id": "2b9ce97c",
   "metadata": {},
   "source": [
    "Write a function remove the nth node from a singly linked list.\n",
    "\n",
    "Example:\n",
    "```\n",
    "Linked List: 0 > 1 > 2 > 3 > 4 > 5 > 6 > 7 > 8 > 9\n",
    "Remove: 4 \n",
    "```\n",
    "\n",
    "Result:\n",
    "```\n",
    "Linked List: 0 > 1 > 2 > 3 > 4 > 5 > 7 > 8 > 9\n",
    "```"
   ]
  },
  {
   "cell_type": "code",
   "execution_count": 1,
   "id": "068fbf68",
   "metadata": {},
   "outputs": [
    {
     "name": "stdout",
     "output_type": "stream",
     "text": [
      "BEFORE\n",
      "0>1>2>3>4>5>6>7>8>9>\n",
      "AFTER remove 10th node\n",
      "1>2>3>4>5>6>7>8>9>\n",
      "AFTER remove 3rd node\n",
      "1>2>3>4>5>6>8>9>"
     ]
    }
   ],
   "source": [
    "\"\"\"\n",
    "    IDEA:\n",
    "        traverse, with lag pointers\n",
    "Time Complexity: O(n)\n",
    "Space Complexity: O(1)\n",
    "\"\"\"\n",
    "class Node:\n",
    "    def __init__(self, value):\n",
    "        self.value = value\n",
    "        self.next = None\n",
    "        \n",
    "root = Node(0)\n",
    "root.next = Node(1)\n",
    "root.next.next = Node(2)\n",
    "root.next.next.next = Node(3)\n",
    "root.next.next.next.next = Node(4)\n",
    "root.next.next.next.next.next = Node(5)\n",
    "root.next.next.next.next.next.next = Node(6)\n",
    "root.next.next.next.next.next.next.next = Node(7)\n",
    "root.next.next.next.next.next.next.next.next = Node(8)\n",
    "root.next.next.next.next.next.next.next.next.next = Node(9)\n",
    "\n",
    "def remove_nth_node_from_end(node, n):\n",
    "    track_pointer  =  node\n",
    "    current = node\n",
    "\n",
    "    # move ahead to n position\n",
    "    for i in range(n):\n",
    "        current = current.next\n",
    "\n",
    "    if current == None:\n",
    "        return node.next \n",
    "    \n",
    "    # move the lag pointers together\n",
    "    while current.next != None:\n",
    "        current = current.next\n",
    "        track_pointer = track_pointer.next\n",
    "\n",
    "    # remove node\n",
    "    track_pointer.next = track_pointer.next.next\n",
    "    return node\n",
    "\n",
    "\n",
    "print(\"BEFORE\")\n",
    "curr = root\n",
    "while curr != None:\n",
    "    print(curr.value, end=\">\")\n",
    "    curr = curr.next\n",
    "    \n",
    "root = remove_nth_node_from_end(root, 10)\n",
    "\n",
    "print(\"\\nAFTER remove 10th node\")\n",
    "curr = root\n",
    "while curr != None:\n",
    "    print(curr.value, end=\">\")\n",
    "    curr = curr.next\n",
    "    \n",
    "root = remove_nth_node_from_end(root, 3)\n",
    "\n",
    "print(\"\\nAFTER remove 3rd node\")\n",
    "curr = root\n",
    "while curr != None:\n",
    "    print(curr.value, end=\">\")\n",
    "    curr = curr.next"
   ]
  }
 ],
 "metadata": {
  "kernelspec": {
   "display_name": "Python 3 (ipykernel)",
   "language": "python",
   "name": "python3"
  },
  "language_info": {
   "codemirror_mode": {
    "name": "ipython",
    "version": 3
   },
   "file_extension": ".py",
   "mimetype": "text/x-python",
   "name": "python",
   "nbconvert_exporter": "python",
   "pygments_lexer": "ipython3",
   "version": "3.8.5"
  }
 },
 "nbformat": 4,
 "nbformat_minor": 5
}
