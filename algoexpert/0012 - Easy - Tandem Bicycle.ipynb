{
 "cells": [
  {
   "cell_type": "markdown",
   "id": "8eff150f",
   "metadata": {},
   "source": [
    "Tandem Bicycle - a bicycle operated by 2 people. Both people pedal the bicycle, the person that pedals fater dictates the speed. Example: Person 1 with speed ```4```; Person 2 with speed ```5```, then the tandem bicycle moves at speed ```5```\n",
    "\n",
    "Given 2 list of positive integers, one contains speed of riders wearing red shirts and one contains the speed of riders wearing blue shirts. We have to pair rider with red shirt with rider with blue shirt.\n",
    "\n",
    "Write a function which returns the maximum possible total speed OR minimum possible total speed of all the tandem bicycle, based on the input parameter: ```fastest``` (boolean)\n",
    "\n",
    "Example\n",
    "\n",
    "Input:\n",
    "```\n",
    "red_shirt_speeds = [5, 5, 3, 9, 2]\n",
    "blue_shirt_speeds = [3, 6, 7, 2, 1]\n",
    "fastest = True\n",
    "```\n",
    "\n",
    "Output:\n",
    "```32```"
   ]
  },
  {
   "cell_type": "code",
   "execution_count": 1,
   "id": "2d3a9e34",
   "metadata": {},
   "outputs": [
    {
     "name": "stdout",
     "output_type": "stream",
     "text": [
      "32\n",
      "25\n",
      "9\n",
      "8\n"
     ]
    }
   ],
   "source": [
    "\"\"\"\n",
    "    IDEA:\n",
    "        - sort inplace red_shirt_speed (descending order)\n",
    "        - if fastest == True\n",
    "             sort inplace blue_shirt_speeds (ascending order) (Reason: Pair up fastest rider with slowest rider)\n",
    "          else\n",
    "             sort inplace blue_shirt_speeds (descending order) (Reason: Pair up fastest rider with fastest rider)\n",
    "        - scan thru R and B, get the max speed between the pair and sum them up\n",
    "\n",
    "Time Complexity: O(n log n); n = number of riders in red / blue team\n",
    "Space Complexity: O(1); assume sort inplace\n",
    "\"\"\"\n",
    "\n",
    "def tandem_bicycle(red, blue, fastest):\n",
    "    red.sort(reverse = True) # descending\n",
    "    if fastest:\n",
    "        blue.sort(reverse = False) # ascending \n",
    "    else:\n",
    "        blue.sort(reverse = True) # descending \n",
    "\n",
    "    total_speed = 0\n",
    "    for i in range(len(red)):\n",
    "        total_speed = total_speed + max(red[i], blue[i])\n",
    "        \n",
    "    return total_speed\n",
    "\n",
    "\n",
    "\n",
    "# Example 1\n",
    "red_shirt_speeds = [5, 5, 3, 9, 2]\n",
    "blue_shirt_speeds = [3, 6, 7, 2, 1]\n",
    "\n",
    "print(tandem_bicycle(red_shirt_speeds, blue_shirt_speeds, True))\n",
    "print(tandem_bicycle(red_shirt_speeds, blue_shirt_speeds, False))\n",
    "\n",
    "# Example 2\n",
    "red_shirt_speeds = [1, 4]\n",
    "blue_shirt_speeds = [5 , 3]\n",
    "\n",
    "print(tandem_bicycle(red_shirt_speeds, blue_shirt_speeds, True))\n",
    "print(tandem_bicycle(red_shirt_speeds, blue_shirt_speeds, False))"
   ]
  },
  {
   "cell_type": "code",
   "execution_count": 2,
   "id": "6e6f705c",
   "metadata": {},
   "outputs": [
    {
     "name": "stdout",
     "output_type": "stream",
     "text": [
      "[1, 2, 3]\n",
      "[3, 2, 1]\n"
     ]
    }
   ],
   "source": [
    "l = [1, 3, 2]\n",
    "\n",
    "l.sort() #default - ascending\n",
    "print(l)\n",
    "\n",
    "l.sort(reverse=True) # descending\n",
    "print(l)"
   ]
  }
 ],
 "metadata": {
  "kernelspec": {
   "display_name": "Python 3 (ipykernel)",
   "language": "python",
   "name": "python3"
  },
  "language_info": {
   "codemirror_mode": {
    "name": "ipython",
    "version": 3
   },
   "file_extension": ".py",
   "mimetype": "text/x-python",
   "name": "python",
   "nbconvert_exporter": "python",
   "pygments_lexer": "ipython3",
   "version": "3.8.5"
  }
 },
 "nbformat": 4,
 "nbformat_minor": 5
}
