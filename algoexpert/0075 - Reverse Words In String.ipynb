{
 "cells": [
  {
   "cell_type": "markdown",
   "id": "99a4e78b",
   "metadata": {},
   "source": [
    "Write a function that takes in a string of words separated by one or more whitespaces and returns a string that has these words in reverse order. \n",
    "\n",
    "Example:\n",
    "input:\n",
    "```\n",
    "string = \"AlgoExpert is the best!\"\n",
    "```\n",
    "\n",
    "output:\n",
    "```\n",
    "\"best! the is AlgoExpert\"\n",
    "```"
   ]
  },
  {
   "cell_type": "code",
   "execution_count": 1,
   "id": "1ddfac86",
   "metadata": {},
   "outputs": [
    {
     "name": "stdout",
     "output_type": "stream",
     "text": [
      "best! the is AlgoExpert\n",
      "> a      c<\n"
     ]
    }
   ],
   "source": [
    "\"\"\"\n",
    "Time Complexity: O(n)\n",
    "Space Complexity: O(n)\n",
    "\"\"\"\n",
    "\n",
    "def reverse_words(s):\n",
    "    tokens = []\n",
    "    start_idx = 0\n",
    "    for idx in range(len(s)):\n",
    "        c = s[idx]\n",
    "        \n",
    "        # is it a space ? if yes, token found!\n",
    "        if c == \" \":\n",
    "            tokens.append(s[start_idx:idx])\n",
    "            start_idx = idx\n",
    "        elif s[start_idx] == \" \":\n",
    "            tokens.append(\" \")\n",
    "            start_idx = idx\n",
    "\n",
    "    tokens.append(s[start_idx:]) # important\n",
    "            \n",
    "    result = \"\".join(tokens[::-1])\n",
    "    \n",
    "    return result\n",
    "\n",
    "print(reverse_words(\"AlgoExpert is the best!\"))\n",
    "print(\">\"+ reverse_words(\"c      a \") +\"<\")"
   ]
  },
  {
   "cell_type": "code",
   "execution_count": 2,
   "id": "9bc4d0e5",
   "metadata": {},
   "outputs": [
    {
     "name": "stdout",
     "output_type": "stream",
     "text": [
      "best! the is AlgoExpert\n"
     ]
    }
   ],
   "source": [
    "\"\"\"\n",
    "    IDEA: reverse the whole string, then reverse each token\n",
    "\"\"\"\n",
    "def reverse_range(c, start_idx, end_idx):\n",
    "    while start_idx < end_idx:\n",
    "        c[start_idx], c[end_idx] = c[end_idx], c[start_idx]\n",
    "        start_idx +=1\n",
    "        end_idx -=1\n",
    "\n",
    "def reverse_words(s):\n",
    "    characters = [c for c in s]\n",
    "    reverse_range(characters, 0, len(characters)-1)\n",
    "    \n",
    "    start_idx = 0\n",
    "    while True:\n",
    "        end_idx = start_idx\n",
    "        while end_idx < len(characters) and characters[end_idx] != \" \":\n",
    "            end_idx += 1\n",
    "        \n",
    "        if end_idx == len(characters): \n",
    "            reverse_range(characters, start_idx, end_idx-1)\n",
    "            break\n",
    "        \n",
    "        reverse_range(characters, start_idx, end_idx-1)\n",
    "        start_idx = end_idx +1\n",
    "        \n",
    "    return \"\".join(characters)\n",
    "\n",
    "print(reverse_words(\"AlgoExpert is the best!\"))\n"
   ]
  },
  {
   "cell_type": "code",
   "execution_count": 3,
   "id": "40bf75cb",
   "metadata": {},
   "outputs": [
    {
     "name": "stdout",
     "output_type": "stream",
     "text": [
      "best! the is AlgoExpert \n",
      "> a      c <\n"
     ]
    }
   ],
   "source": [
    "\"\"\"\n",
    "Time Complexity: O(n)\n",
    "Space Complexity: O(n)\n",
    "\"\"\"\n",
    "\n",
    "def reverse_words(s):\n",
    "    result = \"\"\n",
    "    token = \"\"\n",
    "    for c in s:\n",
    "        if c != \" \":\n",
    "            token += c\n",
    "        else:\n",
    "            result = token + \" \" + result\n",
    "            token = \"\"\n",
    "    result = token + \" \" + result\n",
    "    return result\n",
    "\n",
    "print(reverse_words(\"AlgoExpert is the best!\"))\n",
    "print(\">\"+ reverse_words(\"c      a \") +\"<\")"
   ]
  },
  {
   "cell_type": "code",
   "execution_count": null,
   "id": "539dcdad",
   "metadata": {},
   "outputs": [],
   "source": []
  }
 ],
 "metadata": {
  "kernelspec": {
   "display_name": "Python 3 (ipykernel)",
   "language": "python",
   "name": "python3"
  },
  "language_info": {
   "codemirror_mode": {
    "name": "ipython",
    "version": 3
   },
   "file_extension": ".py",
   "mimetype": "text/x-python",
   "name": "python",
   "nbconvert_exporter": "python",
   "pygments_lexer": "ipython3",
   "version": "3.8.5"
  }
 },
 "nbformat": 4,
 "nbformat_minor": 5
}
