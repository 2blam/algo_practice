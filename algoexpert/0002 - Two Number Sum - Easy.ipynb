{
 "cells": [
  {
   "cell_type": "markdown",
   "id": "e7284a7a",
   "metadata": {},
   "source": [
    "Write a function that takes in a non-empty array of distinct integers and an integer representing a target sum.\n",
    "If any two numbers in the input array sum up to the target sum, the function should return them in an array.\n",
    "If no two numbers sum up to the target sum, the function should return an empty array.\n",
    "Assume that there will be at most one pair of numbers summing up to the target sum.\n",
    "\n",
    "- Sample input: [3, 5, -4, 8, 11, 1, -1, 6], 10\n",
    "- Sample output: [-1, 11]\n"
   ]
  },
  {
   "cell_type": "code",
   "execution_count": 1,
   "id": "5a25f1fa",
   "metadata": {},
   "outputs": [
    {
     "name": "stdout",
     "output_type": "stream",
     "text": [
      "[-1, 11]\n"
     ]
    }
   ],
   "source": [
    "\"\"\"\n",
    "Idea - Hashtable, store the target_sum - n as key with index position as value\n",
    "Time Complexity: O(n) - scan thru. the whole array\n",
    "Space Complexity: O(n) - adding values to hashtable\n",
    "\"\"\"\n",
    "def two_number_sum(array, target_sum):\n",
    "    d = {}\n",
    "    for idx in range(len(array)):\n",
    "        n = array[idx]\n",
    "        if n in d:\n",
    "            return [n, array[d[n]]] # if we want to get the index instead, use [idx, d[n]]\n",
    "        d[target_sum-n] = idx\n",
    "    return None\n",
    "\n",
    "array = [3, 5, -4, 8, 11, 1, -1, 6]\n",
    "target_sum = 10\n",
    "\n",
    "print(two_number_sum(array, target_sum))"
   ]
  },
  {
   "cell_type": "code",
   "execution_count": 2,
   "id": "6f74a357",
   "metadata": {},
   "outputs": [
    {
     "name": "stdout",
     "output_type": "stream",
     "text": [
      "[-1, 11]\n"
     ]
    }
   ],
   "source": [
    "\"\"\"\n",
    "Idea - sorted with n log n time, then use 2 pointers (one from L, one from right)\n",
    "    - move the L pointer to the right, if the array[L] + array[R] is smaller than the target_sum\n",
    "    - move the R pointer to the left, if the array[L] + array[R] is larger than than target_sum\n",
    "    - return values if equal to target_sum\n",
    "    \n",
    "Time Complexity - O(n log n) - say using quicksort to sort the array\n",
    "Space Complexity - O(1)\n",
    "\"\"\"\n",
    "\n",
    "def two_number_sum(array, target_sum):\n",
    "    array = sorted(array)\n",
    "    left_pt, right_pt = 0, len(array)-1\n",
    "    while (left_pt < right_pt):\n",
    "        if array[left_pt] + array[right_pt] == target_sum:\n",
    "            return [array[left_pt], array[right_pt]]\n",
    "        elif array[left_pt] + array[right_pt] < target_sum: # move left_pt\n",
    "            left_pt += 1\n",
    "        else:\n",
    "            right_pt -= 1\n",
    "    return None\n",
    "\n",
    "array = [3, 5, -4, 8, 11, 1, -1, 6]\n",
    "target_sum = 10\n",
    "\n",
    "print(two_number_sum(array, target_sum))"
   ]
  }
 ],
 "metadata": {
  "kernelspec": {
   "display_name": "Python 3 (ipykernel)",
   "language": "python",
   "name": "python3"
  },
  "language_info": {
   "codemirror_mode": {
    "name": "ipython",
    "version": 3
   },
   "file_extension": ".py",
   "mimetype": "text/x-python",
   "name": "python",
   "nbconvert_exporter": "python",
   "pygments_lexer": "ipython3",
   "version": "3.8.5"
  }
 },
 "nbformat": 4,
 "nbformat_minor": 5
}
