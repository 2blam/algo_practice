{
 "cells": [
  {
   "cell_type": "markdown",
   "id": "e0da2c1e",
   "metadata": {},
   "source": [
    "Given an array of positive integers representing coin denominations and a signle non-negative integer ```n``` representing a target amount of money, write a function that returns the smallest number of coins needed to make change of that target amount using the given coin denominations.\n",
    "\n",
    "If it's impossible to make change for the target amount, return ```-1```.\n",
    "\n",
    "Note that an unlimited amount of coins is at your disposal.\n",
    "\n",
    "Example:\n",
    "input:\n",
    "```\n",
    "n = 7\n",
    "denoms = [1, 5, 10]\n",
    "```\n",
    "\n",
    "output:\n",
    "```\n",
    "3\n",
    "```\n",
    "\n",
    "Reason: ```2 x $1 + 1 x $5```"
   ]
  },
  {
   "cell_type": "code",
   "execution_count": 1,
   "id": "280f912c",
   "metadata": {},
   "outputs": [
    {
     "name": "stdout",
     "output_type": "stream",
     "text": [
      "3\n",
      "2\n"
     ]
    }
   ],
   "source": [
    "\"\"\"\n",
    "    IDEA: Dynamic Programming\n",
    "    \n",
    "    change = [0, max, max, max, max, max, max, max]\n",
    "              0    1    2    3    4    5    6    7\n",
    "    coin = 1\n",
    " \n",
    "            change[1] = min(change[1 - coin] + 1, change[1])\n",
    "        2 <= 7\n",
    "            change[2] = min(change[2 - coin] + 1, change[2])\n",
    "        ...\n",
    "        7 <=7\n",
    "            change[7] = min(change[6 - coin] + 1, change[7])\n",
    "        [1, 1, 2, 3, 4, 5, 6, 7]\n",
    "    coin = 5\n",
    "        5 <= 7\n",
    "            change[5] = min(change[5 - coin] + 1, change[5])\n",
    "        6 <= 7\n",
    "            change[6] = min(change[6 - coin] + 1, change[6])\n",
    "        7 <= 7\n",
    "            change[7] = min(change[7 - coin] + 1, change[7])\n",
    "        [1, 1, 2, 3, 4, 1, 2, 3]\n",
    "    coin = 10\n",
    "        10 <= 7 False => do nothing\n",
    "    \n",
    "    return change[-1]\n",
    "    \n",
    "Time Complexity: O(n * d): n - amount; d - denoms\n",
    "Space Complexity: O(n): n - amount\n",
    "\"\"\"\n",
    "\n",
    "def min_number_of_coins_for_change(n, denoms):\n",
    "    change = [float(\"inf\")] * (n+1)\n",
    "    change[0] = 0\n",
    "    for c in denoms:\n",
    "        for amt in range(c, n+1):\n",
    "            change[amt] = min(change[amt-c]+1, change[amt])\n",
    "    return change[-1] if change[-1] != float(\"inf\") else -1\n",
    "\n",
    "n = 7\n",
    "denoms = [1, 5, 10]\n",
    "print(min_number_of_coins_for_change(n, denoms))\n",
    "\n",
    "n = 6\n",
    "denoms = [1, 2, 4]\n",
    "print(min_number_of_coins_for_change(n, denoms))"
   ]
  }
 ],
 "metadata": {
  "kernelspec": {
   "display_name": "Python 3 (ipykernel)",
   "language": "python",
   "name": "python3"
  },
  "language_info": {
   "codemirror_mode": {
    "name": "ipython",
    "version": 3
   },
   "file_extension": ".py",
   "mimetype": "text/x-python",
   "name": "python",
   "nbconvert_exporter": "python",
   "pygments_lexer": "ipython3",
   "version": "3.8.5"
  }
 },
 "nbformat": 4,
 "nbformat_minor": 5
}
