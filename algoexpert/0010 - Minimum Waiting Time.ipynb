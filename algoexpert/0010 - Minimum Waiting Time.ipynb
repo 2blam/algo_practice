{
 "cells": [
  {
   "cell_type": "markdown",
   "id": "977a1f95",
   "metadata": {},
   "source": [
    "Given a non-empty array, each element represens the execution time of a query. Write a function that returns the minimum amount of waiting time for all of the queries. \n",
    "\n",
    "Example 1:\n",
    "\n",
    "Input: ```[1, 4, 5]```\n",
    "\n",
    "Output: ```5``` (Min waiting time execution order 1->4->5; waiting time: 0 + 1 + 4 = 5)\n",
    "\n",
    "Example 2\n",
    "\n",
    "Input: ```[3, 2, 1, 2, 6]```\n",
    "\n",
    "Output: ```17``` \n"
   ]
  },
  {
   "cell_type": "code",
   "execution_count": 1,
   "id": "28bcfe81",
   "metadata": {},
   "outputs": [
    {
     "data": {
      "text/plain": [
       "17"
      ]
     },
     "execution_count": 1,
     "metadata": {},
     "output_type": "execute_result"
    }
   ],
   "source": [
    "\"\"\"\n",
    "    Refer to Example 2: Min waiting time execution order 1->2->2->3->6; \n",
    "    waiting time: 0 + 1 + (1 + 2) + (1 + 2 + 2) + (1 + 2+ 2+ 3) = 0 + 1 + 3 + 5 + 8 = 17\n",
    "    \n",
    "    ~ Greedy Algorithm\n",
    "    \n",
    "    IDEA:\n",
    "        - sorted array in ascending\n",
    "        - total, cumulative_sum = 0\n",
    "        - for idx range(0:len(array))\n",
    "            total = total + cumulative_sum\n",
    "            cumulative_sum = cumulative_sum + array[i]\n",
    "        return total\n",
    "        \n",
    "Time Complexity: O(n log n)\n",
    "Space Complexity: O(1) - Assume sorted inplace\n",
    "\"\"\"\n",
    "\n",
    "queries = [3, 2, 1, 2, 6]\n",
    "\n",
    "def min_waiting_time(queries):\n",
    "    queries = sorted(queries)\n",
    "    total, cumulative_sum = 0, 0\n",
    "    for idx in range(0, len(queries)):\n",
    "        total = total + cumulative_sum\n",
    "        cumulative_sum = cumulative_sum + queries[idx]\n",
    "    return total\n",
    "\n",
    "min_waiting_time(queries)"
   ]
  },
  {
   "cell_type": "code",
   "execution_count": 2,
   "id": "80841544",
   "metadata": {},
   "outputs": [
    {
     "data": {
      "text/plain": [
       "17"
      ]
     },
     "execution_count": 2,
     "metadata": {},
     "output_type": "execute_result"
    }
   ],
   "source": [
    "\"\"\" [BETTER APPROACH]\n",
    "    Refer to Example 2: Min waiting time execution order 1->2->2->3->6; \n",
    "    waiting time: 0 + 1 + (1 + 2) + (1 + 2 + 2) + (1 + 2+ 2+ 3) = 0 + 1 + 3 + 5 + 8 = 17\n",
    "    waiting time: 0 + 1 * 4 + 2 * 3 + 2 * 2 + 3 * 1\n",
    "                          ^       ^       ^       ^\n",
    "    \n",
    "    ~ Greedy Algorithm\n",
    "    \n",
    "    IDEA:\n",
    "        - sorted array in ascending\n",
    "        - total\n",
    "        - for idx in range(0, len(array))\n",
    "            total = total + array[idx] * len(array) - 1 - idx\n",
    "        \n",
    "        return total\n",
    "        \n",
    "Time Complexity: O(n log n)\n",
    "Space Complexity: O(1) Assume sorted inplace\n",
    "\"\"\"\n",
    "\n",
    "queries = [3, 2, 1, 2, 6]\n",
    "\n",
    "def min_waiting_time(queries):\n",
    "    queries = sorted(queries)\n",
    "    total = 0\n",
    "    for idx in range(0, len(queries)):\n",
    "        total = total + queries[idx]  * (len(queries) - 1 - idx)\n",
    "    return total\n",
    "\n",
    "min_waiting_time(queries)"
   ]
  },
  {
   "cell_type": "code",
   "execution_count": null,
   "id": "cbf23b00",
   "metadata": {},
   "outputs": [],
   "source": []
  }
 ],
 "metadata": {
  "kernelspec": {
   "display_name": "Python 3 (ipykernel)",
   "language": "python",
   "name": "python3"
  },
  "language_info": {
   "codemirror_mode": {
    "name": "ipython",
    "version": 3
   },
   "file_extension": ".py",
   "mimetype": "text/x-python",
   "name": "python",
   "nbconvert_exporter": "python",
   "pygments_lexer": "ipython3",
   "version": "3.8.5"
  }
 },
 "nbformat": 4,
 "nbformat_minor": 5
}
