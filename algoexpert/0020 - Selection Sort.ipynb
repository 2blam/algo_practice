{
 "cells": [
  {
   "cell_type": "markdown",
   "id": "b2cad400",
   "metadata": {},
   "source": [
    "Write a function accepts an integer array and returns a sorted version of that array. Use the Selection Sort algorithm to sort the array.\n",
    "\n",
    "Example:\n",
    "\n",
    "input: ```[8, 5, 2, 9, 5, 6, 3]```\n",
    "\n",
    "output: ```[2, 3, 5, 5, 6, 8, 9]```\n",
    "\n"
   ]
  },
  {
   "cell_type": "code",
   "execution_count": 1,
   "id": "1d05795e",
   "metadata": {},
   "outputs": [
    {
     "name": "stdout",
     "output_type": "stream",
     "text": [
      "[2, 3, 5, 5, 6, 8, 9]\n"
     ]
    }
   ],
   "source": [
    "\"\"\"\n",
    "    IDEA - Selection Sort\n",
    "        - Try to get the smallest value in the \"unsorted\" subarray (right hand side)\n",
    "            put the smallest value to the 1st position of the \"unsorted\" array\n",
    "          => after than shrink the \"unsorted\" subarray (as the 1st element is already sorted)\n",
    "            \n",
    "        - for each run (scan thru the i element to the end)\n",
    "            - get the min value pos\n",
    "            - swap the min value with pos i (smallest value at the front)\n",
    "            - increment the value i by 1\n",
    "            \n",
    "Time Complexity: O(n^2)\n",
    "Space Complexity: O(1)\n",
    "\"\"\"\n",
    "def selection_sort(array):\n",
    "    for i in range(len(array)):\n",
    "        min_pos = i\n",
    "        for j in range(i+1, len(array)):\n",
    "            if array[min_pos] > array[j]:\n",
    "                min_pos = j\n",
    "        if min_pos != i: # swap\n",
    "            array[i], array[min_pos] = array[min_pos], array[i]\n",
    "\n",
    "array = [8, 5, 2, 9, 5, 6, 3]\n",
    "selection_sort(array)\n",
    "print(array)"
   ]
  }
 ],
 "metadata": {
  "kernelspec": {
   "display_name": "Python 3 (ipykernel)",
   "language": "python",
   "name": "python3"
  },
  "language_info": {
   "codemirror_mode": {
    "name": "ipython",
    "version": 3
   },
   "file_extension": ".py",
   "mimetype": "text/x-python",
   "name": "python",
   "nbconvert_exporter": "python",
   "pygments_lexer": "ipython3",
   "version": "3.8.5"
  }
 },
 "nbformat": 4,
 "nbformat_minor": 5
}
