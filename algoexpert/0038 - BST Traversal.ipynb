{
 "cells": [
  {
   "cell_type": "markdown",
   "id": "9baa6e9e",
   "metadata": {},
   "source": [
    "Write three functions (in-order, pre-order, and post-order traversal) that takes in Binary Search Tree (BST) and an empty array, traverse the BST add the node's value to the input array and return the array.\n",
    "\n",
    "Example:\n",
    "input:\n",
    "```\n",
    "tree =        10\n",
    "           /       \\\n",
    "         5          15\n",
    "      /    \\           \\\n",
    "    2       5           22\n",
    "  /\n",
    "1\n",
    "```\n",
    "\n",
    "output:\n",
    "```\n",
    "in_order = [1, 2, 5, 5, 10, 15, 22]\n",
    "pre_order = [10, 5, 2, 1, 5, 15, 22]\n",
    "post_order = [1, 2, 5, 5, 22, 15, 10]\n",
    "```\n"
   ]
  },
  {
   "cell_type": "code",
   "execution_count": 1,
   "id": "ebdbade8",
   "metadata": {},
   "outputs": [
    {
     "name": "stdout",
     "output_type": "stream",
     "text": [
      "in_order: [1, 2, 5, 5, 10, 15, 22]\n",
      "pre_order: [10, 5, 2, 1, 5, 15, 22]\n",
      "post_order: [1, 2, 5, 5, 22, 15, 10]\n"
     ]
    }
   ],
   "source": [
    "\"\"\"\n",
    "    Info:\n",
    "        Example: \n",
    "                +\n",
    "              /  \\\n",
    "              1   2\n",
    "        in order: left, node, right (1, +, 2)\n",
    "        pre order: node, left, right (+, 1, 2)\n",
    "        post order: left, right, node (1, 2, +)\n",
    "Time Complexity: O(n) - n: number of elements in tree\n",
    "Space Complexity: O(n) - because this question, we have to create a result array\n",
    "\"\"\"\n",
    "\n",
    "class Node:\n",
    "    def __init__(self, value):\n",
    "        self.value = value\n",
    "        self.left = None\n",
    "        self.right = None\n",
    "\n",
    "        \n",
    "def in_order(node, result):\n",
    "    if node is None:\n",
    "        return \n",
    "    in_order(node.left,  result)    \n",
    "    result.append(node.value)\n",
    "    in_order(node.right, result)\n",
    "\n",
    "def pre_order(node, result):\n",
    "    if node is None:\n",
    "        return\n",
    "    result.append(node.value)\n",
    "    pre_order(node.left, result)\n",
    "    pre_order(node.right, result)\n",
    "\n",
    "def post_order(node, result):\n",
    "    if node is None:\n",
    "        return\n",
    "    post_order(node.left, result)\n",
    "    post_order(node.right, result)\n",
    "    result.append(node.value)    \n",
    "\n",
    "\n",
    "tree = Node(10)       \n",
    "tree.left = Node(5)\n",
    "tree.right = Node(15)\n",
    "tree.left.left = Node(2)\n",
    "tree.left.right = Node(5)\n",
    "tree.left.left.left = Node(1)\n",
    "tree.right.right = Node(22)\n",
    "\n",
    "in_order_result = []\n",
    "in_order(tree, in_order_result)\n",
    "print(\"in_order: \" + str(in_order_result))\n",
    "\n",
    "pre_order_result = []\n",
    "pre_order(tree, pre_order_result)\n",
    "print(\"pre_order: \" + str(pre_order_result))\n",
    "\n",
    "post_order_result = []\n",
    "post_order(tree, post_order_result)\n",
    "print(\"post_order: \" + str(post_order_result))"
   ]
  }
 ],
 "metadata": {
  "kernelspec": {
   "display_name": "Python 3 (ipykernel)",
   "language": "python",
   "name": "python3"
  },
  "language_info": {
   "codemirror_mode": {
    "name": "ipython",
    "version": 3
   },
   "file_extension": ".py",
   "mimetype": "text/x-python",
   "name": "python",
   "nbconvert_exporter": "python",
   "pygments_lexer": "ipython3",
   "version": "3.7.12"
  }
 },
 "nbformat": 4,
 "nbformat_minor": 5
}
