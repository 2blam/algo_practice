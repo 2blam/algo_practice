{
 "cells": [
  {
   "cell_type": "markdown",
   "id": "860dfab1",
   "metadata": {},
   "source": [
    "Write a function that takes in a Binary Search Tree (BST) and a target integer value and returns the closest value to that target value contained in the BST. Each BST node has an integer value, a left child node, and a right child node. Its children's are valid BST nodes themselves or None / Null\n",
    "\n",
    "\n",
    "\n",
    "         10\n",
    "         /\\\n",
    "       5   15\n",
    "      / \\  / \\\n",
    "     2   5 13 22\n",
    "            \\ \n",
    "             14\n",
    "             \n",
    "\n",
    "Example:\n",
    "- input: ```12```\n",
    "- output: ```13```"
   ]
  },
  {
   "cell_type": "code",
   "execution_count": 1,
   "id": "3f531049",
   "metadata": {},
   "outputs": [
    {
     "name": "stdout",
     "output_type": "stream",
     "text": [
      "13\n"
     ]
    }
   ],
   "source": [
    "\"\"\"\n",
    "IDEA: Recrusive Approach\n",
    "\n",
    "Time Complexity: Average: O(log n) - n: number of nodes in BST; \n",
    "                 Worst: O(n) - skewed BST, with 1 branch in each level\n",
    "Space Complexity: Average: O(log n); \n",
    "                  Worst: O(n)                    \n",
    "\"\"\"\n",
    "import sys\n",
    "\n",
    "class Node:\n",
    "    def __init__(self, value):\n",
    "        self.value = value\n",
    "        self.left = None\n",
    "        self.right = None\n",
    "\n",
    "# recrusive approach\n",
    "def cloest_value_helper(node, target, closest_value):\n",
    "    if abs(node.value - target) == 0: # same value\n",
    "        return node.value\n",
    "    elif abs(node.value - target) < abs(target-closest_value):\n",
    "        closest_value = node.value\n",
    "    # move to the right branch, if the target is greater than the current node value\n",
    "    # else, move to the left branch, if the target is smaller than the current node value\n",
    "    if node.right is not None and target > node.value:\n",
    "        return cloest_value_helper(node.right, target, closest_value)\n",
    "    elif node.left is not None and target < node.value:\n",
    "        return cloest_value_helper(node.left, target, closest_value)\n",
    "    else:\n",
    "        return closest_value\n",
    "\n",
    "def cloest_value(root, target):\n",
    "    return cloest_value_helper(root, target, sys.maxsize)\n",
    "\n",
    "\n",
    "root = Node(10)\n",
    "root.left = Node(5)\n",
    "root.right = Node(15)\n",
    "root.left.left = Node(2)\n",
    "root.left.right = Node(5)\n",
    "root.right.left = Node(13)\n",
    "root.right.right = Node(22)\n",
    "root.right.left.right = Node(14)\n",
    "\n",
    "print(cloest_value(root, 12))"
   ]
  },
  {
   "cell_type": "code",
   "execution_count": 2,
   "id": "22dca77d",
   "metadata": {},
   "outputs": [
    {
     "name": "stdout",
     "output_type": "stream",
     "text": [
      "13\n"
     ]
    }
   ],
   "source": [
    "\"\"\"\n",
    "IDEA: Iterative Approach\n",
    "\n",
    "Time Complexity: Average: O(log n) - n: number of nodes in BST; \n",
    "                 Worst: O(n) - skewed BST, with 1 branch in each level\n",
    "Space Complexity: Average: O(1) - use 2 variables only (closest_value, node)\n",
    "                  Worst: O(1) - same as average case\n",
    "\"\"\"\n",
    "\n",
    "# iterative approach\n",
    "def cloest_value_iterative(root, target):\n",
    "    closest_value = sys.maxsize\n",
    "    node = root\n",
    "    \n",
    "    while (node is not None):\n",
    "        # checking\n",
    "        if abs(node.value - target) == 0: # exact same\n",
    "            return target\n",
    "        elif abs(node.value - target) < abs(target-closest_value):\n",
    "            closest_value = node.value\n",
    "            \n",
    "        # traverse\n",
    "        if node.right is not None and target > node.value:\n",
    "            node = node.right\n",
    "        elif node.left is not None and target < node.value:\n",
    "            node = node.left\n",
    "        else:\n",
    "            return closest_value\n",
    "\n",
    "print(cloest_value_iterative(root, 13))"
   ]
  }
 ],
 "metadata": {
  "kernelspec": {
   "display_name": "Python 3 (ipykernel)",
   "language": "python",
   "name": "python3"
  },
  "language_info": {
   "codemirror_mode": {
    "name": "ipython",
    "version": 3
   },
   "file_extension": ".py",
   "mimetype": "text/x-python",
   "name": "python",
   "nbconvert_exporter": "python",
   "pygments_lexer": "ipython3",
   "version": "3.8.5"
  }
 },
 "nbformat": 4,
 "nbformat_minor": 5
}
