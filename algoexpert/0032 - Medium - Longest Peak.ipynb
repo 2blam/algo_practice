{
 "cells": [
  {
   "cell_type": "markdown",
   "id": "b2d21278",
   "metadata": {},
   "source": [
    "Write a function that takes in an array of integers and returns the length of the longest peak in the array.\n",
    "\n",
    "A peak is defined as adjacent integers in the array that are strictly increasing until they reach a tip (the highest value in the peak), at which point they become strictly decreasing. At least three integers are required to form a peak.\n",
    "\n",
    "For example, the integers ```1, 4, 10, 2``` for a peak, but the integers ```4, 0, 10``` don't and neither integers ```1, 2, 2, 0```. Similarly, the integers ```1, 2, 3``` don't form a peak because there aren't any strictly decreasing integers after the `3`.\n",
    "\n",
    "\n",
    "Example:\n",
    "\n",
    "input:\n",
    "```\n",
    "array = [1, 2, 3, 3, 4, 0, 10, 6, 5, -1, -3, 2, 3]\n",
    "```\n",
    "\n",
    "output:\n",
    "```\n",
    "6\n",
    "```\n",
    "Reason: Longest Peak: (0, 10, 6, 5, -1, -3)\n"
   ]
  },
  {
   "cell_type": "code",
   "execution_count": 1,
   "id": "96948bbb",
   "metadata": {},
   "outputs": [
    {
     "name": "stdout",
     "output_type": "stream",
     "text": [
      "6\n",
      "5\n"
     ]
    }
   ],
   "source": [
    "\"\"\"\n",
    "    IDEA: find the peaks then look for the longest peak\n",
    "    - peak element => the value will be greater than the prev element and the next element\n",
    "        -> once found peak, \n",
    "            => track the left hand side, and see if they are strictly decreasing\n",
    "            => track the right hand side, and see if they are strictly decreaseing\n",
    "            => calcualte the len and see if it is greater\n",
    "            => move the pointer to the right hand side ending position #important, save computation\n",
    "        \n",
    "\n",
    "Time Complexity: O(n) - n - number of elements in array\n",
    "Space Complexity: O(1) \n",
    "\"\"\"\n",
    "\n",
    "def longest_peak(array):\n",
    "    # find the peaks\n",
    "    max_len = 0\n",
    "    i = 1\n",
    "    while i < len(array)-1:\n",
    "        if array[i-1] < array[i] and array[i] > array[i+1]:\n",
    "            # left hand side\n",
    "            st_pt = i - 2\n",
    "            while st_pt >= 0 and array[st_pt] < array[st_pt+1]:\n",
    "                st_pt -= 1\n",
    "                \n",
    "            # right hand side\n",
    "            end_pt = i + 2\n",
    "            while end_pt <= len(array) -1 and array[end_pt] < array[end_pt-1]:\n",
    "                 end_pt += 1\n",
    "                \n",
    "            # checking\n",
    "            # st_pt + 1 is the valid one; similarly for end_pt - 1 is the valid one\n",
    "            # len will be (last_idx - first_idx) + 1\n",
    "            max_len = max(max_len, ((end_pt - 1) - (st_pt + 1) + 1))\n",
    "            \n",
    "            # move to the end of the right hand side elements\n",
    "            i = end_pt \n",
    "            \n",
    "        else:\n",
    "            i = i + 1\n",
    "\n",
    "    return max_len\n",
    "array = [1, 2, 3, 3, 4, 0, 10, 6, 5, -1, -3, 2, 3]\n",
    "print(longest_peak(array))\n",
    "\n",
    "array = [1, 2, 3, 2, 1, 1, 2, 3, 1, 0]\n",
    "print(longest_peak(array))"
   ]
  }
 ],
 "metadata": {
  "kernelspec": {
   "display_name": "Python 3 (ipykernel)",
   "language": "python",
   "name": "python3"
  },
  "language_info": {
   "codemirror_mode": {
    "name": "ipython",
    "version": 3
   },
   "file_extension": ".py",
   "mimetype": "text/x-python",
   "name": "python",
   "nbconvert_exporter": "python",
   "pygments_lexer": "ipython3",
   "version": "3.8.5"
  }
 },
 "nbformat": 4,
 "nbformat_minor": 5
}
