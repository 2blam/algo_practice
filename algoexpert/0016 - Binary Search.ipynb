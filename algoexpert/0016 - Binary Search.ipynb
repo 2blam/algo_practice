{
 "cells": [
  {
   "cell_type": "markdown",
   "id": "debb3100",
   "metadata": {},
   "source": [
    "Write function that accepts a sorted integer array and a target value, utilize Binary Search Algorithm, check if the target value contains in the array and return its index if found, otherwise, returns ```-1```\n",
    "\n",
    "Example:\n",
    "\n",
    "input:\n",
    "```\n",
    "array = [0, 1, 21, 33, 45, 45, 61, 71, 72, 73]\n",
    "targt = 33\n",
    "```\n",
    "\n",
    "output:\n",
    "```\n",
    "3\n",
    "```"
   ]
  },
  {
   "cell_type": "code",
   "execution_count": 1,
   "id": "f064b3a0",
   "metadata": {},
   "outputs": [
    {
     "name": "stdout",
     "output_type": "stream",
     "text": [
      "3\n",
      "-1\n"
     ]
    }
   ],
   "source": [
    "\"\"\"\n",
    "    IDEA:\n",
    "        start, end = 0, len(array) -1\n",
    "        while start <= end: \n",
    "            mid_point = len(array) // 2\n",
    "            if array[mid_point] == target:\n",
    "                return mid_point\n",
    "            else:\n",
    "                #check smaller or larger?\n",
    "                if array[mid_point] < target \n",
    "                    => check right hand side\n",
    "                    - start = mid_point + 1\n",
    "                else => check left hand side\n",
    "                    - end = mid_point - 1\n",
    "\n",
    "Time Complexity: O(log n): n - number of elements in array\n",
    "Space Complexity: O(1) - constant space\n",
    "\"\"\"\n",
    "\n",
    "def binary_search(array, target):\n",
    "    start, end = 0, len(array) - 1\n",
    "    while start <= end: # IMPORTANT less than or equal to\n",
    "        mid = (start + end) // 2\n",
    "        if array[mid] == target:\n",
    "            return mid\n",
    "        # checking\n",
    "        if array[mid] < target: # right hand side\n",
    "            start = mid + 1\n",
    "        else:\n",
    "            end = mid - 1\n",
    "\n",
    "    return -1\n",
    "\n",
    "array = [0, 1, 21, 33, 45, 45, 61, 71, 72, 73]\n",
    "target = 33\n",
    "print(binary_search(array, target))\n",
    "\n",
    "array = [0, 1, 21, 33, 45, 45, 61, 71, 72, 73]\n",
    "target = 20\n",
    "print(binary_search(array, target))"
   ]
  },
  {
   "cell_type": "code",
   "execution_count": 2,
   "id": "e0e5b747",
   "metadata": {},
   "outputs": [
    {
     "name": "stdout",
     "output_type": "stream",
     "text": [
      "3\n",
      "-1\n"
     ]
    }
   ],
   "source": [
    "\"\"\"\n",
    "    Approach: Recursive Approach\n",
    "\n",
    "Time Complexity: O(log n)\n",
    "Space Complexity: O(log n) - call stack\n",
    "\"\"\"\n",
    "def binary_search_helper(array, target, start, end):\n",
    "    if start > end:\n",
    "        return -1\n",
    "    mid = (start + end) // 2\n",
    "    if array[mid] == target:\n",
    "        return mid\n",
    "    if array[mid] < target: # search right hand side\n",
    "        return binary_search_helper(array, target, mid+1, end)\n",
    "    else: # search left hand side\n",
    "        return binary_search_helper(array, target, start, mid-1)\n",
    "    \n",
    "def binary_search(array, target):\n",
    "    return binary_search_helper(array, target, 0, len(array) - 1)\n",
    "\n",
    "array = [0, 1, 21, 33, 45, 45, 61, 71, 72, 73]\n",
    "target = 33\n",
    "print(binary_search(array, target))\n",
    "\n",
    "array = [0, 1, 21, 33, 45, 45, 61, 71, 72, 73]\n",
    "target = 20\n",
    "print(binary_search(array, target))"
   ]
  }
 ],
 "metadata": {
  "kernelspec": {
   "display_name": "Python 3 (ipykernel)",
   "language": "python",
   "name": "python3"
  },
  "language_info": {
   "codemirror_mode": {
    "name": "ipython",
    "version": 3
   },
   "file_extension": ".py",
   "mimetype": "text/x-python",
   "name": "python",
   "nbconvert_exporter": "python",
   "pygments_lexer": "ipython3",
   "version": "3.8.5"
  }
 },
 "nbformat": 4,
 "nbformat_minor": 5
}
