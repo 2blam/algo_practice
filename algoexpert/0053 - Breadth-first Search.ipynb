{
 "cells": [
  {
   "cell_type": "markdown",
   "id": "f18a77d7",
   "metadata": {},
   "source": [
    "Use BFS to traverse all node of  G (V,E), and put them into an array, then return the array.\n",
    "\n",
    "Example:\n",
    "\n",
    "input:\n",
    "```\n",
    "graph =          A\n",
    "               / | \\\n",
    "              B  C  D\n",
    "             / \\    / \\\n",
    "            E   F   G  H\n",
    "               / \\   \\\n",
    "               I  J   K\n",
    "```\n",
    "\n",
    "output:\n",
    "```\n",
    "[A, B, C, D, E, F, G, H, I, J, K]\n",
    "```"
   ]
  },
  {
   "cell_type": "code",
   "execution_count": 1,
   "id": "de2d2f2e",
   "metadata": {},
   "outputs": [
    {
     "name": "stdout",
     "output_type": "stream",
     "text": [
      "['A', 'B', 'C', 'D', 'E', 'F', 'G', 'H', 'I', 'J', 'K']\n"
     ]
    }
   ],
   "source": [
    "\"\"\"\n",
    "    IDEA: Recursion; DFS - queue\n",
    "\n",
    "Time Complexity: O(v+e) - v: vertex; e-edges \n",
    "Space Complexity: O(v)\n",
    "\"\"\"\n",
    "\n",
    "class Vertex:\n",
    "    def __init__(self, value):\n",
    "        self.value = value\n",
    "        self.child = None\n",
    "\n",
    "root = Vertex(\"A\")\n",
    "root.child = [Vertex(\"B\"), Vertex(\"C\"), Vertex(\"D\")]\n",
    "root.child[0].child = [Vertex(\"E\"), Vertex(\"F\")]\n",
    "root.child[0].child[1].child = [Vertex(\"I\"), Vertex(\"J\")]\n",
    "root.child[2].child = [Vertex(\"G\"), Vertex(\"H\")]\n",
    "root.child[2].child[0].child = [Vertex(\"K\")]\n",
    "\n",
    "def dfs_helper(queue=[]):\n",
    "    array = []\n",
    "    while len(queue) > 0:\n",
    "        vertex = queue.pop(0)\n",
    "        array.append(vertex.value)\n",
    "        child = vertex.child\n",
    "        if child is not None:\n",
    "            queue.extend(child)\n",
    "    return array\n",
    "\n",
    "def dfs(graph):\n",
    "    return dfs_helper(queue=[graph])\n",
    "\n",
    "print(dfs(root))"
   ]
  }
 ],
 "metadata": {
  "kernelspec": {
   "display_name": "Python 3 (ipykernel)",
   "language": "python",
   "name": "python3"
  },
  "language_info": {
   "codemirror_mode": {
    "name": "ipython",
    "version": 3
   },
   "file_extension": ".py",
   "mimetype": "text/x-python",
   "name": "python",
   "nbconvert_exporter": "python",
   "pygments_lexer": "ipython3",
   "version": "3.8.5"
  }
 },
 "nbformat": 4,
 "nbformat_minor": 5
}
