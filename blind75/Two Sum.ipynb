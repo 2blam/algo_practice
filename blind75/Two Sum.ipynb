{
 "cells": [
  {
   "cell_type": "markdown",
   "id": "79a744ff",
   "metadata": {},
   "source": [
    "Reference - https://leetcode.com/problems/two-sum/\n",
    "\n",
    "\n",
    "Given an array of integers nums and an integer target, return indices of the two numbers such that they add up to target.\n",
    "\n",
    "You may assume that each input would have exactly one solution, and you may not use the same element twice.\n",
    "\n",
    "You can return the answer in any order.\n",
    "\n",
    "Example 1:\n",
    "\n",
    "```\n",
    "Input: nums = [2,7,11,15], target = 9\n",
    "Output: [0,1]\n",
    "Explanation: Because nums[0] + nums[1] == 9, we return [0, 1].\n",
    "```\n",
    "Example 2:\n",
    "```\n",
    "Input: nums = [3,2,4], target = 6\n",
    "Output: [1,2]\n",
    "```\n",
    "Example 3:\n",
    "```\n",
    "Input: nums = [3,3], target = 6\n",
    "Output: [0,1]\n",
    "```"
   ]
  },
  {
   "cell_type": "code",
   "execution_count": 1,
   "id": "fd376209",
   "metadata": {},
   "outputs": [
    {
     "name": "stdout",
     "output_type": "stream",
     "text": [
      "[0, 1]\n",
      "[1, 2]\n",
      "[0, 1]\n"
     ]
    }
   ],
   "source": [
    "# using dict \n",
    "# time complexity: O(n)\n",
    "# space complexity: O(n)\n",
    "\n",
    "def two_sum(nums, target):\n",
    "    d = {}\n",
    "    for i, n in enumerate(nums):\n",
    "        if target - n in d:\n",
    "            return [d[target-n], i]\n",
    "        else:\n",
    "            d[n] = i\n",
    "\n",
    "\n",
    "nums = [2, 7, 11, 15]\n",
    "target = 9\n",
    "print(two_sum(nums, target))\n",
    "\n",
    "nums = [3,2,4]\n",
    "target = 6\n",
    "print(two_sum(nums, target))\n",
    "\n",
    "nums = [3,3]\n",
    "target = 6\n",
    "print(two_sum(nums, target))"
   ]
  }
 ],
 "metadata": {
  "kernelspec": {
   "display_name": "Python 3 (ipykernel)",
   "language": "python",
   "name": "python3"
  },
  "language_info": {
   "codemirror_mode": {
    "name": "ipython",
    "version": 3
   },
   "file_extension": ".py",
   "mimetype": "text/x-python",
   "name": "python",
   "nbconvert_exporter": "python",
   "pygments_lexer": "ipython3",
   "version": "3.8.5"
  }
 },
 "nbformat": 4,
 "nbformat_minor": 5
}
