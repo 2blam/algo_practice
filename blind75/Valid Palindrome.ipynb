{
 "cells": [
  {
   "cell_type": "markdown",
   "id": "d75a901a",
   "metadata": {},
   "source": [
    "Reference - https://leetcode.com/problems/valid-palindrome/\n",
    "\n",
    "A phrase is a palindrome if, after converting all uppercase letters into lowercase letters and removing all non-alphanumeric characters, it reads the same forward and backward. Alphanumeric characters include letters and numbers.\n",
    "\n",
    "Given a string s, return true if it is a palindrome, or false otherwise.\n",
    "\n",
    "```\n",
    "Example 1:\n",
    "\n",
    "Input: s = \"A man, a plan, a canal: Panama\"\n",
    "Output: true\n",
    "Explanation: \"amanaplanacanalpanama\" is a palindrome.\n",
    "```\n",
    "```\n",
    "Example 2:\n",
    "\n",
    "Input: s = \"race a car\"\n",
    "Output: false\n",
    "Explanation: \"raceacar\" is not a palindrome.\n",
    "```\n",
    "```\n",
    "Example 3:\n",
    "\n",
    "Input: s = \" \"\n",
    "Output: true\n",
    "Explanation: s is an empty string \"\" after removing non-alphanumeric characters.\n",
    "Since an empty string reads the same forward and backward, it is a palindrome.\n",
    "```\n"
   ]
  },
  {
   "cell_type": "code",
   "execution_count": 1,
   "id": "a287a5b1",
   "metadata": {},
   "outputs": [
    {
     "name": "stdout",
     "output_type": "stream",
     "text": [
      "True\n",
      "False\n",
      "True\n"
     ]
    }
   ],
   "source": [
    "# 2 pointers, left, right\n",
    "# time complexity: O(n) - n: num of chars in s\n",
    "# space complexity: O(1)\n",
    "\n",
    "def valid_palindrome(s):\n",
    "    left, right = 0, len(s)-1\n",
    "    while left < right:\n",
    "        left_char = s[left].lower()\n",
    "\n",
    "        if not left_char.isalnum() or left_char == \" \":\n",
    "            left +=1 \n",
    "            continue\n",
    "        right_char = s[right].lower()\n",
    "        if not right_char.isalnum() or right_char == \" \":\n",
    "            right-=1\n",
    "            continue\n",
    "        if left_char == right_char:\n",
    "            left +=1\n",
    "            right -=1\n",
    "        else:\n",
    "            return False\n",
    "    return True\n",
    "\n",
    "print(valid_palindrome(\"A man, a plan, a canal: Panama\"))\n",
    "print(valid_palindrome(\"race a car\"))\n",
    "print(valid_palindrome(\" \"))"
   ]
  }
 ],
 "metadata": {
  "kernelspec": {
   "display_name": "Python 3 (ipykernel)",
   "language": "python",
   "name": "python3"
  },
  "language_info": {
   "codemirror_mode": {
    "name": "ipython",
    "version": 3
   },
   "file_extension": ".py",
   "mimetype": "text/x-python",
   "name": "python",
   "nbconvert_exporter": "python",
   "pygments_lexer": "ipython3",
   "version": "3.8.5"
  }
 },
 "nbformat": 4,
 "nbformat_minor": 5
}
