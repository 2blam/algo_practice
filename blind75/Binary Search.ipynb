{
 "cells": [
  {
   "cell_type": "markdown",
   "id": "ff088037",
   "metadata": {},
   "source": [
    "reference - https://leetcode.com/problems/binary-search/\n",
    "\n",
    "Given an array of integers nums which is sorted in ascending order, and an integer target, write a function to search target in nums. If target exists, then return its index. Otherwise, return -1.\n",
    "\n",
    "You must write an algorithm with O(log n) runtime complexity.\n",
    "\n",
    "Example 1:\n",
    "```\n",
    "Input: nums = [-1,0,3,5,9,12], target = 9\n",
    "Output: 4\n",
    "Explanation: 9 exists in nums and its index is 4\n",
    "```\n",
    "Example 2:\n",
    "```\n",
    "Input: nums = [-1,0,3,5,9,12], target = 2\n",
    "Output: -1\n",
    "Explanation: 2 does not exist in nums so return -1\n",
    "```"
   ]
  },
  {
   "cell_type": "code",
   "execution_count": 1,
   "id": "3c8b71fd",
   "metadata": {},
   "outputs": [
    {
     "name": "stdout",
     "output_type": "stream",
     "text": [
      "4\n",
      "-1\n",
      "0\n"
     ]
    }
   ],
   "source": [
    "# time complexity: O(log n)\n",
    "# space complexity: O(1)\n",
    "\n",
    "def binary_search(nums, target):\n",
    "    left, right = 0, len(nums)-1\n",
    "    \n",
    "    while left <= right: ### IMPORTANT , use <=, not <\n",
    "        mid = left + (right-left)//2 ### IMPORTANT, instead of using (right-left) // 2\n",
    "        if nums[mid] == target:\n",
    "            return mid\n",
    "        elif nums[mid] < target: # check right\n",
    "            left = mid+1\n",
    "        else: # check left\n",
    "            right = mid-1 \n",
    "    return -1\n",
    "\n",
    "nums = [-1,0,3,5,9,12]\n",
    "target = 9\n",
    "print(binary_search(nums, target))\n",
    "\n",
    "nums = [-1,0,3,5,9,12]\n",
    "target = 2\n",
    "print(binary_search(nums, target))\n",
    "\n",
    "nums = [5]\n",
    "target = 5\n",
    "print(binary_search(nums, target))"
   ]
  }
 ],
 "metadata": {
  "kernelspec": {
   "display_name": "Python 3 (ipykernel)",
   "language": "python",
   "name": "python3"
  },
  "language_info": {
   "codemirror_mode": {
    "name": "ipython",
    "version": 3
   },
   "file_extension": ".py",
   "mimetype": "text/x-python",
   "name": "python",
   "nbconvert_exporter": "python",
   "pygments_lexer": "ipython3",
   "version": "3.8.5"
  }
 },
 "nbformat": 4,
 "nbformat_minor": 5
}
