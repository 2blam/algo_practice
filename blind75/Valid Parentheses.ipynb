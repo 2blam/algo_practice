{
 "cells": [
  {
   "cell_type": "markdown",
   "id": "63ca2b61",
   "metadata": {},
   "source": [
    "Reference - https://leetcode.com/problems/valid-parentheses\n",
    "\n",
    "Given a string s containing just the characters '(', ')', '{', '}', '[' and ']', determine if the input string is valid.\n",
    "\n",
    "An input string is valid if:\n",
    "\n",
    "Open brackets must be closed by the same type of brackets.\n",
    "Open brackets must be closed in the correct order.\n",
    "\n",
    "Example 1:\n",
    "```\n",
    "Input: s = \"()\"\n",
    "Output: true\n",
    "```\n",
    "Example 2:\n",
    "```\n",
    "Input: s = \"()[]{}\"\n",
    "Output: true\n",
    "```\n",
    "Example 3:\n",
    "```\n",
    "Input: s = \"(]\"\n",
    "Output: false\n",
    "```"
   ]
  },
  {
   "cell_type": "code",
   "execution_count": 1,
   "id": "3ef29928",
   "metadata": {},
   "outputs": [
    {
     "name": "stdout",
     "output_type": "stream",
     "text": [
      "True\n",
      "True\n",
      "False\n"
     ]
    }
   ],
   "source": [
    "# using dict\n",
    "# time complexity: O(n)\n",
    "# space complexity: O(n)\n",
    "\n",
    "def valid_parentheses(s):\n",
    "    stack = []\n",
    "    d_closing = {')': '(', ']':'[', '}':'{'}\n",
    "    for b in s:\n",
    "        # check if it is opening\n",
    "        if b in ['(', '[', '{']:\n",
    "            stack.append(b)\n",
    "        else:\n",
    "            # checking\n",
    "            if len(stack) > 0 and stack[-1] == d_closing[b]: # OK\n",
    "                stack.pop()\n",
    "            else:\n",
    "                return False\n",
    "    # final check\n",
    "    return False if len(stack) > 0 else True\n",
    "\n",
    "            \n",
    "\n",
    "s = \"()\"\n",
    "print(valid_parentheses(s))\n",
    "\n",
    "s = \"()[]{}\"\n",
    "print(valid_parentheses(s))\n",
    "\n",
    "s = \"(]\"\n",
    "print(valid_parentheses(s))"
   ]
  }
 ],
 "metadata": {
  "kernelspec": {
   "display_name": "Python 3 (ipykernel)",
   "language": "python",
   "name": "python3"
  },
  "language_info": {
   "codemirror_mode": {
    "name": "ipython",
    "version": 3
   },
   "file_extension": ".py",
   "mimetype": "text/x-python",
   "name": "python",
   "nbconvert_exporter": "python",
   "pygments_lexer": "ipython3",
   "version": "3.8.5"
  }
 },
 "nbformat": 4,
 "nbformat_minor": 5
}
