{
 "cells": [
  {
   "cell_type": "markdown",
   "id": "d1f1750a",
   "metadata": {},
   "source": [
    "reference - https://leetcode.com/problems/valid-anagram/\n",
    "\n",
    "Given two strings ```s``` and ```t```, return true if ```t``` is an anagram of ```s```, and false otherwise.\n",
    "\n",
    "An Anagram is a word or phrase formed by rearranging the letters of a different word or phrase, typically using all the original letters exactly once.\n",
    "\n",
    "Example 1:\n",
    "```\n",
    "Input: s = \"anagram\", t = \"nagaram\"\n",
    "Output: true\n",
    "```\n",
    "Example 2:\n",
    "```\n",
    "Input: s = \"rat\", t = \"car\"\n",
    "Output: false\n",
    "```"
   ]
  },
  {
   "cell_type": "code",
   "execution_count": 1,
   "id": "5d40c92a",
   "metadata": {},
   "outputs": [
    {
     "name": "stdout",
     "output_type": "stream",
     "text": [
      "True\n",
      "False\n"
     ]
    }
   ],
   "source": [
    "# time complexity: O(n + m): n - num of char in s; m - num of char in t\n",
    "# space complexity: O(1) - we only have limited number of characters, i.e. constant space\n",
    "def valid_anagram(s, t):\n",
    "    # first check if their length are the same\n",
    "    if len(s) == len(t):\n",
    "        d = {}\n",
    "        for c in s:\n",
    "            if c not in d:\n",
    "                d[c] = 0\n",
    "            d[c] += 1\n",
    "        for c in t:\n",
    "            if c not in d:\n",
    "                return False \n",
    "            d[c] -= 1\n",
    "            if d[c] == 0:\n",
    "                del d[c]\n",
    "        return True\n",
    "    else:\n",
    "        return False\n",
    "\n",
    "print(valid_anagram(\"anagram\", \"nagaram\"))\n",
    "print(valid_anagram(\"rat\", \"car\"))"
   ]
  }
 ],
 "metadata": {
  "kernelspec": {
   "display_name": "Python 3 (ipykernel)",
   "language": "python",
   "name": "python3"
  },
  "language_info": {
   "codemirror_mode": {
    "name": "ipython",
    "version": 3
   },
   "file_extension": ".py",
   "mimetype": "text/x-python",
   "name": "python",
   "nbconvert_exporter": "python",
   "pygments_lexer": "ipython3",
   "version": "3.8.5"
  }
 },
 "nbformat": 4,
 "nbformat_minor": 5
}
