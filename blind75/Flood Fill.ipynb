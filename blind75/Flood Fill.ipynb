{
 "cells": [
  {
   "attachments": {},
   "cell_type": "markdown",
   "id": "4db25b37",
   "metadata": {},
   "source": [
    "reference - https://leetcode.com/problems/flood-fill/\n",
    "\n",
    "An image is represented by an m x n integer grid image where image[i][j] represents the pixel value of the image.\n",
    "\n",
    "You are also given three integers sr, sc, and color. You should perform a flood fill on the image starting from the pixel image[sr][sc].\n",
    "\n",
    "To perform a flood fill, consider the starting pixel, plus any pixels connected 4-directionally to the starting pixel of the same color as the starting pixel, plus any pixels connected 4-directionally to those pixels (also with the same color), and so on. Replace the color of all of the aforementioned pixels with color.\n",
    "\n",
    "Return the modified image after performing the flood fill.\n",
    "```\n",
    "1 1 1       2 2 2\n",
    "1 1 0   =>  2 2 0\n",
    "1 0 1       2 0 1\n",
    "```\n",
    "```\n",
    "Input: image = [[1,1,1],[1,1,0],[1,0,1]], sr = 1, sc = 1, color = 2\n",
    "Output: [[2,2,2],[2,2,0],[2,0,1]]\n",
    "Explanation: From the center of the image with position (sr, sc) = (1, 1) (i.e., the red pixel), all pixels connected by a path of the same color as the starting pixel (i.e., the blue pixels) are colored with the new color.\n",
    "Note the bottom corner is not colored 2, because it is not 4-directionally connected to the starting pixel.\n",
    "```\n",
    "\n",
    "Example 2:\n",
    "```\n",
    "Input: image = [[0,0,0],[0,0,0]], sr = 0, sc = 0, color = 0\n",
    "Output: [[0,0,0],[0,0,0]]\n",
    "Explanation: The starting pixel is already colored 0, so no changes are made to the image.\n",
    "```"
   ]
  },
  {
   "cell_type": "code",
   "execution_count": 1,
   "id": "62c5f125",
   "metadata": {},
   "outputs": [],
   "source": [
    "image = [[0,0,0],[0,0,0]]\n"
   ]
  },
  {
   "cell_type": "code",
   "execution_count": 2,
   "id": "e1569a4e",
   "metadata": {},
   "outputs": [
    {
     "name": "stdout",
     "output_type": "stream",
     "text": [
      "[[2, 2, 2], [2, 2, 0], [2, 0, 1]]\n",
      "[[0, 0, 0], [0, 0, 0]]\n"
     ]
    }
   ],
   "source": [
    "# connected dot in matrix\n",
    "# time complexity: O(n)\n",
    "# space complexity: O(n)\n",
    "def flood_fill(image, sr, sc, color):\n",
    "    if image[sr][sc] == color: # no change about the color, do nothing\n",
    "        return image\n",
    "    R = len(image)-1\n",
    "    C = len(image[0])-1\n",
    "    old_color = image[sr][sc]\n",
    "    \n",
    "    def flood_fill_helper(r, c):\n",
    "        if image[r][c] == old_color:\n",
    "            image[r][c] = color\n",
    "            if r-1 >= 0: flood_fill_helper(r-1, c)\n",
    "            if c-1 >= 0: flood_fill_helper(r, c-1)\n",
    "            if c+1 <= C: flood_fill_helper(r, c+1)\n",
    "            if r+1 <= R: flood_fill_helper(r+1, c)\n",
    "    flood_fill_helper(sr, sc)\n",
    "    return image\n",
    "    \n",
    "    \n",
    "\n",
    "image = [[1,1,1],[1,1,0],[1,0,1]] \n",
    "sr = 1\n",
    "sc = 1\n",
    "color = 2\n",
    "\n",
    "print(flood_fill(image, sr, sc, color))\n",
    "\n",
    "image = [[0,0,0],[0,0,0]]\n",
    "sr = 0\n",
    "sc = 0\n",
    "color = 0\n",
    "\n",
    "print(flood_fill(image, sr, sc, color))"
   ]
  }
 ],
 "metadata": {
  "kernelspec": {
   "display_name": "Python 3 (ipykernel)",
   "language": "python",
   "name": "python3"
  },
  "language_info": {
   "codemirror_mode": {
    "name": "ipython",
    "version": 3
   },
   "file_extension": ".py",
   "mimetype": "text/x-python",
   "name": "python",
   "nbconvert_exporter": "python",
   "pygments_lexer": "ipython3",
   "version": "3.8.5"
  }
 },
 "nbformat": 4,
 "nbformat_minor": 5
}
