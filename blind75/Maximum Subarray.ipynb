{
 "cells": [
  {
   "cell_type": "markdown",
   "id": "ee0458d7",
   "metadata": {},
   "source": [
    "Reference - https://leetcode.com/problems/maximum-subarray/\n",
    "    \n",
    "Given an integer array nums, find the contiguous subarray (containing at least one number) which has the largest sum and return its sum.\n",
    "\n",
    "A subarray is a contiguous part of an array.\n",
    "\n",
    "Example 1:\n",
    "```\n",
    "Input: nums = [-2,1,-3,4,-1,2,1,-5,4]\n",
    "Output: 6\n",
    "Explanation: [4,-1,2,1] has the largest sum = 6.\n",
    "```\n",
    "Example 2:\n",
    "```\n",
    "Input: nums = [1]\n",
    "Output: 1\n",
    "```\n",
    "Example 3:\n",
    "```\n",
    "Input: nums = [5,4,-1,7,8]\n",
    "Output: 23\n",
    "```\n",
    "\n",
    "Constraints:\n",
    "\n",
    "1 <= nums.length <= 105\n",
    "-104 <= nums[i] <= 104\n",
    " \n",
    "\n",
    "Follow up: If you have figured out the O(n) solution, try coding another solution using the divide and conquer approach, which is more subtle."
   ]
  },
  {
   "cell_type": "code",
   "execution_count": 1,
   "id": "d67ba8bf",
   "metadata": {},
   "outputs": [
    {
     "name": "stdout",
     "output_type": "stream",
     "text": [
      "6\n",
      "23\n"
     ]
    }
   ],
   "source": [
    "# time complexity: O(n)\n",
    "# space complexity: O(1)\n",
    "def maximum_subarray(nums):\n",
    "    curr_subarray = nums[0]\n",
    "    max_subarray = nums[0]\n",
    "    \n",
    "    for i in range(1, len(nums)):\n",
    "        curr_subarray += nums[i]\n",
    "        \n",
    "        if curr_subarray < nums[i]:\n",
    "            curr_subarray = nums[i]\n",
    "        if curr_subarray > max_subarray:\n",
    "            max_subarray = curr_subarray\n",
    "    return max_subarray\n",
    "\n",
    "\n",
    "nums = [-2,1,-3,4,-1,2,1,-5,4]\n",
    "print(maximum_subarray(nums))\n",
    "\n",
    "nums = [5,4,-1,7,8]\n",
    "print(maximum_subarray(nums))"
   ]
  }
 ],
 "metadata": {
  "kernelspec": {
   "display_name": "Python 3 (ipykernel)",
   "language": "python",
   "name": "python3"
  },
  "language_info": {
   "codemirror_mode": {
    "name": "ipython",
    "version": 3
   },
   "file_extension": ".py",
   "mimetype": "text/x-python",
   "name": "python",
   "nbconvert_exporter": "python",
   "pygments_lexer": "ipython3",
   "version": "3.8.5"
  }
 },
 "nbformat": 4,
 "nbformat_minor": 5
}
