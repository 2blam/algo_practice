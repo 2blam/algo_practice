{
 "cells": [
  {
   "cell_type": "markdown",
   "id": "bd09ccdf",
   "metadata": {},
   "source": [
    "Given an integer num, write a method to determine if it is a power of 3.\n",
    "\n",
    "```\n",
    "console.log(powerOfThree(9));\n",
    "// true\n",
    "\n",
    "console.log(powerOfThree(7));\n",
    "// false\n",
    "```\n",
    "\n",
    "Constraints\n",
    "- The given would be a non zero positive integer in the range between 1 and 2147483647\n",
    "- Expected space complexity : O(logn)\n",
    "- Expected time complexity : O(1)"
   ]
  },
  {
   "cell_type": "code",
   "execution_count": 3,
   "id": "c82cc7f3",
   "metadata": {},
   "outputs": [
    {
     "name": "stdout",
     "output_type": "stream",
     "text": [
      "PASSED: `power_of_three(9)` should be `True`\n",
      "PASSED: `power_of_three(7)` should be `False`\n",
      "PASSED: `power_of_three(729)` should be `True`\n"
     ]
    }
   ],
   "source": [
    "def power_of_three(num):\n",
    "    if num == 1:\n",
    "        return True\n",
    "    while num > 1:\n",
    "        num = num / 3\n",
    "        if num == 1:\n",
    "            return True\n",
    "    return False\n",
    "\n",
    "\n",
    "import unittest\n",
    "\n",
    "\n",
    "class Test(unittest.TestCase):\n",
    "    def test_1(self):\n",
    "        assert power_of_three(9) == True\n",
    "        print(\"PASSED: `power_of_three(9)` should be `True`\")\n",
    "\n",
    "    def test_2(self):\n",
    "        assert power_of_three(7) == False\n",
    "        print(\"PASSED: `power_of_three(7)` should be `False`\")\n",
    "\n",
    "    def test_3(self):\n",
    "        assert power_of_three(729) == True\n",
    "        print(\"PASSED: `power_of_three(729)` should be `True`\")\n",
    "        \n",
    "Test().test_1()\n",
    "Test().test_2()\n",
    "Test().test_3()"
   ]
  }
 ],
 "metadata": {
  "kernelspec": {
   "display_name": "Python 3 (ipykernel)",
   "language": "python",
   "name": "python3"
  },
  "language_info": {
   "codemirror_mode": {
    "name": "ipython",
    "version": 3
   },
   "file_extension": ".py",
   "mimetype": "text/x-python",
   "name": "python",
   "nbconvert_exporter": "python",
   "pygments_lexer": "ipython3",
   "version": "3.8.5"
  }
 },
 "nbformat": 4,
 "nbformat_minor": 5
}
