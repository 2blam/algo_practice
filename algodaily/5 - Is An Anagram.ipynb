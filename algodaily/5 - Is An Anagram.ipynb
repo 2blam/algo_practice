{
 "cells": [
  {
   "cell_type": "markdown",
   "id": "96f31bd8",
   "metadata": {},
   "source": [
    "An anagram: a word, phrase, or name formed by rearranging the letters of another: such as cinema, formed from iceman.\n",
    "\n",
    "We are given two strings like \"cinema\" and \"iceman\" as inputs. Can you write a method isAnagram(str1, str2) that will return true or false depending on whether the strings are anagrams of each other?\n",
    "\n",
    "Constraints\n",
    "- Length of both the strings <= 100000\n",
    "- The strings will contain only alphanumeric characters (a-z , A-Z, 0-9)\n",
    "- The strings can be empty\n",
    "- Expected time complexity : O(nlogn)\n",
    "- Expected space complexity : O(n)"
   ]
  },
  {
   "cell_type": "code",
   "execution_count": 1,
   "id": "4f978140",
   "metadata": {},
   "outputs": [
    {
     "name": "stdout",
     "output_type": "stream",
     "text": [
      "PASSED: is_anagram('Mary', 'Army') should return False\n",
      "PASSED: is_anagram('cinema', 'iceman') should return True\n",
      "PASSED: is_anagram('jake', 'jay') should return False\n"
     ]
    }
   ],
   "source": [
    "from collections import defaultdict\n",
    "\n",
    "def is_anagram(str1, str2):\n",
    "    return (sorted(list(str1.lower()))) == (sorted(list(str2.lower())))\n",
    "\n",
    "\n",
    "import unittest\n",
    "\n",
    "\n",
    "class Test(unittest.TestCase):\n",
    "    def test_1(self):\n",
    "        assert is_anagram(\"Mary\", \"Army\") == True\n",
    "        print(\"PASSED: is_anagram('Mary', 'Army') should return False\")\n",
    "\n",
    "    def test_2(self):\n",
    "        assert is_anagram(\"cinema\", \"iceman\") == True\n",
    "        print(\"PASSED: is_anagram('cinema', 'iceman') should return True\")\n",
    "\n",
    "    def test_3(self):\n",
    "        assert is_anagram(\"jake\", \"jay\") == False\n",
    "        print(\"PASSED: is_anagram('jake', 'jay') should return False\")\n",
    "\n",
    "\n",
    "Test().test_1()\n",
    "Test().test_2()\n",
    "Test().test_3()"
   ]
  }
 ],
 "metadata": {
  "kernelspec": {
   "display_name": "Python 3 (ipykernel)",
   "language": "python",
   "name": "python3"
  },
  "language_info": {
   "codemirror_mode": {
    "name": "ipython",
    "version": 3
   },
   "file_extension": ".py",
   "mimetype": "text/x-python",
   "name": "python",
   "nbconvert_exporter": "python",
   "pygments_lexer": "ipython3",
   "version": "3.8.5"
  }
 },
 "nbformat": 4,
 "nbformat_minor": 5
}
