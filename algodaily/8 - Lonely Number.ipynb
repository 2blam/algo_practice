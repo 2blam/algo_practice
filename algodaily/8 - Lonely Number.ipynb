{
 "cells": [
  {
   "cell_type": "markdown",
   "id": "db8afd37",
   "metadata": {},
   "source": [
    "In a given array of numbers, one element will show up once and the others will each show up twice. Can you find the number that only appears once in O(n) linear time? \n",
    "\n",
    "```\n",
    "lonelyNumber([4, 4, 6, 1, 3, 1, 3])\n",
    "// 6\n",
    "\n",
    "lonelyNumber([3, 3, 9])\n",
    "// 9\n",
    "```\n",
    "\n",
    "- Constraints\n",
    "- Length of the array <= 100000\n",
    "- The values of the array will be between -1000000000 and 1000000000"
   ]
  },
  {
   "cell_type": "code",
   "execution_count": 16,
   "id": "a1928b4c",
   "metadata": {},
   "outputs": [
    {
     "name": "stdout",
     "output_type": "stream",
     "text": [
      "PASSED: `lonely_number([4, 4, 6, 1, 3, 1, 3])` should return `6`\n",
      "PASSED: `lonely_number([3, 3, 9])` should return `9`\n",
      "PASSED: `lonely_number` is a function\n",
      "PASSED: `lonely_number([1])` should return `1`\n"
     ]
    }
   ],
   "source": [
    "\"\"\"\n",
    "    IDEA: hashmap\n",
    "\n",
    "Time Complexity: O(n)\n",
    "Space Complexity: O(n)\n",
    "\"\"\"\n",
    "def lonely_number(numbers):\n",
    "    d = {}\n",
    "    for n in numbers:\n",
    "        if n in d:\n",
    "            del d[n] # remove the key from dict\n",
    "        else:\n",
    "            d[n] = 1\n",
    "    return (list(d.keys())[0])\n",
    "\n",
    "\n",
    "import unittest\n",
    "\n",
    "class Test(unittest.TestCase):\n",
    "    def test_1(self):\n",
    "        assert lonely_number([4, 4, 6, 1, 3, 1, 3]) == 6\n",
    "        print(\"PASSED: `lonely_number([4, 4, 6, 1, 3, 1, 3])` should return `6`\")\n",
    "\n",
    "    def test_2(self):\n",
    "        assert lonely_number([3, 3, 9]) == 9\n",
    "        print(\"PASSED: `lonely_number([3, 3, 9])` should return `9`\")\n",
    "\n",
    "    def test_3(self):\n",
    "        assert callable(lonely_number) == True\n",
    "        print(\"PASSED: `lonely_number` is a function\")\n",
    "\n",
    "    def test_4(self):\n",
    "        assert lonely_number([3, 3, 9]) == 9\n",
    "        print(\"PASSED: `lonely_number([1])` should return `1`\")\n",
    "        \n",
    "Test().test_1()\n",
    "Test().test_2()\n",
    "Test().test_3()\n",
    "Test().test_4()"
   ]
  }
 ],
 "metadata": {
  "kernelspec": {
   "display_name": "Python 3 (ipykernel)",
   "language": "python",
   "name": "python3"
  },
  "language_info": {
   "codemirror_mode": {
    "name": "ipython",
    "version": 3
   },
   "file_extension": ".py",
   "mimetype": "text/x-python",
   "name": "python",
   "nbconvert_exporter": "python",
   "pygments_lexer": "ipython3",
   "version": "3.8.5"
  }
 },
 "nbformat": 4,
 "nbformat_minor": 5
}
