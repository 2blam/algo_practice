{
 "cells": [
  {
   "cell_type": "markdown",
   "id": "1bffa974",
   "metadata": {},
   "source": [
    "Can you write a function that reverses an inputted string without using the built-in Array reverse method?\n",
    "\n",
    "Let's look at some examples. So, calling:\n",
    "\n",
    "reverseString(\"jake\") should return \"ekaj\".\n",
    "\n",
    "reverseString(\"reverseastring\") should return \"gnirtsaesrever\".\n",
    "\n",
    "Constraints\n",
    "\n",
    "- Do not use the built-in #reverse() method or [::-1] if Python\n",
    "- Ideal solution would run in O(n) time complexity and O(1) space complexity"
   ]
  },
  {
   "cell_type": "code",
   "execution_count": 1,
   "id": "9f7f2b21",
   "metadata": {},
   "outputs": [
    {
     "name": "stdout",
     "output_type": "stream",
     "text": [
      "PASSED: reverse_string('njnschnjkdasn j32 uida') should return 'adiu 23j nsadkjnhcsnjn'\n",
      "PASSED: reverse_string('timbuktu12') should return '21utkubmit'\n",
      "PASSED: reverse_string('') should return ''\n",
      "PASSED: reverse_string('reverseastring') should return 'gnirtsaesrever'\n"
     ]
    }
   ],
   "source": [
    "\"\"\"\n",
    "    IDEA: use two pointers\n",
    "        1) start pointer (st) - pointing 1st char, end pointer (end) - pointing the last char\n",
    "        2) swap the char between st and end\n",
    "        3) increment st by 1 and decrement end by 1\n",
    "        4) repeat if  st is less than end\n",
    "\"\"\"\n",
    "def reverse_string(str1):\n",
    "    str1 = list(str1) # IMPORTANT\n",
    "    st, end = 0, len(str1)-1\n",
    "    while st < end:\n",
    "        str1[st], str1[end] = str1[end], str1[st]\n",
    "        st += 1\n",
    "        end -= 1\n",
    "    return \"\".join(str1)\n",
    "\n",
    "\n",
    "import unittest\n",
    "\n",
    "\n",
    "class Test(unittest.TestCase):\n",
    "    def test_1(self):\n",
    "        assert reverse_string(\"njnschnjkdasn j32 uida\") == \"adiu 23j nsadkjnhcsnjn\"\n",
    "        print(\n",
    "            \"PASSED: reverse_string('njnschnjkdasn j32 uida') should return 'adiu 23j nsadkjnhcsnjn'\"\n",
    "        )\n",
    "\n",
    "    def test_2(self):\n",
    "        assert reverse_string(\"timbuktu12\") == \"21utkubmit\"\n",
    "        print(\"PASSED: reverse_string('timbuktu12') should return '21utkubmit'\")\n",
    "\n",
    "    def test_3(self):\n",
    "        assert reverse_string(\"\") == \"\"\n",
    "        print(\"PASSED: reverse_string('') should return ''\")\n",
    "\n",
    "    def test_4(self):\n",
    "        assert reverse_string(\"reverseastring\") == \"gnirtsaesrever\"\n",
    "        print(\"PASSED: reverse_string('reverseastring') should return 'gnirtsaesrever'\")\n",
    "\n",
    "Test().test_1()\n",
    "Test().test_2()\n",
    "Test().test_3()\n",
    "Test().test_4()"
   ]
  },
  {
   "cell_type": "code",
   "execution_count": null,
   "id": "617a6215",
   "metadata": {},
   "outputs": [],
   "source": []
  }
 ],
 "metadata": {
  "kernelspec": {
   "display_name": "Python 3 (ipykernel)",
   "language": "python",
   "name": "python3"
  },
  "language_info": {
   "codemirror_mode": {
    "name": "ipython",
    "version": 3
   },
   "file_extension": ".py",
   "mimetype": "text/x-python",
   "name": "python",
   "nbconvert_exporter": "python",
   "pygments_lexer": "ipython3",
   "version": "3.8.5"
  }
 },
 "nbformat": 4,
 "nbformat_minor": 5
}
