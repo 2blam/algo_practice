{
 "cells": [
  {
   "cell_type": "markdown",
   "id": "0e343846",
   "metadata": {},
   "source": [
    "Given a string str, can you write a method that will return True if is a palindrome and False if it is not? If you'll recall, a palindrome is defined as \"a word, phrase, or sequence that reads the same backward as forward\". For now, assume that we will not have input strings that contain special characters or spaces, so the following examples hold:\n",
    "\n",
    "JavaScript Example:\n",
    "```\n",
    "let str = 'thisisnotapalindrome';\n",
    "isPalindrome(str);\n",
    "// false\n",
    "\n",
    "str = 'racecar';\n",
    "isPalindrome(str);\n",
    "// true\n",
    "```\n",
    "\n",
    "Try to ignore non-alphanumerical characters. The final solution that we present will handle all edge cases.\n",
    "\n",
    "Constraints\n",
    "- Length of the given string <= 100000\n",
    "- The string will consist of ASCII characters (some or all)\n",
    "- Expected time complexity : O(n)\n",
    "- Expected space complexity : O(1)"
   ]
  },
  {
   "cell_type": "code",
   "execution_count": 1,
   "id": "36d15ffe",
   "metadata": {},
   "outputs": [
    {
     "name": "stdout",
     "output_type": "stream",
     "text": [
      "PASSED: assert is_palindrome('A Santa Lived As a Devil At NASA') == True\n",
      "PASSED: assert is_palindrome('gold') == False\n",
      "PASSED: assert is_palindrome('a') == True\n",
      "PASSED: assert is_palindrome('racecar') == True\n"
     ]
    }
   ],
   "source": [
    "\"\"\"\n",
    "    IDEA: Two pointers\n",
    "\"\"\"\n",
    "def is_palindrome(s):\n",
    "    st_pt, end_pt = 0, len(s)-1\n",
    "    s = s.lower()\n",
    "    while (st_pt < end_pt):\n",
    "        if not s[st_pt].isalpha():\n",
    "            st_pt += 1\n",
    "            continue\n",
    "        if not s[end_pt].isalpha():\n",
    "            end_pt -=1\n",
    "            continue\n",
    "        if s[st_pt] == s[end_pt]:\n",
    "            st_pt += 1\n",
    "            end_pt -= 1\n",
    "        else:\n",
    "            return False\n",
    "    \n",
    "    return True\n",
    "\n",
    "import unittest\n",
    "\n",
    "\n",
    "class Test(unittest.TestCase):\n",
    "    def test_1(self):\n",
    "        assert is_palindrome(\"A Santa Lived As a Devil At NASA\") == True\n",
    "        print(\n",
    "            \"PASSED: assert is_palindrome('A Santa Lived As a Devil At NASA') == True\"\n",
    "        )\n",
    "\n",
    "    def test_2(self):\n",
    "        assert is_palindrome(\"gold\") == False\n",
    "        print(\"PASSED: assert is_palindrome('gold') == False\")\n",
    "\n",
    "    def test_3(self):\n",
    "        assert is_palindrome(\"a\") == True\n",
    "        print(\"PASSED: assert is_palindrome('a') == True\")\n",
    "\n",
    "    def test_4(self):\n",
    "        assert is_palindrome(\"racecar\") == True\n",
    "        print(\"PASSED: assert is_palindrome('racecar') == True\")\n",
    "\n",
    "\n",
    "Test().test_1()\n",
    "Test().test_2()\n",
    "Test().test_3()\n",
    "Test().test_4()"
   ]
  }
 ],
 "metadata": {
  "kernelspec": {
   "display_name": "Python 3 (ipykernel)",
   "language": "python",
   "name": "python3"
  },
  "language_info": {
   "codemirror_mode": {
    "name": "ipython",
    "version": 3
   },
   "file_extension": ".py",
   "mimetype": "text/x-python",
   "name": "python",
   "nbconvert_exporter": "python",
   "pygments_lexer": "ipython3",
   "version": "3.8.5"
  }
 },
 "nbformat": 4,
 "nbformat_minor": 5
}
