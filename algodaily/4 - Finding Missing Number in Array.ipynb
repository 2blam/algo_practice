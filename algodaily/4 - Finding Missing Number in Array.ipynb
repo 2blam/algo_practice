{
 "cells": [
  {
   "cell_type": "markdown",
   "id": "76d6e60f",
   "metadata": {},
   "source": [
    "We're given an array of continuous numbers that should increment sequentially by 1, which just means that we expect a sequence like:\n",
    "\n",
    "```\n",
    "[1, 2, 3, 4, 5, 6, 7]\n",
    "```\n",
    "\n",
    "However, we notice that there are some missing numbers in the sequence.\n",
    "```\n",
    "[1, 2, 4, 5, 7]\n",
    "\n",
    "```\n",
    "\n",
    "Can you write a method missingNumbers that takes an array of continuous numbers and returns the missing integers?\n",
    "\n",
    "Example [JavaScript]\n",
    "```\n",
    "missingNumbers([1, 2, 4, 5, 7]);\n",
    "// [3, 6]\n",
    "```\n",
    "\n",
    "Constraints\n",
    "- Length of the array <= 100000\n",
    "- The array will always contain non negative integers (including 0)\n",
    "- Expected time complexity : O(n)\n",
    "- Expected space complexity : O(1)\n"
   ]
  },
  {
   "cell_type": "code",
   "execution_count": 1,
   "id": "b357cd27",
   "metadata": {},
   "outputs": [
    {
     "name": "stdout",
     "output_type": "stream",
     "text": [
      "PASSED: missing_numbers([0, 1, 3]) should equal [2]\n",
      "PASSED: missing_numbers([10, 11, 14, 17]) should equal [ 12, 13, 15, 16 ]\n",
      "PASSED: missing_numbers([3, 7, 9, 19]) should equal [ 4, 5, 6, 8, 10, 11, 12, 13, 14, 15, 16, 17, 18 ]\n"
     ]
    }
   ],
   "source": [
    "\"\"\"\n",
    "IDEA:\n",
    "    1) get every 2 items\n",
    "    2) check the gap between these 2 items\n",
    "    3) if the diff is more than 1\n",
    "        3.1) loop from the 1st element + 1 till the 2nd element:\n",
    "        3.2) kepp appending the number until finish\n",
    "    \n",
    "Time Complexity: O(n) regardless of whether we enter the inner for clause\n",
    "Space Complexity: O(n) - worst situaton O(n - 2) => O(n)\n",
    "                      \n",
    "\"\"\"\n",
    "def missing_numbers(num_arr):\n",
    "    missing = []\n",
    "    for i in range(len(num_arr)-1):\n",
    "        n1, n2 = num_arr[i], num_arr[i+1]\n",
    "        if (n2 - n1 != 1):\n",
    "            for n in range(n1+1, n2):\n",
    "                missing.append(n)\n",
    "\n",
    "    return missing\n",
    "\n",
    "import unittest\n",
    "\n",
    "class Test(unittest.TestCase):\n",
    "    def test_1(self):\n",
    "        assert missing_numbers([0, 1, 3]) == [2]\n",
    "        print(\"PASSED: missing_numbers([0, 1, 3]) should equal [2]\")\n",
    "\n",
    "    def test_2(self):\n",
    "        assert missing_numbers([10, 11, 14, 17]) == [12, 13, 15, 16]\n",
    "        print(\n",
    "            \"PASSED: missing_numbers([10, 11, 14, 17]) should equal [ 12, 13, 15, 16 ]\"\n",
    "        )\n",
    "\n",
    "    def test_3(self):\n",
    "        assert missing_numbers([3, 7, 9, 19]) == [\n",
    "            4,\n",
    "            5,\n",
    "            6,\n",
    "            8,\n",
    "            10,\n",
    "            11,\n",
    "            12,\n",
    "            13,\n",
    "            14,\n",
    "            15,\n",
    "            16,\n",
    "            17,\n",
    "            18,\n",
    "        ]\n",
    "        print(\n",
    "            \"PASSED: missing_numbers([3, 7, 9, 19]) should equal [ 4, 5, 6, 8, 10, 11, 12, 13, 14, 15, 16, 17, 18 ]\"\n",
    "        )\n",
    "\n",
    "Test().test_1()\n",
    "Test().test_2()\n",
    "Test().test_3()"
   ]
  }
 ],
 "metadata": {
  "kernelspec": {
   "display_name": "Python 3 (ipykernel)",
   "language": "python",
   "name": "python3"
  },
  "language_info": {
   "codemirror_mode": {
    "name": "ipython",
    "version": 3
   },
   "file_extension": ".py",
   "mimetype": "text/x-python",
   "name": "python",
   "nbconvert_exporter": "python",
   "pygments_lexer": "ipython3",
   "version": "3.8.5"
  }
 },
 "nbformat": 4,
 "nbformat_minor": 5
}
