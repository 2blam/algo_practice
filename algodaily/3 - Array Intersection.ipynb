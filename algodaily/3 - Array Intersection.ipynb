{
 "cells": [
  {
   "cell_type": "markdown",
   "id": "c67427a4",
   "metadata": {},
   "source": [
    "Can you write a function that takes two arrays as inputs and returns to us their intersection? \n",
    "\n",
    "Example 1 [JavaScript]\n",
    "```\n",
    "const nums1 = [1, 2, 2, 1];\n",
    "const nums2 = [2, 2];\n",
    "\n",
    "intersection(nums1, nums2);\n",
    "// [2]\n",
    "```\n",
    "\n",
    "Example 2 [JavaScript]\n",
    "\n",
    "```\n",
    "const nums1 = [4,9,5];\n",
    "const nums2 = [9,4,9,8,4];\n",
    "\n",
    "intersection(nums1, nums2);\n",
    "// [9, 4]\n",
    "```\n",
    "\n",
    "Constraints\n",
    "- Length of the array <= 100000\n",
    "- The values in the array will be in the range -1000000000 and 1000000000\n",
    "- Expected time complexity: O(n+m) where n and m are the lengths of the array.\n",
    "- Expected space complexity: O(max(n,m))."
   ]
  },
  {
   "cell_type": "code",
   "execution_count": 1,
   "id": "436cc6bd",
   "metadata": {},
   "outputs": [
    {
     "name": "stdout",
     "output_type": "stream",
     "text": [
      "PASSED: `intersection([6,0,12,10,16],[3,15,18,20,15])` should return `[]`\n",
      "PASSED: `intersection([1,5,2,12,6],[13,10,9,5,8])` should return `[5]`\n",
      "PASSED: `intersection([3],[15])` should return `[]`\n",
      "PASSED: `intersection([2,16,8,9],[14,15,2,20])` should return `[2]`\n"
     ]
    }
   ],
   "source": [
    "\"\"\"\n",
    "IDEA: set and then intersection\n",
    "\n",
    "Time Complexity: O(m + n) - Create set of the nums1 array: O(m); Create set of the nums2 array: O(n); \n",
    "Scan thru the num2 elements to pick the intersected values O(n) => O(m + n + n) => O(m + n)\n",
    "\n",
    "Space Complexity: O(max(n,m))\n",
    "\"\"\"\n",
    "\n",
    "def intersection(nums1, nums2):\n",
    "    # fill this in\n",
    "    return list(set(nums1).intersection(set(nums2)))\n",
    "\n",
    "\n",
    "import unittest\n",
    "\n",
    "\n",
    "class Test(unittest.TestCase):\n",
    "    def test_1(self):\n",
    "        assert intersection([6, 0, 12, 10, 16], [3, 15, 18, 20, 15]) == []\n",
    "        print(\n",
    "            \"PASSED: `intersection([6,0,12,10,16],[3,15,18,20,15])` should return `[]`\"\n",
    "        )\n",
    "\n",
    "    def test_2(self):\n",
    "        assert intersection([1, 5, 2, 12, 6], [13, 10, 9, 5, 8]) == [5]\n",
    "        print(\"PASSED: `intersection([1,5,2,12,6],[13,10,9,5,8])` should return `[5]`\")\n",
    "\n",
    "    def test_3(self):\n",
    "        assert intersection([3], [15]) == []\n",
    "        print(\"PASSED: `intersection([3],[15])` should return `[]`\")\n",
    "\n",
    "    def test_4(self):\n",
    "        assert intersection([2, 16, 8, 9], [14, 15, 2, 20]) == [2]\n",
    "        print(\"PASSED: `intersection([2,16,8,9],[14,15,2,20])` should return `[2]`\")\n",
    "\n",
    "\n",
    "Test().test_1()\n",
    "Test().test_2()\n",
    "Test().test_3()\n",
    "Test().test_4()"
   ]
  }
 ],
 "metadata": {
  "kernelspec": {
   "display_name": "Python 3 (ipykernel)",
   "language": "python",
   "name": "python3"
  },
  "language_info": {
   "codemirror_mode": {
    "name": "ipython",
    "version": 3
   },
   "file_extension": ".py",
   "mimetype": "text/x-python",
   "name": "python",
   "nbconvert_exporter": "python",
   "pygments_lexer": "ipython3",
   "version": "3.8.5"
  }
 },
 "nbformat": 4,
 "nbformat_minor": 5
}
