{
 "cells": [
  {
   "cell_type": "markdown",
   "id": "e9fd5030",
   "metadata": {},
   "source": [
    "We're given a number in the form of an integer n.\n",
    "\n",
    "Write a function that returns the string representation of all numbers from 1 to n based on the following rules:\n",
    "\n",
    "If it's a multiple of 3, represent it as \"fizz\".\n",
    "\n",
    "If it's a multiple of 5, represent it as \"buzz\".\n",
    "\n",
    "If it's a multiple of both 3 and 5, represent it as \"fizzbuzz\".\n",
    "\n",
    "If it's neither, just return the number itself.\n",
    "\n",
    "As such, fizzBuzz(15) would result in '12fizz4buzzfizz78fizzbuzz11fizz1314fizzbuzz'.\n",
    "\n",
    "Constraints:\n",
    "- Maximum value of Integer n <= 1000\n",
    "- n will always be a positive integer, but can be 0\n",
    "- Expected time complexity : O(n)\n",
    "- Expected space complexity : O(1)"
   ]
  },
  {
   "cell_type": "code",
   "execution_count": 1,
   "id": "3ad8bb8d",
   "metadata": {},
   "outputs": [
    {
     "name": "stdout",
     "output_type": "stream",
     "text": [
      "PASSED: Expect fizz_buzz(0) to equal ''\n",
      "PASSED: Expect fizz_buzz(1) to equal '1'\n",
      "PASSED: Expect fizz_buzz(15) to equal '12fizz4buzzfizz78fizzbuzz11fizz1314fizzbuzz'\n"
     ]
    }
   ],
   "source": [
    "def fizz_buzz(n):\n",
    "    s = \"\"\n",
    "    for i in range(1, n+1):\n",
    "      if i %3 ==0 and i% 5 == 0:\n",
    "        s += \"fizzbuzz\"\n",
    "      elif i% 3 == 0:\n",
    "        s += \"fizz\"\n",
    "      elif i% 5 == 0:\n",
    "        s += \"buzz\"\n",
    "      else:\n",
    "        s += str(i)\n",
    "    return s\n",
    "\n",
    "\n",
    "import unittest\n",
    "\n",
    "\n",
    "class Test(unittest.TestCase):\n",
    "    def test_1(self):\n",
    "        assert fizz_buzz(0) == \"\"\n",
    "        print(\"PASSED: Expect fizz_buzz(0) to equal ''\")\n",
    "\n",
    "    def test_2(self):\n",
    "        assert fizz_buzz(1) == \"1\"\n",
    "        print(\"PASSED: Expect fizz_buzz(1) to equal '1'\")\n",
    "\n",
    "    def test_3(self):\n",
    "        assert fizz_buzz(15) == \"12fizz4buzzfizz78fizzbuzz11fizz1314fizzbuzz\"\n",
    "        print(\n",
    "            \"PASSED: Expect fizz_buzz(15) to equal '12fizz4buzzfizz78fizzbuzz11fizz1314fizzbuzz'\"\n",
    "        )\n",
    "\n",
    "\n",
    "Test().test_1()\n",
    "Test().test_2()\n",
    "Test().test_3()"
   ]
  }
 ],
 "metadata": {
  "kernelspec": {
   "display_name": "Python 3 (ipykernel)",
   "language": "python",
   "name": "python3"
  },
  "language_info": {
   "codemirror_mode": {
    "name": "ipython",
    "version": 3
   },
   "file_extension": ".py",
   "mimetype": "text/x-python",
   "name": "python",
   "nbconvert_exporter": "python",
   "pygments_lexer": "ipython3",
   "version": "3.8.5"
  }
 },
 "nbformat": 4,
 "nbformat_minor": 5
}
