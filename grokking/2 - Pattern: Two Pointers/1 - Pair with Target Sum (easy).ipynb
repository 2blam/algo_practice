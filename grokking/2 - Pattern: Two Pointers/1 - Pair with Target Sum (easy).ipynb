{
 "cells": [
  {
   "attachments": {},
   "cell_type": "markdown",
   "id": "e9cf9040",
   "metadata": {},
   "source": [
    "Given an array of sorted numbers and a target sum, find a pair in the array whose sum is equal to the given target.\n",
    "\n",
    "Write a function to return the indices of the two numbers (i.e. the pair) such that they add up to the given target.\n",
    "\n",
    "Example 1:\n",
    "```\n",
    "Input: [1, 2, 3, 4, 6], target=6\n",
    "Output: [1, 3]\n",
    "Explanation: The numbers at index 1 and 3 add up to 6: 2+4=6\n",
    "```\n",
    "Example 2:\n",
    "```\n",
    "Input: [2, 5, 9, 11], target=11\n",
    "Output: [0, 2]\n",
    "Explanation: The numbers at index 0 and 2 add up to 11: 2+9=11\n",
    "```\n"
   ]
  },
  {
   "cell_type": "code",
   "execution_count": 6,
   "id": "0347869a",
   "metadata": {},
   "outputs": [
    {
     "name": "stdout",
     "output_type": "stream",
     "text": [
      "[1, 3]\n",
      "[0, 2]\n"
     ]
    }
   ],
   "source": [
    "\"\"\"\n",
    "Time Complexity: O(N)\n",
    "Space Complexity: O(1)\n",
    "\"\"\"\n",
    "def pair_with_targetsum(arr, target_sum):\n",
    "    start_idx, end_idx = 0, len(arr)-1\n",
    "    while start_idx < end_idx:\n",
    "        sum = arr[start_idx] + arr[end_idx]\n",
    "        if sum == target_sum:\n",
    "            return[start_idx, end_idx]\n",
    "        elif sum < target_sum:\n",
    "            start_idx += 1\n",
    "        else:\n",
    "            end_idx -= 1\n",
    "    return [-1, -1]\n",
    "\n",
    "\n",
    "print(pair_with_targetsum([1, 2, 3, 4, 6], 6))\n",
    "print(pair_with_targetsum([2, 5, 9, 11], 11))"
   ]
  }
 ],
 "metadata": {
  "kernelspec": {
   "display_name": "Python 3 (ipykernel)",
   "language": "python",
   "name": "python3"
  },
  "language_info": {
   "codemirror_mode": {
    "name": "ipython",
    "version": 3
   },
   "file_extension": ".py",
   "mimetype": "text/x-python",
   "name": "python",
   "nbconvert_exporter": "python",
   "pygments_lexer": "ipython3",
   "version": "3.8.5"
  }
 },
 "nbformat": 4,
 "nbformat_minor": 5
}
