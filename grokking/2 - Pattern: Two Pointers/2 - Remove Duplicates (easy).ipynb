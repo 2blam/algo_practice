{
 "cells": [
  {
   "cell_type": "markdown",
   "id": "40b3dedd",
   "metadata": {},
   "source": [
    "Given an array of sorted numbers, remove all duplicates from it. You should not use any extra space; after removing the duplicates in-place return the length of the subarray that has no duplicate in it.\n",
    "\n",
    "Example 1:\n",
    "```\n",
    "Input: [2, 3, 3, 3, 6, 9, 9]\n",
    "Output: 4\n",
    "Explanation: The first four elements after removing the duplicates will be [2, 3, 6, 9].\n",
    "```\n",
    "Example 2:\n",
    "```\n",
    "Input: [2, 2, 2, 11]\n",
    "Output: 2\n",
    "Explanation: The first two elements after removing the duplicates will be [2, 11].\n",
    "```"
   ]
  },
  {
   "cell_type": "code",
   "execution_count": 1,
   "id": "7d669550",
   "metadata": {},
   "outputs": [
    {
     "name": "stdout",
     "output_type": "stream",
     "text": [
      "4\n",
      "2\n"
     ]
    }
   ],
   "source": [
    "\"\"\"\n",
    "Time Complexity: O(N)\n",
    "Space Complexity: O(1)\n",
    "\"\"\"\n",
    "\n",
    "def remove_duplicates(arr):\n",
    "    curr_idx = 0\n",
    "    next_idx = curr_idx +1\n",
    "    while next_idx < len(arr):\n",
    "        # checking\n",
    "        if arr[curr_idx] == arr[next_idx]:\n",
    "            next_idx = next_idx + 1\n",
    "            continue\n",
    "        if arr[curr_idx] != arr[next_idx]: # assign\n",
    "            arr[curr_idx+1] = arr[next_idx]\n",
    "            curr_idx += 1\n",
    "            next_idx += 1\n",
    "    return curr_idx+1\n",
    "\n",
    "print(remove_duplicates([2, 3, 3, 3, 6, 9, 9]))\n",
    "print(remove_duplicates([2, 2, 2, 11]))"
   ]
  },
  {
   "cell_type": "code",
   "execution_count": 2,
   "id": "fde92d5f",
   "metadata": {},
   "outputs": [
    {
     "name": "stdout",
     "output_type": "stream",
     "text": [
      "4\n",
      "2\n"
     ]
    }
   ],
   "source": [
    "\"\"\"\n",
    "Time Complexity: O(N)\n",
    "Space Complexity: O(1)\n",
    "\"\"\"\n",
    "\n",
    "def remove_duplicates(arr):\n",
    "    next_non_duplicate = 1 # index of the next non-duplicate element\n",
    "    i = 0\n",
    "    while i < len(arr):\n",
    "        # checking\n",
    "        if arr[next_non_duplicate-1] != arr[i]:\n",
    "            arr[next_non_duplicate] = arr[i]\n",
    "            next_non_duplicate += 1\n",
    "        i += 1\n",
    "    return next_non_duplicate\n",
    "\n",
    "\n",
    "print(remove_duplicates([2, 3, 3, 3, 6, 9, 9]))\n",
    "print(remove_duplicates([2, 2, 2, 11]))"
   ]
  }
 ],
 "metadata": {
  "kernelspec": {
   "display_name": "Python 3 (ipykernel)",
   "language": "python",
   "name": "python3"
  },
  "language_info": {
   "codemirror_mode": {
    "name": "ipython",
    "version": 3
   },
   "file_extension": ".py",
   "mimetype": "text/x-python",
   "name": "python",
   "nbconvert_exporter": "python",
   "pygments_lexer": "ipython3",
   "version": "3.8.5"
  }
 },
 "nbformat": 4,
 "nbformat_minor": 5
}
