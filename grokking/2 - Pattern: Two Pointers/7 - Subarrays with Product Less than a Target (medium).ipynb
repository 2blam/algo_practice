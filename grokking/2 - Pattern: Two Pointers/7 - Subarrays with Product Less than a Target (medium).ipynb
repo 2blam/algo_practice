{
 "cells": [
  {
   "cell_type": "markdown",
   "id": "534a3a72",
   "metadata": {},
   "source": [
    "Given an array with positive numbers and a positive target number, find all of its contiguous subarrays whose product is less than the target number.\n",
    "\n",
    "Example 1:\n",
    "```\n",
    "Input: [2, 5, 3, 10], target=30 \n",
    "Output: [2], [5], [2, 5], [3], [5, 3], [10]\n",
    "Explanation: There are six contiguous subarrays whose product is less than the target.\n",
    "```\n",
    "Example 2:\n",
    "```\n",
    "Input: [8, 2, 6, 5], target=50 \n",
    "Output: [8], [2], [8, 2], [6], [2, 6], [5], [6, 5] \n",
    "Explanation: There are seven contiguous subarrays whose product is less than the target.\n",
    "```"
   ]
  },
  {
   "cell_type": "code",
   "execution_count": 1,
   "id": "6ff4058c",
   "metadata": {},
   "outputs": [
    {
     "name": "stdout",
     "output_type": "stream",
     "text": [
      "[[2], [5], [2, 5], [3], [5, 3], [10]]\n",
      "[[8], [2], [8, 2], [6], [2, 6], [5], [6, 5]]\n"
     ]
    }
   ],
   "source": [
    "\"\"\"\n",
    "Time Complexity: O(N^3)\n",
    "Space Complexity: O(N^3)\n",
    "\"\"\"\n",
    "\n",
    "from collections import deque\n",
    "\n",
    "\n",
    "def find_subarrays(arr, target):\n",
    "    result = []\n",
    "    product = 1\n",
    "    left = 0\n",
    "    for right in range(len(arr)):\n",
    "        product *= arr[right]\n",
    "        while (product >= target and left < len(arr)):\n",
    "            product /= arr[left]\n",
    "            left += 1\n",
    "        # since the product of all numbers from left to right is less than the target therefore,\n",
    "        # all subarrays from left to right will have a product less than the target too; to avoid\n",
    "        # duplicates, we will start with a subarray containing only arr[right] and then extend it\n",
    "        temp_list = deque()\n",
    "        for i in range(right, left-1, -1):\n",
    "            temp_list.appendleft(arr[i])\n",
    "            result.append(list(temp_list))\n",
    "    return result\n",
    "\n",
    "print(find_subarrays([2, 5, 3, 10], 30))\n",
    "print(find_subarrays([8, 2, 6, 5], 50))"
   ]
  }
 ],
 "metadata": {
  "kernelspec": {
   "display_name": "Python 3 (ipykernel)",
   "language": "python",
   "name": "python3"
  },
  "language_info": {
   "codemirror_mode": {
    "name": "ipython",
    "version": 3
   },
   "file_extension": ".py",
   "mimetype": "text/x-python",
   "name": "python",
   "nbconvert_exporter": "python",
   "pygments_lexer": "ipython3",
   "version": "3.8.5"
  }
 },
 "nbformat": 4,
 "nbformat_minor": 5
}
