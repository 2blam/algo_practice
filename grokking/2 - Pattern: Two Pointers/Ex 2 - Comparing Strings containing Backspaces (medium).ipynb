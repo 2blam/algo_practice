{
 "cells": [
  {
   "cell_type": "markdown",
   "id": "33ed354e",
   "metadata": {},
   "source": [
    "Given two strings containing backspaces (identified by the character ‘#’), check if the two strings are equal.\n",
    "\n",
    "Example 1:\n",
    "```\n",
    "Input: str1=\"xy#z\", str2=\"xzz#\"\n",
    "Output: true\n",
    "Explanation: After applying backspaces the strings become \"xz\" and \"xz\" respectively.\n",
    "```\n",
    "Example 2:\n",
    "```\n",
    "Input: str1=\"xy#z\", str2=\"xyz#\"\n",
    "Output: false\n",
    "Explanation: After applying backspaces the strings become \"xz\" and \"xy\" respectively.\n",
    "```\n",
    "Example 3:\n",
    "```\n",
    "Input: str1=\"xp#\", str2=\"xyz##\"\n",
    "Output: true\n",
    "Explanation: After applying backspaces the strings become \"x\" and \"x\" respectively.\n",
    "In \"xyz##\", the first '#' removes the character 'z' and the second '#' removes the character 'y'.\n",
    "```\n",
    "Example 4:\n",
    "```\n",
    "Input: str1=\"xywrrmp\", str2=\"xywrrmu#p\"\n",
    "Output: true\n",
    "Explanation: After applying backspaces the strings become \"xywrrmp\" and \"xywrrmp\" respectively.\n",
    "```"
   ]
  },
  {
   "cell_type": "code",
   "execution_count": 1,
   "id": "ea6b3f6a",
   "metadata": {},
   "outputs": [
    {
     "name": "stdout",
     "output_type": "stream",
     "text": [
      "True\n",
      "False\n",
      "True\n",
      "True\n"
     ]
    }
   ],
   "source": [
    "\"\"\"\n",
    "Time Complexity - O(N + M); N - number of characters in str1; \n",
    "                    M - number of characters in str2\n",
    "Space Complexity - O(1)\n",
    "\"\"\"\n",
    "\n",
    "def next_valid_char_idx(s, idx):\n",
    "    backspace_count = 0\n",
    "    while idx >= 0:\n",
    "        if s[idx] == '#':\n",
    "            backspace_count += 1\n",
    "        elif backspace_count > 0: # important\n",
    "            backspace_count -= 1\n",
    "        else:\n",
    "            break\n",
    "        idx -= 1\n",
    "        \n",
    "    return idx\n",
    "\n",
    "def backspace_compare(str1, str2):\n",
    "    idx_1 = len(str1) - 1\n",
    "    idx_2 = len(str2) - 1\n",
    "    \n",
    "    while idx_1 > 0 or idx_2 > 0:\n",
    "        # get the character\n",
    "        idx_1 = next_valid_char_idx(str1, idx_1)\n",
    "        idx_2 = next_valid_char_idx(str2, idx_2)\n",
    "        \n",
    "        # checking\n",
    "        if str1[idx_1] == str2[idx_2]:\n",
    "            idx_1 -=1 \n",
    "            idx_2 -=1\n",
    "        else:\n",
    "            return False\n",
    "    return True\n",
    "    \n",
    "print(backspace_compare(\"xy#z\", \"xzz#\"))\n",
    "print(backspace_compare(\"xy#z\", \"xyz#\"))\n",
    "print(backspace_compare(\"xp#\", \"xyz##\"))\n",
    "print(backspace_compare(\"xywrrmp\", \"xywrrmu#p\"))    "
   ]
  },
  {
   "cell_type": "code",
   "execution_count": 2,
   "id": "a2ea55be",
   "metadata": {},
   "outputs": [
    {
     "name": "stdout",
     "output_type": "stream",
     "text": [
      "True\n",
      "False\n",
      "True\n",
      "True\n"
     ]
    }
   ],
   "source": [
    "\"\"\"\n",
    "Time Complexity: O(N)\n",
    "Space Complexity: O(N)\n",
    "\"\"\"\n",
    "def backspace_compare(str1, str2):\n",
    "    s1 = list(str1)\n",
    "    curr_idx_1 = 0\n",
    "    for i in range(len(str1)):\n",
    "        c = str1[i]\n",
    "        if c != '#':\n",
    "            s1[curr_idx_1] = s1[i]\n",
    "            curr_idx_1 += 1\n",
    "        else:\n",
    "            curr_idx_1 -= 1\n",
    "            \n",
    "    s2 = list(str2)\n",
    "    curr_idx_2 = 0\n",
    "    for i in range(len(str2)):\n",
    "        c = str2[i]\n",
    "        if c != '#':\n",
    "            s2[curr_idx_2] = s2[i]\n",
    "            curr_idx_2 += 1\n",
    "        else:\n",
    "            curr_idx_2 -= 1\n",
    "\n",
    "    return \"\".join(s1[0:(curr_idx_1)]) == \"\".join(s2[0:(curr_idx_2)])\n",
    "    \n",
    "print(backspace_compare(\"xy#z\", \"xzz#\"))\n",
    "print(backspace_compare(\"xy#z\", \"xyz#\"))\n",
    "print(backspace_compare(\"xp#\", \"xyz##\"))\n",
    "print(backspace_compare(\"xywrrmp\", \"xywrrmu#p\"))"
   ]
  },
  {
   "cell_type": "code",
   "execution_count": 3,
   "id": "09138d44",
   "metadata": {},
   "outputs": [
    {
     "name": "stdout",
     "output_type": "stream",
     "text": [
      "True\n",
      "False\n",
      "True\n",
      "True\n"
     ]
    }
   ],
   "source": [
    "\"\"\"\n",
    "Time Complexity: O(N)\n",
    "Space Complexity: O(N)\n",
    "\"\"\"\n",
    "def backspace_compare(str1, str2):\n",
    "    s1 = []\n",
    "    for s in str1:\n",
    "        if s != \"#\":\n",
    "            s1.append(s)\n",
    "        else:\n",
    "            s1.pop(-1)\n",
    "    s2 = []\n",
    "    for s in str2:\n",
    "        if s != \"#\":\n",
    "            s2.append(s)\n",
    "        else:\n",
    "            s2.pop(-1)\n",
    "    return \"\".join(s1) == \"\".join(s2)\n",
    "    \n",
    "print(backspace_compare(\"xy#z\", \"xzz#\"))\n",
    "print(backspace_compare(\"xy#z\", \"xyz#\"))\n",
    "print(backspace_compare(\"xp#\", \"xyz##\"))\n",
    "print(backspace_compare(\"xywrrmp\", \"xywrrmu#p\"))"
   ]
  }
 ],
 "metadata": {
  "kernelspec": {
   "display_name": "Python 3 (ipykernel)",
   "language": "python",
   "name": "python3"
  },
  "language_info": {
   "codemirror_mode": {
    "name": "ipython",
    "version": 3
   },
   "file_extension": ".py",
   "mimetype": "text/x-python",
   "name": "python",
   "nbconvert_exporter": "python",
   "pygments_lexer": "ipython3",
   "version": "3.8.5"
  }
 },
 "nbformat": 4,
 "nbformat_minor": 5
}
