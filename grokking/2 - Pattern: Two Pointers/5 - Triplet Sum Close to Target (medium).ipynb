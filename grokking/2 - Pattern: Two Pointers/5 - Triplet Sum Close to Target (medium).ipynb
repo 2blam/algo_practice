{
 "cells": [
  {
   "cell_type": "markdown",
   "id": "ecb13682",
   "metadata": {},
   "source": [
    "Given an array of unsorted numbers and a target number, find a triplet in the array whose sum is as close to the target number as possible, return the sum of the triplet. If there are more than one such triplet, return the sum of the triplet with the smallest sum.\n",
    "\n",
    "Example 1:\n",
    "```\n",
    "Input: [-2, 0, 1, 2], target=2\n",
    "Output: 1\n",
    "Explanation: The triplet [-2, 1, 2] has the closest sum to the target.\n",
    "```\n",
    "Example 2:\n",
    "```\n",
    "Input: [-3, -1, 1, 2], target=1\n",
    "Output: 0\n",
    "Explanation: The triplet [-3, 1, 2] has the closest sum to the target.\n",
    "```\n",
    "Example 3:\n",
    "```\n",
    "Input: [1, 0, 1, 1], target=100\n",
    "Output: 3\n",
    "Explanation: The triplet [1, 1, 1] has the closest sum to the target.\n",
    "```"
   ]
  },
  {
   "cell_type": "code",
   "execution_count": 1,
   "id": "9394b50f",
   "metadata": {},
   "outputs": [
    {
     "name": "stdout",
     "output_type": "stream",
     "text": [
      "1\n",
      "0\n",
      "3\n"
     ]
    }
   ],
   "source": [
    "\"\"\"\n",
    "Time Complexity: O(N^2)\n",
    "Space Complexity: O(N) - N space required for sorting\n",
    "\"\"\"\n",
    "def triplet_sum_close_to_target(arr, target_sum):\n",
    "    arr.sort()\n",
    "    \n",
    "    diff = float(\"inf\")\n",
    "    cloest_sum = 0\n",
    "    \n",
    "    for i in range(len(arr)):\n",
    "        e = arr[i]\n",
    "        left, right = i+1, len(arr)-1\n",
    "        \n",
    "        while left < right:\n",
    "            curr_sum = e + arr[left] + arr[right]\n",
    "            curr_diff = abs(target_sum - curr_sum)\n",
    "            if curr_diff < diff:\n",
    "                diff = curr_diff\n",
    "                cloest_sum = curr_sum\n",
    "                \n",
    "            # checking\n",
    "            if curr_sum < target_sum:\n",
    "                left += 1\n",
    "            elif curr_sum > target_sum:\n",
    "                right -= 1\n",
    "            else: # hit\n",
    "                return 0\n",
    "    return cloest_sum\n",
    "\n",
    "print(triplet_sum_close_to_target([-2, 0, 1, 2], 2))\n",
    "print(triplet_sum_close_to_target([-3, -1, 1, 2], 1))\n",
    "print(triplet_sum_close_to_target([1, 0, 1, 1], 100))"
   ]
  }
 ],
 "metadata": {
  "kernelspec": {
   "display_name": "Python 3 (ipykernel)",
   "language": "python",
   "name": "python3"
  },
  "language_info": {
   "codemirror_mode": {
    "name": "ipython",
    "version": 3
   },
   "file_extension": ".py",
   "mimetype": "text/x-python",
   "name": "python",
   "nbconvert_exporter": "python",
   "pygments_lexer": "ipython3",
   "version": "3.8.5"
  }
 },
 "nbformat": 4,
 "nbformat_minor": 5
}
