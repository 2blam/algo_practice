{
 "cells": [
  {
   "cell_type": "markdown",
   "id": "566f4a0a",
   "metadata": {},
   "source": [
    "Given an array of unsorted numbers, find all unique triplets in it that add up to zero.\n",
    "\n",
    "Example 1:\n",
    "```\n",
    "Input: [-3, 0, 1, 2, -1, 1, -2]\n",
    "Output: [-3, 1, 2], [-2, 0, 2], [-2, 1, 1], [-1, 0, 1]\n",
    "Explanation: There are four unique triplets whose sum is equal to zero.\n",
    "```\n",
    "Example 2:\n",
    "```\n",
    "Input: [-5, 2, -1, -2, 3]\n",
    "Output: [[-5, 2, 3], [-2, -1, 3]]\n",
    "Explanation: There are two unique triplets whose sum is equal to zero.\n",
    "```"
   ]
  },
  {
   "cell_type": "code",
   "execution_count": 1,
   "id": "ada6d75d",
   "metadata": {},
   "outputs": [
    {
     "name": "stdout",
     "output_type": "stream",
     "text": [
      "[[-3, 1, 2], [-2, 0, 2], [-2, 1, 1], [-1, 0, 1]]\n",
      "[[-5, 2, 3], [-2, -1, 3]]\n"
     ]
    }
   ],
   "source": [
    "\"\"\"\n",
    "Time Complexity: O(N^2)\n",
    "Space Complexity: O(N)\n",
    "\"\"\"\n",
    "def search_triplets(arr):\n",
    "    triplets = []\n",
    "    arr.sort()\n",
    "\n",
    "    for i in range(len(arr)):\n",
    "        e = arr[i] #selected element\n",
    "        left, right = i+1, len(arr)-1\n",
    "        while left < right: # checking\n",
    "            if e + arr[left] + arr[right] < 0: # smaller, move left pointer\n",
    "                left = left + 1\n",
    "            elif e + arr[left] + arr[right] > 0: # larger, move right pointer\n",
    "                right = right - 1\n",
    "            else: # hit\n",
    "                triplets.append([e, arr[left], arr[right]])\n",
    "                left = left + 1\n",
    "                right = right - 1\n",
    "\n",
    "    return triplets\n",
    "\n",
    "print(search_triplets([-3, 0, 1, 2, -1, 1, -2]))\n",
    "print(search_triplets([-5, 2, -1, -2, 3]))"
   ]
  }
 ],
 "metadata": {
  "kernelspec": {
   "display_name": "Python 3 (ipykernel)",
   "language": "python",
   "name": "python3"
  },
  "language_info": {
   "codemirror_mode": {
    "name": "ipython",
    "version": 3
   },
   "file_extension": ".py",
   "mimetype": "text/x-python",
   "name": "python",
   "nbconvert_exporter": "python",
   "pygments_lexer": "ipython3",
   "version": "3.8.5"
  }
 },
 "nbformat": 4,
 "nbformat_minor": 5
}
