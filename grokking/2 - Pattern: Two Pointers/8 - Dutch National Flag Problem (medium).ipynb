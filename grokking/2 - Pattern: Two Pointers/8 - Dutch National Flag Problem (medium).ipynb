{
 "cells": [
  {
   "cell_type": "markdown",
   "id": "f2fe0ff5",
   "metadata": {},
   "source": [
    "Given an array containing 0s, 1s and 2s, sort the array in-place. You should treat numbers of the array as objects, hence, we can’t count 0s, 1s, and 2s to recreate the array.\n",
    "\n",
    "The flag of the Netherlands consists of three colors: red, white and blue; and since our input array also consists of three different numbers that is why it is called Dutch National Flag problem.\n",
    "\n",
    "Example 1:\n",
    "```\n",
    "Input: [1, 0, 2, 1, 0]\n",
    "Output: [0, 0, 1, 1, 2]\n",
    "```\n",
    "Example 2:\n",
    "```\n",
    "Input: [2, 2, 0, 1, 2, 0]\n",
    "Output: [0, 0, 1, 2, 2, 2,]\n",
    "```"
   ]
  },
  {
   "cell_type": "code",
   "execution_count": 1,
   "id": "db56a522",
   "metadata": {},
   "outputs": [
    {
     "name": "stdout",
     "output_type": "stream",
     "text": [
      "[0, 0, 1, 1, 2]\n",
      "[0, 0, 1, 2, 2, 2]\n"
     ]
    }
   ],
   "source": [
    "\"\"\"\n",
    "    IDEA: 3 points: first, second, third\n",
    "    first, second at the 0-position, third at the last position\n",
    "    if second is less than or equal to third position\n",
    "        get the value at second position\n",
    "        check 3 cases:\n",
    "        if equal to 0 => swap with first position element; move first and second by 1\n",
    "        if equal to 2 => swap with the third position element; decrement thrid by 1\n",
    "        if equal to 1 => move second by 1      \n",
    "\n",
    "Time Complexity: O(N)\n",
    "Space Complexity: O(1)\n",
    "\"\"\"\n",
    "def dutch_flag_sort(arr):\n",
    "    first, second, third = 0, 0, len(arr)-1\n",
    "    while second <= third:\n",
    "        value = arr[second]\n",
    "        if value == 0:\n",
    "            # swap with first position\n",
    "            arr[first], arr[second] = arr[second], arr[first]\n",
    "            first += 1\n",
    "            second += 1\n",
    "        elif value == 1:\n",
    "            # do nothing, move to next position\n",
    "            second += 1\n",
    "        else:\n",
    "            #swap with third position\n",
    "            arr[second], arr[third] = arr[third], arr[second]\n",
    "            third -= 1\n",
    "    return arr\n",
    "\n",
    "\n",
    "print(dutch_flag_sort([1, 0, 2, 1, 0]))\n",
    "print(dutch_flag_sort([2, 2, 0, 1, 2, 0]))"
   ]
  }
 ],
 "metadata": {
  "kernelspec": {
   "display_name": "Python 3 (ipykernel)",
   "language": "python",
   "name": "python3"
  },
  "language_info": {
   "codemirror_mode": {
    "name": "ipython",
    "version": 3
   },
   "file_extension": ".py",
   "mimetype": "text/x-python",
   "name": "python",
   "nbconvert_exporter": "python",
   "pygments_lexer": "ipython3",
   "version": "3.8.5"
  }
 },
 "nbformat": 4,
 "nbformat_minor": 5
}
