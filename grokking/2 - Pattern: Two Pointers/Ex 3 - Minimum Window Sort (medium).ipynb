{
 "cells": [
  {
   "cell_type": "markdown",
   "id": "ba24afaf",
   "metadata": {},
   "source": [
    "Given an array, find the length of the smallest subarray in it which when sorted will sort the whole array.\n",
    "\n",
    "Example 1:\n",
    "```\n",
    "Input: [1, 2, 5, 3, 7, 10, 9, 12]\n",
    "Output: 5\n",
    "Explanation: We need to sort only the subarray [5, 3, 7, 10, 9] to make the whole array sorted\n",
    "```\n",
    "Example 2:\n",
    "```\n",
    "Input: [1, 3, 2, 0, -1, 7, 10]\n",
    "Output: 5\n",
    "Explanation: We need to sort only the subarray [1, 3, 2, 0, -1] to make the whole array sorted\n",
    "```\n",
    "Example 3:\n",
    "```\n",
    "Input: [1, 2, 3]\n",
    "Output: 0\n",
    "Explanation: The array is already sorted\n",
    "```\n",
    "Example 4:\n",
    "```\n",
    "Input: [3, 2, 1]\n",
    "Output: 3\n",
    "Explanation: The whole array needs to be sorted.\n",
    "```"
   ]
  },
  {
   "cell_type": "code",
   "execution_count": 28,
   "id": "17164895",
   "metadata": {},
   "outputs": [
    {
     "name": "stdout",
     "output_type": "stream",
     "text": [
      "5\n",
      "5\n",
      "0\n",
      "3\n"
     ]
    }
   ],
   "source": [
    "\"\"\"\n",
    "    IDEA:\n",
    "        - check from left to right (increasing), see which item is not in order\n",
    "        - check from right to left (decreaseing), see which item is not in order\n",
    "        - find the min, max value within the subarry\n",
    "        - extend the left and right if the value is not smaller than min / not larger than max\n",
    "        - return\n",
    "        \n",
    "Time Complexity: O(N)\n",
    "Space Complexity: O(1)\n",
    "\"\"\"\n",
    "\n",
    "def shortest_window_sort(arr):\n",
    "    left, right = None, None\n",
    "    \n",
    "    # checking increaseing in order?\n",
    "    for i in range(1, len(arr)):\n",
    "        if arr[i] > arr[i-1]:\n",
    "            continue\n",
    "        else:\n",
    "            left = i-1\n",
    "            break\n",
    "    # checking decreasing in order?\n",
    "    for i in range(len(arr)-1, 0, -1):\n",
    "        if arr[i] > arr[i-1]:\n",
    "            continue\n",
    "        else:\n",
    "            right = i\n",
    "            break\n",
    "\n",
    "    if left == None and right == None:# already sorted\n",
    "        return 0\n",
    "    \n",
    "    # get min max\n",
    "    min_value, max_value = float(\"inf\"), float(\"-inf\")\n",
    "    for i in range(left, right+1):\n",
    "        min_value = min(min_value, arr[i])\n",
    "        max_value = max(max_value, arr[i])\n",
    "    \n",
    "    # extend left if element is not smaller than min\n",
    "    for i in range(left-1, -1, -1):\n",
    "        if arr[i] > min_value:\n",
    "            left -= 1\n",
    "        else:\n",
    "            break\n",
    "    # extend right if element is not larger than max\n",
    "    for i in range(right+1, len(arr)):\n",
    "        if arr[i] < max_value:\n",
    "            right += 1\n",
    "        else:\n",
    "            break\n",
    "    return (right - left + 1)\n",
    "\n",
    "print(shortest_window_sort([1, 2, 5, 3, 7, 10, 9, 12]))\n",
    "print(shortest_window_sort([1, 3, 2, 0, -1, 7, 10]))\n",
    "print(shortest_window_sort([1, 2, 3]))\n",
    "print(shortest_window_sort([3, 2, 1]))"
   ]
  }
 ],
 "metadata": {
  "kernelspec": {
   "display_name": "Python 3 (ipykernel)",
   "language": "python",
   "name": "python3"
  },
  "language_info": {
   "codemirror_mode": {
    "name": "ipython",
    "version": 3
   },
   "file_extension": ".py",
   "mimetype": "text/x-python",
   "name": "python",
   "nbconvert_exporter": "python",
   "pygments_lexer": "ipython3",
   "version": "3.8.5"
  }
 },
 "nbformat": 4,
 "nbformat_minor": 5
}
