{
 "cells": [
  {
   "cell_type": "markdown",
   "id": "12c9e187",
   "metadata": {},
   "source": [
    "Given an array of unsorted numbers and a target number, find all unique quadruplets in it, whose sum is equal to the target number.\n",
    "\n",
    "Example 1:\n",
    "```\n",
    "Input: [4, 1, 2, -1, 1, -3], target=1\n",
    "Output: [-3, -1, 1, 4], [-3, 1, 1, 2]\n",
    "Explanation: Both the quadruplets add up to the target.\n",
    "```\n",
    "Example 2:\n",
    "```\n",
    "Input: [2, 0, -1, 1, -2, 2], target=2\n",
    "Output: [-2, 0, 2, 2], [-1, 0, 1, 2]\n",
    "Explanation: Both the quadruplets add up to the target.\n",
    "```"
   ]
  },
  {
   "cell_type": "code",
   "execution_count": 1,
   "id": "11362529",
   "metadata": {},
   "outputs": [
    {
     "name": "stdout",
     "output_type": "stream",
     "text": [
      "[[-3, -1, 1, 4], [-3, 1, 1, 2]]\n",
      "[[-2, 0, 2, 2], [-1, 0, 1, 2]]\n"
     ]
    }
   ],
   "source": [
    "\"\"\"\n",
    "Time Complexity: O(N^3)\n",
    "Space Complexity: O(N) - for sorting\n",
    "\"\"\"\n",
    "\n",
    "def search_quadruplets(arr, target):\n",
    "    quadruplets = []\n",
    "    \n",
    "    arr.sort()\n",
    "\n",
    "    for i in range(len(arr)-3):\n",
    "        e1 = arr[i] #selected element\n",
    "        for j in range(i+1, len(arr)-2):\n",
    "            e2 = arr[j]\n",
    "            if e1 == e2:\n",
    "                continue\n",
    "            left, right = j+1, len(arr)-1\n",
    "            if left == right:\n",
    "                continue\n",
    "            while left < right: # checking\n",
    "                if e1 + e2 + arr[left] + arr[right] < target: # smaller, move left pointer\n",
    "                    left = left + 1\n",
    "                elif e1 + e2 + arr[left] + arr[right] > target: # larger, move right pointer\n",
    "                    right = right - 1\n",
    "                else: # hit\n",
    "                    quadruplets.append([e1, e2, arr[left], arr[right]])\n",
    "                    left = left + 1\n",
    "                    right = right - 1\n",
    "\n",
    "    return quadruplets\n",
    "\n",
    "\n",
    "print(search_quadruplets([4, 1, 2, -1, 1, -3], 1))\n",
    "print(search_quadruplets([2, 0, -1, 1, -2, 2], 2))"
   ]
  }
 ],
 "metadata": {
  "kernelspec": {
   "display_name": "Python 3 (ipykernel)",
   "language": "python",
   "name": "python3"
  },
  "language_info": {
   "codemirror_mode": {
    "name": "ipython",
    "version": 3
   },
   "file_extension": ".py",
   "mimetype": "text/x-python",
   "name": "python",
   "nbconvert_exporter": "python",
   "pygments_lexer": "ipython3",
   "version": "3.8.5"
  }
 },
 "nbformat": 4,
 "nbformat_minor": 5
}
