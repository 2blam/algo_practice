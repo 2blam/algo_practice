{
 "cells": [
  {
   "cell_type": "markdown",
   "id": "2e1cb2c4",
   "metadata": {},
   "source": [
    "Given a sorted array, create a new array containing squares of all the numbers of the input array in the sorted order.\n",
    "\n",
    "Example 1:\n",
    "```\n",
    "Input: [-2, -1, 0, 2, 3]\n",
    "Output: [0, 1, 4, 4, 9]\n",
    "```\n",
    "Example 2:\n",
    "```\n",
    "Input: [-3, -1, 0, 1, 2]\n",
    "Output: [0, 1, 1, 4, 9]\n",
    "```"
   ]
  },
  {
   "cell_type": "code",
   "execution_count": 1,
   "id": "d9c390fa",
   "metadata": {},
   "outputs": [
    {
     "name": "stdout",
     "output_type": "stream",
     "text": [
      "[0, 1, 4, 4, 9]\n",
      "[0, 1, 1, 4, 9]\n"
     ]
    }
   ],
   "source": [
    "\"\"\"\n",
    "    IDEA: start with both end, sqaure the number, see which one is bigger, \n",
    "    the bigger one added to the resultant array\n",
    "\n",
    "Time Complexity: O(N)\n",
    "Space Complexity: O(N)\n",
    "\"\"\"\n",
    "\n",
    "def make_squares(arr):\n",
    "    squares = [0] * len(arr)\n",
    "    insert_idx = len(arr)-1\n",
    "    start_idx, end_idx = 0, len(arr)-1\n",
    "    while start_idx <= end_idx:\n",
    "        s1 = arr[start_idx] ** 2\n",
    "        s2 = arr[end_idx] ** 2\n",
    "        if s1 > s2:\n",
    "            squares[insert_idx] = s1\n",
    "            insert_idx -= 1\n",
    "            start_idx += 1\n",
    "        else:\n",
    "            squares[insert_idx] = s2\n",
    "            insert_idx -= 1\n",
    "            end_idx -= 1\n",
    "    return squares\n",
    "\n",
    "print(make_squares([-2, -1, 0, 2, 3]))\n",
    "print(make_squares([-3, -1, 0, 1, 2]))"
   ]
  }
 ],
 "metadata": {
  "kernelspec": {
   "display_name": "Python 3 (ipykernel)",
   "language": "python",
   "name": "python3"
  },
  "language_info": {
   "codemirror_mode": {
    "name": "ipython",
    "version": 3
   },
   "file_extension": ".py",
   "mimetype": "text/x-python",
   "name": "python",
   "nbconvert_exporter": "python",
   "pygments_lexer": "ipython3",
   "version": "3.8.5"
  }
 },
 "nbformat": 4,
 "nbformat_minor": 5
}
