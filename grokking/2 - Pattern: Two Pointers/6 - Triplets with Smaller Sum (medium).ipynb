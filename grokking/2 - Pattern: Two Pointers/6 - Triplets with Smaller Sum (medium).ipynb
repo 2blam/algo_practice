{
 "cells": [
  {
   "cell_type": "markdown",
   "id": "582af2e0",
   "metadata": {},
   "source": [
    "Given an array arr of unsorted numbers and a target sum, count all triplets in it such that arr[i] + arr[j] + arr[k] < target where i, j, and k are three different indices. Write a function to return the count of such triplets.\n",
    "\n",
    "Example 1:\n",
    "\n",
    "```\n",
    "Input: [-1, 0, 2, 3], target=3 \n",
    "Output: 2\n",
    "Explanation: There are two triplets whose sum is less than the target: [-1, 0, 3], [-1, 0, 2]\n",
    "```\n",
    "Example 2:\n",
    "```\n",
    "Input: [-1, 4, 2, 1, 3], target=5 \n",
    "Output: 4\n",
    "Explanation: There are four triplets whose sum is less than the target: \n",
    "   [-1, 1, 4], [-1, 1, 3], [-1, 1, 2], [-1, 2, 3]\n",
    "```"
   ]
  },
  {
   "cell_type": "code",
   "execution_count": 1,
   "id": "dc4148ce",
   "metadata": {},
   "outputs": [
    {
     "name": "stdout",
     "output_type": "stream",
     "text": [
      "2\n",
      "4\n"
     ]
    }
   ],
   "source": [
    "\"\"\"\n",
    "Time Complexity: O(N^2)\n",
    "Space Complexity: O(N)\n",
    "\"\"\"\n",
    "\n",
    "def triplet_with_smaller_sum(arr, target):\n",
    "    count = 0\n",
    "    arr.sort()\n",
    "    \n",
    "    for i in range(len(arr)):\n",
    "        e = arr[i]\n",
    "        left, right = i+1, len(arr)-1\n",
    "        while left < right:\n",
    "            if e + arr[left] + arr[right] < target:\n",
    "                count += (right-left)\n",
    "                left += 1\n",
    "            else:\n",
    "                right -= 1\n",
    "        \n",
    "    return count\n",
    "\n",
    "print(triplet_with_smaller_sum([-1, 0, 2, 3], 3))\n",
    "print(triplet_with_smaller_sum([-1, 4, 2, 1, 3], 5))"
   ]
  }
 ],
 "metadata": {
  "kernelspec": {
   "display_name": "Python 3 (ipykernel)",
   "language": "python",
   "name": "python3"
  },
  "language_info": {
   "codemirror_mode": {
    "name": "ipython",
    "version": 3
   },
   "file_extension": ".py",
   "mimetype": "text/x-python",
   "name": "python",
   "nbconvert_exporter": "python",
   "pygments_lexer": "ipython3",
   "version": "3.8.5"
  }
 },
 "nbformat": 4,
 "nbformat_minor": 5
}
