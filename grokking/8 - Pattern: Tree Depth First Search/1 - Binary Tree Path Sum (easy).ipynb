{
 "cells": [
  {
   "cell_type": "markdown",
   "id": "319e1315",
   "metadata": {},
   "source": [
    "Given a binary tree and a number ‘S’, find if the tree has a path from root-to-leaf such that the sum of all the node values of that path equals ‘S’."
   ]
  },
  {
   "cell_type": "code",
   "execution_count": 1,
   "id": "1943627a",
   "metadata": {},
   "outputs": [
    {
     "name": "stdout",
     "output_type": "stream",
     "text": [
      "Tree has path: True\n",
      "Tree has path: False\n"
     ]
    }
   ],
   "source": [
    "\"\"\"\n",
    "Time Complexity: O(N)\n",
    "Space Complexity: O(N)\n",
    "\"\"\"\n",
    "\n",
    "class TreeNode:\n",
    "    def __init__(self, val, left=None, right=None):\n",
    "        self.val = val\n",
    "        self.left = left\n",
    "        self.right = right\n",
    "        \n",
    "        \n",
    "def has_path_helper(node, curr_sum, sum):\n",
    "    if node == None:\n",
    "        return False\n",
    "    curr_sum += node.val\n",
    "    if curr_sum == sum and node.left is None and node.right is None:\n",
    "        return True\n",
    "    return has_path_helper(node.left, curr_sum, sum) or has_path_helper(node.right, curr_sum, sum)\n",
    "    \n",
    "def has_path(root, sum):\n",
    "    return has_path_helper(root, 0, sum)\n",
    "    \n",
    "        \n",
    "    \n",
    "\n",
    "def main():\n",
    "    root = TreeNode(12)\n",
    "    root.left = TreeNode(7)\n",
    "    root.right = TreeNode(1)\n",
    "    root.left.left = TreeNode(9)\n",
    "    root.right.left = TreeNode(10)\n",
    "    root.right.right = TreeNode(5)\n",
    "    print(\"Tree has path: \" + str(has_path(root, 23)))\n",
    "    print(\"Tree has path: \" + str(has_path(root, 16)))\n",
    "\n",
    "\n",
    "main()\n"
   ]
  }
 ],
 "metadata": {
  "kernelspec": {
   "display_name": "Python 3 (ipykernel)",
   "language": "python",
   "name": "python3"
  },
  "language_info": {
   "codemirror_mode": {
    "name": "ipython",
    "version": 3
   },
   "file_extension": ".py",
   "mimetype": "text/x-python",
   "name": "python",
   "nbconvert_exporter": "python",
   "pygments_lexer": "ipython3",
   "version": "3.8.5"
  }
 },
 "nbformat": 4,
 "nbformat_minor": 5
}
