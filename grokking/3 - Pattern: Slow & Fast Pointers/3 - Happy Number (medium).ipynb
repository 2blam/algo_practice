{
 "cells": [
  {
   "attachments": {},
   "cell_type": "markdown",
   "id": "271d65aa",
   "metadata": {},
   "source": [
    "Any number will be called a happy number if, after repeatedly replacing it with a number equal to the sum of the square of all of its digits, leads us to number ‘1’. All other (not-happy) numbers will never reach ‘1’. Instead, they will be stuck in a cycle of numbers which does not include ‘1’.\n",
    "\n",
    "Example 1:\n",
    "```\n",
    "Input: 23   \n",
    "Output: true (23 is a happy number)  \n",
    "Explanations: Here are the steps to find out that 23 is a happy number:\n",
    "1.\t2^2 + 3 ^ = 4 + 9 = 13\n",
    "2.\t1^2 + 3^2= 1 + 9 = 10\n",
    "3.\t1^2 + 0^2 = 1 + 0 = 1\n",
    "\n",
    "```\n",
    "\n",
    "Example 2:\n",
    "```\n",
    "Input: 12   \n",
    "Output: false (12 is not a happy number)  \n",
    "Explanations: Here are the steps to find out that 12 is not a happy number:\n",
    "1.\t1^2 + 2 ^2 = 1 + 4 = 5\n",
    "2.\t5^2= 25\n",
    "3.\t2^2 + 5^2 = 4 + 25 = 29\n",
    "4.\t2^2 + 9^2 = 4 + 81 = 85\n",
    "5.\t8^2 + 5^2 = 64 + 25 = 89\n",
    "6.\t8^2 + 9^2 = 64 + 81 = 145\n",
    "7.\t1^2 + 4^2 + 5^2 = 1 + 16 + 25 = 42\n",
    "8.\t4^2 + 2^2= 16 + 4 = 20\n",
    "9.\t2^2 + 0^2 = 4 + 0 = 4\n",
    "10.\t4^2 = 16\n",
    "11.\t1^2 + 6^2 = 1 + 36 = 37\n",
    "12.\t3^2 + 7^2 = 9 + 49 = 58\n",
    "13.\t5^2 + 8^2 = 25 + 64 = 89\n",
    "\n",
    "Step ‘13’ leads us back to step ‘5’ as the number becomes equal to ‘89’, this means that we can never reach ‘1’, therefore, ‘12’ is not a happy number.\n",
    "```\n"
   ]
  },
  {
   "cell_type": "code",
   "execution_count": 2,
   "id": "3e8726b8",
   "metadata": {},
   "outputs": [
    {
     "name": "stdout",
     "output_type": "stream",
     "text": [
      "True\n",
      "False\n"
     ]
    }
   ],
   "source": [
    "\"\"\"\n",
    "Time Complexity: O(log N)\n",
    "Space Complexity: O(1)\n",
    "\"\"\"\n",
    "\n",
    "def get_square_sum(s):\n",
    "    sum = 0\n",
    "    while s>0:\n",
    "        last_digit = s % 10\n",
    "        s = s // 10\n",
    "        sum += last_digit ** 2\n",
    "    return sum\n",
    "\n",
    "def find_happy_number(num):\n",
    "    slow, fast = num, num\n",
    "    while True:\n",
    "        slow = get_square_sum(slow)\n",
    "        fast = get_square_sum(get_square_sum(fast))\n",
    "        if slow == fast:\n",
    "            break\n",
    "    return slow == 1\n",
    "\n",
    "def main():\n",
    "    print(find_happy_number(23))\n",
    "    print(find_happy_number(12))\n",
    "\n",
    "\n",
    "main()\n"
   ]
  }
 ],
 "metadata": {
  "kernelspec": {
   "display_name": "Python 3 (ipykernel)",
   "language": "python",
   "name": "python3"
  },
  "language_info": {
   "codemirror_mode": {
    "name": "ipython",
    "version": 3
   },
   "file_extension": ".py",
   "mimetype": "text/x-python",
   "name": "python",
   "nbconvert_exporter": "python",
   "pygments_lexer": "ipython3",
   "version": "3.8.5"
  }
 },
 "nbformat": 4,
 "nbformat_minor": 5
}
