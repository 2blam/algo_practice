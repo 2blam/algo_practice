{
 "cells": [
  {
   "cell_type": "markdown",
   "id": "5921704e",
   "metadata": {},
   "source": [
    "Given the head of a Singly LinkedList, write a method to check if the LinkedList is a palindrome or not.\n",
    "\n",
    "Your algorithm should use constant space and the input LinkedList should be in the original form once the algorithm is finished. The algorithm should have O(N) time complexity where ‘N’ is the number of nodes in the LinkedList.\n",
    "\n",
    "Example 1:\n",
    "```\n",
    "Input: 2 -> 4 -> 6 -> 4 -> 2 -> null\n",
    "Output: true\n",
    "```\n",
    "Example 2:\n",
    "```\n",
    "Input: 2 -> 4 -> 6 -> 4 -> 2 -> 2 -> null\n",
    "Output: false\n",
    "```"
   ]
  },
  {
   "cell_type": "code",
   "execution_count": 1,
   "id": "30f61128",
   "metadata": {},
   "outputs": [
    {
     "name": "stdout",
     "output_type": "stream",
     "text": [
      "Is palindrome: True\n",
      "Is palindrome: False\n"
     ]
    }
   ],
   "source": [
    "\"\"\"\n",
    "    IDEA: found the mid point\n",
    "    24 => prev *10 + curr\n",
    "    246 => pre+ curr*10\n",
    "    checking first == second or first == second // 10 (handle the odd width)\n",
    "    \n",
    "Time Complexity: O(N)\n",
    "Space Complexity: O(1)\n",
    "\"\"\"\n",
    "\n",
    "class Node:\n",
    "    def __init__(self, value, next=None):\n",
    "        self.value = value\n",
    "        self.next = next\n",
    "\n",
    "\n",
    "def is_palindromic_linked_list(head):\n",
    "    slow, fast = head, head\n",
    "    first_half, second_half = 0, 0\n",
    "    while fast is not None and fast.next is not None:\n",
    "        #get current node value\n",
    "        first_half = first_half * 10 + slow.value\n",
    "        slow = slow.next\n",
    "        fast = fast.next.next\n",
    "\n",
    "    # now slow at the mid point\n",
    "    count = 0\n",
    "    while slow is not None:\n",
    "        second_half = second_half + slow.value * 10 ** count\n",
    "        count += 1\n",
    "        slow = slow.next\n",
    "    \n",
    "    # checking\n",
    "    return first_half == second_half or first_half == second_half // 10\n",
    "\n",
    "\n",
    "\n",
    "def main():\n",
    "    head = Node(2)\n",
    "    head.next = Node(4)\n",
    "    head.next.next = Node(6)\n",
    "    head.next.next.next = Node(4)\n",
    "    head.next.next.next.next = Node(2)\n",
    "\n",
    "    print(\"Is palindrome: \" + str(is_palindromic_linked_list(head)))\n",
    "\n",
    "    head.next.next.next.next.next = Node(2)\n",
    "    print(\"Is palindrome: \" + str(is_palindromic_linked_list(head)))\n",
    "\n",
    "\n",
    "main()\n"
   ]
  }
 ],
 "metadata": {
  "kernelspec": {
   "display_name": "Python 3 (ipykernel)",
   "language": "python",
   "name": "python3"
  },
  "language_info": {
   "codemirror_mode": {
    "name": "ipython",
    "version": 3
   },
   "file_extension": ".py",
   "mimetype": "text/x-python",
   "name": "python",
   "nbconvert_exporter": "python",
   "pygments_lexer": "ipython3",
   "version": "3.8.5"
  }
 },
 "nbformat": 4,
 "nbformat_minor": 5
}
