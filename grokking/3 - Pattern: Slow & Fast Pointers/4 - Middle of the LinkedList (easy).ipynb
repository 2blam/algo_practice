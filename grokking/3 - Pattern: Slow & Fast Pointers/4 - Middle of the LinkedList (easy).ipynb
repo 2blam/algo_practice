{
 "cells": [
  {
   "cell_type": "markdown",
   "id": "1b1ce38d",
   "metadata": {},
   "source": [
    "Given the head of a Singly LinkedList, write a method to return the middle node of the LinkedList.\n",
    "\n",
    "If the total number of nodes in the LinkedList is even, return the second middle node.\n",
    "\n",
    "Example 1:\n",
    "```\n",
    "Input: 1 -> 2 -> 3 -> 4 -> 5 -> null\n",
    "Output: 3\n",
    "```\n",
    "Example 2:\n",
    "```\n",
    "Input: 1 -> 2 -> 3 -> 4 -> 5 -> 6 -> null\n",
    "Output: 4\n",
    "```\n",
    "Example 3:\n",
    "```\n",
    "Input: 1 -> 2 -> 3 -> 4 -> 5 -> 6 -> 7 -> null\n",
    "Output: 4\n",
    "```"
   ]
  },
  {
   "cell_type": "code",
   "execution_count": 1,
   "id": "d3f40526",
   "metadata": {},
   "outputs": [
    {
     "name": "stdout",
     "output_type": "stream",
     "text": [
      "Middle Node: 3\n",
      "Middle Node: 4\n",
      "Middle Node: 4\n"
     ]
    }
   ],
   "source": [
    "\"\"\"\n",
    "Time Complexity: O(N)\n",
    "Space Complexity: O(1)\n",
    "\"\"\"\n",
    "class Node:\n",
    "    def __init__(self, value, next=None):\n",
    "        self.value = value\n",
    "        self.next = next\n",
    "\n",
    "\n",
    "def find_middle_of_linked_list(head):\n",
    "    slow, fast = head, head\n",
    "    while fast is not None and fast.next is not None:\n",
    "        slow = slow.next\n",
    "        fast = fast.next.next\n",
    "    return slow\n",
    "\n",
    "\n",
    "def main():\n",
    "    head = Node(1)\n",
    "    head.next = Node(2)\n",
    "    head.next.next = Node(3)\n",
    "    head.next.next.next = Node(4)\n",
    "    head.next.next.next.next = Node(5)\n",
    "\n",
    "    print(\"Middle Node: \" + str(find_middle_of_linked_list(head).value))\n",
    "\n",
    "    head.next.next.next.next.next = Node(6)\n",
    "    print(\"Middle Node: \" + str(find_middle_of_linked_list(head).value))\n",
    "\n",
    "    head.next.next.next.next.next.next = Node(7)\n",
    "    print(\"Middle Node: \" + str(find_middle_of_linked_list(head).value))\n",
    "\n",
    "\n",
    "main()\n"
   ]
  }
 ],
 "metadata": {
  "kernelspec": {
   "display_name": "Python 3 (ipykernel)",
   "language": "python",
   "name": "python3"
  },
  "language_info": {
   "codemirror_mode": {
    "name": "ipython",
    "version": 3
   },
   "file_extension": ".py",
   "mimetype": "text/x-python",
   "name": "python",
   "nbconvert_exporter": "python",
   "pygments_lexer": "ipython3",
   "version": "3.8.5"
  }
 },
 "nbformat": 4,
 "nbformat_minor": 5
}
