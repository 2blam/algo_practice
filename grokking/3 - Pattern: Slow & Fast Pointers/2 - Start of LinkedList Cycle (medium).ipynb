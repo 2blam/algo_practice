{
 "cells": [
  {
   "cell_type": "markdown",
   "id": "5c0674fa",
   "metadata": {},
   "source": [
    "Given the head of a Singly LinkedList that contains a cycle, write a function to find the starting node of the cycle."
   ]
  },
  {
   "cell_type": "code",
   "execution_count": 1,
   "id": "a860b3b1",
   "metadata": {},
   "outputs": [
    {
     "name": "stdout",
     "output_type": "stream",
     "text": [
      "LinkedList cycle start: 3\n",
      "LinkedList cycle start: 4\n",
      "LinkedList cycle start: 1\n"
     ]
    }
   ],
   "source": [
    "\"\"\"\n",
    "Time Complexity: O(N)\n",
    "Space Complexity: O(1)\n",
    "\"\"\"\n",
    "\n",
    "from __future__ import print_function\n",
    "\n",
    "class Node:\n",
    "    def __init__(self, value, next=None):\n",
    "        self.value = value\n",
    "        self.next = next\n",
    "\n",
    "    def print_list(self):\n",
    "        temp = self\n",
    "        while temp is not None:\n",
    "            print(temp.value, end='')\n",
    "            temp = temp.next\n",
    "        print()\n",
    "\n",
    "\n",
    "def find_cycle_start(head):\n",
    "    slow, fast = head, head\n",
    "    while fast is not None and fast.next is not None:\n",
    "        fast = fast.next.next\n",
    "        slow = slow.next\n",
    "        if slow == fast:\n",
    "            break\n",
    "            \n",
    "    # move slow back to start and move each one by one, until they meet again\n",
    "    slow = head\n",
    "    while slow != fast:\n",
    "        slow = slow.next\n",
    "        fast = fast.next\n",
    "\n",
    "    return slow\n",
    "    \n",
    "\n",
    "\n",
    "def main():\n",
    "    head = Node(1)\n",
    "    head.next = Node(2)\n",
    "    head.next.next = Node(3)\n",
    "    head.next.next.next = Node(4)\n",
    "    head.next.next.next.next = Node(5)\n",
    "    head.next.next.next.next.next = Node(6)\n",
    "\n",
    "    head.next.next.next.next.next.next = head.next.next\n",
    "    print(\"LinkedList cycle start: \" + str(find_cycle_start(head).value))\n",
    "\n",
    "    head.next.next.next.next.next.next = head.next.next.next\n",
    "    print(\"LinkedList cycle start: \" + str(find_cycle_start(head).value))\n",
    "\n",
    "    head.next.next.next.next.next.next = head\n",
    "    print(\"LinkedList cycle start: \" + str(find_cycle_start(head).value))\n",
    "\n",
    "\n",
    "main()\n"
   ]
  }
 ],
 "metadata": {
  "kernelspec": {
   "display_name": "Python 3 (ipykernel)",
   "language": "python",
   "name": "python3"
  },
  "language_info": {
   "codemirror_mode": {
    "name": "ipython",
    "version": 3
   },
   "file_extension": ".py",
   "mimetype": "text/x-python",
   "name": "python",
   "nbconvert_exporter": "python",
   "pygments_lexer": "ipython3",
   "version": "3.8.5"
  }
 },
 "nbformat": 4,
 "nbformat_minor": 5
}
