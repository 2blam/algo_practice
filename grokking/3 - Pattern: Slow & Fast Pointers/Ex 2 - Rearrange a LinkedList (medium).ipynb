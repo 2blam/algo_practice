{
 "cells": [
  {
   "cell_type": "markdown",
   "id": "ee8ee3bb",
   "metadata": {},
   "source": [
    "Given the head of a Singly LinkedList, write a method to modify the LinkedList such that the nodes from the second half of the LinkedList are inserted alternately to the nodes from the first half in reverse order. So if the LinkedList has nodes 1 -> 2 -> 3 -> 4 -> 5 -> 6 -> null, your method should return 1 -> 6 -> 2 -> 5 -> 3 -> 4 -> null.\n",
    "\n",
    "Your algorithm should not use any extra space and the input LinkedList should be modified in-place.\n",
    "\n",
    "Example 1:\n",
    "```\n",
    "Input: 2 -> 4 -> 6 -> 8 -> 10 -> 12 -> null\n",
    "Output: 2 -> 12 -> 4 -> 10 -> 6 -> 8 -> null \n",
    "```\n",
    "Example 2:\n",
    "```\n",
    "Input: 2 -> 4 -> 6 -> 8 -> 10 -> null\n",
    "Output: 2 -> 10 -> 4 -> 8 -> 6 -> null\n",
    "```"
   ]
  },
  {
   "cell_type": "code",
   "execution_count": 1,
   "id": "9b3500c1",
   "metadata": {},
   "outputs": [
    {
     "name": "stdout",
     "output_type": "stream",
     "text": [
      "2 12 4 10 6 8 \n"
     ]
    }
   ],
   "source": [
    "\"\"\"\n",
    "Time Complexity: O(N)\n",
    "Space Complexity: O(1)\n",
    "\"\"\"\n",
    "from __future__ import print_function\n",
    "\n",
    "\n",
    "class Node:\n",
    "    def __init__(self, value, next=None):\n",
    "        self.value = value\n",
    "        self.next = next\n",
    "\n",
    "    def print_list(self):\n",
    "        temp = self\n",
    "        while temp is not None:\n",
    "            print(str(temp.value) + \" \", end='')\n",
    "            temp = temp.next\n",
    "        print()\n",
    "        \n",
    "def reverse(head):\n",
    "    prev = None\n",
    "    while (head is not None):\n",
    "        next = head.next\n",
    "        head.next = prev\n",
    "        prev = head\n",
    "        head = next\n",
    "    return prev\n",
    "\n",
    "\n",
    "\n",
    "def reorder(head):\n",
    "    slow, fast = head, head\n",
    "    while fast is not None and fast.next is not None:\n",
    "        slow = slow.next\n",
    "        fast = fast.next.next\n",
    "    \n",
    "    # reverse the rest of the list\n",
    "    first_half = head\n",
    "    second_half = reverse(slow)\n",
    "\n",
    "    # reorder the list\n",
    "    while first_half is not None and second_half is not None:\n",
    "        first_half_next = first_half.next\n",
    "        second_half_next = second_half.next\n",
    "        # merge\n",
    "        first_half.next = second_half\n",
    "        second_half.next = first_half_next\n",
    "        # move forward\n",
    "        first_half = first_half_next\n",
    "        second_half = second_half_next\n",
    "        \n",
    "    if first_half is not None:\n",
    "        first_half.next = None\n",
    "\n",
    "    return first_half\n",
    "\n",
    "\n",
    "def main():\n",
    "    head = Node(2)\n",
    "    head.next = Node(4)\n",
    "    head.next.next = Node(6)\n",
    "    head.next.next.next = Node(8)\n",
    "    head.next.next.next.next = Node(10)\n",
    "    head.next.next.next.next.next = Node(12)\n",
    "    reorder(head)\n",
    "    head.print_list()\n",
    "\n",
    "\n",
    "main()\n"
   ]
  }
 ],
 "metadata": {
  "kernelspec": {
   "display_name": "Python 3 (ipykernel)",
   "language": "python",
   "name": "python3"
  },
  "language_info": {
   "codemirror_mode": {
    "name": "ipython",
    "version": 3
   },
   "file_extension": ".py",
   "mimetype": "text/x-python",
   "name": "python",
   "nbconvert_exporter": "python",
   "pygments_lexer": "ipython3",
   "version": "3.8.5"
  }
 },
 "nbformat": 4,
 "nbformat_minor": 5
}
