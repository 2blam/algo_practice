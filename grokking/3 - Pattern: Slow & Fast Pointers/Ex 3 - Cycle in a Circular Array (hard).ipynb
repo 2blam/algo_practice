{
 "cells": [
  {
   "cell_type": "markdown",
   "id": "bfadd11b",
   "metadata": {},
   "source": [
    "We are given an array containing positive and negative numbers. Suppose the array contains a number ‘M’ at a particular index. Now, if ‘M’ is positive we will move forward ‘M’ indices and if ‘M’ is negative move backwards ‘M’ indices. You should assume that the array is circular which means two things:\n",
    "\n",
    "If, while moving forward, we reach the end of the array, we will jump to the first element to continue the movement.\n",
    "If, while moving backward, we reach the beginning of the array, we will jump to the last element to continue the movement.\n",
    "Write a method to determine if the array has a cycle. The cycle should have more than one element and should follow one direction which means the cycle should not contain both forward and backward movements.\n",
    "\n",
    "Example 1:\n",
    "```\n",
    "Input: [1, 2, -1, 2, 2]\n",
    "Output: true\n",
    "Explanation: The array has a cycle among indices: 0 -> 1 -> 3 -> 0\n",
    "```\n",
    "Example 2:\n",
    "```\n",
    "Input: [2, 2, -1, 2]\n",
    "Output: true\n",
    "Explanation: The array has a cycle among indices: 1 -> 3 -> 1\n",
    "```\n",
    "Example 3:\n",
    "```\n",
    "Input: [2, 1, -1, -2]\n",
    "Output: false\n",
    "Explanation: The array does not have any cycle.\n",
    "```"
   ]
  },
  {
   "cell_type": "code",
   "execution_count": 1,
   "id": "df6a8b8f",
   "metadata": {},
   "outputs": [
    {
     "name": "stdout",
     "output_type": "stream",
     "text": [
      "True\n",
      "True\n",
      "False\n"
     ]
    }
   ],
   "source": [
    "\"\"\"\n",
    "Time Complexity: O(N)\n",
    "Space Complexity: O(1)\n",
    "\"\"\"\n",
    "\n",
    "def get_curr_value(arr, idx):\n",
    "    v = idx + arr[idx]\n",
    "    if v < 0:\n",
    "        v %= len(arr)\n",
    "        return len(arr) + v\n",
    "    else:\n",
    "        return (idx + arr[idx]) % len(arr)\n",
    "def circular_array_loop_exists(arr):\n",
    "    slow = get_curr_value(arr, 0)\n",
    "    fast = get_curr_value(arr, get_curr_value(arr, 0))\n",
    "    \n",
    "    # fall in the loop first\n",
    "    while True:\n",
    "        slow = get_curr_value(arr, slow)\n",
    "        fast = get_curr_value(arr, get_curr_value(arr, fast))\n",
    "        \n",
    "        if slow == fast:\n",
    "            break\n",
    "\n",
    "    # get the beginning of the cyclc\n",
    "    slow = 0\n",
    "    while True:\n",
    "        slow = get_curr_value(arr, slow)\n",
    "        fast = get_curr_value(arr, get_curr_value(arr, fast))\n",
    "        if slow == fast:\n",
    "            break\n",
    "    \n",
    "    # check the cyclc length and it is keep forward / backward\n",
    "    head = slow\n",
    "    length = 1\n",
    "    keep_forward = None\n",
    "    while True:\n",
    "        prev_slow = slow\n",
    "        curr_slow = prev_slow + arr[prev_slow] # get value before wrapping\n",
    "        if keep_forward is None:\n",
    "            keep_forward = (prev_slow < curr_slow)\n",
    "        elif (keep_forward and prev_slow > curr_slow) or (not keep_forward and prev_slow < curr_slow):\n",
    "            return False\n",
    "\n",
    "        slow = get_curr_value(arr, slow)\n",
    "        \n",
    "        if slow != head: \n",
    "            length += 1\n",
    "        else:\n",
    "            break\n",
    "        \n",
    "    return False if length == 1 else True\n",
    "\n",
    "\n",
    "def main():\n",
    "    print(circular_array_loop_exists([1, 2, -1, 2, 2]))\n",
    "    print(circular_array_loop_exists([2, 2, -1, 2]))\n",
    "    print(circular_array_loop_exists([2, 1, -1, -2]))\n",
    "\n",
    "\n",
    "main()\n"
   ]
  }
 ],
 "metadata": {
  "kernelspec": {
   "display_name": "Python 3 (ipykernel)",
   "language": "python",
   "name": "python3"
  },
  "language_info": {
   "codemirror_mode": {
    "name": "ipython",
    "version": 3
   },
   "file_extension": ".py",
   "mimetype": "text/x-python",
   "name": "python",
   "nbconvert_exporter": "python",
   "pygments_lexer": "ipython3",
   "version": "3.8.5"
  }
 },
 "nbformat": 4,
 "nbformat_minor": 5
}
