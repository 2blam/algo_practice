{
 "cells": [
  {
   "cell_type": "markdown",
   "id": "50de3ee5",
   "metadata": {},
   "source": [
    "We are given a list of Jobs. Each job has a Start time, an End time, and a CPU load when it is running. Our goal is to find the maximum CPU load at any time if all the jobs are running on the same machine.\n",
    "\n",
    "Example 1:\n",
    "```\n",
    "Jobs: [[1,4,3], [2,5,4], [7,9,6]]\n",
    "Output: 7\n",
    "Explanation: Since [1,4,3] and [2,5,4] overlap, their maximum CPU load (3+4=7) will be when both the \n",
    "jobs are running at the same time i.e., during the time interval (2,4).\n",
    "```\n",
    "Example 2:\n",
    "```\n",
    "Jobs: [[6,7,10], [2,4,11], [8,12,15]]\n",
    "Output: 15\n",
    "Explanation: None of the jobs overlap, therefore we will take the maximum load of any job which is 15.\n",
    "```\n",
    "Example 3:\n",
    "```\n",
    "Jobs: [[1,4,2], [2,4,1], [3,6,5]]\n",
    "Output: 8\n",
    "Explanation: Maximum CPU load will be 8 as all jobs overlap during the time interval [3,4]. \n",
    "```"
   ]
  },
  {
   "cell_type": "code",
   "execution_count": 1,
   "id": "a6353816",
   "metadata": {},
   "outputs": [
    {
     "name": "stdout",
     "output_type": "stream",
     "text": [
      "Maximum CPU load at any time: 7\n",
      "Maximum CPU load at any time: 15\n",
      "Maximum CPU load at any time: 8\n"
     ]
    }
   ],
   "source": [
    "\"\"\"\n",
    "Time Complexity: O(N log N)\n",
    "Space Complexity: O(N)\n",
    "\"\"\"\n",
    "\n",
    "from heapq import *\n",
    "\n",
    "\n",
    "class job:\n",
    "    def __init__(self, start, end, cpu_load):\n",
    "        self.start = start\n",
    "        self.end = end\n",
    "        self.cpu_load = cpu_load\n",
    "    \n",
    "\n",
    "def find_max_cpu_load(jobs):\n",
    "    # sort the start time\n",
    "    jobs.sort(key=lambda x: x.start)\n",
    "    max_load = jobs[0].cpu_load\n",
    "    curr_job = jobs[0]\n",
    "    \n",
    "    for i in range(1, len(jobs)):\n",
    "        next_job = jobs[i]\n",
    "        \n",
    "        # check if there is any \n",
    "        if next_job.start >= curr_job.start and next_job.start <= curr_job.end:\n",
    "            max_load = max(max_load, curr_job.cpu_load + next_job.cpu_load)\n",
    "            curr_job = job(min(curr_job.start, next_job.start), max(curr_job.end, next_job.end), curr_job.cpu_load + next_job.cpu_load)\n",
    "        else:\n",
    "            curr_job = jobs[i]\n",
    "            max_load = max(max_load, next_job.cpu_load)\n",
    "    \n",
    "    return max_load\n",
    "\n",
    "\n",
    "def main():\n",
    "    print(\"Maximum CPU load at any time: \" + str(find_max_cpu_load([job(1, 4, 3), job(2, 5, 4), job(7, 9, 6)])))\n",
    "    print(\"Maximum CPU load at any time: \" + str(find_max_cpu_load([job(6, 7, 10), job(2, 4, 11), job(8, 12, 15)])))\n",
    "    print(\"Maximum CPU load at any time: \" + str(find_max_cpu_load([job(1, 4, 2), job(2, 4, 1), job(3, 6, 5)])))\n",
    "\n",
    "\n",
    "main()\n"
   ]
  }
 ],
 "metadata": {
  "kernelspec": {
   "display_name": "Python 3 (ipykernel)",
   "language": "python",
   "name": "python3"
  },
  "language_info": {
   "codemirror_mode": {
    "name": "ipython",
    "version": 3
   },
   "file_extension": ".py",
   "mimetype": "text/x-python",
   "name": "python",
   "nbconvert_exporter": "python",
   "pygments_lexer": "ipython3",
   "version": "3.8.5"
  }
 },
 "nbformat": 4,
 "nbformat_minor": 5
}
