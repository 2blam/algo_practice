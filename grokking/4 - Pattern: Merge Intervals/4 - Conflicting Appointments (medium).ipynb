{
 "cells": [
  {
   "cell_type": "markdown",
   "id": "9618121c",
   "metadata": {},
   "source": [
    "Given an array of intervals representing ‘N’ appointments, find out if a person can attend all the appointments.\n",
    "\n",
    "Example 1:\n",
    "```\n",
    "Appointments: [[1,4], [2,5], [7,9]]\n",
    "Output: false\n",
    "Explanation: Since [1,4] and [2,5] overlap, a person cannot attend both of these appointments.\n",
    "```\n",
    "Example 2:\n",
    "```\n",
    "Appointments: [[6,7], [2,4], [8,12]]\n",
    "Output: true\n",
    "Explanation: None of the appointments overlap, therefore a person can attend all of them.\n",
    "```\n",
    "Example 3:\n",
    "```\n",
    "Appointments: [[4,5], [2,3], [3,6]]\n",
    "Output: false\n",
    "Explanation: Since [4,5] and [3,6] overlap, a person cannot attend both of these appointments.\n",
    "```"
   ]
  },
  {
   "cell_type": "code",
   "execution_count": 1,
   "id": "a39f40ef",
   "metadata": {},
   "outputs": [
    {
     "name": "stdout",
     "output_type": "stream",
     "text": [
      "Can attend all appointments: False\n",
      "Can attend all appointments: True\n",
      "Can attend all appointments: False\n"
     ]
    }
   ],
   "source": [
    "\"\"\"\n",
    "Time Complexity: O(N log N)\n",
    "Space Complexity: O(N)\n",
    "\"\"\"\n",
    "def can_attend_all_appointments(intervals):\n",
    "    intervals.sort(key = lambda x: x[0])\n",
    "    \n",
    "    # check if there is any overlap\n",
    "    for i in range(1, len(intervals)):\n",
    "        a, b = intervals[i-1], intervals[i]\n",
    "        # check if a start within b interval\n",
    "        a_overlap_b = a[0] >= b[0] and a[0] <= b[1]\n",
    "        # check if b start within a interval\n",
    "        b_overlap_a = b[0] >= a[0] and b[0] <= a[1]\n",
    "        \n",
    "        if a_overlap_b or b_overlap_a:\n",
    "            return False\n",
    "    \n",
    "    return True\n",
    "\n",
    "\n",
    "def main():\n",
    "    print(\"Can attend all appointments: \" + str(can_attend_all_appointments([[1, 4], [2, 5], [7, 9]])))\n",
    "    print(\"Can attend all appointments: \" + str(can_attend_all_appointments([[6, 7], [2, 4], [8, 12]])))\n",
    "    print(\"Can attend all appointments: \" + str(can_attend_all_appointments([[4, 5], [2, 3], [3, 6]])))\n",
    "\n",
    "\n",
    "main()\n"
   ]
  }
 ],
 "metadata": {
  "kernelspec": {
   "display_name": "Python 3 (ipykernel)",
   "language": "python",
   "name": "python3"
  },
  "language_info": {
   "codemirror_mode": {
    "name": "ipython",
    "version": 3
   },
   "file_extension": ".py",
   "mimetype": "text/x-python",
   "name": "python",
   "nbconvert_exporter": "python",
   "pygments_lexer": "ipython3",
   "version": "3.8.5"
  }
 },
 "nbformat": 4,
 "nbformat_minor": 5
}
