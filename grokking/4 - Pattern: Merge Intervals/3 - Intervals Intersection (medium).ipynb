{
 "cells": [
  {
   "cell_type": "markdown",
   "id": "02f0f094",
   "metadata": {},
   "source": [
    "Given two lists of intervals, find the intersection of these two lists. Each list consists of disjoint intervals sorted on their start time.\n",
    "\n",
    "Example 1:\n",
    "```\n",
    "Input: arr1=[[1, 3], [5, 6], [7, 9]], arr2=[[2, 3], [5, 7]]\n",
    "Output: [2, 3], [5, 6], [7, 7]\n",
    "Explanation: The output list contains the common intervals between the two lists.\n",
    "```\n",
    "Example 2:\n",
    "```\n",
    "Input: arr1=[[1, 3], [5, 7], [9, 12]], arr2=[[5, 10]]\n",
    "Output: [5, 7], [9, 10]\n",
    "Explanation: The output list contains the common intervals between the two lists.\n",
    "```"
   ]
  },
  {
   "cell_type": "code",
   "execution_count": 1,
   "id": "fca200ab",
   "metadata": {},
   "outputs": [
    {
     "name": "stdout",
     "output_type": "stream",
     "text": [
      "Intervals Intersection: [[2, 3], [5, 6], [7, 7]]\n",
      "Intervals Intersection: [[5, 7], [9, 10]]\n"
     ]
    }
   ],
   "source": [
    "\"\"\"\n",
    "Time Complexity: O(N+M)\n",
    "Space Complexity: O(1) - ignore the space for the result list\n",
    "\"\"\"\n",
    "def merge(intervals_a, intervals_b):\n",
    "    result = []\n",
    "    i, j = 0, 0\n",
    "    while i < len(intervals_a) and j < len(intervals_b):\n",
    "        a_overlap_b = (intervals_a[i][0] >= intervals_b[j][0]) and \\\n",
    "                      (intervals_a[i][0] <= intervals_b[j][1])\n",
    "        \n",
    "        b_overlap_a = (intervals_b[j][0] >= intervals_a[i][0]) and \\\n",
    "                      (intervals_b[j][0] <= intervals_a[i][1])\n",
    "        \n",
    "        if a_overlap_b or b_overlap_a:\n",
    "            result.append([max(intervals_a[i][0], intervals_b[j][0]), \n",
    "                           min(intervals_a[i][1], intervals_b[j][1])])\n",
    "        \n",
    "        # check which one is finish first\n",
    "        if intervals_a[i][1] < intervals_b[j][1]: # move a to next element\n",
    "            i += 1\n",
    "        else:\n",
    "            j += 1\n",
    "            \n",
    "    return result\n",
    "\n",
    "\n",
    "def main():\n",
    "    print(\"Intervals Intersection: \" + str(merge([[1, 3], [5, 6], [7, 9]], [[2, 3], [5, 7]])))\n",
    "    print(\"Intervals Intersection: \" + str(merge([[1, 3], [5, 7], [9, 12]], [[5, 10]])))\n",
    "\n",
    "\n",
    "main()\n"
   ]
  }
 ],
 "metadata": {
  "kernelspec": {
   "display_name": "Python 3 (ipykernel)",
   "language": "python",
   "name": "python3"
  },
  "language_info": {
   "codemirror_mode": {
    "name": "ipython",
    "version": 3
   },
   "file_extension": ".py",
   "mimetype": "text/x-python",
   "name": "python",
   "nbconvert_exporter": "python",
   "pygments_lexer": "ipython3",
   "version": "3.8.5"
  }
 },
 "nbformat": 4,
 "nbformat_minor": 5
}
