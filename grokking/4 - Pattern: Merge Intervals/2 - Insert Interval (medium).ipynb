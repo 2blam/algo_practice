{
 "cells": [
  {
   "cell_type": "markdown",
   "id": "8b523780",
   "metadata": {},
   "source": [
    "Given a list of non-overlapping intervals sorted by their start time, insert a given interval at the correct position and merge all necessary intervals to produce a list that has only mutually exclusive intervals.\n",
    "\n",
    "Example 1:\n",
    "```\n",
    "Input: Intervals=[[1,3], [5,7], [8,12]], New Interval=[4,6]\n",
    "Output: [[1,3], [4,7], [8,12]]\n",
    "Explanation: After insertion, since [4,6] overlaps with [5,7], we merged them into one [4,7].\n",
    "```\n",
    "Example 2:\n",
    "```\n",
    "Input: Intervals=[[1,3], [5,7], [8,12]], New Interval=[4,10]\n",
    "Output: [[1,3], [4,12]]\n",
    "Explanation: After insertion, since [4,10] overlaps with [5,7] & [8,12], we merged them into [4,12].\n",
    "```\n",
    "Example 3:\n",
    "```\n",
    "Input: Intervals=[[2,3],[5,7]], New Interval=[1,4]\n",
    "Output: [[1,4], [5,7]]\n",
    "Explanation: After insertion, since [1,4] overlaps with [2,3], we merged them into one [1,4].\n",
    "```\n"
   ]
  },
  {
   "cell_type": "code",
   "execution_count": 1,
   "id": "5b45b8b4",
   "metadata": {},
   "outputs": [
    {
     "name": "stdout",
     "output_type": "stream",
     "text": [
      "Intervals after inserting the new interval: [[1, 3], [4, 7], [8, 12]]\n",
      "Intervals after inserting the new interval: [[1, 3], [4, 12]]\n",
      "Intervals after inserting the new interval: [[1, 4], [5, 7]]\n"
     ]
    }
   ],
   "source": [
    "\"\"\"\n",
    "Time Complexity: O(N)\n",
    "Space Complexity: O(N)\n",
    "\"\"\"\n",
    "def insert(intervals, new_interval):\n",
    "    # found the insert index\n",
    "    merged = []\n",
    "    i = 0\n",
    "    while i < len(intervals):\n",
    "        if intervals[i][1] < new_interval[0]: # no overlap, append\n",
    "            merged.append(intervals[i])\n",
    "        else:\n",
    "            break\n",
    "        i = i + 1\n",
    "    \n",
    "    # from now on merge the overlap intervals\n",
    "    while i < len(intervals):\n",
    "        # is overlap ?\n",
    "        if intervals[i][0] <= new_interval[1]: # is overlap, combine\n",
    "            new_interval = [min(intervals[i][0], new_interval[0]), max(intervals[i][1], new_interval[1])]\n",
    "        else:\n",
    "            break\n",
    "        i = i + 1\n",
    "    merged.append(new_interval)\n",
    "\n",
    "    # append the rest of the intervals\n",
    "    while i < len(intervals):\n",
    "        merged.append(intervals[i])\n",
    "        i = i + 1\n",
    "\n",
    "    return merged\n",
    "\n",
    "\n",
    "def main():\n",
    "    print(\"Intervals after inserting the new interval: \" + str(insert([[1, 3], [5, 7], [8, 12]], [4, 6])))\n",
    "    print(\"Intervals after inserting the new interval: \" + str(insert([[1, 3], [5, 7], [8, 12]], [4, 10])))\n",
    "    print(\"Intervals after inserting the new interval: \" + str(insert([[2, 3], [5, 7]], [1, 4])))\n",
    "\n",
    "\n",
    "main()\n"
   ]
  }
 ],
 "metadata": {
  "kernelspec": {
   "display_name": "Python 3 (ipykernel)",
   "language": "python",
   "name": "python3"
  },
  "language_info": {
   "codemirror_mode": {
    "name": "ipython",
    "version": 3
   },
   "file_extension": ".py",
   "mimetype": "text/x-python",
   "name": "python",
   "nbconvert_exporter": "python",
   "pygments_lexer": "ipython3",
   "version": "3.8.5"
  }
 },
 "nbformat": 4,
 "nbformat_minor": 5
}
