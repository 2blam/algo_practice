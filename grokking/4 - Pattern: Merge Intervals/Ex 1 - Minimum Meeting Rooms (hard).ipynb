{
 "cells": [
  {
   "cell_type": "markdown",
   "id": "db8b9027",
   "metadata": {},
   "source": [
    "Given a list of intervals representing the start and end time of ‘N’ meetings, find the minimum number of rooms required to hold all the meetings.\n",
    "\n",
    "Example 1:\n",
    "```\n",
    "Meetings: [[1,4], [2,5], [7,9]]\n",
    "Output: 2\n",
    "Explanation: Since [1,4] and [2,5] overlap, we need two rooms to hold these two meetings. [7,9] can \n",
    "occur in any of the two rooms later.\n",
    "```\n",
    "Example 2:\n",
    "```\n",
    "Meetings: [[6,7], [2,4], [8,12]]\n",
    "Output: 1\n",
    "Explanation: None of the meetings overlap, therefore we only need one room to hold all meetings.\n",
    "```\n",
    "Example 3:\n",
    "```\n",
    "Meetings: [[1,4], [2,3], [3,6]]\n",
    "Output:2\n",
    "Explanation: Since [1,4] overlaps with the other two meetings [2,3] and [3,6], we need two rooms to \n",
    "hold all the meetings.\n",
    "```\n",
    "Example 4:\n",
    "```\n",
    "Meetings: [[4,5], [2,3], [2,4], [3,5]]\n",
    "Output: 2\n",
    "Explanation: We will need one room for [2,3] and [3,5], and another room for [2,4] and [4,5].\n",
    "```\n",
    "\n"
   ]
  },
  {
   "cell_type": "code",
   "execution_count": 1,
   "id": "dec2e340",
   "metadata": {},
   "outputs": [
    {
     "name": "stdout",
     "output_type": "stream",
     "text": [
      "Minimum meeting rooms required: 2\n",
      "Minimum meeting rooms required: 1\n",
      "Minimum meeting rooms required: 2\n",
      "Minimum meeting rooms required: 2\n"
     ]
    }
   ],
   "source": [
    "\n",
    "\n",
    "from heapq import *\n",
    "\n",
    "\n",
    "class Meeting:\n",
    "    def __init__(self, start, end):\n",
    "        self.start = start\n",
    "        self.end = end\n",
    "\n",
    "    def __lt__(self, other):\n",
    "        # min heap based on meeting.end\n",
    "        return self.end < other.end\n",
    "\n",
    "\n",
    "def min_meeting_rooms(meetings):\n",
    "    # sort the meetings by start time\n",
    "    meetings.sort(key=lambda x: x.start)\n",
    "\n",
    "    minRooms = 0\n",
    "    minHeap = []\n",
    "    for meeting in meetings:\n",
    "        # remove all the meetings that have ended\n",
    "        while(len(minHeap) > 0 and meeting.start >= minHeap[0].end):\n",
    "            heappop(minHeap)\n",
    "        # add the current meeting into min_heap\n",
    "        heappush(minHeap, meeting)\n",
    "        # all active meetings are in the min_heap, so we need rooms for all of them.\n",
    "        minRooms = max(minRooms, len(minHeap))\n",
    "    return minRooms\n",
    "\n",
    "\n",
    "def main():\n",
    "    print(\"Minimum meeting rooms required: \" +\n",
    "        str(min_meeting_rooms([Meeting(1, 4), Meeting(2, 5), Meeting(7, 9)])))\n",
    "    print(\"Minimum meeting rooms required: \" +\n",
    "        str(min_meeting_rooms([Meeting(6, 7), Meeting(2, 4), Meeting(8, 12)])))\n",
    "    print(\"Minimum meeting rooms required: \" +\n",
    "        str(min_meeting_rooms([Meeting(1, 4), Meeting(2, 3), Meeting(3, 6)])))\n",
    "    print(\"Minimum meeting rooms required: \" + str(min_meeting_rooms(\n",
    "    [Meeting(4, 5), Meeting(2, 3), Meeting(2, 4), Meeting(3, 5)])))\n",
    "\n",
    "\n",
    "main()\n"
   ]
  }
 ],
 "metadata": {
  "kernelspec": {
   "display_name": "Python 3 (ipykernel)",
   "language": "python",
   "name": "python3"
  },
  "language_info": {
   "codemirror_mode": {
    "name": "ipython",
    "version": 3
   },
   "file_extension": ".py",
   "mimetype": "text/x-python",
   "name": "python",
   "nbconvert_exporter": "python",
   "pygments_lexer": "ipython3",
   "version": "3.8.5"
  }
 },
 "nbformat": 4,
 "nbformat_minor": 5
}
