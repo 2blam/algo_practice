{
 "cells": [
  {
   "cell_type": "markdown",
   "id": "cb04c746",
   "metadata": {},
   "source": [
    "Given the head of a LinkedList and a number ‘k’, reverse every ‘k’ sized sub-list starting from the head.\n",
    "\n",
    "If, in the end, you are left with a sub-list with less than ‘k’ elements, reverse it too."
   ]
  },
  {
   "cell_type": "code",
   "execution_count": 1,
   "id": "1f38ab68",
   "metadata": {},
   "outputs": [
    {
     "name": "stdout",
     "output_type": "stream",
     "text": [
      "Nodes of original LinkedList are: 1 2 3 4 5 6 7 8 \n",
      "Nodes of reversed LinkedList are: 3 2 1 6 5 4 8 7 \n"
     ]
    }
   ],
   "source": [
    "\"\"\"\n",
    "Time Complexity: O(N)\n",
    "Space Complexity: O(1)\n",
    "\n",
    "\"\"\"\n",
    "\n",
    "from __future__ import print_function\n",
    "\n",
    "\n",
    "class Node:\n",
    "    def __init__(self, value, next=None):\n",
    "        self.value = value\n",
    "        self.next = next\n",
    "\n",
    "    def print_list(self):\n",
    "        temp = self\n",
    "        while temp is not None:\n",
    "            print(temp.value, end=\" \")\n",
    "            temp = temp.next\n",
    "        print()\n",
    "\n",
    "\n",
    "def reverse_every_k_elements(head, k):\n",
    "    if k <= 1 or head is None:\n",
    "        return head\n",
    "\n",
    "    current, previous = head, None\n",
    "    while True:\n",
    "        last_node_of_previous_part = previous\n",
    "        # after reversing the LinkedList 'current' will become the last node of the sub-list\n",
    "        last_node_of_sub_list = current\n",
    "        next = None  # will be used to temporarily store the next node\n",
    "        i = 0\n",
    "        while current is not None and i < k:  # reverse 'k' nodes\n",
    "            next = current.next\n",
    "            current.next = previous\n",
    "            previous = current\n",
    "            current = next\n",
    "            i += 1\n",
    "\n",
    "        # connect with the previous part\n",
    "        if last_node_of_previous_part is not None:\n",
    "            last_node_of_previous_part.next = previous\n",
    "        else:\n",
    "            head = previous\n",
    "\n",
    "        # connect with the next part\n",
    "        last_node_of_sub_list.next = current\n",
    "\n",
    "        if current is None:\n",
    "            break\n",
    "        previous = last_node_of_sub_list\n",
    "    return head\n",
    "\n",
    "\n",
    "def main():\n",
    "    head = Node(1)\n",
    "    head.next = Node(2)\n",
    "    head.next.next = Node(3)\n",
    "    head.next.next.next = Node(4)\n",
    "    head.next.next.next.next = Node(5)\n",
    "    head.next.next.next.next.next = Node(6)\n",
    "    head.next.next.next.next.next.next = Node(7)\n",
    "    head.next.next.next.next.next.next.next = Node(8)\n",
    "\n",
    "    print(\"Nodes of original LinkedList are: \", end='')\n",
    "    head.print_list()\n",
    "    result = reverse_every_k_elements(head, 3)\n",
    "    print(\"Nodes of reversed LinkedList are: \", end='')\n",
    "    result.print_list()\n",
    "\n",
    "\n",
    "main()\n"
   ]
  }
 ],
 "metadata": {
  "kernelspec": {
   "display_name": "Python 3 (ipykernel)",
   "language": "python",
   "name": "python3"
  },
  "language_info": {
   "codemirror_mode": {
    "name": "ipython",
    "version": 3
   },
   "file_extension": ".py",
   "mimetype": "text/x-python",
   "name": "python",
   "nbconvert_exporter": "python",
   "pygments_lexer": "ipython3",
   "version": "3.8.5"
  }
 },
 "nbformat": 4,
 "nbformat_minor": 5
}
