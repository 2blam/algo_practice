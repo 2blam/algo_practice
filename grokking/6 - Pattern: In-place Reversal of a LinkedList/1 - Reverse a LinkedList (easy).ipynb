{
 "cells": [
  {
   "cell_type": "markdown",
   "id": "b911abc5",
   "metadata": {},
   "source": [
    "Given the head of a Singly LinkedList, reverse the LinkedList. Write a function to return the new head of the reversed LinkedList."
   ]
  },
  {
   "cell_type": "code",
   "execution_count": 3,
   "id": "4e6ef426",
   "metadata": {},
   "outputs": [
    {
     "name": "stdout",
     "output_type": "stream",
     "text": [
      "Nodes of original LinkedList are: 2 4 6 8 10 \n",
      "Nodes of reversed LinkedList are: 10 8 6 4 2 \n"
     ]
    }
   ],
   "source": [
    "\"\"\"\n",
    "    IDEA: make use of prev node\n",
    "        curr = head; prev = None\n",
    "        Repeat if curr is not None:\n",
    "            nxt = curr.next\n",
    "            curr.next = prev\n",
    "            prev = curr\n",
    "            curr = nxt\n",
    "        return prev\n",
    "\"\"\"\n",
    "\n",
    "from __future__ import print_function\n",
    "\n",
    "\n",
    "class Node:\n",
    "    def __init__(self, value, next=None):\n",
    "        self.value = value\n",
    "        self.next = next\n",
    "\n",
    "    def print_list(self):\n",
    "        temp = self\n",
    "        while temp is not None:\n",
    "            print(temp.value, end=\" \")\n",
    "            temp = temp.next\n",
    "        print()\n",
    "\n",
    "\n",
    "def reverse(head):\n",
    "    curr = head\n",
    "    prev = None\n",
    "    while curr is not None:\n",
    "        nxt = curr.next\n",
    "        curr.next = prev\n",
    "        prev = curr\n",
    "        curr = nxt\n",
    "    return prev\n",
    "\n",
    "\n",
    "def main():\n",
    "    head = Node(2)\n",
    "    head.next = Node(4)\n",
    "    head.next.next = Node(6)\n",
    "    head.next.next.next = Node(8)\n",
    "    head.next.next.next.next = Node(10)\n",
    "\n",
    "    print(\"Nodes of original LinkedList are: \", end='')\n",
    "    head.print_list()\n",
    "    result = reverse(head)\n",
    "    print(\"Nodes of reversed LinkedList are: \", end='')\n",
    "    result.print_list()\n",
    "\n",
    "\n",
    "main()\n"
   ]
  }
 ],
 "metadata": {
  "kernelspec": {
   "display_name": "Python 3 (ipykernel)",
   "language": "python",
   "name": "python3"
  },
  "language_info": {
   "codemirror_mode": {
    "name": "ipython",
    "version": 3
   },
   "file_extension": ".py",
   "mimetype": "text/x-python",
   "name": "python",
   "nbconvert_exporter": "python",
   "pygments_lexer": "ipython3",
   "version": "3.8.5"
  }
 },
 "nbformat": 4,
 "nbformat_minor": 5
}
