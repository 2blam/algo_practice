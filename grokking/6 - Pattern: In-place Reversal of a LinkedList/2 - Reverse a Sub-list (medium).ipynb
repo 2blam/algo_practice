{
 "cells": [
  {
   "cell_type": "markdown",
   "id": "21fce55f",
   "metadata": {},
   "source": [
    "```\n",
    "Given the head of a LinkedList and two positions ‘p’ and ‘q’, reverse the LinkedList from position ‘p’ to ‘q’.\n",
    "```"
   ]
  },
  {
   "cell_type": "code",
   "execution_count": 1,
   "id": "f61d2466",
   "metadata": {},
   "outputs": [
    {
     "name": "stdout",
     "output_type": "stream",
     "text": [
      "Nodes of original LinkedList are: 1 2 3 4 5 \n",
      "Nodes of reversed LinkedList are: 1 4 3 2 5 \n"
     ]
    }
   ],
   "source": [
    "\"\"\"\n",
    "Time Complexity: O(N)\n",
    "Space Complexity: O(1)\n",
    "\"\"\"\n",
    "from __future__ import print_function\n",
    "\n",
    "\n",
    "class Node:\n",
    "    def __init__(self, value, next=None):\n",
    "        self.value = value\n",
    "        self.next = next\n",
    "\n",
    "    def print_list(self):\n",
    "        temp = self\n",
    "        while temp is not None:\n",
    "            print(temp.value, end=\" \")\n",
    "            temp = temp.next\n",
    "        print()\n",
    "\n",
    "\n",
    "def reverse_sub_list(head, p, q):\n",
    "    if p == q:\n",
    "        return head\n",
    "\n",
    "    # after skipping 'p-1' nodes, current will point to 'p'th node\n",
    "    current, previous = head, None\n",
    "    i = 0\n",
    "    while current is not None and i < p - 1:\n",
    "        previous = current\n",
    "        current = current.next\n",
    "        i += 1\n",
    "\n",
    "    # we are interested in three parts of the LinkedList, the part before index 'p',\n",
    "    # the part between 'p' and 'q', and the part after index 'q'\n",
    "    last_node_of_first_part = previous\n",
    "    # after reversing the LinkedList 'current' will become the last node of the sub-list\n",
    "    last_node_of_sub_list = current\n",
    "    next = None  # will be used to temporarily store the next node\n",
    "\n",
    "    i = 0\n",
    "    # reverse nodes between 'p' and 'q'\n",
    "    while current is not None and i < q - p + 1:\n",
    "        next = current.next\n",
    "        current.next = previous\n",
    "        previous = current\n",
    "        current = next\n",
    "        i += 1\n",
    "\n",
    "    # connect with the first part\n",
    "    if last_node_of_first_part is not None:\n",
    "        # 'previous' is now the first node of the sub-list\n",
    "        last_node_of_first_part.next = previous\n",
    "    # this means p == 1 i.e., we are changing the first node (head) of the LinkedList\n",
    "    else:\n",
    "        head = previous\n",
    "\n",
    "    # connect with the last part\n",
    "    last_node_of_sub_list.next = current\n",
    "    return head\n",
    "\n",
    "\n",
    "def main():\n",
    "    head = Node(1)\n",
    "    head.next = Node(2)\n",
    "    head.next.next = Node(3)\n",
    "    head.next.next.next = Node(4)\n",
    "    head.next.next.next.next = Node(5)\n",
    "\n",
    "    print(\"Nodes of original LinkedList are: \", end='')\n",
    "    head.print_list()\n",
    "    result = reverse_sub_list(head, 2, 4)\n",
    "    print(\"Nodes of reversed LinkedList are: \", end='')\n",
    "    result.print_list()\n",
    "\n",
    "\n",
    "main()\n"
   ]
  }
 ],
 "metadata": {
  "kernelspec": {
   "display_name": "Python 3 (ipykernel)",
   "language": "python",
   "name": "python3"
  },
  "language_info": {
   "codemirror_mode": {
    "name": "ipython",
    "version": 3
   },
   "file_extension": ".py",
   "mimetype": "text/x-python",
   "name": "python",
   "nbconvert_exporter": "python",
   "pygments_lexer": "ipython3",
   "version": "3.8.5"
  }
 },
 "nbformat": 4,
 "nbformat_minor": 5
}
