{
 "cells": [
  {
   "cell_type": "markdown",
   "id": "47249568",
   "metadata": {},
   "source": [
    "Given an array of positive numbers and a positive number ‘S,’ find the length of the smallest contiguous subarray whose sum is greater than or equal to ‘S’. Return 0 if no such subarray exists.\n",
    "\n",
    "Example 1:\n",
    "```\n",
    "Input: [2, 1, 5, 2, 3, 2], S=7 \n",
    "Output: 2\n",
    "Explanation: The smallest subarray with a sum greater than or equal to '7' is [5, 2].\n",
    "```\n",
    "\n",
    "Example 2:\n",
    "\n",
    "```\n",
    "Input: [2, 1, 5, 2, 8], S=7 \n",
    "Output: 1\n",
    "Explanation: The smallest subarray with a sum greater than or equal to '7' is [8].\n",
    "```\n",
    "\n",
    "Example 3:\n",
    "```\n",
    "Input: [3, 4, 1, 1, 6], S=8 \n",
    "Output: 3\n",
    "Explanation: Smallest subarrays with a sum greater than or equal to '8' are [3, 4, 1] \n",
    "or [1, 1, 6].\n",
    "```"
   ]
  },
  {
   "cell_type": "code",
   "execution_count": 1,
   "id": "f71374b5",
   "metadata": {},
   "outputs": [
    {
     "name": "stdout",
     "output_type": "stream",
     "text": [
      "2\n",
      "1\n",
      "3\n"
     ]
    }
   ],
   "source": [
    "\"\"\"\n",
    "Time Complexity: O(n)\n",
    "Space Complexity: O(1)\n",
    "\"\"\"\n",
    "def smallest_subarray_sum(s, arr):\n",
    "    curr_sum = 0\n",
    "    min_size = float(\"inf\")\n",
    "    start_idx = 0\n",
    "    \n",
    "    for end_idx in range(len(arr)):\n",
    "        curr_sum += arr[end_idx]\n",
    "        \n",
    "        while curr_sum >= s:\n",
    "            min_size = min(min_size, (end_idx - start_idx + 1))\n",
    "            curr_sum -= arr[start_idx]\n",
    "            start_idx += 1\n",
    "    return 0 if min_size == float(\"inf\") else min_size\n",
    "        \n",
    "\n",
    "s=7\n",
    "arr=[2, 1, 5, 2, 3, 2]\n",
    "print(smallest_subarray_sum(s, arr))\n",
    "\n",
    "\n",
    "s=7\n",
    "arr=[2, 1, 5, 2, 8]\n",
    "print(smallest_subarray_sum(s, arr))\n",
    "\n",
    "s=8\n",
    "arr=[3, 4, 1, 1, 6]\n",
    "print(smallest_subarray_sum(s, arr))"
   ]
  }
 ],
 "metadata": {
  "kernelspec": {
   "display_name": "Python 3 (ipykernel)",
   "language": "python",
   "name": "python3"
  },
  "language_info": {
   "codemirror_mode": {
    "name": "ipython",
    "version": 3
   },
   "file_extension": ".py",
   "mimetype": "text/x-python",
   "name": "python",
   "nbconvert_exporter": "python",
   "pygments_lexer": "ipython3",
   "version": "3.8.5"
  }
 },
 "nbformat": 4,
 "nbformat_minor": 5
}
