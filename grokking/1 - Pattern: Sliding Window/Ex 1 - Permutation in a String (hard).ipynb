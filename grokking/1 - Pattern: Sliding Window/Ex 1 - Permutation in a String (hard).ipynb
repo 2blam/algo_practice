{
 "cells": [
  {
   "cell_type": "markdown",
   "id": "cd922572",
   "metadata": {},
   "source": [
    "Given a string and a pattern, find out if the string contains any permutation of the pattern.\n",
    "Permutation is defined as the re-arranging of the characters of the string. For example, “abc” has the following six permutations:\n",
    "```\n",
    "1.\tabc\n",
    "2.\tacb\n",
    "3.\tbac\n",
    "4.\tbca\n",
    "5.\tcab\n",
    "6.\tcba\n",
    "```\n",
    "If a string has ‘n’ distinct characters, it will have n! permutations.\n",
    "\n",
    "Example 1:\n",
    "```\n",
    "Input: String=\"oidbcaf\", Pattern=\"abc\"\n",
    "Output: true\n",
    "Explanation: The string contains \"bca\" which is a permutation of the given pattern.\n",
    "```\n",
    "Example 2:\n",
    "```\n",
    "Input: String=\"odicf\", Pattern=\"dc\"\n",
    "Output: false\n",
    "Explanation: No permutation of the pattern is present in the given string as a substring.\n",
    "```\n",
    "Example 3:\n",
    "```\n",
    "Input: String=\"bcdxabcdy\", Pattern=\"bcdyabcdx\"\n",
    "Output: true\n",
    "Explanation: Both the string and the pattern are a permutation of each other.\n",
    "```\n",
    "Example 4:\n",
    "```\n",
    "Input: String=\"aaacb\", Pattern=\"abc\"\n",
    "Output: true\n",
    "Explanation: The string contains \"acb\" which is a permutation of the given pattern.\n",
    "```"
   ]
  },
  {
   "cell_type": "code",
   "execution_count": 1,
   "id": "ab9943cd",
   "metadata": {},
   "outputs": [
    {
     "name": "stdout",
     "output_type": "stream",
     "text": [
      "True\n",
      "False\n",
      "True\n",
      "True\n"
     ]
    }
   ],
   "source": [
    "def find_permutation(str1, pattern):\n",
    "    start_idx, matched = 0, 0\n",
    "    d = {}\n",
    "    \n",
    "    for c in pattern:\n",
    "        if c in d:\n",
    "            d[c] += 1\n",
    "        else:\n",
    "            d[c] = 1\n",
    "            \n",
    "    for end_idx in range(len(str1)):\n",
    "        char = str1[end_idx]\n",
    "        if char in d:\n",
    "            d[char] -= 1\n",
    "            if d[char] == 0:\n",
    "                matched += 1\n",
    "        if matched == len(d):\n",
    "            return True\n",
    "        #\n",
    "        if end_idx >= len(pattern) - 1:\n",
    "            left_char = str1[start_idx]\n",
    "            start_idx += 1\n",
    "            # reset\n",
    "            if left_char in d:\n",
    "                if d[left_char] == 0: \n",
    "                    matched -= 1\n",
    "                d[left_char] += 1\n",
    "    return False\n",
    "\n",
    "print(find_permutation(\"oidbcaf\", \"abc\"))\n",
    "print(find_permutation(\"odicf\", \"dc\"))\n",
    "print(find_permutation(\"bcdxabcdy\", \"bcdyabcdx\"))\n",
    "print(find_permutation(\"aaacb\", \"abc\"))"
   ]
  },
  {
   "cell_type": "code",
   "execution_count": 2,
   "id": "81a5e023",
   "metadata": {},
   "outputs": [
    {
     "name": "stdout",
     "output_type": "stream",
     "text": [
      "True\n",
      "False\n",
      "True\n",
      "True\n"
     ]
    }
   ],
   "source": [
    "def find_permutation(str1, pattern):\n",
    "    # prepare the dict\n",
    "    d = {}\n",
    "    for c in pattern:\n",
    "        if c in d:\n",
    "            d[c] += 1\n",
    "        else:\n",
    "            d[c] = 1\n",
    "    start_idx = 0\n",
    "    while start_idx < len(str1):\n",
    "        char = str1[start_idx]\n",
    "        # check if it is in the d, if yes, keep tracking\n",
    "        if char in d:\n",
    "            d[char] -= 1\n",
    "            # start tracking the next character\n",
    "            end_idx = start_idx + 1\n",
    "            while end_idx < len(str1):\n",
    "                # is next char in pattern?\n",
    "                next_char = str1[end_idx]\n",
    "                if next_char in d and d[next_char] !=0:\n",
    "                    d[next_char] -= 1\n",
    "                else:\n",
    "                    break\n",
    "                end_idx += 1\n",
    "            if (end_idx - start_idx) == len(pattern):\n",
    "                return True\n",
    "            else:\n",
    "                # reset\n",
    "                for c in pattern:\n",
    "                    if c in d:\n",
    "                        d[c] += 1\n",
    "                    else:\n",
    "                        d[c] = 1\n",
    "                start_idx = end_idx\n",
    "        else:\n",
    "            start_idx += 1\n",
    "    if (end_idx - start_idx) == len(pattern):\n",
    "        return True\n",
    "    else:\n",
    "        return False\n",
    "\n",
    "print(find_permutation(\"oidbcaf\", \"abc\"))\n",
    "print(find_permutation(\"odicf\", \"dc\"))\n",
    "print(find_permutation(\"bcdxabcdy\", \"bcdyabcdx\"))\n",
    "print(find_permutation(\"aaacb\", \"abc\"))"
   ]
  }
 ],
 "metadata": {
  "kernelspec": {
   "display_name": "Python 3 (ipykernel)",
   "language": "python",
   "name": "python3"
  },
  "language_info": {
   "codemirror_mode": {
    "name": "ipython",
    "version": 3
   },
   "file_extension": ".py",
   "mimetype": "text/x-python",
   "name": "python",
   "nbconvert_exporter": "python",
   "pygments_lexer": "ipython3",
   "version": "3.8.5"
  }
 },
 "nbformat": 4,
 "nbformat_minor": 5
}
