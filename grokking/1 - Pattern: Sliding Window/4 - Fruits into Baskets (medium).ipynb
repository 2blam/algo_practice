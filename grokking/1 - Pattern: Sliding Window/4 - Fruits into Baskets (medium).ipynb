{
 "cells": [
  {
   "cell_type": "markdown",
   "id": "83971610",
   "metadata": {},
   "source": [
    "You are visiting a farm to collect fruits. The farm has a single row of fruit trees. You will be given two baskets, and your goal is to pick as many fruits as possible to be placed in the given baskets.\n",
    "\n",
    "You will be given an array of characters where each character represents a fruit tree. The farm has following restrictions:\n",
    "\n",
    "Each basket can have only one type of fruit. There is no limit to how many fruit a basket can hold.\n",
    "You can start with any tree, but you can’t skip a tree once you have started.\n",
    "You will pick exactly one fruit from every tree until you cannot, i.e., you will stop when you have to pick from a third fruit type.\n",
    "Write a function to return the maximum number of fruits in both baskets.\n",
    "\n",
    "Example 1:\n",
    "```\n",
    "Input: Fruit=['A', 'B', 'C', 'A', 'C']\n",
    "Output: 3\n",
    "Explanation: We can put 2 'C' in one basket and one 'A' in the other from the subarray ['C', 'A', 'C']\n",
    "```\n",
    "Example 2:\n",
    "```\n",
    "Input: Fruit=['A', 'B', 'C', 'B', 'B', 'C']\n",
    "Output: 5\n",
    "Explanation: We can put 3 'B' in one basket and two 'C' in the other basket. \n",
    "This can be done if we start with the second letter: ['B', 'C', 'B', 'B', 'C']\n",
    "```"
   ]
  },
  {
   "cell_type": "code",
   "execution_count": 1,
   "id": "2a661a3b",
   "metadata": {},
   "outputs": [
    {
     "name": "stdout",
     "output_type": "stream",
     "text": [
      "3\n",
      "5\n"
     ]
    }
   ],
   "source": [
    "\"\"\"\n",
    "Time Complexity: O(n)\n",
    "Space Complexity: O(1) - we max only storing 3 types of fruits in hashmap\n",
    "\"\"\"\n",
    "def fruits_into_baskets(fruits):\n",
    "    d = {}\n",
    "    start_idx = 0\n",
    "    max_number = float(\"-inf\")\n",
    "    \n",
    "    for end_idx in range(len(fruits)):\n",
    "        fruit = fruits[end_idx]\n",
    "        \n",
    "        if fruit in d:\n",
    "            d[fruit] += 1\n",
    "        else:\n",
    "            d[fruit] = 1\n",
    "\n",
    "        # shrink if more than 2 types of fruit\n",
    "        while len(d.keys()) > 2:\n",
    "            d[fruits[start_idx]] -= 1\n",
    "            if d[fruits[start_idx]] == 0:\n",
    "                del d[fruits[start_idx]]\n",
    "            start_idx += 1\n",
    "        # check max_number\n",
    "        max_number = max(max_number, end_idx - start_idx + 1)\n",
    "    \n",
    "    return max_number\n",
    "\n",
    "print(fruits_into_baskets(['A', 'B', 'C', 'A', 'C']))\n",
    "print(fruits_into_baskets(['A', 'B', 'C', 'B', 'B', 'C']))"
   ]
  }
 ],
 "metadata": {
  "kernelspec": {
   "display_name": "Python 3 (ipykernel)",
   "language": "python",
   "name": "python3"
  },
  "language_info": {
   "codemirror_mode": {
    "name": "ipython",
    "version": 3
   },
   "file_extension": ".py",
   "mimetype": "text/x-python",
   "name": "python",
   "nbconvert_exporter": "python",
   "pygments_lexer": "ipython3",
   "version": "3.8.5"
  }
 },
 "nbformat": 4,
 "nbformat_minor": 5
}
