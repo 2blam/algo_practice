{
 "cells": [
  {
   "cell_type": "markdown",
   "id": "cbc83215",
   "metadata": {},
   "source": [
    "Given a string and a pattern, find the smallest substring in the given string which has all the character occurrences of the given pattern.\n",
    "\n",
    "Example 1:\n",
    "```\n",
    "Input: String=\"aabdec\", Pattern=\"abc\"\n",
    "Output: \"abdec\"\n",
    "Explanation: The smallest substring having all characters of the pattern is \"abdec\"\n",
    "```\n",
    "\n",
    "Example 2:\n",
    "```\n",
    "Input: String=\"aabdec\", Pattern=\"abac\"\n",
    "Output: \"aabdec\"\n",
    "Explanation: The smallest substring having all character occurrences of the pattern is \"aabdec\"\n",
    "```\n",
    "Example 3:\n",
    "```\n",
    "Input: String=\"abdbca\", Pattern=\"abc\"\n",
    "Output: \"bca\"\n",
    "Explanation: The smallest substring having all characters of the pattern is \"bca\".\n",
    "```\n",
    "Example 4:\n",
    "```\n",
    "Input: String=\"adcad\", Pattern=\"abc\"\n",
    "Output: \"\"\n",
    "Explanation: No substring in the given string has all characters of the pattern.\n",
    "```"
   ]
  },
  {
   "cell_type": "code",
   "execution_count": 1,
   "id": "52959bbe",
   "metadata": {},
   "outputs": [
    {
     "name": "stdout",
     "output_type": "stream",
     "text": [
      "abdec\n",
      "aabdec\n",
      "bca\n",
      "\n"
     ]
    }
   ],
   "source": [
    "\"\"\"\n",
    "Time Complexity: O(N + M): N - number of chars in str1; M - number of chars in pattern\n",
    "Space Complexity: O(M)\n",
    "\"\"\"\n",
    "\n",
    "def find_substring(str1, pattern):\n",
    "    min_size = len(str1) + 1\n",
    "    min_indexes = (-1, -1)\n",
    "    \n",
    "    d= {}\n",
    "    for c in pattern:\n",
    "        if c not in d:\n",
    "            d[c] = 0\n",
    "        d[c] += 1\n",
    "    start_idx = 0\n",
    "    matched = 0\n",
    "    for end_idx in range(len(str1)):\n",
    "        char = str1[end_idx]\n",
    "        if char in d:\n",
    "            d[char] -= 1\n",
    "            if d[char] >= 0:\n",
    "                matched += 1\n",
    "        while matched == len(pattern):\n",
    "            # log if it is min\n",
    "            curr_size = end_idx - start_idx + 1\n",
    "            if curr_size < min_size:\n",
    "                min_size = curr_size\n",
    "                min_indexes = (start_idx, end_idx)\n",
    "            # start shrink\n",
    "            left_char = str1[start_idx]\n",
    "            start_idx += 1\n",
    "            # checking\n",
    "            if left_char in d:\n",
    "                if d[left_char] == 0:\n",
    "                    matched -= 1\n",
    "                d[left_char] += 1\n",
    "    return str1[min_indexes[0]:(min_indexes[1]+1)]\n",
    "    \n",
    "    return str1[min_indexes[0]:(min_indexes[1]+1)]\n",
    "print(find_substring(\"aabdec\", \"abc\"))\n",
    "print(find_substring(\"aabdec\", \"abac\"))\n",
    "print(find_substring(\"abdbca\", \"abc\"))\n",
    "print(find_substring(\"adcad\", \"abc\"))"
   ]
  }
 ],
 "metadata": {
  "kernelspec": {
   "display_name": "Python 3 (ipykernel)",
   "language": "python",
   "name": "python3"
  },
  "language_info": {
   "codemirror_mode": {
    "name": "ipython",
    "version": 3
   },
   "file_extension": ".py",
   "mimetype": "text/x-python",
   "name": "python",
   "nbconvert_exporter": "python",
   "pygments_lexer": "ipython3",
   "version": "3.8.5"
  }
 },
 "nbformat": 4,
 "nbformat_minor": 5
}
