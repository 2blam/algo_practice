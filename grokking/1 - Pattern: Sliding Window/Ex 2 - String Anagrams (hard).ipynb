{
 "cells": [
  {
   "attachments": {},
   "cell_type": "markdown",
   "id": "34376132",
   "metadata": {},
   "source": [
    "Given a string and a pattern, find all anagrams of the pattern in the given string.\n",
    "Every anagram is a permutation of a string. As we know, when we are not allowed to repeat characters while finding permutations of a string, we get N! permutations (or anagrams) of a string having N characters. For example, here are the six anagrams of the string “abc”:\n",
    "1.\tabc\n",
    "2.\tacb\n",
    "3.\tbac\n",
    "4.\tbca\n",
    "5.\tcab\n",
    "6.\tcba\n",
    "\n",
    "Write a function to return a list of starting indices of the anagrams of the pattern in the given string.\n",
    "\n",
    "Example 1:\n",
    "```\n",
    "Input: String=\"ppqp\", Pattern=\"pq\"\n",
    "Output: [1, 2]\n",
    "Explanation: The two anagrams of the pattern in the given string are \"pq\" and \"qp\".\n",
    "```\n",
    "\n",
    "Example 2:\n",
    "```\n",
    "Input: String=\"abbcabc\", Pattern=\"abc\"\n",
    "Output: [2, 3, 4]\n",
    "Explanation: The three anagrams of the pattern in the given string are \"bca\", \"cab\", and \"abc\".\n",
    "```"
   ]
  },
  {
   "cell_type": "code",
   "execution_count": 1,
   "id": "14b24bfd",
   "metadata": {
    "scrolled": true
   },
   "outputs": [
    {
     "name": "stdout",
     "output_type": "stream",
     "text": [
      "[1, 2]\n",
      "[2, 3, 4]\n"
     ]
    }
   ],
   "source": [
    "\"\"\"\n",
    "Time Complexity: O(N+M): N - number of chars in str1; M - number of chars in pattern\n",
    "Space Complexity: O(M); worst situation, also need O(N) for the result indexes\n",
    "\"\"\"\n",
    "def find_string_anagrams(str1, pattern):\n",
    "    result_indexes = []\n",
    "    start_idx, matched = 0, 0\n",
    "    d = {}\n",
    "    for c in pattern:\n",
    "        if c in d:\n",
    "            d[c] += 1\n",
    "        else:\n",
    "            d[c] = 1\n",
    "    \n",
    "    for end_idx in range(len(str1)):\n",
    "        char = str1[end_idx]\n",
    "        if char in d:\n",
    "            d[char] -= 1\n",
    "            if d[char] == 0:\n",
    "                matched += 1\n",
    "            \n",
    "        if matched == len(d):\n",
    "            result_indexes.append(start_idx)\n",
    "        \n",
    "        if end_idx >= len(pattern) - 1:\n",
    "            left_char = str1[start_idx]\n",
    "            start_idx += 1\n",
    "            if left_char in d:\n",
    "                if d[left_char] == 0:\n",
    "                    matched -= 1\n",
    "                d[left_char] += 1\n",
    "            \n",
    "    return result_indexes\n",
    "\n",
    "print(find_string_anagrams(\"ppqp\", \"pq\"))\n",
    "print(find_string_anagrams(\"abbcabc\", \"abc\"))"
   ]
  }
 ],
 "metadata": {
  "kernelspec": {
   "display_name": "Python 3 (ipykernel)",
   "language": "python",
   "name": "python3"
  },
  "language_info": {
   "codemirror_mode": {
    "name": "ipython",
    "version": 3
   },
   "file_extension": ".py",
   "mimetype": "text/x-python",
   "name": "python",
   "nbconvert_exporter": "python",
   "pygments_lexer": "ipython3",
   "version": "3.8.5"
  }
 },
 "nbformat": 4,
 "nbformat_minor": 5
}
