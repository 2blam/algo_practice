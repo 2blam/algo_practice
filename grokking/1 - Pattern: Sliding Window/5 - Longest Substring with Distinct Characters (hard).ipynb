{
 "cells": [
  {
   "cell_type": "markdown",
   "id": "9cfbeb18",
   "metadata": {},
   "source": [
    "Given a string, find the length of the longest substring, which has all distinct characters.\n",
    "\n",
    "Example 1:\n",
    "```\n",
    "Input: String=\"aabccbb\"\n",
    "Output: 3\n",
    "Explanation: The longest substring with distinct characters is \"abc\".\n",
    "```\n",
    "Example 2:\n",
    "```\n",
    "Input: String=\"abbbb\"\n",
    "Output: 2\n",
    "Explanation: The longest substring with distinct characters is \"ab\".\n",
    "```\n",
    "Example 3:\n",
    "```\n",
    "Input: String=\"abccde\"\n",
    "Output: 3\n",
    "Explanation: Longest substrings with distinct characters are \"abc\" & \"cde\".\n",
    "```"
   ]
  },
  {
   "cell_type": "code",
   "execution_count": 1,
   "id": "b2f19334",
   "metadata": {},
   "outputs": [
    {
     "name": "stdout",
     "output_type": "stream",
     "text": [
      "3\n",
      "2\n",
      "3\n"
     ]
    }
   ],
   "source": [
    "\"\"\"\n",
    "    Longest Substring with distinct characters\n",
    "    - same as longest distinct characters\n",
    "    - if there is duplicated chars found -> move to that position\n",
    "    - keep track the longest_substring / max number of keys ?\n",
    "    \n",
    "Time Complexity: O(n)\n",
    "Space Complexity: O(d) - distinct characters in str\n",
    "\"\"\"\n",
    "\n",
    "def non_repeat_substring(str):\n",
    "    start_idx = 0\n",
    "    longest_substr = float(\"-inf\")\n",
    "    d = {}\n",
    "    \n",
    "    for end_idx in range(len(str)):\n",
    "        char = str[end_idx]\n",
    "        # check if it is in the hashmap \n",
    "        if char in d: #duplicated occurs\n",
    "            d = {char: 1} # reset\n",
    "            start_idx = end_idx\n",
    "        else:\n",
    "            d[char] = 1\n",
    "            longest_substr = max(longest_substr, len(d.keys()))\n",
    "    return longest_substr\n",
    "\n",
    "print(non_repeat_substring(\"aabccbb\"))\n",
    "print(non_repeat_substring(\"abbbb\"))\n",
    "print(non_repeat_substring(\"abccde\"))"
   ]
  }
 ],
 "metadata": {
  "kernelspec": {
   "display_name": "Python 3 (ipykernel)",
   "language": "python",
   "name": "python3"
  },
  "language_info": {
   "codemirror_mode": {
    "name": "ipython",
    "version": 3
   },
   "file_extension": ".py",
   "mimetype": "text/x-python",
   "name": "python",
   "nbconvert_exporter": "python",
   "pygments_lexer": "ipython3",
   "version": "3.8.5"
  }
 },
 "nbformat": 4,
 "nbformat_minor": 5
}
