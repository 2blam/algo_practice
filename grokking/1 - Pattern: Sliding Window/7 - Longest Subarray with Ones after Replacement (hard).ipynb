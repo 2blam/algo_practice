{
 "cells": [
  {
   "attachments": {},
   "cell_type": "markdown",
   "id": "8c23837d",
   "metadata": {},
   "source": [
    "Given an array containing 0s and 1s, if you are allowed to replace no more than ‘k’ 0s with 1s, find the length of the longest contiguous subarray having all 1s.\n",
    "\n",
    "Example 1:\n",
    "```\n",
    "Input: Array=[0, 1, 1, 0, 0, 0, 1, 1, 0, 1, 1], k=2\n",
    "Output: 6\n",
    "Explanation: Replace the '0' at index 5 and 8 to have the longest contiguous subarray of 1s having length 6.\n",
    "```\n",
    "Example 2:\n",
    "```\n",
    "Input: Array=[0, 1, 0, 0, 1, 1, 0, 1, 1, 0, 0, 1, 1], k=3\n",
    "Output: 9\n",
    "Explanation: Replace the '0' at index 6, 9, and 10 to have the longest contiguous subarray of 1s having length 9.\n",
    "```\n",
    "\n"
   ]
  },
  {
   "cell_type": "code",
   "execution_count": 1,
   "id": "f8d46495",
   "metadata": {},
   "outputs": [
    {
     "name": "stdout",
     "output_type": "stream",
     "text": [
      "6\n",
      "9\n"
     ]
    }
   ],
   "source": [
    "\"\"\"\n",
    "    IDEA:\n",
    "        d = {} <-- keep track the current number of '1' / '0' occurence\n",
    "        while d[0] > k  => shrink\n",
    "        check if max length\n",
    "\n",
    "Time Complexity: O(n)\n",
    "Space Complexity: O(1)\n",
    "\"\"\"\n",
    "\n",
    "def length_of_longest_substring(arr, k):\n",
    "    d = {0:0, 1:0}\n",
    "    start_idx = 0\n",
    "    longest_subarray = float(\"-inf\")\n",
    "    \n",
    "    for end_idx in range(len(arr)):\n",
    "        digit = arr[end_idx]\n",
    "        d[digit] += 1\n",
    "\n",
    "        while d[0] > k: # shrink\n",
    "            d[arr[start_idx]] -=1\n",
    "            start_idx += 1\n",
    "        # check if max substring\n",
    "        longest_subarray = max(longest_subarray, d[0] + d[1])\n",
    "    return longest_subarray\n",
    "\n",
    "print(length_of_longest_substring([0, 1, 1, 0, 0, 0, 1, 1, 0, 1, 1], 2))\n",
    "print(length_of_longest_substring([0, 1, 0, 0, 1, 1, 0, 1, 1, 0, 0, 1, 1], 3))"
   ]
  }
 ],
 "metadata": {
  "kernelspec": {
   "display_name": "Python 3 (ipykernel)",
   "language": "python",
   "name": "python3"
  },
  "language_info": {
   "codemirror_mode": {
    "name": "ipython",
    "version": 3
   },
   "file_extension": ".py",
   "mimetype": "text/x-python",
   "name": "python",
   "nbconvert_exporter": "python",
   "pygments_lexer": "ipython3",
   "version": "3.8.5"
  }
 },
 "nbformat": 4,
 "nbformat_minor": 5
}
