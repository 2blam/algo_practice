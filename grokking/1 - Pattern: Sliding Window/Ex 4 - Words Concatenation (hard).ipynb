{
 "cells": [
  {
   "cell_type": "markdown",
   "id": "be1b07b2",
   "metadata": {},
   "source": [
    "Given a string and a list of words, find all the starting indices of substrings in the given string that are a concatenation of all the given words exactly once without any overlapping of words. It is given that all words are of the same length.\n",
    "\n",
    "Example 1:\n",
    "```\n",
    "Input: String=\"catfoxcat\", Words=[\"cat\", \"fox\"]\n",
    "Output: [0, 3]\n",
    "Explanation: The two substring containing both the words are \"catfox\" & \"foxcat\".\n",
    "```\n",
    "Example 2:\n",
    "```\n",
    "Input: String=\"catcatfoxfox\", Words=[\"cat\", \"fox\"]\n",
    "Output: [3]\n",
    "Explanation: The only substring containing both the words is \"catfox\".\n",
    "```"
   ]
  },
  {
   "cell_type": "code",
   "execution_count": 1,
   "id": "155834a8",
   "metadata": {},
   "outputs": [
    {
     "name": "stdout",
     "output_type": "stream",
     "text": [
      "[0, 3]\n",
      "[3]\n"
     ]
    }
   ],
   "source": [
    "\"\"\"\n",
    "Time Complexity: O(N*M*Len) - N: number of chars in the string; \n",
    "M: total number of words; Len: length of a word\n",
    "\n",
    "Spcae Complexity: O(M)\n",
    "\"\"\"\n",
    "def find_word_concatenation(str1, words):\n",
    "    if len(words) == 0 or len(words[0]) == 0:\n",
    "        return []\n",
    "    d = {}\n",
    "    for w in words:\n",
    "        if w not in d:\n",
    "            d[w] = 0\n",
    "        d[w] += 1\n",
    "        \n",
    "    result_indices = []\n",
    "    words_count = len(words)\n",
    "    word_length = len(words[0])\n",
    "    \n",
    "    for i in range((len(str1) - words_count * word_length)+1):\n",
    "        words_seen = {}\n",
    "        for j in range(0, words_count):\n",
    "            next_word_index = i + j * word_length\n",
    "            # get the next word from the string\n",
    "            word = str1[next_word_index: (next_word_index + word_length)]\n",
    "            if word not in d:\n",
    "                break\n",
    "            \n",
    "            # add the word to the map\n",
    "            if word not in words_seen:\n",
    "                words_seen[word] = 0\n",
    "            words_seen[word] += 1\n",
    "            \n",
    "            # check if more than expected\n",
    "            if words_seen[word] > d.get(word, 0):\n",
    "                break\n",
    "            \n",
    "            if j + 1 == words_count:\n",
    "                result_indices.append(i)\n",
    "        \n",
    "    \n",
    "    return result_indices\n",
    "    \n",
    "print(find_word_concatenation(\"catfoxcat\", [\"cat\", \"fox\"]))\n",
    "print(find_word_concatenation(\"catcatfoxfox\", [\"cat\", \"fox\"]))"
   ]
  }
 ],
 "metadata": {
  "kernelspec": {
   "display_name": "Python 3 (ipykernel)",
   "language": "python",
   "name": "python3"
  },
  "language_info": {
   "codemirror_mode": {
    "name": "ipython",
    "version": 3
   },
   "file_extension": ".py",
   "mimetype": "text/x-python",
   "name": "python",
   "nbconvert_exporter": "python",
   "pygments_lexer": "ipython3",
   "version": "3.8.5"
  }
 },
 "nbformat": 4,
 "nbformat_minor": 5
}
