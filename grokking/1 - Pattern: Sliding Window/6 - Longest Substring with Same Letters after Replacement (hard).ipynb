{
 "cells": [
  {
   "cell_type": "markdown",
   "id": "9dc4475a",
   "metadata": {},
   "source": [
    "Given a string with lowercase letters only, if you are allowed to replace no more than k letters with any letter, find the length of the longest substring having the same letters after replacement.\n",
    "\n",
    "Example 1:\n",
    "```\n",
    "Input: String=\"aabccbb\", k=2\n",
    "Output: 5\n",
    "Explanation: Replace the two 'c' with 'b' to have the longest repeating substring \"bbbbb\".\n",
    "```\n",
    "Example 2:\n",
    "```\n",
    "Input: String=\"abbcb\", k=1\n",
    "Output: 4\n",
    "Explanation: Replace the 'c' with 'b' to have the longest repeating substring \"bbbb\".\n",
    "```\n",
    "Example 3:\n",
    "```\n",
    "Input: String=\"abccde\", k=1\n",
    "Output: 3\n",
    "Explanation: Replace the 'b' or 'd' with 'c' to have the longest repeating substring \"ccc\".\n",
    "```"
   ]
  },
  {
   "cell_type": "code",
   "execution_count": 1,
   "id": "b931016d",
   "metadata": {},
   "outputs": [
    {
     "name": "stdout",
     "output_type": "stream",
     "text": [
      "5\n",
      "4\n",
      "3\n"
     ]
    }
   ],
   "source": [
    "\"\"\"\n",
    "Time Complexity: O(n)\n",
    "Space Complexity: O(1) - max O(26) in hashmap => O(1)\n",
    "\"\"\"\n",
    "\n",
    "def length_of_longest_substring(str1, k):\n",
    "    start_idx = 0\n",
    "    longest_substring = float(\"-inf\")\n",
    "    max_repeated_char_count = 0\n",
    "    d = {}\n",
    "    for end_idx in range(len(str1)):\n",
    "        char = str1[end_idx]\n",
    "        if char in d:\n",
    "            d[char] += 1\n",
    "        else:\n",
    "            d[char] = 1\n",
    "\n",
    "        # check the max repeat character count\n",
    "        max_repeated_char_count = max(max_repeated_char_count, d[char])\n",
    "        \n",
    "        # check if (current window minus max repeated char) if more than k \n",
    "        if (end_idx - start_idx + 1 - max_repeated_char_count) > k:\n",
    "            # shrink window\n",
    "            d[str1[start_idx]] -= 1\n",
    "            start_idx +=1 \n",
    "            \n",
    "        longest_substring = max(longest_substring, (end_idx - start_idx + 1))\n",
    "    return longest_substring\n",
    "\n",
    "\n",
    "print(length_of_longest_substring(\"aabccbb\", 2))\n",
    "print(length_of_longest_substring(\"abbcb\", 1))\n",
    "print(length_of_longest_substring(\"abccde\", 1))\n"
   ]
  }
 ],
 "metadata": {
  "kernelspec": {
   "display_name": "Python 3 (ipykernel)",
   "language": "python",
   "name": "python3"
  },
  "language_info": {
   "codemirror_mode": {
    "name": "ipython",
    "version": 3
   },
   "file_extension": ".py",
   "mimetype": "text/x-python",
   "name": "python",
   "nbconvert_exporter": "python",
   "pygments_lexer": "ipython3",
   "version": "3.8.5"
  }
 },
 "nbformat": 4,
 "nbformat_minor": 5
}
