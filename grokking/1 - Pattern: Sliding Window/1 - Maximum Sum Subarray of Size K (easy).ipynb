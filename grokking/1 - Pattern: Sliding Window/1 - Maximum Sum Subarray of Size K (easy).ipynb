{
 "cells": [
  {
   "cell_type": "markdown",
   "id": "938a4c58",
   "metadata": {},
   "source": [
    "Given an array of positive numbers and a positive number ‘k,’ find the maximum sum of any contiguous subarray of size ‘k’.\n",
    "\n",
    "Example 1:\n",
    "```\n",
    "Input: [2, 1, 5, 1, 3, 2], k=3 \n",
    "Output: 9\n",
    "Explanation: Subarray with maximum sum is [5, 1, 3].\n",
    "```\n",
    "\n",
    "Example 2:\n",
    "```\n",
    "Input: [2, 3, 4, 1, 5], k=2 \n",
    "Output: 7\n",
    "Explanation: Subarray with maximum sum is [3, 4].\n",
    "```"
   ]
  },
  {
   "cell_type": "code",
   "execution_count": 1,
   "id": "ab2d17b2",
   "metadata": {},
   "outputs": [
    {
     "name": "stdout",
     "output_type": "stream",
     "text": [
      "9\n",
      "7\n"
     ]
    }
   ],
   "source": [
    "\"\"\"\n",
    "Time Complexity: O(n)\n",
    "Space Complexity: O(1)\n",
    "\"\"\"\n",
    "def max_sub_array_of_size_k(k, arr):\n",
    "    max_sum = float(\"-inf\")\n",
    "    start_idx, curr_sum = 0, 0\n",
    "    for idx in range(len(arr)):\n",
    "        if idx < start_idx + k:\n",
    "            curr_sum += arr[idx]\n",
    "        else:\n",
    "            if curr_sum > max_sum:\n",
    "                max_sum = curr_sum\n",
    "            curr_sum = curr_sum - arr[start_idx] + arr[idx]\n",
    "            start_idx += 1\n",
    "    return max_sum\n",
    "    \n",
    "print(max_sub_array_of_size_k(3, [2, 1, 5, 1, 3, 2]))\n",
    "print(max_sub_array_of_size_k(2, [2, 3, 4, 1, 5]))"
   ]
  }
 ],
 "metadata": {
  "kernelspec": {
   "display_name": "Python 3 (ipykernel)",
   "language": "python",
   "name": "python3"
  },
  "language_info": {
   "codemirror_mode": {
    "name": "ipython",
    "version": 3
   },
   "file_extension": ".py",
   "mimetype": "text/x-python",
   "name": "python",
   "nbconvert_exporter": "python",
   "pygments_lexer": "ipython3",
   "version": "3.8.5"
  }
 },
 "nbformat": 4,
 "nbformat_minor": 5
}
