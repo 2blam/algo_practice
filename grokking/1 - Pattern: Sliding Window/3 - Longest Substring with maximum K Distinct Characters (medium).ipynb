{
 "cells": [
  {
   "cell_type": "markdown",
   "id": "dfa88013",
   "metadata": {},
   "source": [
    "Given a string, find the length of the longest substring in it with no more than K distinct characters.\n",
    "\n",
    "Example 1:\n",
    "```\n",
    "Input: String=\"araaci\", K=2\n",
    "Output: 4\n",
    "Explanation: The longest substring with no more than '2' distinct characters is \"araa\".\n",
    "```\n",
    "Example 2:\n",
    "```\n",
    "Input: String=\"araaci\", K=1\n",
    "Output: 2\n",
    "Explanation: The longest substring with no more than '1' distinct characters is \"aa\".\n",
    "```\n",
    "Example 3:\n",
    "```\n",
    "Input: String=\"cbbebi\", K=3\n",
    "Output: 5\n",
    "Explanation: The longest substrings with no more than '3' distinct characters are \"cbbeb\" & \"bbebi\".\n",
    "```\n",
    "Example 4:\n",
    "```\n",
    "Input: String=\"cbbebi\", K=10\n",
    "Output: 6\n",
    "Explanation: The longest substring with no more than '10' distinct characters is \"cbbebi\".\n",
    "```"
   ]
  },
  {
   "cell_type": "code",
   "execution_count": 1,
   "id": "8c28fead",
   "metadata": {},
   "outputs": [
    {
     "name": "stdout",
     "output_type": "stream",
     "text": [
      "4\n",
      "2\n",
      "5\n",
      "6\n"
     ]
    }
   ],
   "source": [
    "\"\"\"\n",
    "Time Complexity: O(n)\n",
    "Space Complexity: O(k): k - k distinct characters\n",
    "\"\"\"\n",
    "def longest_substring_with_k_distinct(str1, k):\n",
    "    d = {}\n",
    "    start_idx = 0\n",
    "    max_substring = float(\"-inf\")\n",
    "    \n",
    "    for end_idx in range(len(str1)):\n",
    "        character = str1[end_idx]\n",
    "        if character in d:\n",
    "            d[character] += 1\n",
    "        else:\n",
    "            d[character] = 1\n",
    "        \n",
    "        # shrink sliding windows until we have k unique characters\n",
    "        while len(d) > k:\n",
    "            d[str1[start_idx]] -= 1\n",
    "            if d[str1[start_idx]] == 0:\n",
    "                del d[str1[start_idx]]\n",
    "            start_idx += 1\n",
    "        # check if current window length is longest so far\n",
    "        max_substring = max(max_substring, end_idx - start_idx + 1)\n",
    "    return max_substring\n",
    "    \n",
    "str1 = \"araaci\"\n",
    "k = 2\n",
    "print(longest_substring_with_k_distinct(str1, k))      \n",
    "\n",
    "str1 = \"araaci\"\n",
    "k = 1\n",
    "print(longest_substring_with_k_distinct(str1, k))\n",
    "\n",
    "str1 = \"cbbebi\"\n",
    "k =3\n",
    "print(longest_substring_with_k_distinct(str1, k))\n",
    "\n",
    "str1 = \"cbbebi\"\n",
    "k = 10\n",
    "print(longest_substring_with_k_distinct(str1, k))"
   ]
  }
 ],
 "metadata": {
  "kernelspec": {
   "display_name": "Python 3 (ipykernel)",
   "language": "python",
   "name": "python3"
  },
  "language_info": {
   "codemirror_mode": {
    "name": "ipython",
    "version": 3
   },
   "file_extension": ".py",
   "mimetype": "text/x-python",
   "name": "python",
   "nbconvert_exporter": "python",
   "pygments_lexer": "ipython3",
   "version": "3.8.5"
  }
 },
 "nbformat": 4,
 "nbformat_minor": 5
}
