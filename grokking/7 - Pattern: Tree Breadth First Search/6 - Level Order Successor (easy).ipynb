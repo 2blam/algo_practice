{
 "cells": [
  {
   "cell_type": "markdown",
   "id": "37ffd7df",
   "metadata": {},
   "source": [
    "Given a binary tree and a node, find the level order successor of the given node in the tree. The level order successor is the node that appears right after the given node in the level order traversal.\n",
    "\n"
   ]
  },
  {
   "cell_type": "code",
   "execution_count": 1,
   "id": "d08a51a3",
   "metadata": {},
   "outputs": [
    {
     "name": "stdout",
     "output_type": "stream",
     "text": [
      "4\n",
      "10\n",
      "7\n"
     ]
    }
   ],
   "source": [
    "\"\"\"\n",
    "Time Complexity: O(N)\n",
    "Space Complexity: O(N)\n",
    "\"\"\"\n",
    "from collections import deque\n",
    "\n",
    "\n",
    "class TreeNode:\n",
    "    def __init__(self, val):\n",
    "        self.val = val\n",
    "        self.left, self.right = None, None\n",
    "\n",
    "\n",
    "def find_successor(root, key):\n",
    "    q = [root]\n",
    "    nxt = False\n",
    "    while len(q) != 0:\n",
    "        curr_level = []\n",
    "        curr_size = len(q)\n",
    "        \n",
    "        for _ in range(len(q)):\n",
    "            node = q.pop(0)\n",
    "            \n",
    "            # check if it is target, if yes, change the nxt to True\n",
    "            if nxt:\n",
    "                return node\n",
    "            if node.val == key:\n",
    "                nxt = True\n",
    "            if node.left:\n",
    "                q.append(node.left)\n",
    "            if node.right:\n",
    "                q.append(node.right)\n",
    "\n",
    "    return None\n",
    "\n",
    "\n",
    "def main():\n",
    "    root = TreeNode(1);\n",
    "    root.left = TreeNode(2);\n",
    "    root.right = TreeNode(3);\n",
    "    root.left.left = TreeNode(4);\n",
    "    root.left.right = TreeNode(5);\n",
    "\n",
    "    result = find_successor(root, 3)\n",
    "    if result:\n",
    "        print(result.val)\n",
    "\n",
    "    root = TreeNode(12)\n",
    "    root.left = TreeNode(7)\n",
    "    root.right = TreeNode(1)\n",
    "    root.left.left = TreeNode(9)\n",
    "    root.right.left = TreeNode(10)\n",
    "    root.right.right = TreeNode(5)\n",
    "\n",
    "    result = find_successor(root, 9)\n",
    "    if result:\n",
    "        print(result.val)\n",
    "\n",
    "    result = find_successor(root, 12)\n",
    "    if result:\n",
    "        print(result.val)\n",
    "\n",
    "\n",
    "main()\n"
   ]
  }
 ],
 "metadata": {
  "kernelspec": {
   "display_name": "Python 3 (ipykernel)",
   "language": "python",
   "name": "python3"
  },
  "language_info": {
   "codemirror_mode": {
    "name": "ipython",
    "version": 3
   },
   "file_extension": ".py",
   "mimetype": "text/x-python",
   "name": "python",
   "nbconvert_exporter": "python",
   "pygments_lexer": "ipython3",
   "version": "3.8.5"
  }
 },
 "nbformat": 4,
 "nbformat_minor": 5
}
