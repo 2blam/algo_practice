{
 "cells": [
  {
   "cell_type": "markdown",
   "id": "045138bf",
   "metadata": {},
   "source": [
    "Given a binary tree, populate an array to represent its zigzag level order traversal. You should populate the values of all nodes of the first level from left to right, then right to left for the next level and keep alternating in the same manner for the following levels."
   ]
  },
  {
   "cell_type": "code",
   "execution_count": 1,
   "id": "ced08db7",
   "metadata": {},
   "outputs": [
    {
     "name": "stdout",
     "output_type": "stream",
     "text": [
      "Zigzag traversal: [[12], [1, 7], [9, 10, 5], [17, 20]]\n"
     ]
    }
   ],
   "source": [
    "\"\"\"\n",
    "Time Complexity: O(N)\n",
    "Space Complexity: O(N)\n",
    "\"\"\"\n",
    "\n",
    "class TreeNode:\n",
    "    def __init__(self, val):\n",
    "        self.val = val\n",
    "        self.left, self.right = None, None\n",
    "\n",
    "def traverse(root):\n",
    "    result = []\n",
    "    q = [root]\n",
    "\n",
    "    direction = True\n",
    "    while len(q) != 0:\n",
    "        curr_level = []\n",
    "        curr_size = len(q)\n",
    "        \n",
    "        for _ in range(curr_size):\n",
    "            node = q.pop(0)\n",
    "            left, right = node.left, node.right\n",
    "            if left is not None:\n",
    "                q.append(left)\n",
    "            if right is not None:\n",
    "                q.append(right)\n",
    "            \n",
    "            if direction:\n",
    "                curr_level.append(node.val)\n",
    "            else:\n",
    "                curr_level.insert(0, node.val)\n",
    "        direction = not direction\n",
    "        result.append(curr_level)\n",
    "    return result\n",
    "\n",
    "\n",
    "def main():\n",
    "    root = TreeNode(12)\n",
    "    root.left = TreeNode(7)\n",
    "    root.right = TreeNode(1)\n",
    "    root.left.left = TreeNode(9)\n",
    "    root.right.left = TreeNode(10)\n",
    "    root.right.right = TreeNode(5)\n",
    "    root.right.left.left = TreeNode(20)\n",
    "    root.right.left.right = TreeNode(17)\n",
    "    print(\"Zigzag traversal: \" + str(traverse(root)))\n",
    "\n",
    "\n",
    "main()\n"
   ]
  }
 ],
 "metadata": {
  "kernelspec": {
   "display_name": "Python 3 (ipykernel)",
   "language": "python",
   "name": "python3"
  },
  "language_info": {
   "codemirror_mode": {
    "name": "ipython",
    "version": 3
   },
   "file_extension": ".py",
   "mimetype": "text/x-python",
   "name": "python",
   "nbconvert_exporter": "python",
   "pygments_lexer": "ipython3",
   "version": "3.8.5"
  }
 },
 "nbformat": 4,
 "nbformat_minor": 5
}
