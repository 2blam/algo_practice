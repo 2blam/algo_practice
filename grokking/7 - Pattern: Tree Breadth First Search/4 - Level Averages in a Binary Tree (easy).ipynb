{
 "cells": [
  {
   "cell_type": "markdown",
   "id": "8888a3c4",
   "metadata": {},
   "source": [
    "Given a binary tree, populate an array to represent the averages of all of its levels.\n",
    "\n"
   ]
  },
  {
   "cell_type": "code",
   "execution_count": 1,
   "id": "2706f20f",
   "metadata": {},
   "outputs": [
    {
     "name": "stdout",
     "output_type": "stream",
     "text": [
      "Level averages are: [12.0, 4.0, 6.5]\n"
     ]
    }
   ],
   "source": [
    "\"\"\"\n",
    "Time Complexity: O(N)\n",
    "Space Complexity: O(N)\n",
    "\"\"\"\n",
    "class TreeNode:\n",
    "    def __init__(self, val):\n",
    "        self.val = val\n",
    "        self.left, self.right = None, None\n",
    "\n",
    "\n",
    "def find_level_averages(root):\n",
    "    result = []\n",
    "    q = [root]\n",
    "    while len(q) != 0:\n",
    "        curr_sum = 0\n",
    "        curr_size = len(q)\n",
    "        for _ in range(curr_size):\n",
    "            node = q.pop(0)\n",
    "            left, right = node.left, node.right\n",
    "            if left is not None:\n",
    "                q.append(left)\n",
    "            if right is not None:\n",
    "                q.append(right)\n",
    "            curr_sum += node.val\n",
    "        \n",
    "        #get average value\n",
    "        result.append(curr_sum * 1.0 / curr_size)\n",
    "        \n",
    "    return result\n",
    "\n",
    "\n",
    "def main():\n",
    "    root = TreeNode(12)\n",
    "    root.left = TreeNode(7)\n",
    "    root.right = TreeNode(1)\n",
    "    root.left.left = TreeNode(9)\n",
    "    root.left.right = TreeNode(2)\n",
    "    root.right.left = TreeNode(10)\n",
    "    root.right.right = TreeNode(5)\n",
    "    print(\"Level averages are: \" + str(find_level_averages(root)))\n",
    "\n",
    "\n",
    "main()"
   ]
  }
 ],
 "metadata": {
  "kernelspec": {
   "display_name": "Python 3 (ipykernel)",
   "language": "python",
   "name": "python3"
  },
  "language_info": {
   "codemirror_mode": {
    "name": "ipython",
    "version": 3
   },
   "file_extension": ".py",
   "mimetype": "text/x-python",
   "name": "python",
   "nbconvert_exporter": "python",
   "pygments_lexer": "ipython3",
   "version": "3.8.5"
  }
 },
 "nbformat": 4,
 "nbformat_minor": 5
}
