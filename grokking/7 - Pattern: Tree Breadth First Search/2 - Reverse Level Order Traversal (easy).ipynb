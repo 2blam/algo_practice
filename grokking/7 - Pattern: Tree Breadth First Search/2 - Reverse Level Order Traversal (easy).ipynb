{
 "cells": [
  {
   "cell_type": "markdown",
   "id": "97cd92df",
   "metadata": {},
   "source": [
    "Given a binary tree, populate an array to represent its level-by-level traversal in reverse order, i.e., the lowest level comes first. You should populate the values of all nodes in each level from left to right in separate sub-arrays."
   ]
  },
  {
   "cell_type": "code",
   "execution_count": 1,
   "id": "39bd8584",
   "metadata": {},
   "outputs": [
    {
     "name": "stdout",
     "output_type": "stream",
     "text": [
      "Reverse level order traversal: [[9, 10, 5], [7, 1], [12]]\n"
     ]
    }
   ],
   "source": [
    "\"\"\"\n",
    "Time Complexity: O(N)\n",
    "Space Complexity: O(N)\n",
    "\"\"\"\n",
    "\n",
    "from collections import deque\n",
    "\n",
    "class TreeNode:\n",
    "    def __init__(self, val):\n",
    "        self.val = val\n",
    "        self.left, self.right = None, None\n",
    "\n",
    "def traverse(root):\n",
    "    #result = deque()\n",
    "    result = []\n",
    "    \n",
    "    q = [root]\n",
    "    \n",
    "    while len(q) != 0:\n",
    "        curr_level = []\n",
    "        level_size = len(q)\n",
    "        \n",
    "        for _ in range(level_size):\n",
    "            node = q.pop(0)\n",
    "            left, right = node.left, node.right\n",
    "            if left is not None:\n",
    "                q.append(left)\n",
    "            if right is not None:\n",
    "                q.append(right)\n",
    "            curr_level.append(node.val)\n",
    "            \n",
    "        result.append(curr_level)\n",
    "    \n",
    "    # reverse\n",
    "    result.reverse()\n",
    "    return result\n",
    "\n",
    "def main():\n",
    "    root = TreeNode(12)\n",
    "    root.left = TreeNode(7)\n",
    "    root.right = TreeNode(1)\n",
    "    root.left.left = TreeNode(9)\n",
    "    root.right.left = TreeNode(10)\n",
    "    root.right.right = TreeNode(5)\n",
    "    print(\"Reverse level order traversal: \" + str(traverse(root)))\n",
    "\n",
    "\n",
    "main()\n"
   ]
  }
 ],
 "metadata": {
  "kernelspec": {
   "display_name": "Python 3 (ipykernel)",
   "language": "python",
   "name": "python3"
  },
  "language_info": {
   "codemirror_mode": {
    "name": "ipython",
    "version": 3
   },
   "file_extension": ".py",
   "mimetype": "text/x-python",
   "name": "python",
   "nbconvert_exporter": "python",
   "pygments_lexer": "ipython3",
   "version": "3.8.5"
  }
 },
 "nbformat": 4,
 "nbformat_minor": 5
}
