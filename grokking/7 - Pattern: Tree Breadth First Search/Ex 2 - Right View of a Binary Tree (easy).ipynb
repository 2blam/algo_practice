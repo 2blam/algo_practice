{
 "cells": [
  {
   "cell_type": "markdown",
   "id": "1546a515",
   "metadata": {},
   "source": [
    "Given a binary tree, return an array containing nodes in its right view. The right view of a binary tree is the set of nodes visible when the tree is seen from the right side."
   ]
  },
  {
   "cell_type": "code",
   "execution_count": 1,
   "id": "58d1978c",
   "metadata": {},
   "outputs": [
    {
     "name": "stdout",
     "output_type": "stream",
     "text": [
      "Tree right view: \n",
      "12 1 5 3 "
     ]
    }
   ],
   "source": [
    "\"\"\"\n",
    "    IDEA: each level, last node\n",
    "\"\"\"\n",
    "\n",
    "from __future__ import print_function\n",
    "from collections import deque\n",
    "\n",
    "\n",
    "class TreeNode:\n",
    "    def __init__(self, val):\n",
    "        self.val = val\n",
    "        self.left, self.right = None, None\n",
    "\n",
    "\n",
    "def tree_right_view(root):\n",
    "    result = []\n",
    "    q = [root]\n",
    "    \n",
    "    while len(q) != 0:\n",
    "        curr_size = len(q)\n",
    "        \n",
    "        for i in range(len(q)):\n",
    "            node = q.pop(0)\n",
    "            if i == curr_size - 1: #last node in this level\n",
    "                result.append(node)\n",
    "            if node.left:\n",
    "                q.append(node.left)\n",
    "            if node.right:\n",
    "                q.append(node.right)\n",
    "            \n",
    "    return result\n",
    "\n",
    "\n",
    "def main():\n",
    "    root = TreeNode(12)\n",
    "    root.left = TreeNode(7)\n",
    "    root.right = TreeNode(1)\n",
    "    root.left.left = TreeNode(9)\n",
    "    root.right.left = TreeNode(10)\n",
    "    root.right.right = TreeNode(5)\n",
    "    root.left.left.left = TreeNode(3)\n",
    "    result = tree_right_view(root)\n",
    "    print(\"Tree right view: \")\n",
    "    for node in result:\n",
    "        print(str(node.val) + \" \", end='')\n",
    "\n",
    "\n",
    "main()"
   ]
  }
 ],
 "metadata": {
  "kernelspec": {
   "display_name": "Python 3 (ipykernel)",
   "language": "python",
   "name": "python3"
  },
  "language_info": {
   "codemirror_mode": {
    "name": "ipython",
    "version": 3
   },
   "file_extension": ".py",
   "mimetype": "text/x-python",
   "name": "python",
   "nbconvert_exporter": "python",
   "pygments_lexer": "ipython3",
   "version": "3.8.5"
  }
 },
 "nbformat": 4,
 "nbformat_minor": 5
}
