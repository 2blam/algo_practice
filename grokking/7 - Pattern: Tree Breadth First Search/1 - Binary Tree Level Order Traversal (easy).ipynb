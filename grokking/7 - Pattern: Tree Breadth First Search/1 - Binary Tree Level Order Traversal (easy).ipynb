{
 "cells": [
  {
   "cell_type": "markdown",
   "id": "0ff0a14b",
   "metadata": {},
   "source": [
    "Given a binary tree, populate an array to represent its level-by-level traversal. You should populate the values of all nodes of each level from left to right in separate sub-arrays."
   ]
  },
  {
   "cell_type": "code",
   "execution_count": 1,
   "id": "74669e68",
   "metadata": {},
   "outputs": [
    {
     "name": "stdout",
     "output_type": "stream",
     "text": [
      "Level order traversal: [[12], [7, 1], [9, 10, 5]]\n"
     ]
    }
   ],
   "source": [
    "\"\"\"\n",
    "Time Complexity: O(N)\n",
    "Space Complexity: O(N)\n",
    "\"\"\"\n",
    "\n",
    "from collections import deque\n",
    "\n",
    "\n",
    "class TreeNode:\n",
    "    def __init__(self, val):\n",
    "        self.val = val\n",
    "        self.left, self.right = None, None\n",
    "\n",
    "\n",
    "\n",
    "def traverse(root):\n",
    "    result = []\n",
    "    q = [root]\n",
    "\n",
    "    while len(q) != 0:\n",
    "        level_size = len(q)\n",
    "        curr_level = []\n",
    "        for _ in range(level_size):\n",
    "            node = q.pop(0)\n",
    "            left = node.left\n",
    "            right = node.right\n",
    "            if left is not None:\n",
    "                q.append(left)\n",
    "            if right is not None:\n",
    "                q.append(right)\n",
    "            curr_level.append(node.val)\n",
    "        result.append(curr_level)\n",
    "    return result\n",
    "\n",
    "\n",
    "def main():\n",
    "    root = TreeNode(12)\n",
    "    root.left = TreeNode(7)\n",
    "    root.right = TreeNode(1)\n",
    "    root.left.left = TreeNode(9)\n",
    "    root.right.left = TreeNode(10)\n",
    "    root.right.right = TreeNode(5)\n",
    "    print(\"Level order traversal: \" + str(traverse(root)))\n",
    "\n",
    "\n",
    "main()\n"
   ]
  }
 ],
 "metadata": {
  "kernelspec": {
   "display_name": "Python 3 (ipykernel)",
   "language": "python",
   "name": "python3"
  },
  "language_info": {
   "codemirror_mode": {
    "name": "ipython",
    "version": 3
   },
   "file_extension": ".py",
   "mimetype": "text/x-python",
   "name": "python",
   "nbconvert_exporter": "python",
   "pygments_lexer": "ipython3",
   "version": "3.8.5"
  }
 },
 "nbformat": 4,
 "nbformat_minor": 5
}
