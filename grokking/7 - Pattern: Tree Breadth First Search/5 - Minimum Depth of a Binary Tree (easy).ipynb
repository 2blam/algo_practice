{
 "cells": [
  {
   "cell_type": "markdown",
   "id": "5be093f1",
   "metadata": {},
   "source": [
    "Find the minimum depth of a binary tree. The minimum depth is the number of nodes along the shortest path from the root node to the nearest leaf node."
   ]
  },
  {
   "cell_type": "code",
   "execution_count": 1,
   "id": "106fa0be",
   "metadata": {},
   "outputs": [
    {
     "name": "stdout",
     "output_type": "stream",
     "text": [
      "Tree Minimum Depth: 2\n",
      "Tree Minimum Depth: 3\n"
     ]
    }
   ],
   "source": [
    "\"\"\"\n",
    "Time Complexity: O(N)\n",
    "Space Compexity: O(N)\n",
    "\"\"\"\n",
    "class TreeNode:\n",
    "    def __init__(self, val):\n",
    "        self.val = val\n",
    "        self.left, self.right = None, None\n",
    "\n",
    "\n",
    "def find_minimum_depth(root):\n",
    "    if root is None:\n",
    "        return 0\n",
    "    q = [root]\n",
    "    level = 0\n",
    "    while len(q) != 0:\n",
    "        curr_level = []\n",
    "        curr_size = len(q)\n",
    "        level += 1\n",
    "        for _ in range(len(q)):\n",
    "            node = q.pop(0)\n",
    "            if not node.left and not node.right: # leave node, log\n",
    "                return level\n",
    "            if node.left:\n",
    "                q.append(node.left)\n",
    "            if node.right:\n",
    "                q.append(node.right)\n",
    "\n",
    "    return level    \n",
    "\n",
    "\n",
    "def main():\n",
    "    root = TreeNode(12)\n",
    "    root.left = TreeNode(7)\n",
    "    root.right = TreeNode(1)\n",
    "    root.right.left = TreeNode(10)\n",
    "    root.right.right = TreeNode(5)\n",
    "    print(\"Tree Minimum Depth: \" + str(find_minimum_depth(root)))\n",
    "    root.left.left = TreeNode(9)\n",
    "    root.right.left.left = TreeNode(11)\n",
    "    print(\"Tree Minimum Depth: \" + str(find_minimum_depth(root)))\n",
    "\n",
    "\n",
    "main()\n"
   ]
  }
 ],
 "metadata": {
  "kernelspec": {
   "display_name": "Python 3 (ipykernel)",
   "language": "python",
   "name": "python3"
  },
  "language_info": {
   "codemirror_mode": {
    "name": "ipython",
    "version": 3
   },
   "file_extension": ".py",
   "mimetype": "text/x-python",
   "name": "python",
   "nbconvert_exporter": "python",
   "pygments_lexer": "ipython3",
   "version": "3.8.5"
  }
 },
 "nbformat": 4,
 "nbformat_minor": 5
}
