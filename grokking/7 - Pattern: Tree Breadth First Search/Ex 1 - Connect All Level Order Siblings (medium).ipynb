{
 "cells": [
  {
   "cell_type": "markdown",
   "id": "75d858e9",
   "metadata": {},
   "source": [
    "Given a binary tree, connect each node with its level order successor. The last node of each level should point to the first node of the next level."
   ]
  },
  {
   "cell_type": "code",
   "execution_count": 1,
   "id": "dee8ecfe",
   "metadata": {},
   "outputs": [
    {
     "name": "stdout",
     "output_type": "stream",
     "text": [
      "Traversal using 'next' pointer: 12 7 1 9 10 5 "
     ]
    }
   ],
   "source": [
    "\"\"\"\n",
    "Time Complexity: O(N)\n",
    "Space Complexity: O(N)\n",
    "\"\"\"\n",
    "\n",
    "from __future__ import print_function\n",
    "from collections import deque\n",
    "\n",
    "\n",
    "class TreeNode:\n",
    "    def __init__(self, val):\n",
    "        self.val = val\n",
    "        self.left, self.right, self.next = None, None, None\n",
    "\n",
    "    # tree traversal using 'next' pointer\n",
    "    def print_tree(self):\n",
    "        print(\"Traversal using 'next' pointer: \", end='')\n",
    "        current = self\n",
    "        while current:\n",
    "            print(str(current.val) + \" \", end='')\n",
    "            current = current.next\n",
    "\n",
    "\n",
    "def connect_all_siblings(root):\n",
    "    q = [root]\n",
    "    prev = None\n",
    "    while len(q) != 0:\n",
    "        node = q.pop(0)\n",
    "        if prev is not None:\n",
    "            prev.next = node\n",
    "        prev = node\n",
    "        if node.left:\n",
    "            q.append(node.left)\n",
    "        if node.right:\n",
    "            q.append(node.right)\n",
    "    return\n",
    "\n",
    "\n",
    "def main():\n",
    "    root = TreeNode(12)\n",
    "    root.left = TreeNode(7)\n",
    "    root.right = TreeNode(1)\n",
    "    root.left.left = TreeNode(9)\n",
    "    root.right.left = TreeNode(10)\n",
    "    root.right.right = TreeNode(5)\n",
    "    connect_all_siblings(root)\n",
    "    root.print_tree()\n",
    "\n",
    "\n",
    "main()\n"
   ]
  }
 ],
 "metadata": {
  "kernelspec": {
   "display_name": "Python 3 (ipykernel)",
   "language": "python",
   "name": "python3"
  },
  "language_info": {
   "codemirror_mode": {
    "name": "ipython",
    "version": 3
   },
   "file_extension": ".py",
   "mimetype": "text/x-python",
   "name": "python",
   "nbconvert_exporter": "python",
   "pygments_lexer": "ipython3",
   "version": "3.8.5"
  }
 },
 "nbformat": 4,
 "nbformat_minor": 5
}
