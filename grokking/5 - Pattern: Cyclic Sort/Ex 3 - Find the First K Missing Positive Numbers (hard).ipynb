{
 "cells": [
  {
   "cell_type": "markdown",
   "id": "546c3157",
   "metadata": {},
   "source": [
    "Given an unsorted array containing numbers and a number ‘k’, find the first ‘k’ missing positive numbers in the array.\n",
    "\n",
    "Example 1:\n",
    "```\n",
    "Input: [3, -1, 4, 5, 5], k=3\n",
    "Output: [1, 2, 6]\n",
    "Explanation: The smallest missing positive numbers are 1, 2 and 6.\n",
    "```\n",
    "Example 2:\n",
    "```\n",
    "Input: [2, 3, 4], k=3\n",
    "Output: [1, 5, 6]\n",
    "Explanation: The smallest missing positive numbers are 1, 5 and 6.\n",
    "```\n",
    "Example 3:\n",
    "```\n",
    "Input: [-2, -3, 4], k=2\n",
    "Output: [1, 2]\n",
    "Explanation: The smallest missing positive numbers are 1 and 2.\n",
    "```"
   ]
  },
  {
   "cell_type": "code",
   "execution_count": 1,
   "id": "19007b39",
   "metadata": {},
   "outputs": [
    {
     "name": "stdout",
     "output_type": "stream",
     "text": [
      "[1, 2, 6]\n",
      "[1, 5, 6]\n",
      "[1, 2]\n"
     ]
    }
   ],
   "source": [
    "\"\"\"\n",
    "Time Complexity: O(N + k)\n",
    "Space Complexity: O(k)\n",
    "\"\"\"\n",
    "\n",
    "def find_first_k_missing_positive(nums, k):\n",
    "    missingNumbers = []\n",
    "    idx = 0\n",
    "    while idx < len(nums):\n",
    "        if nums[idx] - 1 == idx or nums[idx] > len(nums) or nums[idx] < 0:\n",
    "            idx += 1\n",
    "            continue\n",
    "        swap_pos = nums[idx] - 1\n",
    "        if nums[swap_pos] != nums[idx]:\n",
    "            nums[idx], nums[swap_pos] = nums[swap_pos], nums[idx]\n",
    "        else:\n",
    "            idx += 1\n",
    "    # get the missing numbers\n",
    "    existingNumbers = set()\n",
    "    for i in range(len(nums)):\n",
    "        if len(missingNumbers) < k:\n",
    "            if nums[i] != i + 1:\n",
    "                missingNumbers.append(i + 1)\n",
    "                existingNumbers.add(nums[i])\n",
    "    i = 1\n",
    "    while len(missingNumbers) < k:\n",
    "        canadidate = i + len(nums)\n",
    "        if canadidate not in existingNumbers:\n",
    "            missingNumbers.append(canadidate)\n",
    "        i += 1\n",
    "            \n",
    "    return missingNumbers\n",
    "print(find_first_k_missing_positive([3, -1, 4, 5, 5], 3))\n",
    "print(find_first_k_missing_positive([2, 3, 4], 3))\n",
    "print(find_first_k_missing_positive([-2, -3, 4], 2))"
   ]
  }
 ],
 "metadata": {
  "kernelspec": {
   "display_name": "Python 3 (ipykernel)",
   "language": "python",
   "name": "python3"
  },
  "language_info": {
   "codemirror_mode": {
    "name": "ipython",
    "version": 3
   },
   "file_extension": ".py",
   "mimetype": "text/x-python",
   "name": "python",
   "nbconvert_exporter": "python",
   "pygments_lexer": "ipython3",
   "version": "3.8.5"
  }
 },
 "nbformat": 4,
 "nbformat_minor": 5
}
