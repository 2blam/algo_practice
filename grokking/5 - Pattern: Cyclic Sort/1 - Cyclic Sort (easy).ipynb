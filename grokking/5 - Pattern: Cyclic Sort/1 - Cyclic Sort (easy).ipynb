{
 "cells": [
  {
   "cell_type": "markdown",
   "id": "502ea3fe",
   "metadata": {},
   "source": [
    "We are given an array containing n objects. Each object, when created, was assigned a unique number from the range 1 to n based on their creation sequence. This means that the object with sequence number 3 was created just before the object with sequence number 4.\n",
    "\n",
    "Write a function to sort the objects in-place on their creation sequence number in O(n) and without using any extra space. For simplicity, let’s assume we are passed an integer array containing only the sequence numbers, though each number is actually an object.\n",
    "\n",
    "Example 1:\n",
    "```\n",
    "Input: [3, 1, 5, 4, 2]\n",
    "Output: [1, 2, 3, 4, 5]\n",
    "```\n",
    "Example 2:\n",
    "```\n",
    "Input: [2, 6, 4, 3, 1, 5]\n",
    "Output: [1, 2, 3, 4, 5, 6]\n",
    "```\n",
    "Example 3:\n",
    "```\n",
    "Input: [1, 5, 6, 4, 3, 2]\n",
    "Output: [1, 2, 3, 4, 5, 6]\n",
    "```"
   ]
  },
  {
   "cell_type": "code",
   "execution_count": 1,
   "id": "61dfc220",
   "metadata": {},
   "outputs": [
    {
     "name": "stdout",
     "output_type": "stream",
     "text": [
      "[1, 2, 3, 4, 5]\n",
      "[1, 2, 3, 4, 5, 6]\n",
      "[1, 2, 3, 4, 5, 6]\n"
     ]
    }
   ],
   "source": [
    "\"\"\"\n",
    "Time Complexity: O(N)\n",
    "Space Complexity: O(1)\n",
    "\"\"\"\n",
    "def cyclic_sort(nums):\n",
    "    curr_idx = 0\n",
    "    while curr_idx < len(nums):\n",
    "        # checking\n",
    "        if curr_idx+1 == nums[curr_idx]:\n",
    "            curr_idx +=1\n",
    "            continue\n",
    "        # swap\n",
    "        swap_pos = nums[curr_idx] -1\n",
    "        nums[curr_idx], nums[swap_pos] = nums[swap_pos], nums[curr_idx]        \n",
    "    return nums\n",
    "\n",
    "print(cyclic_sort([3, 1, 5, 4, 2]))\n",
    "print(cyclic_sort([2, 6, 4, 3, 1, 5]))\n",
    "print(cyclic_sort([1, 5, 6, 4, 3, 2]))"
   ]
  }
 ],
 "metadata": {
  "kernelspec": {
   "display_name": "Python 3 (ipykernel)",
   "language": "python",
   "name": "python3"
  },
  "language_info": {
   "codemirror_mode": {
    "name": "ipython",
    "version": 3
   },
   "file_extension": ".py",
   "mimetype": "text/x-python",
   "name": "python",
   "nbconvert_exporter": "python",
   "pygments_lexer": "ipython3",
   "version": "3.8.5"
  }
 },
 "nbformat": 4,
 "nbformat_minor": 5
}
