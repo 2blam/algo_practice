{
 "cells": [
  {
   "cell_type": "markdown",
   "id": "f8c9e1f7",
   "metadata": {},
   "source": [
    "Given an unsorted array containing numbers, find the smallest missing positive number in it.\n",
    "\n",
    "Note: Positive numbers start from ‘1’.\n",
    "\n",
    "Example 1:\n",
    "```\n",
    "Input: [-3, 1, 5, 4, 2]\n",
    "Output: 3\n",
    "Explanation: The smallest missing positive number is '3'\n",
    "```\n",
    "Example 2:\n",
    "```\n",
    "Input: [3, -2, 0, 1, 2]\n",
    "Output: 4\n",
    "```\n",
    "Example 3:\n",
    "```\n",
    "Input: [3, 2, 5, 1]\n",
    "Output: 4\n",
    "```"
   ]
  },
  {
   "cell_type": "code",
   "execution_count": 1,
   "id": "6b55b075",
   "metadata": {},
   "outputs": [
    {
     "name": "stdout",
     "output_type": "stream",
     "text": [
      "3\n",
      "4\n",
      "4\n"
     ]
    }
   ],
   "source": [
    "\"\"\"\n",
    "Time Complexity: O(N)\n",
    "Space Complexity: O(1)\n",
    "\"\"\"\n",
    "\n",
    "def find_first_smallest_missing_positive(nums):\n",
    "    idx = 0\n",
    "    while idx < len(nums):\n",
    "        if nums[idx] < 0 or nums[idx] == idx or nums[idx] == len(nums):\n",
    "            idx += 1\n",
    "            continue\n",
    "        swap_pos = nums[idx]\n",
    "\n",
    "        if swap_pos > len(nums):\n",
    "            idx+=1\n",
    "            continue\n",
    "        nums[idx], nums[swap_pos] = nums[swap_pos], nums[idx]\n",
    "        \n",
    "        \n",
    "    # checking\n",
    "    for i in range(1, len(nums)):\n",
    "        if i != nums[i]:\n",
    "            return i\n",
    "\n",
    "    return i+1\n",
    "\n",
    "print(find_first_smallest_missing_positive([-3, 1, 5, 4, 2]))\n",
    "print(find_first_smallest_missing_positive([3, -2, 0, 1, 2]))\n",
    "print(find_first_smallest_missing_positive([3, 2, 5, 1]))"
   ]
  }
 ],
 "metadata": {
  "kernelspec": {
   "display_name": "Python 3 (ipykernel)",
   "language": "python",
   "name": "python3"
  },
  "language_info": {
   "codemirror_mode": {
    "name": "ipython",
    "version": 3
   },
   "file_extension": ".py",
   "mimetype": "text/x-python",
   "name": "python",
   "nbconvert_exporter": "python",
   "pygments_lexer": "ipython3",
   "version": "3.8.5"
  }
 },
 "nbformat": 4,
 "nbformat_minor": 5
}
