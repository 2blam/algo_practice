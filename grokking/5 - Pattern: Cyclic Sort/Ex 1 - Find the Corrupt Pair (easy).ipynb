{
 "cells": [
  {
   "cell_type": "markdown",
   "id": "4f547dca",
   "metadata": {},
   "source": [
    "We are given an unsorted array containing ‘n’ numbers taken from the range 1 to ‘n’. The array originally contained all the numbers from 1 to ‘n’, but due to a data error, one of the numbers got duplicated which also resulted in one number going missing. Find both these numbers.\n",
    "\n",
    "Example 1:\n",
    "```\n",
    "Input: [3, 1, 2, 5, 2]\n",
    "Output: [2, 4]\n",
    "Explanation: '2' is duplicated and '4' is missing.\n",
    "```\n",
    "Example 2:\n",
    "```\n",
    "Input: [3, 1, 2, 3, 6, 4]\n",
    "Output: [3, 5]\n",
    "Explanation: '3' is duplicated and '5' is missing.\n",
    "```"
   ]
  },
  {
   "cell_type": "code",
   "execution_count": 1,
   "id": "dd9a77e3",
   "metadata": {},
   "outputs": [
    {
     "name": "stdout",
     "output_type": "stream",
     "text": [
      "[2, 4]\n",
      "[3, 5]\n"
     ]
    }
   ],
   "source": [
    "\"\"\"\n",
    "Time Complexity: O(N)\n",
    "Space Complexity: O(1)\n",
    "\"\"\"\n",
    "def find_corrupt_numbers(nums):\n",
    "    idx = 0\n",
    "    while idx < len(nums):\n",
    "        if nums[idx] - 1 == idx:\n",
    "            idx += 1\n",
    "            continue\n",
    "        swap_pos = nums[idx] - 1\n",
    "        if nums[idx] != nums[swap_pos]:\n",
    "            nums[idx], nums[swap_pos] = nums[swap_pos], nums[idx]\n",
    "        else:\n",
    "            idx += 1\n",
    "    \n",
    "    # scan to check which one is not the same\n",
    "    for i in range(len(nums)):\n",
    "        if nums[i] -1 != i:\n",
    "            return [nums[i], i+1]\n",
    "    \n",
    "    return [-1, -1]\n",
    "\n",
    "\n",
    "print(find_corrupt_numbers([3, 1, 2, 5, 2]))\n",
    "print(find_corrupt_numbers([3, 1, 2, 3, 6, 4]))"
   ]
  }
 ],
 "metadata": {
  "kernelspec": {
   "display_name": "Python 3 (ipykernel)",
   "language": "python",
   "name": "python3"
  },
  "language_info": {
   "codemirror_mode": {
    "name": "ipython",
    "version": 3
   },
   "file_extension": ".py",
   "mimetype": "text/x-python",
   "name": "python",
   "nbconvert_exporter": "python",
   "pygments_lexer": "ipython3",
   "version": "3.8.5"
  }
 },
 "nbformat": 4,
 "nbformat_minor": 5
}
