{
 "cells": [
  {
   "cell_type": "markdown",
   "id": "9e9319b6",
   "metadata": {},
   "source": [
    "We are given an unsorted array containing ‘n+1’ numbers taken from the range 1 to ‘n’. The array has only one duplicate but it can be repeated multiple times. Find that duplicate number without using any extra space. You are, however, allowed to modify the input array.\n",
    "\n",
    "Example 1:\n",
    "```\n",
    "Input: [1, 4, 4, 3, 2]\n",
    "Output: 4\n",
    "```\n",
    "Example 2:\n",
    "```\n",
    "Input: [2, 1, 3, 3, 5, 4]\n",
    "Output: 3\n",
    "```\n",
    "Example 3:\n",
    "```\n",
    "Input: [2, 4, 1, 4, 4]\n",
    "Output: 4\n",
    "```"
   ]
  },
  {
   "cell_type": "code",
   "execution_count": 1,
   "id": "0ee639f7",
   "metadata": {},
   "outputs": [
    {
     "name": "stdout",
     "output_type": "stream",
     "text": [
      "4\n",
      "3\n",
      "4\n"
     ]
    }
   ],
   "source": [
    "\"\"\"\n",
    "Time Complexity: O(N)\n",
    "Space Complexity: O(1)\n",
    "\"\"\"\n",
    "def find_duplicate(nums):\n",
    "    idx = 0\n",
    "    while idx < len(nums):\n",
    "\n",
    "        if nums[idx] - 1 == idx:\n",
    "            idx += 1\n",
    "            continue\n",
    "        swap_pos = nums[idx] - 1\n",
    "        if nums[swap_pos] != nums[idx]:\n",
    "            nums[idx], nums[swap_pos] = nums[swap_pos], nums[idx]\n",
    "        else:\n",
    "            idx += 1\n",
    "    \n",
    "    for i in range(len(nums)):\n",
    "        if nums[i] - 1 != i:\n",
    "            return nums[i]\n",
    "    return -1\n",
    "\n",
    "print(find_duplicate([1, 4, 4, 3, 2]))\n",
    "print(find_duplicate([2, 1, 3, 3, 5, 4]))\n",
    "print(find_duplicate([2, 4, 1, 4, 4]))"
   ]
  }
 ],
 "metadata": {
  "kernelspec": {
   "display_name": "Python 3 (ipykernel)",
   "language": "python",
   "name": "python3"
  },
  "language_info": {
   "codemirror_mode": {
    "name": "ipython",
    "version": 3
   },
   "file_extension": ".py",
   "mimetype": "text/x-python",
   "name": "python",
   "nbconvert_exporter": "python",
   "pygments_lexer": "ipython3",
   "version": "3.8.5"
  }
 },
 "nbformat": 4,
 "nbformat_minor": 5
}
