{
 "cells": [
  {
   "cell_type": "markdown",
   "id": "5c31e714",
   "metadata": {},
   "source": [
    "We are given an array containing n distinct numbers taken from the range 0 to n. Since the array has only n numbers out of the total n+1 numbers, find the missing number.\n",
    "\n",
    "Example 1:\n",
    "```\n",
    "Input: [4, 0, 3, 1]\n",
    "Output: 2\n",
    "```\n",
    "Example 2:\n",
    "```\n",
    "Input: [8, 3, 5, 2, 4, 6, 0, 1]\n",
    "Output: 7\n",
    "```"
   ]
  },
  {
   "cell_type": "code",
   "execution_count": 1,
   "id": "69fddce4",
   "metadata": {},
   "outputs": [
    {
     "name": "stdout",
     "output_type": "stream",
     "text": [
      "2\n",
      "7\n"
     ]
    }
   ],
   "source": [
    "\"\"\"\n",
    "    IDEA:\n",
    "        - similar approach as Q1\n",
    "        - if encounter nums[idx] equal to len(nums), ignore it\n",
    "        - once sorted, scan thru the array and check which idx is not the same as nums[idx]\n",
    "Time Complexity: O(N)\n",
    "Space Complexity: O(1)\n",
    "\"\"\"\n",
    "\n",
    "def find_missing_number(nums):\n",
    "    idx = 0\n",
    "    while idx < len(nums):\n",
    "        if nums[idx] == idx or nums[idx] == len(nums): # ignore if n is equal to the size\n",
    "            idx += 1\n",
    "            continue\n",
    "        #swap\n",
    "        swap_pos = nums[idx]\n",
    "        nums[idx], nums[swap_pos] = nums[swap_pos], nums[idx]\n",
    "        \n",
    "    # scan thru the array, check which idx is not correct\n",
    "    for i in range(len(nums)):\n",
    "        if i != nums[i]:\n",
    "            return i\n",
    "    return len(nums)+1\n",
    "\n",
    "print(find_missing_number([4, 0, 3, 1]))\n",
    "print(find_missing_number([8, 3, 5, 2, 4, 6, 0, 1]))\n"
   ]
  }
 ],
 "metadata": {
  "kernelspec": {
   "display_name": "Python 3 (ipykernel)",
   "language": "python",
   "name": "python3"
  },
  "language_info": {
   "codemirror_mode": {
    "name": "ipython",
    "version": 3
   },
   "file_extension": ".py",
   "mimetype": "text/x-python",
   "name": "python",
   "nbconvert_exporter": "python",
   "pygments_lexer": "ipython3",
   "version": "3.8.5"
  }
 },
 "nbformat": 4,
 "nbformat_minor": 5
}
