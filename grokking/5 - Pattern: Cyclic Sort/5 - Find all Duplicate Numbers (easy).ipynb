{
 "cells": [
  {
   "cell_type": "markdown",
   "id": "d5ae186d",
   "metadata": {},
   "source": [
    "We are given an unsorted array containing n numbers taken from the range 1 to n. The array has some numbers appearing twice, find all these duplicate numbers using constant space.\n",
    "\n",
    "Example 1:\n",
    "```\n",
    "Input: [3, 4, 4, 5, 5]\n",
    "Output: [4, 5]\n",
    "```\n",
    "Example 2:\n",
    "```\n",
    "Input: [5, 4, 7, 2, 3, 5, 3]\n",
    "Output: [3, 5]\n",
    "```"
   ]
  },
  {
   "cell_type": "code",
   "execution_count": 1,
   "id": "d54e0dd6",
   "metadata": {},
   "outputs": [
    {
     "name": "stdout",
     "output_type": "stream",
     "text": [
      "[5, 4]\n",
      "[3, 5]\n"
     ]
    }
   ],
   "source": [
    "\"\"\"\n",
    "Time Complexity: O(N)\n",
    "Space Complexity: O(1)\n",
    "\"\"\"\n",
    "def find_all_duplicates(nums):\n",
    "    duplicateNumbers = []\n",
    "    \n",
    "    idx = 0\n",
    "    while idx < len(nums):\n",
    "        if nums[idx] - 1 == idx:\n",
    "            idx += 1\n",
    "            continue\n",
    "        swap_pos = nums[idx] - 1\n",
    "        if nums[idx] != nums[swap_pos]:\n",
    "            nums[idx], nums[swap_pos] = nums[swap_pos], nums[idx]\n",
    "        else:\n",
    "            idx += 1\n",
    "\n",
    "    # scan to check the duplicate\n",
    "    for i in range(len(nums)):\n",
    "        if nums[i]-1 != i:\n",
    "            duplicateNumbers.append(nums[i])\n",
    "    \n",
    "    return duplicateNumbers\n",
    "\n",
    "print(find_all_duplicates([3, 4, 4, 5, 5]))\n",
    "print(find_all_duplicates([5, 4, 7, 2, 3, 5, 3]))"
   ]
  }
 ],
 "metadata": {
  "kernelspec": {
   "display_name": "Python 3 (ipykernel)",
   "language": "python",
   "name": "python3"
  },
  "language_info": {
   "codemirror_mode": {
    "name": "ipython",
    "version": 3
   },
   "file_extension": ".py",
   "mimetype": "text/x-python",
   "name": "python",
   "nbconvert_exporter": "python",
   "pygments_lexer": "ipython3",
   "version": "3.8.5"
  }
 },
 "nbformat": 4,
 "nbformat_minor": 5
}
