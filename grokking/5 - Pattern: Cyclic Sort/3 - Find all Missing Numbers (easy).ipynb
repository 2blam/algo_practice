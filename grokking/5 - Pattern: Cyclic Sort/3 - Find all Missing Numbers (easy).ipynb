{
 "cells": [
  {
   "cell_type": "markdown",
   "id": "9d8b7440",
   "metadata": {},
   "source": [
    "We are given an unsorted array containing numbers taken from the range 1 to ‘n’. The array can have duplicates, which means some numbers will be missing. Find all those missing numbers.\n",
    "\n",
    "Example 1:\n",
    "```\n",
    "Input: [2, 3, 1, 8, 2, 3, 5, 1]\n",
    "Output: 4, 6, 7\n",
    "Explanation: The array should have all numbers from 1 to 8, due to duplicates 4, 6, and 7 are missing.\n",
    "```\n",
    "Example 2:\n",
    "```\n",
    "Input: [2, 4, 1, 2]\n",
    "Output: 3\n",
    "```\n",
    "Example 3:\n",
    "```\n",
    "Input: [2, 3, 2, 1]\n",
    "Output: 4\n",
    "```"
   ]
  },
  {
   "cell_type": "code",
   "execution_count": 1,
   "id": "da8ff56a",
   "metadata": {},
   "outputs": [
    {
     "name": "stdout",
     "output_type": "stream",
     "text": [
      "[4, 6, 7]\n",
      "[3]\n",
      "[4]\n"
     ]
    }
   ],
   "source": [
    "\"\"\"\n",
    "Time Complexity: O(N)\n",
    "Space Complexity: O(1)\n",
    "\"\"\"\n",
    "\n",
    "def find_missing_numbers(nums):\n",
    "    missingNumbers = []\n",
    "    \n",
    "    idx = 0\n",
    "    while idx < len(nums):\n",
    "        if nums[idx] - 1 == idx:\n",
    "            idx += 1\n",
    "            continue\n",
    "        # check if they are not equal\n",
    "        swap_pos = nums[idx] - 1\n",
    "        if nums[swap_pos] != nums[idx]:\n",
    "            nums[idx], nums[swap_pos] = nums[swap_pos], nums[idx]\n",
    "        else:\n",
    "            idx += 1\n",
    "\n",
    "        \n",
    "    # scan to check which number is missing\n",
    "    for i in range(len(nums)):\n",
    "        if nums[i]-1 != i:\n",
    "            missingNumbers.append(i+1)\n",
    "        \n",
    "    return missingNumbers\n",
    "\n",
    "print(find_missing_numbers([2, 3, 1, 8, 2, 3, 5, 1]))\n",
    "print(find_missing_numbers([2, 4, 1, 2]))\n",
    "print(find_missing_numbers([2, 3, 2, 1]))"
   ]
  }
 ],
 "metadata": {
  "kernelspec": {
   "display_name": "Python 3 (ipykernel)",
   "language": "python",
   "name": "python3"
  },
  "language_info": {
   "codemirror_mode": {
    "name": "ipython",
    "version": 3
   },
   "file_extension": ".py",
   "mimetype": "text/x-python",
   "name": "python",
   "nbconvert_exporter": "python",
   "pygments_lexer": "ipython3",
   "version": "3.8.5"
  }
 },
 "nbformat": 4,
 "nbformat_minor": 5
}
